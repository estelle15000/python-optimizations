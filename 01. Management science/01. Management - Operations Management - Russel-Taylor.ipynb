{
 "cells": [
  {
   "cell_type": "markdown",
   "metadata": {},
   "source": [
    "# Operations Management \n",
    "# Livre de Roberta Russel et Bernard Taylor\n",
    "\n",
    "## Introduction\n",
    "Seuls la trame du livre, et certaines formules du livre seront réalisées en Python, \n",
    "je ne copie pas le livre, ni ne le traduit directement ( Ce n'est pas autorisé et cela n'a pas d'intérêt)\n",
    "Je vais prendre des descriptions autres que le livre.\n",
    "\n",
    "## Sommaire\n",
    "- 0. <b>Mesures de productivité.</b>\n",
    "        - Description\n",
    "- 1. <b>Stratégies de commpétitivité</b>\n",
    "        - Description\n",
    "- 2. <b>Décisions</b>\n",
    "        - Sans probabilités\n",
    "        - Avec probabilités\n",
    "        - Arbres probabilistes de décision\n",
    "- 3. <b>Management de la Qualité</b>\n",
    "        - Description\n",
    "        - Outils de mesures\n",
    "            - Diagramme des processus\n",
    "            - Diagramme des causes et effets\n",
    "            - Check sheet\n",
    "            - Analyse Pareto\n",
    "            - Histogramme\n",
    "            - Diagramme de points\n",
    "            - Digramme statistique de contrôle des processus.\n",
    "\n",
    "        - Norme ISO 9000\n",
    "- 4. <b>Amélioration continue</b>\n",
    "        - Description\n",
    "        - Six Sigma\n",
    "        - Lean\n",
    "- 5. <b>Statistiques de contrôles de processus</b>\n",
    "        - En service\n",
    "        - En production"
   ]
  },
  {
   "cell_type": "code",
   "execution_count": null,
   "metadata": {},
   "outputs": [],
   "source": []
  }
 ],
 "metadata": {
  "kernelspec": {
   "display_name": "Python 3",
   "language": "python",
   "name": "python3"
  },
  "language_info": {
   "codemirror_mode": {
    "name": "ipython",
    "version": 3
   },
   "file_extension": ".py",
   "mimetype": "text/x-python",
   "name": "python",
   "nbconvert_exporter": "python",
   "pygments_lexer": "ipython3",
   "version": "3.9.2"
  }
 },
 "nbformat": 4,
 "nbformat_minor": 2
}
