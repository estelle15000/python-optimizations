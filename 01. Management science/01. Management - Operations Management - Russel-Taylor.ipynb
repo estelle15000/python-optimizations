{
 "cells": [
  {
   "cell_type": "markdown",
   "metadata": {},
   "source": [
    "# Operations Management\n",
    "# Book by Roberta Russel and Bernard Taylor\n",
    "\n",
    "## Introduction\n",
    "Only the frame of the book, and certain formulas of the book will be made in Python,\n",
    "I do not copy the book, nor does it translate it directly (it is not allowed and it has no interest)\n",
    "I will take descriptions other than the book.\n",
    "Formulas added by github Estelle Derrien.\n",
    "\n",
    "## Summary\n",
    "- 0. <b> Productivity measures. </b>\n",
    "        - Description\n",
    "- 1. <b> Competitivity strategies </b>\n",
    "        - Description\n",
    "- 2. <b> Decisions </b>\n",
    "        - Without probability\n",
    "        - With probabilities\n",
    "        - Currently decision -making trees\n",
    "- 3. <b> Quality management </b>\n",
    "        - Description\n",
    "        - Measurement tools\n",
    "            - Process diagram\n",
    "            - Diagram of causes and effects\n",
    "            - Check Sheet\n",
    "            - Pareto analysis\n",
    "            - Histogram\n",
    "            - Point diagram\n",
    "            - Statistical processes of process control.\n",
    "        - ISO 9000 standard\n",
    "- 4. <b> Continuous improvement </b>\n",
    "        - Description\n",
    "        - Six sigma\n",
    "        - Lean\n",
    "- 5. <b> Process control statistics </b>\n",
    "        - in service\n",
    "        - In production"
   ]
  },
  {
   "cell_type": "markdown",
   "metadata": {},
   "source": [
    "## Productivity measures\n",
    "\n",
    "## Introduction \n",
    "Productivity measures how efficiently a single employee, department or company can produce products or services. It’s usually calculated with the productivity formula represented by comparing the input of resources vs the output of goods or services over time.\n",
    "\n",
    "## Link : \n",
    "https://www.personio.com/hr-lexicon/how-to-measure-productivity/\n"
   ]
  },
  {
   "cell_type": "code",
   "execution_count": 25,
   "metadata": {},
   "outputs": [
    {
     "name": "stdout",
     "output_type": "stream",
     "text": [
      "My single factor productivity =  0.1\n",
      "My multiple factor productivity =  8.0\n"
     ]
    }
   ],
   "source": [
    "##############################\n",
    "# Single factor productivity #\n",
    "##############################\n",
    "\n",
    "input = 100 # Can be labor hours, investment in equipment, material usage, or square footage ...\n",
    "output = 10 # Can be units ,dollars, sales made, customers served etc...\n",
    "\n",
    "# formula \n",
    "productivity = ( output / input )\n",
    "\n",
    "# result\n",
    "print (\"My single factor productivity = \" , productivity)\n",
    "\n",
    "################################\n",
    "# Multiple factor productivity #\n",
    "################################\n",
    "\n",
    "# Multiples inputs\n",
    "labors = 10\n",
    "material = 5\n",
    "overhead = 2\n",
    "# Output\n",
    "output = 10 # Can be units ,dollars, sales made, customers served etc...\n",
    "\n",
    "# formula \n",
    "productivity = ( output / labors + material + overhead )\n",
    "\n",
    "# result\n",
    "print (\"My multiple factor productivity = \" , productivity)\n",
    "\n",
    "################################\n",
    "# Complete productivity #\n",
    "################################\n",
    "# formula \n",
    "# Goods produceds / All inputs * costs used to produce them\n"
   ]
  },
  {
   "cell_type": "markdown",
   "metadata": {},
   "source": [
    "## Factory Example\n",
    "\n"
   ]
  },
  {
   "cell_type": "code",
   "execution_count": 26,
   "metadata": {},
   "outputs": [
    {
     "name": "stdout",
     "output_type": "stream",
     "text": [
      " My factory labor productivity is :  100.0  units per hours\n",
      " My factory machines productivity is :  2000.0  units per hours\n",
      " My multifactor productivity is :  5.2631578947368425  per dollar spent\n"
     ]
    }
   ],
   "source": [
    "## Factory Example\n",
    "\n",
    "units_produced = 100000 # units, this is the output\n",
    "labor_hours = 1000  # hours , cost 15 $  an hour\n",
    "machine_hours = 50 # hours , cost 10 $  an hour\n",
    "cost_of_material = 2000 # dollars\n",
    "cost_of_energy = 1500 # dollars\n",
    "\n",
    "# Labor productivity ( Output / Input)\n",
    "print ( \" My factory labor productivity is : \" ,  units_produced / labor_hours , \" units per hours\")\n",
    "\n",
    "# Machines productivity ( Output / Input)\n",
    "print ( \" My factory machines productivity is : \" ,  units_produced / machine_hours , \" units per hours\")\n",
    "\n",
    "# Multifactor productivity ( Output / All inputs * costs used to produce them )\n",
    "computed_costs = labor_hours * 15 + machine_hours * 10 + cost_of_material + cost_of_energy\n",
    "\n",
    "print ( \" My multifactor productivity is : \" ,  units_produced / computed_costs , \" per dollar spent\")"
   ]
  },
  {
   "cell_type": "markdown",
   "metadata": {},
   "source": [
    "Chair Manufacturer\n",
    "\n",
    "A company that produces furniture implemented measures to increase productivity one year ago. Last year, they produced 2 chairs per labour hour. This year the company knows that they produced 100,000 chairs with employees working a collective 16,000 hours of labour. \n",
    "\n",
    "100,000/16,000 = 6.25\n",
    "\n",
    "The workforce produced 6.25 chairs per labour hour, triple the amount from last year. \n",
    "Call Centre Efficiency\n",
    "\n"
   ]
  },
  {
   "cell_type": "code",
   "execution_count": 27,
   "metadata": {},
   "outputs": [
    {
     "name": "stdout",
     "output_type": "stream",
     "text": [
      " My chair factory labor productivity is :  6.25  units per hours\n"
     ]
    }
   ],
   "source": [
    "## Chair factory example\n",
    "\n",
    "units_produced = 100000 # units, this is the output\n",
    "labor_hours = 16000  # hours , cost 15 $  an hour\n",
    "\n",
    "# Labor productivity ( Output / Input)\n",
    "print ( \" My chair factory labor productivity is : \" ,  units_produced / labor_hours , \" units per hours\")"
   ]
  },
  {
   "cell_type": "markdown",
   "metadata": {},
   "source": [
    "A call centre is trying to determine how efficiently its workforce can take calls during normal work hours. About 1,000 employees work at this centre and collectively completed 45,000 calls last year.\n",
    "\n",
    "45,000/1000 = 45\n",
    "\n",
    "That means that each employee completed 450 calls throughout the entirety of last year. "
   ]
  },
  {
   "cell_type": "code",
   "execution_count": 28,
   "metadata": {},
   "outputs": [
    {
     "name": "stdout",
     "output_type": "stream",
     "text": [
      " My call center productivity is :  45.0  calls per employees\n"
     ]
    }
   ],
   "source": [
    "## Call center factory example\n",
    "\n",
    "calls_produced = 45000 # output\n",
    "employees = 1000  # inputs\n",
    "\n",
    "# Labor productivity ( Output / Input)\n",
    "print ( \" My call center productivity is : \" ,   calls_produced / employees , \" calls per employees\")"
   ]
  }
 ],
 "metadata": {
  "kernelspec": {
   "display_name": "Python 3",
   "language": "python",
   "name": "python3"
  },
  "language_info": {
   "codemirror_mode": {
    "name": "ipython",
    "version": 3
   },
   "file_extension": ".py",
   "mimetype": "text/x-python",
   "name": "python",
   "nbconvert_exporter": "python",
   "pygments_lexer": "ipython3",
   "version": "3.9.2"
  }
 },
 "nbformat": 4,
 "nbformat_minor": 2
}
