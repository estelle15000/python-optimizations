{
 "cells": [
  {
   "cell_type": "markdown",
   "metadata": {},
   "source": [
    "# Operations Management\n",
    "# Book by Roberta Russel and Bernard Taylor\n",
    "\n",
    "## Introduction\n",
    "Only the frame of the book, and certain formulas of the book will be made in Python,\n",
    "I do not copy the book, nor does it translate it directly (it is not allowed and it has no interest)\n",
    "I will take descriptions other than the book.\n",
    "\n",
    "## Summary\n",
    "- 0. <b> Productivity measures. </b>\n",
    "        - Description\n",
    "- 1. <b> Compestitivity strategies </b>\n",
    "        - Description\n",
    "- 2. <b> decisions </b>\n",
    "        - Without probability\n",
    "        - With probabilities\n",
    "        - Currently decision -making trees\n",
    "- 3. <b> Quality management </b>\n",
    "        - Description\n",
    "        - Measurement tools\n",
    "            - Process diagram\n",
    "            - Diagram of causes and effects\n",
    "            - Check Sheet\n",
    "            - Pareto analysis\n",
    "            - Histogram\n",
    "            - Point diagram\n",
    "            - Statistical processes of process control.\n",
    "        - ISO 9000 standard\n",
    "- 4. <b> Continuous improvement </b>\n",
    "        - Description\n",
    "        - Six sigma\n",
    "        - Lean\n",
    "- 5. <b> Process control statistics </b>\n",
    "        - in service\n",
    "        - In production"
   ]
  },
  {
   "cell_type": "markdown",
   "metadata": {},
   "source": [
    "## Productivity measures\n"
   ]
  },
  {
   "cell_type": "code",
   "execution_count": 5,
   "metadata": {},
   "outputs": [
    {
     "name": "stdout",
     "output_type": "stream",
     "text": [
      "My single factor productivity =  0.1\n",
      "My multiple factor productivity =  8.0\n"
     ]
    }
   ],
   "source": [
    "##############################\n",
    "# Single factor productivity #\n",
    "##############################\n",
    "\n",
    "input = 100 # Can be labor hours, investment in equipment, material usage, or square footage ...\n",
    "output = 10 # Can be units ,dollars, sales made, customers served etc...\n",
    "\n",
    "# formula \n",
    "productivity = ( output / input )\n",
    "print (\"My single factor productivity = \" , productivity)\n",
    "\n",
    "################################\n",
    "# Multiple factor productivity #\n",
    "################################\n",
    "\n",
    "# Multiples inputs\n",
    "labors = 10\n",
    "material = 5\n",
    "overhead = 2\n",
    "# Output\n",
    "output = 10 # Can be units ,dollars, sales made, customers served etc...\n",
    "\n",
    "# formula \n",
    "productivity = ( output / labors + material + overhead )\n",
    "print (\"My multiple factor productivity = \" , productivity)\n",
    "\n",
    "################################\n",
    "# Complete productivity #\n",
    "################################\n",
    "# formula \n",
    "# Goods produceds / All inputs used to produce them\n"
   ]
  },
  {
   "cell_type": "markdown",
   "metadata": {},
   "source": [
    "Example\n",
    "\n"
   ]
  },
  {
   "cell_type": "code",
   "execution_count": null,
   "metadata": {},
   "outputs": [],
   "source": [
    "## Example\n",
    "\n",
    "Units_produced = 10000\n",
    "Labors_hours = 100\n",
    "Machine_hours = 50\n",
    "Cost_of_material = 2000$\n",
    "Cost_of_energy = 1500 $\n",
    "\n",
    "# Labor productivity \n",
    "Labors_hours / Units_produced"
   ]
  }
 ],
 "metadata": {
  "kernelspec": {
   "display_name": "Python 3",
   "language": "python",
   "name": "python3"
  },
  "language_info": {
   "codemirror_mode": {
    "name": "ipython",
    "version": 3
   },
   "file_extension": ".py",
   "mimetype": "text/x-python",
   "name": "python",
   "nbconvert_exporter": "python",
   "pygments_lexer": "ipython3",
   "version": "3.9.2"
  }
 },
 "nbformat": 4,
 "nbformat_minor": 2
}
