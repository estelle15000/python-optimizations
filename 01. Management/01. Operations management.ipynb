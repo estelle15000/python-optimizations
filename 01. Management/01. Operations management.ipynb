{
 "cells": [
  {
   "cell_type": "markdown",
   "metadata": {},
   "source": [
    "# Operations Management\n",
    "\n",
    "## Introduction\n",
    "This is my operations management python notebook summary.\n",
    "Only the frame of the Roberta Russel and Bernard Taylor book, and certain formulas of the book will be made in Python,\n",
    "I do not copy the book, nor does it translate it directly (it is not allowed and it has no interest)\n",
    "I will take descriptions other than the book.\n",
    "<div style = \"text-align: center\">\n",
    "<IMG SRC = \"img/intro.png\">\n",
    "</div>\n",
    "Notebook realized by github Estelle Derrien.\n",
    "\n",
    "## Summary\n",
    "- 1. <b> Productivity measures. </b>\n",
    "        - Description\n",
    "        - A first example\n",
    "        - Factory example\n",
    "        - Chair factory example\n",
    "        - Call center example<br>\n",
    "\n",
    "- 2. <b> Competitivity strategies </b>\n",
    "        - Description\n",
    "        - The Balanced scoreyard\n",
    "        - Key performances indicators (Kpi) examples<br>\n",
    "\n",
    "- 3. <b> Decisions analysis / Quantitative Analysis </b>\n",
    "\n",
    "        - a) Decision making without probability (UNCERTAINTY)\n",
    "          - Setting up a Payoff table\n",
    "          - Optimistic Criterion (MaxiMax)\n",
    "          - Conservative Criterion (MiniMax)\n",
    "          - Minimax regret Criterion  (MiniMax regret)\n",
    "          - Hurwicz criterion\n",
    "          - Equal likelihood Laplace Criterion \n",
    "\n",
    "        - b) Decision making with probabilities (RISK)\n",
    "          - The EMV - Expected monetary value\n",
    "          - Computation\n",
    "\n",
    "        - c) Decision trees<br>\n",
    "          - How to draw\n",
    "\n",
    "- 4. <b> Quality management </b>\n",
    "        - Description\n",
    "        - Measurement tools\n",
    "            - 1. The Deming Quality list and wheel.\n",
    "            - 2. Process diagrams and UML\n",
    "            - 3. Diagram of causes and effects\n",
    "            - 4. Check Sheet\n",
    "            - 5. Pareto analysis\n",
    "            - 5. Histogram\n",
    "            - 6. Point diagram\n",
    "            - 7. Kanban\n",
    "            - 8. Ishikawa\n",
    "        - Statistical processes of process control.\n",
    "        - ISO 9000 standard<br>\n",
    "\n",
    "- 5. <b> Continuous improvement </b>\n",
    "        - Description\n",
    "        - Six sigma\n",
    "        - Lean<br>\n",
    "        \n",
    "- 6. <b> Process control statistics </b>\n",
    "        - in service\n",
    "        - In production\n",
    "\n",
    "- 7. <b> Simulations </b>\n",
    "        - Description\n",
    "        - Probabilities distributions\n",
    "\n",
    "- 8. <b> Data mining and ETL's</b>\n",
    "        - Description"
   ]
  },
  {
   "cell_type": "markdown",
   "metadata": {},
   "source": [
    "# <b> 1. Productivity measures </b>\n",
    "\n",
    "## Description\n",
    "Productivity measures how efficiently a single employee, department or company can produce products or services. \n",
    "\n",
    "It’s usually calculated with the productivity formula represented by comparing the input of resources vs the output of goods or services over time.\n",
    "\n",
    "## Link : \n",
    "https://www.personio.com/hr-lexicon/how-to-measure-productivity/\n",
    "\n",
    "## A first example\n"
   ]
  },
  {
   "cell_type": "code",
   "execution_count": 60,
   "metadata": {},
   "outputs": [
    {
     "name": "stdout",
     "output_type": "stream",
     "text": [
      "My single factor productivity =  0.1\n",
      "My multiple factor productivity =  8.0\n"
     ]
    }
   ],
   "source": [
    "##############################\n",
    "# Single factor productivity #\n",
    "##############################\n",
    "\n",
    "input = 100 # Can be labor hours, investment in equipment, material usage, or square footage ...\n",
    "output = 10 # Can be units ,dollars, sales made, customers served etc...\n",
    "\n",
    "# formula \n",
    "productivity = ( output / input )\n",
    "\n",
    "# result\n",
    "print (\"My single factor productivity = \" , productivity)\n",
    "\n",
    "################################\n",
    "# Multiple factor productivity #\n",
    "################################\n",
    "\n",
    "# Multiples inputs\n",
    "labors = 10\n",
    "material = 5\n",
    "overhead = 2\n",
    "# Output\n",
    "output = 10 # Can be units ,dollars, sales made, customers served etc...\n",
    "\n",
    "# formula \n",
    "productivity = ( output / labors + material + overhead )\n",
    "\n",
    "# result\n",
    "print (\"My multiple factor productivity = \" , productivity)\n",
    "\n",
    "################################\n",
    "# Complete productivity #\n",
    "################################\n",
    "# formula \n",
    "# Goods produceds / All inputs * costs used to produce them\n"
   ]
  },
  {
   "cell_type": "markdown",
   "metadata": {},
   "source": [
    "## Factory Example\n",
    "\n"
   ]
  },
  {
   "cell_type": "code",
   "execution_count": 61,
   "metadata": {},
   "outputs": [
    {
     "name": "stdout",
     "output_type": "stream",
     "text": [
      " My factory labor productivity is :  100.0  units per hours\n",
      " My factory machines productivity is :  2000.0  units per hours\n",
      " My multifactor productivity is :  5.2631578947368425  per dollar spent\n"
     ]
    }
   ],
   "source": [
    "## Factory Example\n",
    "\n",
    "units_produced = 100000 # units, this is the output\n",
    "labor_hours = 1000  # hours , cost 15 $  an hour\n",
    "machine_hours = 50 # hours , cost 10 $  an hour\n",
    "cost_of_material = 2000 # dollars\n",
    "cost_of_energy = 1500 # dollars\n",
    "\n",
    "# Labor productivity ( Output / Input)\n",
    "print ( \" My factory labor productivity is : \" ,  units_produced / labor_hours , \" units per hours\")\n",
    "\n",
    "# Machines productivity ( Output / Input)\n",
    "print ( \" My factory machines productivity is : \" ,  units_produced / machine_hours , \" units per hours\")\n",
    "\n",
    "# Multifactor productivity ( Output / All inputs * costs used to produce them )\n",
    "computed_costs = labor_hours * 15 + machine_hours * 10 + cost_of_material + cost_of_energy\n",
    "\n",
    "print ( \" My multifactor productivity is : \" ,  units_produced / computed_costs , \" per dollar spent\")"
   ]
  },
  {
   "cell_type": "markdown",
   "metadata": {},
   "source": [
    "## Chair Manufacturer\n",
    "\n",
    "A company that produces furniture implemented measures to increase productivity one year ago. Last year, they produced 2 chairs per labour hour. This year the company knows that they produced 100,000 chairs with employees working a collective 16,000 hours of labour. \n",
    "\n",
    "100,000/16,000 = 6.25\n",
    "\n",
    "The workforce produced 6.25 chairs per labour hour, triple the amount from last year. \n",
    "Call Centre Efficiency\n",
    "\n"
   ]
  },
  {
   "cell_type": "code",
   "execution_count": 62,
   "metadata": {},
   "outputs": [
    {
     "name": "stdout",
     "output_type": "stream",
     "text": [
      " My chair factory labor productivity is :  6.25  units per hours\n"
     ]
    }
   ],
   "source": [
    "## Chair factory example\n",
    "\n",
    "units_produced = 100000 # units, this is the output\n",
    "labor_hours = 16000  # hours , cost 15 $  an hour\n",
    "\n",
    "# Labor productivity ( Output / Input)\n",
    "print ( \" My chair factory labor productivity is : \" ,  units_produced / labor_hours , \" units per hours\")"
   ]
  },
  {
   "cell_type": "markdown",
   "metadata": {},
   "source": [
    "## Call center\n",
    "A call centre is trying to determine how efficiently its workforce can take calls during normal work hours. About 1,000 employees work at this centre and collectively completed 45,000 calls last year.\n",
    "\n",
    "45,000/1000 = 45\n",
    "\n",
    "That means that each employee completed 450 calls throughout the entirety of last year. "
   ]
  },
  {
   "cell_type": "code",
   "execution_count": 63,
   "metadata": {},
   "outputs": [
    {
     "name": "stdout",
     "output_type": "stream",
     "text": [
      " My call center productivity is :  45.0  calls per employees\n"
     ]
    }
   ],
   "source": [
    "## Call center factory example\n",
    "\n",
    "calls_produced = 45000 # output\n",
    "employees = 1000  # inputs\n",
    "\n",
    "# Labor productivity ( Output / Input)\n",
    "print ( \" My call center productivity is : \" ,   calls_produced / employees , \" calls per employees\")"
   ]
  },
  {
   "cell_type": "markdown",
   "metadata": {},
   "source": [
    "# <b>2. Competitivity strategies </b>\n",
    "\n",
    "1. Defining a primary task / mission\n",
    "2. Assert distinctive core competence\n",
    "3. Determining order winners (Items caracteristics) and order qualifiers ( Marketplace advantadges)\n",
    "4. Positioning the firm\n",
    "5. Deploying the strategy"
   ]
  },
  {
   "cell_type": "markdown",
   "metadata": {},
   "source": [
    "## The balanced scorecard\n",
    "\n",
    "The balanced scorecard graph breaks down the analysis of our performance into 4 distinct parts:\n",
    "financial, customers, Processes and innovations.\n",
    "\n",
    "The balanced scorecard (BSC) is a strategic planning and management system. Organizations use BSCs to:\n",
    "\n",
    "    Communicate what they are trying to accomplish\n",
    "    Align the day-to-day work that everyone is doing with strategy\n",
    "    Prioritize projects, products, and services\n",
    "    Measure and monitor progress towards strategic targets\n",
    "\n",
    "The name “balanced scorecard” comes from the idea of looking at strategic measures in addition to traditional financial measures to get a more “balanced” view of performance. \n",
    "\n",
    "It can then be drawed in various graphs such as radar charts, dashboards when there are numeric values ...\n",
    "\n",
    "\n",
    "<div style = \"text-align: center\">\n",
    "<IMG SRC = \"img/balanced-scoreyard.png\">\n",
    "</div>\n"
   ]
  },
  {
   "cell_type": "markdown",
   "metadata": {},
   "source": [
    "## Key performance measures - KPI\n",
    "\n",
    "## Introduction\n",
    "\n",
    "\n",
    "What are key performance indicators?‍\n",
    "\n",
    "Key performance indicators are measures used to evaluate the success of an organization. KPIs can be quantitative and qualitative in nature. Quantitative KPIs include metrics such as sales revenue per employee, number of customers served by each call center agent, or revenue. Qualitative KPIs, on the other hand, may include customer satisfaction scores, quality rantings, or product reliability rates.\n",
    "\n",
    "For each objective on the strategy map, at least one measure or Key Performance Indicator (KPI) will be identified and tracked over time. KPIs indicate progress toward a desirable outcome. Strategic KPIs monitor the implementation and effectiveness of an organization’s strategies, determine the gap between actual and targeted performance and determine organization effectiveness and operational efficiency.\n",
    "\n",
    "There are different categories:\n",
    "\n",
    "- Financial Metrics\n",
    "- Customers Metrics (Sales)\n",
    "- Process Metrics (Production)\n",
    "- Employees Metrics\n",
    "\n",
    "A KPi has ( Source : https://onstrategyhq.com/resources/27-examples-of-key-performance-indicators/):\n",
    "\n",
    "- A Measure: Every KPI must have a measure. The best ones have more specific or expressive measures.\n",
    "\n",
    "- A Target: Every KPI needs to have a target that matches your measure and the period of your goal. These are generally a numeric values you’re seeking to achieve.\n",
    "\n",
    "- A Data Source: Each of these needs to have a clearly defined data source so there is no gray area in measuring and tracking each.\n",
    "\n",
    "- Reporting Frequency: Different measures may have different reporting needs, but a good rule to follow is to report on them at least monthly.\n",
    "\n",
    "- Owner: While this isn’t a mandatory aspect of your KPI statement, setting expectations of who will take care of tracking, reporting, and refining specific KPIs is helpful to your overall organizational plan.\n",
    "\n"
   ]
  },
  {
   "cell_type": "markdown",
   "metadata": {},
   "source": [
    "# Examples\n",
    "\n",
    "More examples :\n",
    "https://www.geckoboard.com/best-practice/kpi-examples/"
   ]
  },
  {
   "cell_type": "markdown",
   "metadata": {},
   "source": [
    "## KPI #1. Working Capital\n",
    "\n",
    "Working capital is the sum of dollars remaining with a company after subtracting its current assets from current liabilities.\n",
    "\n",
    "Your assets include your on-hand cash, accounts receivable, inventory, etc.\n",
    "\n",
    "While your current liabilities are all that you owe to pay within the financial year, such as bank operating credit, loans, taxes, and other expenses due.\n",
    "Why Is It Important?\n",
    "\n",
    "In simpler terms, working capital means immediately available cash."
   ]
  },
  {
   "cell_type": "code",
   "execution_count": 64,
   "metadata": {},
   "outputs": [
    {
     "name": "stdout",
     "output_type": "stream",
     "text": [
      "Working capital =  5000\n"
     ]
    }
   ],
   "source": [
    "current_assets = 10000 # Hand on cash, Inventory\n",
    "current_liabilities = 5000 # Bank operating crdit, loans, taxes, various expenses...\n",
    "working_capital = current_assets - current_liabilities\n",
    "print(\"Working capital = \", working_capital)"
   ]
  },
  {
   "cell_type": "markdown",
   "metadata": {},
   "source": [
    "## KPI #2. Net Profit Margin\n",
    "\n",
    "The net profit margin is the profit made by a business after subtracting all operating expenses (including depreciation and taxes) from the total revenue.\n",
    "Why Is It Important?\n",
    "\n",
    "As we said, this KPI is directly related to your business's financial health. It shows how efficient a company is in turning revenue into profits.\n",
    "\n",
    "The net profit margin reflects the profitability of a company. At the end of the day, this is what matters to a CFO. Besides, the KPIs also help you track your company’s status quo among its competitors.\n",
    "\n",
    "In most cases, net profit is calculated as a percentage, the higher the net profit, the more profitable your business stays. Plus, a surplus net profit also shows how fast your business can grow in the long term."
   ]
  },
  {
   "cell_type": "code",
   "execution_count": 65,
   "metadata": {},
   "outputs": [
    {
     "name": "stdout",
     "output_type": "stream",
     "text": [
      "My net profit margin =  85.0 %\n"
     ]
    }
   ],
   "source": [
    "net_income = 8500 # total_revenue - Operating expenses, depreciation, taxes... etc ...s\n",
    "total_revenue = 10000 \n",
    "net_profit_margin = (net_income / total_revenue) * 100\n",
    "print('My net profit margin = ', net_profit_margin , '%')"
   ]
  },
  {
   "cell_type": "markdown",
   "metadata": {},
   "source": [
    "# <b>3. Decisions analysis</b>\n",
    "\n",
    "Introduction:\n",
    "A quantitative technique called decision analysis for decision-\n",
    "making situations in which uncertainty exists.\n",
    "Many decision-making situations occur under conditions of uncertainty. For example, the\n",
    "demand for a product may not be 100 units next week but may vary between 0 and 200 units,\n",
    "depending on the state of the market, which is uncertain. Decision analysis is a set of quantitative\n",
    "decision-making techniques to aid the decision maker in dealing with a decision situation in\n",
    "which there is uncertainty. \n",
    "\n",
    "Link : http://ruby.fgcu.edu/Courses/ekirche/MSci/modules/6603/m1_notes.htm"
   ]
  },
  {
   "cell_type": "markdown",
   "metadata": {},
   "source": [
    "## a) Decision making without probabilities\n",
    "\n",
    "When decision maker doesn’t know which outcome will occur & has no probability estimates\n",
    "\n",
    "Step 1 : Set up a payoff table.\n",
    "\n",
    "## Optimistic Criterion - Maximax strategy\n",
    "<div style = \"text-align: center\">\n",
    "<IMG SRC = \"img/optimistic.png\">\n",
    "</div>\n",
    "\n"
   ]
  },
  {
   "cell_type": "markdown",
   "metadata": {},
   "source": [
    "## Conservative criterion - Minimax strategy\n",
    "<div style = \"text-align: center\">\n",
    "<IMG SRC = \"img/conservative.png\">\n",
    "</div>\n"
   ]
  },
  {
   "cell_type": "markdown",
   "metadata": {},
   "source": [
    "## Minimax regret\n",
    "\n",
    "1st step : build the Min regret table\n",
    "\n",
    "Read the Russel and Taylor Book for the best explanation.\n"
   ]
  },
  {
   "cell_type": "code",
   "execution_count": 66,
   "metadata": {},
   "outputs": [],
   "source": [
    "#########\n",
    "# Payoff table\n",
    "#########\n",
    "#Décision \n",
    "#               Good conditions     Bad conditions\n",
    "#Make product   800 000             500 000\n",
    "#Buy product    1 300 000           - 150 000\n",
    "#DO Nothing     320 000             320 000\n",
    "\n",
    "#########\n",
    "# Regrets table\n",
    "#########\n",
    "#               Good conditions                             Bad conditions\n",
    "#Make product   1 300 000 - 800 000 = 500 000               500 000 - 500 000 = 0\n",
    "#Buy product    1 300 000 - 1 300 000 = 0                   500 000 - (- 150 000) = 650 000\n",
    "#DO Nothing     1 300 000 - 320 000  = 980 000              500 000 -320 000 = 180 000\n",
    "\n",
    "# Then pick the minimal regret value : 500 000 $ "
   ]
  },
  {
   "cell_type": "markdown",
   "metadata": {},
   "source": [
    "## Hurwicz\n",
    "\n",
    "Add a <b>coefficent of optimism</b> to any decision.\n",
    "\n",
    "For example 40 %  optimistic for good conditions, automatically sets 60 % pessimistic to bad conditions."
   ]
  },
  {
   "cell_type": "code",
   "execution_count": 67,
   "metadata": {},
   "outputs": [],
   "source": [
    "#Décision \n",
    "#               Good conditions     Bad conditions\n",
    "#Make product   800 000             500 000\n",
    "#Buy product    1 300 000           - 150 000\n",
    "#DO Nothing     320 000             320 000\n",
    "\n",
    "# Calculation\n",
    "#Make product   800 000(0.4)    +       500 000(0.6) = 620 000 <- Pick the maximum value as the decision\n",
    "#Buy product    1 300 000(0.4)  -       150 000(0.6) = 430 000\n",
    "#DO Nothing     320 000(0.4)    +       320 000(0.6) = 320 000"
   ]
  },
  {
   "cell_type": "markdown",
   "metadata": {},
   "source": [
    "## Laplace - Equal likehood\n",
    "add a 0.50 coefficent  to any decision and pick the highest value\n"
   ]
  },
  {
   "cell_type": "code",
   "execution_count": 68,
   "metadata": {},
   "outputs": [],
   "source": [
    "# Calculation\n",
    "#Make product   800 000(0.5)    +       500 000(0.5) \n",
    "#Buy product    1 300 000(0.5)  -       150 000(0.5) \n",
    "#DO Nothing     320 000(0.5)    +       320 000(0.5) "
   ]
  },
  {
   "cell_type": "markdown",
   "metadata": {},
   "source": [
    "## b) Decision making with probabilities (RISK)\n",
    "\n",
    "In the previous cases, the decision maker did not have probabilistic data at hand, but now he has probability data, and can therefore use decision formulas with probabilities (risks).\n",
    "\n",
    "\n",
    "The Expected Monetary Value (EMV) of a single event is calculated as the sum of the monetary value of each outcome in that event multiplied by its probability. That is,\n",
    "\n",
    "EMV = ∑ P(Event) × Monetary Value of Event\n",
    "\n",
    "where the sum is over all possible outcomes in the event.\n",
    "\n"
   ]
  },
  {
   "cell_type": "code",
   "execution_count": 69,
   "metadata": {},
   "outputs": [],
   "source": [
    "# Calculation\n",
    "# Say there is a 0.65 probability that good foreign competitive conditions will exist and a probability of 0.35 that poor\n",
    "# conditions will exist in the future. Determine the best decision using expected value.\n",
    "\n",
    "# Make product   800 000(0.65)    +       500 000(0.35) = 695 000\n",
    "# Buy product    1 300 000(0.65)  -       150 000(0.35) = 792 500 <- Selection\n",
    "# DO Nothing     320 000(0.65)    +       320 000(0.35) = 320 000"
   ]
  },
  {
   "cell_type": "markdown",
   "metadata": {},
   "source": [
    "## More EMV : Expected monetary value\n",
    "\n",
    "Expected Monetary Value (EMV ) of a single event is simply the probability of that event\n",
    "multiplied by the monetary value of that outcome.\n",
    "\n",
    "Source :  https://www.mas.ncl.ac.uk/~ndah6/teaching/MAS1403/notes_chapter6.pdf\n",
    "\n",
    "Example 1\n",
    "\n",
    "If you would win £5 if you pulled an ace from a pack of cards, \n",
    "the EMV would be \n",
    "\n",
    "- EMV (Ace) = P (Ace) × MonetaryValue(Ace) = (4 / 52) × 5 = 0.38\n",
    "\n",
    "In other words, if you repeated this bet a large number of times, overall you would come out,\n",
    "on average, 38 pence better off per bet. Therefore you would want to pay no more than 38p for\n",
    "such a bet."
   ]
  },
  {
   "cell_type": "code",
   "execution_count": 70,
   "metadata": {},
   "outputs": [
    {
     "name": "stdout",
     "output_type": "stream",
     "text": [
      "Expected monetary value =  0.38461538461538464 pence\n"
     ]
    }
   ],
   "source": [
    "############\n",
    "# DATA \n",
    "############\n",
    "probability = 4 / 52 # Probability of picking an ace between 52 cards\n",
    "monetary_value = 5 # Dollars \n",
    "\n",
    "############\n",
    "# FORMULA : EMV (Ace) = P (Ace) × MonetaryValue(Ace)\n",
    "############\n",
    "emv = probability * monetary_value\n",
    "\n",
    "############\n",
    "# DISPLAY\n",
    "############\n",
    "print(\"Expected monetary value = \" , emv, \"pence\" )"
   ]
  },
  {
   "cell_type": "markdown",
   "metadata": {},
   "source": [
    "## c) Decision trees\n",
    "\n",
    "comin soon"
   ]
  },
  {
   "cell_type": "markdown",
   "metadata": {},
   "source": [
    "# <b> 4. Quality Management</b>\n",
    "\n",
    "## Description\n",
    "\n",
    "\"Quality Management is the exercise of overseeing the activities, tasks and processes (inputs) that are used to create a product or service (outputs) so they may be held to a high and consistent standard.\" (Veeva industries)\n",
    "\n",
    "\"Quality management is the act of overseeing different activities and tasks within an organization to ensure that products and services offered, as well as the means used to provide them, are consistent. It helps to achieve and maintain a desired level of quality within the organization.\" (https://corporatefinanceinstitute.com)\n",
    "\n",
    "We determine the quality, from a producer or customer point of view.\n",
    "\n",
    "## Tools\n",
    "\n",
    "## 1. The Deming Wheel\n",
    "\n",
    "Deming established 14 specific steps to follow to achieve good quality for the company, this was drawn from long international experiences in international companies, It is called PDCA (plan-do-check-act).\n",
    "We produced a summary graph which allows us to analyze and confirm that these points are respected.\n",
    "It is one of the tools of continuous development.\n",
    "\n",
    "\n",
    "<div style = \"text-align: center\">\n",
    "<IMG SRC = \"img/PDCA-en.jpg\">\n",
    "</div>\n",
    "\n",
    "\n",
    "The first step, <b>Plan</b>, is to plan the execution. It generally takes place in three phases:\n",
    "\n",
    "    Identification of the problem to be solved (for example using QQOQCCP - https://fr.wikipedia.org/wiki/QQOQCCP) or the process to be improved;\n",
    "    Search for root causes (for example using a Pareto chart, an Ishikawa chart or the five whys method);\n",
    "    Search for solutions with writing of specifications and establishment of a schedule.\n",
    "\n",
    "We often start on a smaller scale.\n",
    "\n",
    "The <b>do</b> stage (in French “to do”) is the construction, development, realization of the work.\n",
    "\n",
    "It is followed by the <b>check</b> step (in French “to verify”), which consists of controlling the ability of the solution implemented to resolve the problem or improve the process. Various means of control are used for this purpose, such as performance indicators and control charts5.\n",
    "\n",
    "Then the <b>act</b> stage consists of taking action, that is to say implementing the change studied, or restarting the cycle at the first stage using the knowledge acquired during the previous cycles.\n",
    "\n",
    "The <b>plan</b> stage therefore leads to a new project to be carried out, and therefore new planning to be established. It is therefore a cycle that we represent using a wheel. At each step, the wheel advances a quarter turn. This advancement represents the action of progressing.\n",
    "\n",
    "Furthermore, to avoid \"going back\", we represent a wedge under the wheel, which prevents it from going back down and which symbolizes for example a quality system, a system of regular audits, or a documentary system which capitalizes on the practices or decisions.\n",
    "\n",
    "## 2. Process diagrams and UML\n",
    "\n",
    "Much simpler and generic than the process flow diagram used in Chemistry, the process diagram can analyze any structured process internal to the company, and set KPIs, which make it possible to alert the manager in the event of a problematic result.\n",
    "The kpis can be powered by real-time databases or any calculations coming from data science technologies. You can even use probability rules inside a KPI ( See my 03. Probability rules notebook, by Estelle Derrien ).\n",
    "Visio is a nice software to plot some processe diagrams.\n",
    "UML established 14 fixed diagrams that might sometimes be related to Quality improvement but who are designed help people concretize their projects, with accuracy. The symbols and boxes are all represented in the same way in UML, which allows you to be understood by other engineers, so you don't go crazy in your own corner.\n",
    "\n",
    "How it looks ?\n",
    "\n",
    "<div style = \"text-align: center\">\n",
    "<IMG SRC = \"img/diagram.png\">\n",
    "</div>\n",
    "\n",
    "\n"
   ]
  },
  {
   "cell_type": "markdown",
   "metadata": {},
   "source": [
    "## 3. Diagrams of cause and effects / Fishbone diagram\n",
    "\n",
    "Cause-and-effect diagrams are used to identify problems in a system by showing how causes and effects are linked. Source: https://en.wikipedia.org/wiki/Ishikawa_diagram\n",
    "\n",
    "\n",
    "## Creating a Cause and effect diagram Python code \n",
    "\n",
    "Source : https://matplotlib.org/stable/gallery/specialty_plots/ishikawa_diagram.html"
   ]
  },
  {
   "cell_type": "code",
   "execution_count": 71,
   "metadata": {},
   "outputs": [
    {
     "data": {
      "image/png": "[encoded data removed]",
      "text/plain": [
       "<Figure size 1000x600 with 1 Axes>"
      ]
     },
     "metadata": {},
     "output_type": "display_data"
    }
   ],
   "source": [
    "import math\n",
    "\n",
    "import matplotlib.pyplot as plt\n",
    "\n",
    "from matplotlib.patches import Polygon, Wedge\n",
    "\n",
    "fig, ax = plt.subplots(figsize=(10, 6), layout='constrained')\n",
    "ax.set_xlim(-5, 5)\n",
    "ax.set_ylim(-5, 5)\n",
    "ax.axis('off')\n",
    "\n",
    "\n",
    "def problems(data: str,\n",
    "             problem_x: float, problem_y: float,\n",
    "             angle_x: float, angle_y: float):\n",
    "    \"\"\"\n",
    "    Draw each problem section of the Ishikawa plot.\n",
    "\n",
    "    Parameters\n",
    "    ----------\n",
    "    data : str\n",
    "        The name of the problem category.\n",
    "    problem_x, problem_y : float, optional\n",
    "        The `X` and `Y` positions of the problem arrows (`Y` defaults to zero).\n",
    "    angle_x, angle_y : float, optional\n",
    "        The angle of the problem annotations. They are always angled towards\n",
    "        the tail of the plot.\n",
    "\n",
    "    Returns\n",
    "    -------\n",
    "    None.\n",
    "\n",
    "    \"\"\"\n",
    "    ax.annotate(str.upper(data), xy=(problem_x, problem_y),\n",
    "                xytext=(angle_x, angle_y),\n",
    "                fontsize=10,\n",
    "                color='white',\n",
    "                weight='bold',\n",
    "                xycoords='data',\n",
    "                verticalalignment='center',\n",
    "                horizontalalignment='center',\n",
    "                textcoords='offset fontsize',\n",
    "                arrowprops=dict(arrowstyle=\"->\", facecolor='black'),\n",
    "                bbox=dict(boxstyle='square',\n",
    "                          facecolor='tab:blue',\n",
    "                          pad=0.8))\n",
    "\n",
    "\n",
    "def causes(data: list,\n",
    "           cause_x: float, cause_y: float,\n",
    "           cause_xytext=(-9, -0.3), top: bool = True):\n",
    "    \"\"\"\n",
    "    Place each cause to a position relative to the problems\n",
    "    annotations.\n",
    "\n",
    "    Parameters\n",
    "    ----------\n",
    "    data : indexable object\n",
    "        The input data. IndexError is\n",
    "        raised if more than six arguments are passed.\n",
    "    cause_x, cause_y : float\n",
    "        The `X` and `Y` position of the cause annotations.\n",
    "    cause_xytext : tuple, optional\n",
    "        Adjust to set the distance of the cause text from the problem\n",
    "        arrow in fontsize units.\n",
    "    top : bool, default: True\n",
    "        Determines whether the next cause annotation will be\n",
    "        plotted above or below the previous one.\n",
    "\n",
    "    Returns\n",
    "    -------\n",
    "    None.\n",
    "\n",
    "    \"\"\"\n",
    "    for index, cause in enumerate(data):\n",
    "        # [<x pos>, <y pos>]\n",
    "        coords = [[0.02, 0],\n",
    "                  [0.23, 0.5],\n",
    "                  [-0.46, -1],\n",
    "                  [0.69, 1.5],\n",
    "                  [-0.92, -2],\n",
    "                  [1.15, 2.5]]\n",
    "\n",
    "        # First 'cause' annotation is placed in the middle of the 'problems' arrow\n",
    "        # and each subsequent cause is plotted above or below it in succession.\n",
    "        cause_x -= coords[index][0]\n",
    "        cause_y += coords[index][1] if top else -coords[index][1]\n",
    "\n",
    "        ax.annotate(cause, xy=(cause_x, cause_y),\n",
    "                    horizontalalignment='center',\n",
    "                    xytext=cause_xytext,\n",
    "                    fontsize=9,\n",
    "                    xycoords='data',\n",
    "                    textcoords='offset fontsize',\n",
    "                    arrowprops=dict(arrowstyle=\"->\",\n",
    "                                    facecolor='black'))\n",
    "\n",
    "\n",
    "def draw_body(data: dict):\n",
    "    \"\"\"\n",
    "    Place each problem section in its correct place by changing\n",
    "    the coordinates on each loop.\n",
    "\n",
    "    Parameters\n",
    "    ----------\n",
    "    data : dict\n",
    "        The input data (can be a dict of lists or tuples). ValueError\n",
    "        is raised if more than six arguments are passed.\n",
    "\n",
    "    Returns\n",
    "    -------\n",
    "    None.\n",
    "\n",
    "    \"\"\"\n",
    "    # Set the length of the spine according to the number of 'problem' categories.\n",
    "    length = (math.ceil(len(data) / 2)) - 1\n",
    "    draw_spine(-2 - length, 2 + length)\n",
    "\n",
    "    # Change the coordinates of the 'problem' annotations after each one is rendered.\n",
    "    offset = 0\n",
    "    prob_section = [1.55, 0.8]\n",
    "    for index, problem in enumerate(data.values()):\n",
    "        plot_above = index % 2 == 0\n",
    "        cause_arrow_y = 1.7 if plot_above else -1.7\n",
    "        y_prob_angle = 16 if plot_above else -16\n",
    "\n",
    "        # Plot each section in pairs along the main spine.\n",
    "        prob_arrow_x = prob_section[0] + length + offset\n",
    "        cause_arrow_x = prob_section[1] + length + offset\n",
    "        if not plot_above:\n",
    "            offset -= 2.5\n",
    "        if index > 5:\n",
    "            raise ValueError(f'Maximum number of problems is 6, you have entered '\n",
    "                             f'{len(data)}')\n",
    "\n",
    "        problems(list(data.keys())[index], prob_arrow_x, 0, -12, y_prob_angle)\n",
    "        causes(problem, cause_arrow_x, cause_arrow_y, top=plot_above)\n",
    "\n",
    "\n",
    "def draw_spine(xmin: int, xmax: int):\n",
    "    \"\"\"\n",
    "    Draw main spine, head and tail.\n",
    "\n",
    "    Parameters\n",
    "    ----------\n",
    "    xmin : int\n",
    "        The default position of the head of the spine's\n",
    "        x-coordinate.\n",
    "    xmax : int\n",
    "        The default position of the tail of the spine's\n",
    "        x-coordinate.\n",
    "\n",
    "    Returns\n",
    "    -------\n",
    "    None.\n",
    "\n",
    "    \"\"\"\n",
    "    # draw main spine\n",
    "    ax.plot([xmin - 0.1, xmax], [0, 0], color='tab:blue', linewidth=2)\n",
    "    # draw fish head\n",
    "    ax.text(xmax + 0.1, - 0.05, 'PROBLEM', fontsize=10,\n",
    "            weight='bold', color='white')\n",
    "    semicircle = Wedge((xmax, 0), 1, 270, 90, fc='tab:blue')\n",
    "    ax.add_patch(semicircle)\n",
    "    # draw fish tail\n",
    "    tail_pos = [[xmin - 0.8, 0.8], [xmin - 0.8, -0.8], [xmin, -0.01]]\n",
    "    triangle = Polygon(tail_pos, fc='tab:blue')\n",
    "    ax.add_patch(triangle)\n",
    "\n",
    "\n",
    "# Input data\n",
    "categories = {\n",
    "    'Method': ['Time consumption', 'Cost', 'Procedures', 'Inefficient process',\n",
    "               'Sampling'],\n",
    "    'Machine': ['Faulty equipment', 'Compatibility'],\n",
    "    'Material': ['Poor-quality input', 'Raw materials', 'Supplier',\n",
    "                 'Shortage'],\n",
    "    'Measurement': ['Calibration', 'Performance', 'Wrong measurements'],\n",
    "    'Environment': ['Bad conditions'],\n",
    "    'People': ['Lack of training', 'Managers', 'Labor shortage',\n",
    "               'Procedures', 'Sales strategy']\n",
    "}\n",
    "\n",
    "draw_body(categories)\n",
    "plt.show()"
   ]
  },
  {
   "cell_type": "markdown",
   "metadata": {},
   "source": [
    "# <b> 5. Continuous improvement </b>\n",
    "\n",
    "## Description\n",
    "\n"
   ]
  }
 ],
 "metadata": {
  "kernelspec": {
   "display_name": "Python 3",
   "language": "python",
   "name": "python3"
  },
  "language_info": {
   "codemirror_mode": {
    "name": "ipython",
    "version": 3
   },
   "file_extension": ".py",
   "mimetype": "text/x-python",
   "name": "python",
   "nbconvert_exporter": "python",
   "pygments_lexer": "ipython3",
   "version": "3.9.2"
  }
 },
 "nbformat": 4,
 "nbformat_minor": 2
}
