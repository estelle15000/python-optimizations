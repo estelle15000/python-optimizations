{
 "cells": [
  {
   "attachments": {},
   "cell_type": "markdown",
   "metadata": {},
   "source": [
    "# Create decision variables quickly.\n",
    "\n",
    "In this notebook, we will see how to create decision variables quickly in a python solver (iterer).\n",
    "\n",
    "## Summary\n",
    "\n",
    "1. <b> Basic method </b>\n",
    "2. <b> Method with tables </b>\n",
    "3. <b> Method with the python pulp dictionary </b>\n",
    "4. <b> Create constraints faster with pulp. </b> dictionaries\n",
    "5. <b> A tip to recover the names of the decision variables. </b>\n",
    "6. <b> Create decision variables by combining two tables. </b>\n",
    "    - method of use\n",
    "7. <b> iterer </b>\n",
    "    - With the Python Gekko solver\n",
    "    - With the Python Cplex solver\n",
    "    - With the Python CVXOPT solver\n",
    "\n",
    "Global study proposed by <b> Estelle Derrien - GitHub Estelle15000 </b>"
   ]
  },
  {
   "attachments": {},
   "cell_type": "markdown",
   "metadata": {},
   "source": [
    "# 1. Basic method"
   ]
  },
  {
   "cell_type": "markdown",
   "metadata": {},
   "source": [
    "Reminder :\n",
    "A decision variable contains a value which will then be calculated by the solver to be the best possible value to minimize or maximize an objective function (this is optimization)"
   ]
  },
  {
   "cell_type": "code",
   "execution_count": 1,
   "metadata": {},
   "outputs": [
    {
     "name": "stdout",
     "output_type": "stream",
     "text": [
      "Restricted license - for non-production use only - expires 2024-10-28\n",
      "No parameters matching '_test' found\n",
      "x\n",
      "y\n"
     ]
    }
   ],
   "source": [
    "# La méthode de base :\n",
    "\n",
    "# Import du solveur\n",
    "import pulp as p\n",
    "\n",
    "# On sette le problème\n",
    "Lp_prob = p.LpProblem('Problem', p.LpMaximize)\n",
    "\n",
    "# -----------------------------------\n",
    "# On définit nos variables de décision ci-dessous\n",
    "# -----------------------------------\n",
    "\n",
    "x = p.LpVariable(\"x\", lowBound=0, cat='Integer')   # Créer une variable x >= 0\n",
    "y = p.LpVariable(\"y\", lowBound=0, cat='Integer')   # Créer une variable y >= 0\n",
    "\n",
    "# On les affiche\n",
    "print(x)\n",
    "print(y)"
   ]
  },
  {
   "attachments": {},
   "cell_type": "markdown",
   "metadata": {},
   "source": [
    "# 2. Method with tables"
   ]
  },
  {
   "attachments": {},
   "cell_type": "markdown",
   "metadata": {},
   "source": [
    "In the previous example, it goes because we have only two variables of decisions, but what will be if we have 100?"
   ]
  },
  {
   "cell_type": "code",
   "execution_count": 2,
   "metadata": {},
   "outputs": [
    {
     "name": "stdout",
     "output_type": "stream",
     "text": [
      "usine_1\n"
     ]
    }
   ],
   "source": [
    "# La méthode rapide :\n",
    "\n",
    "import pulp as p\n",
    "\n",
    "Lp_prob = p.LpProblem('Problem', p.LpMaximize)\n",
    "\n",
    "# On crée d'abord le nom de nos variables de décision\n",
    "\n",
    "objets = [\n",
    "    'objet_1',\n",
    "    'objet_2',\n",
    "    'objet_3',\n",
    "    'objet_4',\n",
    "    'objet_5',\n",
    "]\n",
    "\n",
    "# On crée les variables, celles ci seront binaires. En fait, on itère sur le tableau objets et i est l'index.\n",
    "x = {i: p.LpVariable(name=f\"{i}\", lowBound=0, cat='Binary') for i in objets}\n",
    "\n",
    "# Maintenant, on peut acceder aux variables de cette façon : x['objet_1']\n",
    "\n",
    "# On peut ensuite créer un deuxième lot de variables de décision, qui cette fois ci, seront entières.\n",
    "\n",
    "usines = [\n",
    "    'usine_1',\n",
    "    'usine_2',\n",
    "    'usine_3',\n",
    "    'usine_4',\n",
    "]\n",
    "\n",
    "# On crée les variables, celles ci seront entières. En fait, on itère sur le tableau objets et k est l'index.\n",
    "m = {k: p.LpVariable(name=f\"{k}\", lowBound=0, cat='Integer') for k in usines}\n",
    "\n",
    "# On accède ensuite à une variable comme ça, ou avec des boucle for\n",
    "print(m['usine_1'])\n"
   ]
  },
  {
   "attachments": {},
   "cell_type": "markdown",
   "metadata": {},
   "source": [
    "# 3. Method with the python pulp dictionary"
   ]
  },
  {
   "cell_type": "code",
   "execution_count": 3,
   "metadata": {},
   "outputs": [
    {
     "name": "stdout",
     "output_type": "stream",
     "text": [
      "{'automobile': produits__automobile, 'cycle1': produits__cycle1, 'cycle2': produits__cycle2, 'dragon': produits__dragon, 'nounours': produits__nounours, 'poupee': produits__poupee, 'arc': produits__arc}\n"
     ]
    }
   ],
   "source": [
    "# Import the PuLP lib\n",
    "from pulp import *\n",
    "\n",
    "# Créer le type de problème\n",
    "prob = LpProblem (\"MaximiserProfit\", LpMaximize)\n",
    "\n",
    "# La liste de nos produits\n",
    "produits = [\"automobile\", \"cycle1\",\"cycle2\",\"dragon\",\"nounours\",\"poupee\",\"arc\"]\n",
    "\n",
    "# Ici, on crée nos variable de décision en créant un \"dicts\".\n",
    "x = LpVariable.dicts(\"produits \", produits , 0)\n",
    "\n",
    "# On visualise notre dicts\n",
    "print(x)\n"
   ]
  },
  {
   "attachments": {},
   "cell_type": "markdown",
   "metadata": {},
   "source": [
    "# 4. Create constraints faster with dictionaries\n",
    "\n",
    "In this example below, constraints are created using Python dictionaries in order to <b> iterate </b>, to go faster.\n",
    "\n",
    "In fact, it is also an association of values with our decisions variables, made in Python Dictionary format, which allows you to write faster then in the objective function and in the constraints.\n",
    "\n",
    "But beware, the number of decisions variables must correspond to the number in Python dictionaries, here, we have 7 decisions variables, therefore in dictionaries, we find this size of 7 decision variables.\n",
    "\n",
    "This can make things easier in the event that this data is important from a database, it becomes easier to place it in a dictionary.\n"
   ]
  },
  {
   "cell_type": "code",
   "execution_count": 4,
   "metadata": {},
   "outputs": [
    {
     "name": "stdout",
     "output_type": "stream",
     "text": [
      "Status: Optimal\n",
      "produits__arc = 2.0\n",
      "produits__automobile = 40.0\n",
      "produits__cycle1 = 2.0\n",
      "produits__cycle2 = 2.0\n",
      "produits__dragon = 2.0\n",
      "produits__nounours = 26.0\n",
      "produits__poupee = 2.0\n",
      "TotalProfit 584.0\n"
     ]
    }
   ],
   "source": [
    "# Import the PuLP lib\n",
    "from pulp import *\n",
    "\n",
    "# Créer le type de problème, ici, on veut maximiser notre profit de notre usine de jouets\n",
    "prob = LpProblem (\"MaximiserProfit\", LpMaximize)\n",
    "\n",
    "# La liste de nos produits ( des jouets), ca va être les variables de décision, \n",
    "# elles pourront prendre une valeur entière, vu que ce sont des objets uniques. \n",
    "# Par exemple , produire 15 automobiles, produire 25 arcs etc ...\n",
    "produits = [\"automobile\", \"cycle1\",\"cycle2\",\"dragon\",\"nounours\",\"poupee\",\"arc\"]\n",
    "\n",
    "# Les bénéfices en EUROS par produits\n",
    "benefices = {\"automobile\": 8, \"cycle1\": 12, \"cycle2\": 14,\"dragon\": 3,\"nounours\":6,\"poupee\":13,\"arc\":12}\n",
    "\n",
    "# Emplois (en kgs)\n",
    "plastique = {\"automobile\": 2, \"cycle1\": 4, \"cycle2\": 5,\"dragon\": 3,\"nounours\":1,\"poupee\":4,\"arc\":2}\n",
    "bois      = {\"automobile\": 1, \"cycle1\": 1, \"cycle2\": 2,\"dragon\": 2,\"nounours\":1,\"poupee\":5,\"arc\":1}\n",
    "acier     = {\"automobile\": 1, \"cycle1\": 2, \"cycle2\": 3,\"dragon\": 3,\"nounours\":2,\"poupee\":2,\"arc\":5}\n",
    "\n",
    "\n",
    "# Les noms de nos ressources\n",
    "ressources = {\"plastique\", \"bois\", \"acier\"}\n",
    "\n",
    "# Les stocks de nos ressources en KG\n",
    "stocks = {\"plastique\": 142, \"bois \": 117, \"acier\": 124}\n",
    "\n",
    "# On crée nos variables, en se basant sur le tableau x ( array en Anglais)\n",
    "# On stipule que ce sont des variables entières, normal, puisque ce sont des jouets (On ne peut pas avoir 1/2 jouet...).\n",
    "x = LpVariable.dicts(\"produits \", produits , lowBound=0, cat='Integer')\n",
    "\n",
    "# La fonction objectif, Maximiser le bénéfice.\n",
    "# Ici, on voit qu'on itère à l'aide de notre tableau produits, sur les bénéfices qui sont contenus dans un \n",
    "# dictionnaire Python. Cette méthode revient souvent sur StackOverflow et en général.\n",
    "prob += lpSum([benefices[i] * x[i] for i in produits ]), \"MaximiserBenefice\" \n",
    "\n",
    "# Nos contraintes.\n",
    "# On respecte notre production sous contrainte de stocks\n",
    "# Ici, n voit qu'on itère à l'aide de notre tableau produits, sur les stocks qui sont contenus dans un \n",
    "# dictionnaire Python. Cette méthode revient souvent sur StackOverflow et en général.\n",
    "prob += lpSum([plastique[i] * x[i] for i in  produits]) <= 142 ,\"MaxPlastique\"\n",
    "\n",
    "# La ligne suivante veut dire : \n",
    "# \"\" Prends chaque valeur du tableau bois indicé par i et multiplie le par la \n",
    "# variable de décision x indice i, fait la somme de tout\n",
    "# et cette somme doit être inférieure à notre stock de bois de 117\n",
    "prob += lpSum([bois[i]      * x[i] for i in  produits]) <= 117 ,\"MaxBois\"\n",
    "\n",
    "prob += lpSum([acier[i]     * x[i] for i in  produits]) <= 124 ,\"MaxAcier\"\n",
    "\n",
    "# Production minimale par produits pour les clients : 2 unités\n",
    "for p in produits:\n",
    "   prob += x[p] >= 2, f\"min production units for product {p}\"\n",
    "\n",
    "# On écrit aussi le probleme dans un fichier\n",
    "# prob.writeLP ( \"JouetsModel.lp\")\n",
    "\n",
    "# On utilise le solver pulp\n",
    "prob.solve()\n",
    "\n",
    "# On affiche le statut de la solution\n",
    "print (\"Status:\", LpStatus [prob.status])\n",
    "\n",
    "# Afficher l'optimium de chaques variables produits qui s'exprime en unité construites\n",
    "for v in prob.variables ():\n",
    "    print (v.name, \"=\", v.varValue)\n",
    "\n",
    "\n",
    "# Le résultat de la fonctioj objectif est ici :\n",
    "print (\"TotalProfit\", value (prob.objective))\n",
    "  "
   ]
  },
  {
   "attachments": {},
   "cell_type": "markdown",
   "metadata": {},
   "source": [
    "# 5. A tip to recover the names of the decision variables.\n",
    "\n",
    "In this example, below, we see that the author directly writes the characteristics of decision variables in Python dictionaries, then he recovers the names of the decision variables using the order\n",
    "items = list (sorted (v.keys ())).\n",
    "\n",
    "Suddenly, it goes even faster to create the variables then in the command:\n",
    "x = lpvariable.dicts ('x', items, lowbound = 0, upbound = 1, cat = lpinteger)"
   ]
  },
  {
   "cell_type": "code",
   "execution_count": 5,
   "metadata": {},
   "outputs": [],
   "source": [
    "# knapsack-pulp.py\n",
    "\n",
    "from pulp import *\n",
    "\n",
    "v = {'hammer':8, 'wrench':3, 'screwdriver':6, 'towel':11}\n",
    "w = {'hammer':5, 'wrench':7, 'screwdriver':4, 'towel':3}\n",
    "limit = 14\n",
    "items = list(sorted(v.keys()))\n",
    "\n",
    "# Create model\n",
    "m = LpProblem(\"Knapsack\", LpMaximize)\n",
    "\n",
    "# Variables\n",
    "x = LpVariable.dicts('x', items, lowBound=0, upBound=1, cat=LpInteger)"
   ]
  },
  {
   "cell_type": "markdown",
   "metadata": {},
   "source": [
    "# 6. Create decision variables by combining two tables.\n",
    "\n",
    "\n",
    "In this example, we see that the author of Python Pulp creates decision variables by associating 2 tables: suppliers and customers.\n",
    "\n",
    "It allows you to create all possible solutions using the for loop.\n",
    "\n",
    "It is used, after optimization"
   ]
  },
  {
   "cell_type": "code",
   "execution_count": 6,
   "metadata": {},
   "outputs": [
    {
     "name": "stdout",
     "output_type": "stream",
     "text": [
      "Statut: Optimal\n",
      "Cout total minimisé =  17.0\n",
      "Choix de la route : Route_A_1 = 1.0\n",
      "Choix de la route : Route_A_2 = 1.0\n",
      "Choix de la route : Route_A_3 = 1.0\n",
      "Choix de la route : Route_A_4 = 1.0\n",
      "Choix de la route : Route_B_5 = 1.0\n"
     ]
    }
   ],
   "source": [
    "import pulp as p\n",
    "\n",
    "# Variables de décision\n",
    "fournisseurs = ['A','B']\n",
    "clients = ['1','2','3','4','5']\n",
    "costs = [  \n",
    "# clients   # 1  2  3  4  5\n",
    "                [3, 1, 3, 2,9],      # A   fournisseurs\n",
    "                [25, 15, 32, 22,8],  # B\n",
    "]\n",
    "\n",
    "# C'est un problème de minimisation\n",
    "Problem = p.LpProblem('optimisation_transport',p.LpMinimize)\n",
    "\n",
    "# Créer une liste de toutes les routes possibles\n",
    "Routes = [(w, b) for w in fournisseurs  for b in clients]\n",
    "\n",
    "# Créer un dictionnaire de variables de décisions des routes\n",
    "vars = p.LpVariable.dicts(\"Route\", (fournisseurs , clients), 0, None, p.LpBinary)\n",
    "\n",
    "# Créer un dictionnaire des coûts de chaque routes\n",
    "cost = p.makeDict([fournisseurs,clients], costs, 0)\n",
    "\n",
    "# Fonction objectif\n",
    "Problem += p.lpSum([cost[w][b]  * vars[w][b]  for (w, b) in Routes])\n",
    "\n",
    "# Contrainte\n",
    "Problem += (p.lpSum([ vars[w][b]  for (w, b) in Routes]) >= 5 , \"minimum_de_5_routes\")\n",
    "\n",
    "# On résouds\n",
    "Problem.solve()\n",
    " \n",
    "# On imprime le résultat\n",
    "print('Statut:', p.LpStatus[Problem.status])\n",
    "print('Cout total minimisé = ', p.value(Problem.objective))\n",
    " \n",
    "for i in Problem.variables():\n",
    "    if i.varValue > 0:\n",
    "        print('Choix de la route :',i.name, '=', i.varValue)\n"
   ]
  },
  {
   "cell_type": "markdown",
   "metadata": {},
   "source": [
    "The syntax of linear problems can be organized differently depending on the authors of the programs, here is the example of the aggregated production of Aaon Stubberfield where it also associates tables to create decision variables, but in a different way than the first example.\n",
    "\n",
    "Especially since a code is always the application of a written mathematical model, but there, it becomes difficult, you have to get used to and take the time to read and understand.We are supposed to know how to go back and old between the mathematical model and the code, and vice versa.\n"
   ]
  },
  {
   "cell_type": "code",
   "execution_count": 7,
   "metadata": {},
   "outputs": [
    {
     "name": "stdout",
     "output_type": "stream",
     "text": [
      "{('A', 0): prod_('A',_0), ('A', 1): prod_('A',_1), ('A', 2): prod_('A',_2), ('B', 0): prod_('B',_0), ('B', 1): prod_('B',_1), ('B', 2): prod_('B',_2)}\n",
      "prod_('A',_0) = 5.0\n",
      "prod_('A',_1) = 0.0\n",
      "prod_('A',_2) = 0.0\n",
      "prod_('B',_0) = 8.0\n",
      "prod_('B',_1) = 7.0\n",
      "prod_('B',_2) = 6.0\n",
      "Coût total =  422.0\n"
     ]
    }
   ],
   "source": [
    "from pulp import *\n",
    "demand = {'A':[5,0,0],'B':[8,7,6]}\n",
    "costs = {'A':[20,17,18],'B':[15,16,15]}\n",
    "\n",
    "# On crée le problème\n",
    "model = LpProblem(\"Aggregate_Production_Planning\",LpMinimize)\n",
    "\n",
    "# On définit les variables\n",
    "time = [0, 1, 2]\n",
    "prod = ['A','B']\n",
    "\n",
    "# On crée un dictionnaire de toutes les variables de décision de productions possibles et leur temps\n",
    "#### C'est là que l'on crée des variables de décision en associant les 2 tableaux.***\n",
    "X = LpVariable.dicts(\"prod\", [(p, t) for p in prod for t in time],lowBound=0, cat=\"Integer\")\n",
    "# On regarde l'association créee :\n",
    "print(X)\n",
    "\n",
    "# On crée la fonction objectif : minimiser les coûts\n",
    "model += lpSum([costs[p][t] * X[(p, t)] for p in prod for t in time])\n",
    "\n",
    "# On définit la contrainte que la production >= demande\n",
    "for p in prod:\n",
    "    for t in time:\n",
    "        model += X[(p, t)] >= demand[p][t] \n",
    "\n",
    "# Résoudre\n",
    "model.solve()\n",
    "\n",
    "# On imprime les variables qui ont leur valeur optimisées\n",
    "for v in model.variables():\n",
    "    print(v.name, \"=\", v.varValue)\n",
    "    \n",
    "# La valeur de la fonction objective optimisée est imprimée à l'écran\n",
    "print(\"Coût total = \", value(model.objective))"
   ]
  },
  {
   "attachments": {},
   "cell_type": "markdown",
   "metadata": {},
   "source": [
    "# 7. Iterate with Python Gekko, the non -linear solver.\n",
    "\n",
    "It's different from with Pulp.\n",
    "\n",
    "Link: https://stackoverflow.com/questions/64542594/how-could-constraints-be-my\n",
    "\n",
    "Here is an example of cost reduction with iteration in working time constraint:"
   ]
  },
  {
   "cell_type": "code",
   "execution_count": 8,
   "metadata": {},
   "outputs": [
    {
     "name": "stdout",
     "output_type": "stream",
     "text": [
      "x1 3.9999999998\n",
      "x2 1.8225924919e-09\n",
      "Cost: 400.00000021\n"
     ]
    }
   ],
   "source": [
    "from gekko import GEKKO\n",
    "\n",
    "# stored as list\n",
    "my_vars = ['x1','x2']\n",
    "# stored as dictionaries\n",
    "Cost = {'x1':100,'x2':125}\n",
    "Min = {'x1':0,'x2':0}\n",
    "Max = {'x1':70,'x2':40}\n",
    "Work = {'x1':50,'x2':50}\n",
    "\n",
    "LP = GEKKO(remote=False)\n",
    "\n",
    "\n",
    "va = LP.Array(LP.Var, (len(my_vars)))  # array\n",
    "\n",
    "# Le truc qui diffère , en fait il crée un dictionnaire à l'aide du tableau créé juste avant :\n",
    "vd = {}                                # dictionary\n",
    "for i,xi in enumerate(my_vars):\n",
    "    vd[xi] = va[i]\n",
    "    vd[xi].lower = Min[xi]\n",
    "    vd[xi].upper = Max[xi]\n",
    "\n",
    "\n",
    "# Fonction coût\n",
    "LP.Minimize(LP.sum([Cost[xi]*vd[xi] for xi in my_vars])) \n",
    "\n",
    "\n",
    "# On voit que l'itération fonctionne !\n",
    "LP.Equation(LP.sum([Work[xi]*vd[xi] for xi in my_vars])>=200)\n",
    "\n",
    "\n",
    "LP.solve(disp=False)\n",
    "\n",
    "# On affiche le résultat\n",
    "for xi in my_vars:\n",
    "    print(xi,vd[xi].value[0])\n",
    "print ('Cost: ' + str(LP.options.OBJFCNVAL))"
   ]
  },
  {
   "attachments": {},
   "cell_type": "markdown",
   "metadata": {},
   "source": [
    "# 7b.Iter with the Python Cplex solver"
   ]
  }
 ],
 "metadata": {
  "kernelspec": {
   "display_name": "Python 3",
   "language": "python",
   "name": "python3"
  },
  "language_info": {
   "codemirror_mode": {
    "name": "ipython",
    "version": 3
   },
   "file_extension": ".py",
   "mimetype": "text/x-python",
   "name": "python",
   "nbconvert_exporter": "python",
   "pygments_lexer": "ipython3",
   "version": "3.8.0"
  },
  "orig_nbformat": 4
 },
 "nbformat": 4,
 "nbformat_minor": 2
}
