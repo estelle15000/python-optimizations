{
 "cells": [
  {
   "cell_type": "markdown",
   "metadata": {},
   "source": [
    "<div style=\"text-align:center\">\n",
    "<img src=\"img/intro.png\">\n",
    "</div>"
   ]
  },
  {
   "cell_type": "markdown",
   "metadata": {},
   "source": [
    "## Introduction\n",
    "\n",
    "In this notebook, I first solve all standard types of differential equations with Python, then I will add as many application cases as possible.\n",
    "I try to keep the explanations as simple as possible.\n",
    "\n",
    "*** CREATION IN PROGRESS ***<br>\n",
    "Notebook created by GITHUB ESTELLE DERRIEN\n",
    "\n",
    "Great link : https://personal.math.ubc.ca/~CLP/CLP1/clp_1_dc/front.html"
   ]
  },
  {
   "cell_type": "markdown",
   "metadata": {},
   "source": [
    "## Summary\n",
    "\n",
    "<h4>Part 1 : direct solutions</h4>\n",
    "\n",
    "<i>Order 1 ODEs</i>\n",
    "- <b>y' = 2y</b>\n",
    "    - Graphical solution\n",
    "    - Symbolic solution\n",
    "    - Algebra solution\n",
    "- <b>y' = ax + x² </b>\n",
    "    - Graphical solution\n",
    "    - Symbolic solution\n",
    "    - Algebra solution\n",
    "- <b> y' = ax + f</b>\n",
    "    - Graphical solution\n",
    "    - Symbolic solution\n",
    "    - Algebra solution\n",
    "- <b> system</b>\n",
    "    - Graphical solution\n",
    "    - Symbolic solution\n",
    "    - Algebra solution\n",
    "\n",
    "<i>Order 2 ODES </i>\n",
    "\n",
    "\n",
    "<h4>Part 2 : Real life applications</h4>\n",
    "\n",
    "<h4>Part 3 : Optimizing Differential equations</h4>\n"
   ]
  }
 ],
 "metadata": {
  "language_info": {
   "name": "python"
  }
 },
 "nbformat": 4,
 "nbformat_minor": 2
}
