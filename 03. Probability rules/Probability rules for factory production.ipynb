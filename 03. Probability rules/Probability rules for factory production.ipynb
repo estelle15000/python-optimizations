{
 "cells": [
  {
   "cell_type": "markdown",
   "metadata": {},
   "source": [
    "# Probability rules for factories production"
   ]
  },
  {
   "cell_type": "markdown",
   "metadata": {},
   "source": [
    "## Introduction\n",
    "\n",
    "This notebook will be my only ressource for all probability rules related to factory production.\n",
    "Including easy reminders and easy examples !\n",
    "\n",
    "Notebook provided by Github Estelle Derrien\n",
    "\n",
    "**  Warning : Building it ! **\n"
   ]
  },
  {
   "cell_type": "markdown",
   "metadata": {},
   "source": [
    "## Summary\n",
    "- 1. <b> Introduction </b>\n",
    "        - Type : Continuous vs Discrete\n",
    "        - Definitions and vocabulary\n",
    "\n",
    "- 2. <b> Uniform </b>\n",
    "        - Description\n",
    "        - What does it solves ?\n",
    "        - Scipy notation\n",
    "        - Examples\n",
    "\n",
    "- 3. <b> Normal </b>\n",
    "        - Description\n",
    "        - Examples\n",
    "\n",
    "- 4. <b> Exponential </b>\n",
    "        - Description\n",
    "        - Examples\n",
    "\n",
    "- 5. <b> Discrete </b>\n",
    "        - Description\n",
    "        - Examples\n",
    "\n",
    "- 6. <b> Poisson </b>\n",
    "        - Description\n",
    "        - Examples\n",
    "\n",
    "- 7. <b> Binomial </b>\n",
    "        - Description\n",
    "        - Examples \n",
    "\n",
    "- 8. <b> Geometric </b>\n",
    "        - Description\n",
    "        - Examples\n",
    "\n",
    "- 9. <b> Probability tree </b>\n",
    "        - Description\n",
    "        - Examples\n",
    "        \n",
    "- 10. <b>Markov chains </b>\n",
    "        - Description\n",
    "        - Examples\n",
    "\n"
   ]
  },
  {
   "cell_type": "markdown",
   "metadata": {},
   "source": [
    "# 1. Introduction\n",
    "\n",
    "## Types : Continuous vs Discrete\n",
    "\n",
    "\n",
    "## Definitions and vocabulary\n",
    "\n",
    "Before discussing the rules of probability, we state the following definitions:\n",
    "\n",
    "- Two events are mutually exclusive or disjoint if they cannot occur at the same time.\n",
    "\n",
    "- The probability that Event A occurs, given that Event B has occurred, is called a conditional probability. The conditional probability of Event A, given Event B, is denoted by the symbol P(A|B).\n",
    "\n",
    "- The complement of an event is the event not occurring. The probability that Event A will not occur is denoted by P(A').\n",
    "    \n",
    "- The probability that Events A and B both occur is the probability of the intersection of A and B. The probability of the intersection of Events A and B is denoted by P(A ∩ B). If Events A and B are mutually exclusive, P(A ∩ B) = 0.\n",
    "    \n",
    "- The probability that Events A or B occur is the probability of the union of A and B. The probability of the union of Events A and B is denoted by P(A ∪ B) .\n",
    "\n",
    "- If the occurrence of Event A changes the probability of Event B, then Events A and B are dependent. On the other hand, if the occurrence of Event A does not change the probability of Event B, then Events A and B are independent.\n"
   ]
  },
  {
   "cell_type": "code",
   "execution_count": 7,
   "metadata": {},
   "outputs": [],
   "source": [
    "# Comin soon !"
   ]
  },
  {
   "cell_type": "markdown",
   "metadata": {},
   "source": [
    "# 2. <b> Uniform </b>\n",
    "\n",
    "## Description\n",
    "\n",
    "## Discrete uniform distribution\n",
    "\n",
    "The uniform distribution defines equal probability over a given range of continuous values. In other words, it is a distribution that has constant probability.\n",
    "\n",
    "Usage examples:\n",
    "\n",
    "For example, if we roll a die, the probabilities are equal to have 1,2,3,4,5 or 6.\n",
    "\n",
    "If buses or taxis have a scheduled passage every hour without interruption,\n",
    "then we are in the case of a “Uniform” probability distribution\n",
    "\n",
    "If we try to guess someone's date of birth, then we have an equal chance in 365 of being correct, so we are in the case of a \"Uniform\" probability distribution.\n",
    "\n",
    "The probability of a person winning a sweepstakes competition is equal for all other people participating in the competition. Therefore, such a distribution is known as uniform probability distribution because each person's chances of winning are equal.\n",
    "\n",
    "## Continuous uniform distribution\n",
    "\n",
    "coming\n",
    "\n",
    "## What does it solve ?\n",
    "Lets solve:\\\n",
    "\"What is the probability that the result is exactly...?\"\n",
    "\"What is the probability that the result is less than...?\"\\\n",
    "\"What is the probability that the result is more than...?\"\\\n",
    "“What is the probability that the result is between min value and max value?”\n",
    "\n",
    "## SCIPY notation\n",
    "\n",
    "1. calculate the probability of having EXACTLY one result -> uniform.pmf(k=5, mu=3)\n",
    "2. calculate the probability of having LESS than one result -> uniform.cdf(k=5, mu=3)\n",
    "3. calculate the probability of having MORE than one result -> 1-uniform.cdf(k=5, mu=3)\n",
    "4. calculate the probability result is between the x and y values -> uniform.cdf(x=8, loc=0, scale=20) - uniform.cdf(x=0, loc=0, scale=20)\n",
    "\n",
    "\n",
    "## Example 1\n",
    "Suppose a bus comes to a bus stop every 20 minutes. If you arrive at the bus stop, what is the probability that the bus will appear in 8 minutes or less?"
   ]
  },
  {
   "cell_type": "code",
   "execution_count": 8,
   "metadata": {},
   "outputs": [
    {
     "name": "stdout",
     "output_type": "stream",
     "text": [
      "My probability is :  40.0 %\n"
     ]
    }
   ],
   "source": [
    "from scipy.stats import uniform\n",
    "result = uniform.cdf(x=8, loc=0, scale=20) - uniform.cdf(x=0, loc=0, scale=20)\n",
    "print(\"My probability is : \", result * 100, \"%\")"
   ]
  },
  {
   "cell_type": "markdown",
   "metadata": {},
   "source": [
    "# Example 2\n",
    "\n",
    "The weight of a certain species of frog is evenly distributed between 15 and 25 grams. If you select a frog at random, what is the probability that it weighs between 17 and 19 grams?"
   ]
  },
  {
   "cell_type": "code",
   "execution_count": 10,
   "metadata": {},
   "outputs": [
    {
     "name": "stdout",
     "output_type": "stream",
     "text": [
      "My probability is :  40.0 %\n"
     ]
    }
   ],
   "source": [
    "result =  uniform.cdf(x=19, loc=15, scale=10) - uniform.cdf(x=17, loc=25, scale=10)\n",
    "print(\"My probability is : \", result * 100, \"%\")"
   ]
  }
 ],
 "metadata": {
  "kernelspec": {
   "display_name": "Python 3",
   "language": "python",
   "name": "python3"
  },
  "language_info": {
   "codemirror_mode": {
    "name": "ipython",
    "version": 3
   },
   "file_extension": ".py",
   "mimetype": "text/x-python",
   "name": "python",
   "nbconvert_exporter": "python",
   "pygments_lexer": "ipython3",
   "version": "3.9.2"
  }
 },
 "nbformat": 4,
 "nbformat_minor": 2
}
