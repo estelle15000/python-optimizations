{
 "cells": [
  {
   "cell_type": "markdown",
   "metadata": {},
   "source": [
    "# Probability rules for factories production"
   ]
  },
  {
   "cell_type": "markdown",
   "metadata": {},
   "source": [
    "## Introduction\n",
    "\n",
    "This notebook will be my only ressource for all probability rules related to factory production.\n",
    "\n",
    "Including easy reminders and easy examples !\n",
    "\n",
    "Notebook realized by Github Estelle Derrien\n",
    "\n",
    "Libraries : Scipy, Numpy ...\n",
    "\n",
    "**  Warning : Building it ! **\n"
   ]
  },
  {
   "cell_type": "markdown",
   "metadata": {},
   "source": [
    "## Summary\n",
    "- 1. <b> Introduction </b>\n",
    "        - Type : Continuous vs Discrete\n",
    "        - Definitions and vocabulary\n",
    "\n",
    "- 2. <b> Uniform </b>\n",
    "        - Description\n",
    "        - What does it solves ?\n",
    "        - Scipy notation\n",
    "        - Examples\n",
    "          - Probability EXACTLY\n",
    "          - Probability LESS THAN\n",
    "          - Probablity MORE THAN\n",
    "          - Probability BETWEEN\n",
    "\n",
    "- 3. <b> Normal </b>\n",
    "        - Description\n",
    "        - What does it solves ?\n",
    "        - Scipy notation\n",
    "        - Examples\n",
    "          - Probability EXACTLY\n",
    "          - Probability LESS THAN\n",
    "          - Probablity MORE THAN\n",
    "          - Probability BETWEEN\n",
    "\n",
    "- 4. <b> Exponential </b>\n",
    "        - Description\n",
    "        - What does it solves ?\n",
    "        - Scipy notation\n",
    "        - Examples\n",
    "          - Probability EXACTLY\n",
    "          - Probability LESS THAN\n",
    "          - Probablity MORE THAN\n",
    "          - Probability BETWEEN\n",
    "\n",
    "- 5. <b> Discrete </b>\n",
    "        - Description\n",
    "        - Examples\n",
    "\n",
    "- 6. <b> Poisson </b>\n",
    "        - Description\n",
    "        - Examples\n",
    "\n",
    "- 7. <b> Binomial </b>\n",
    "        - Description\n",
    "        - Examples \n",
    "\n",
    "- 8. <b> Geometric </b>\n",
    "        - Description\n",
    "        - Examples\n",
    "\n",
    "- 9. <b> Probability tree </b>\n",
    "        - Description\n",
    "        - Examples\n",
    "        \n",
    "- 10. <b>Markov chains </b>\n",
    "        - Description\n",
    "        - Examples\n",
    "\n"
   ]
  },
  {
   "cell_type": "markdown",
   "metadata": {},
   "source": [
    "# <b>1. Introduction</b>\n",
    "\n",
    "## Types : Continuous vs Discrete\n",
    "\n",
    "\n",
    "## Definitions and vocabulary\n",
    "\n",
    "Before discussing the rules of probability, we state the following definitions:\n",
    "\n",
    "- Two events are mutually exclusive or disjoint if they cannot occur at the same time.\n",
    "\n",
    "- The probability that Event A occurs, given that Event B has occurred, is called a conditional probability. The conditional probability of Event A, given Event B, is denoted by the symbol P(A|B).\n",
    "\n",
    "- The complement of an event is the event not occurring. The probability that Event A will not occur is denoted by P(A').\n",
    "    \n",
    "- The probability that Events A and B both occur is the probability of the intersection of A and B. The probability of the intersection of Events A and B is denoted by P(A ∩ B). If Events A and B are mutually exclusive, P(A ∩ B) = 0.\n",
    "    \n",
    "- The probability that Events A or B occur is the probability of the union of A and B. The probability of the union of Events A and B is denoted by P(A ∪ B) .\n",
    "\n",
    "- If the occurrence of Event A changes the probability of Event B, then Events A and B are dependent. On the other hand, if the occurrence of Event A does not change the probability of Event B, then Events A and B are independent.\n"
   ]
  },
  {
   "cell_type": "code",
   "execution_count": 240,
   "metadata": {},
   "outputs": [],
   "source": [
    "# Comin soon !"
   ]
  },
  {
   "cell_type": "markdown",
   "metadata": {},
   "source": [
    "# <b> 2. Uniform </b>\n",
    "\n",
    "## Description\n",
    "\n",
    "## Discrete uniform distribution\n",
    "\n",
    "The uniform distribution defines equal probability over a given range of continuous values. In other words, it is a distribution that has constant probability.\n",
    "\n",
    "Usage examples:\n",
    "\n",
    "For example, if we roll a die, the probabilities are equal to have 1,2,3,4,5 or 6.\n",
    "\n",
    "If buses or taxis have a scheduled passage every hour without interruption,\n",
    "then we are in the case of a “Uniform” probability distribution\n",
    "\n",
    "If we try to guess someone's date of birth, then we have an equal chance in 365 of being correct, so we are in the case of a \"Uniform\" probability distribution.\n",
    "\n",
    "The probability of a person winning a sweepstakes competition is equal for all other people participating in the competition. Therefore, such a distribution is known as uniform probability distribution because each person's chances of winning are equal.\n",
    "\n",
    "## Continuous uniform distribution\n",
    "\n",
    "coming soon\n",
    "\n",
    "## What does it solve ?\n",
    "Lets solve:\\\n",
    "\"What is the probability that the result is <b>exactly</b>...?\"\\\n",
    "\"What is the probability that the result is <b>less than</b>...?\"\\\n",
    "\"What is the probability that the result is <b>more than</b>...?\"\\\n",
    "“What is the probability that the result is <b>between min value and max value</b>?”\n",
    "\n",
    "## SCIPY notation\n",
    "\n",
    "1. calculate the probability of having <b>EXACTLY</b> one result (PMF) example -> uniform.pdf(1, loc=0, scale=6)\n",
    "2. calculate the probability of having <b>LESS than</b> one result (CDF) example -> uniform.cdf(5, loc=1, scale=5) # !! warning!!\n",
    "3. calculate the probability of having <b>MORE than</b> one result example -> uniform.sf(5, loc=1, scale=5)\n",
    "4. calculate the probability result is <b>BETWEEN some x and y values</b> -> uniform.cdf(x=8, loc=0, scale=20) - uniform.cdf(x=0, loc=0, scale=20)\n",
    "\n",
    "Arguments :\n",
    "One argument is the lower bound, second argument is the range of the distribution\n",
    "!!\n",
    "Using the parameters loc and scale, one obtains the uniform distribution on [loc, loc + scale].\n",
    "https://stackoverflow.com/questions/73094063/calculating-cdf-with-scipy-for-an-uniform-distribution\n",
    "!!\n",
    "\n",
    "\n",
    "## Link for Maths formulas\n",
    "https://en.wikipedia.org/wiki/Discrete_uniform_distribution\n",
    "\n",
    "## Scipy Doc \n",
    "https://docs.scipy.org/doc/scipy/reference/generated/scipy.stats.uniform.html"
   ]
  },
  {
   "cell_type": "markdown",
   "metadata": {},
   "source": [
    "## Example 1 - What is the probability that the result is <b>EXACTLY</b>\n",
    "\n",
    "SImpliest case ( calculate the probability of having EXACTLY one result - PMF ): \n",
    "\n",
    "I roll a 6-sided dice, what is the probability of getting <b>an exact</b> 2 value ?\n",
    "\n",
    "P(X=2)"
   ]
  },
  {
   "cell_type": "code",
   "execution_count": 241,
   "metadata": {},
   "outputs": [],
   "source": [
    "# Import lib\n",
    "from scipy.stats import uniform"
   ]
  },
  {
   "cell_type": "code",
   "execution_count": 242,
   "metadata": {},
   "outputs": [
    {
     "name": "stdout",
     "output_type": "stream",
     "text": [
      "My probability of exactly getting a 2 value using python is :  16.666666666666664 %\n",
      "My probability of exactly getting  a 2 value using scipy is :  16.666666666666664 %\n"
     ]
    }
   ],
   "source": [
    "# Solve using Python\n",
    "n = 6 # Number of faces\n",
    "PMF = 1 / n # Probability mass function\n",
    "print(\"My probability of exactly getting a 2 value using python is : \", PMF * 100, \"%\")\n",
    "\n",
    "# Solve using Scipy\n",
    "\n",
    "# 1. Define the Uniform law and add parameter 1\n",
    "result = uniform.pdf(1, loc=0, scale=6)\n",
    "\n",
    "# 2. Print result\n",
    "print(\"My probability of exactly getting  a 2 value using scipy is : \", result * 100, \"%\")\n",
    "\n"
   ]
  },
  {
   "cell_type": "markdown",
   "metadata": {},
   "source": [
    "## Drawing the dice prob"
   ]
  },
  {
   "cell_type": "code",
   "execution_count": 243,
   "metadata": {},
   "outputs": [
    {
     "data": {
      "image/png": "[encoded data removed]",
      "text/plain": [
       "<Figure size 800x500 with 1 Axes>"
      ]
     },
     "metadata": {},
     "output_type": "display_data"
    }
   ],
   "source": [
    "import numpy as np\n",
    "import matplotlib.pyplot as plt\n",
    " \n",
    "import numpy as np\n",
    "import matplotlib.pyplot as plt\n",
    "from scipy.stats import binom, poisson\n",
    " \n",
    "# PMF of the fair dice\n",
    "num_dice_faces = 6\n",
    "dice_probability = np.ones(num_dice_faces) / num_dice_faces\n",
    "dice_values = np.arange(1, num_dice_faces + 1)\n",
    " \n",
    "plt.figure(figsize=(8, 5))\n",
    "plt.bar(dice_values, dice_probability * 100, color='skyblue')\n",
    "plt.title('PMF of the fair dice')\n",
    "plt.xlabel('Dice value')\n",
    "plt.ylabel('Probability')\n",
    "plt.xticks(dice_values)\n",
    "plt.grid(True)\n",
    "plt.show()"
   ]
  },
  {
   "cell_type": "markdown",
   "metadata": {},
   "source": [
    "## a) \"What is the probability that the result is <b>LESS THAN</b>...?\n",
    "\n",
    "I roll a 6-sided dice, what is the probability of getting a value less than 4 (CDF)?\n",
    " P(X<=4)\n",
    "\n",
    " Warning : the scale parameter is not as easy to do than what you think, please check \n",
    " https://stackoverflow.com/questions/73094063/calculating-cdf-with-scipy-for-an-uniform-distribution"
   ]
  },
  {
   "cell_type": "code",
   "execution_count": 244,
   "metadata": {},
   "outputs": [
    {
     "name": "stdout",
     "output_type": "stream",
     "text": [
      "My probability of getting  a value less than 4 using scipy is :  60.0 %\n"
     ]
    }
   ],
   "source": [
    "# Solve using Scipy\n",
    "\n",
    "# 1. Define the Uniform law\n",
    "dist = uniform(loc=1, scale=5)  # So loc=1, scale=5 gives the uniform distribution on [1, 1+5] = [1, 6].\n",
    "\n",
    "\n",
    "# 2. Compute the LESS THAN probability\n",
    "result = dist.cdf(4)\n",
    "\n",
    "# 2. Print result\n",
    "print(\"My probability of getting  a value less than 4 using scipy is : \", result * 100, \"%\")"
   ]
  },
  {
   "cell_type": "markdown",
   "metadata": {},
   "source": [
    "# b) \"What is the probability that the result is <b>LESS THAN</b>...?\n",
    "\n",
    "Suppose X is a continuous random variable that is uniformly distributed between 3 and 8. Which one of the following functions can be used to find P(X<=5.8)?"
   ]
  },
  {
   "cell_type": "code",
   "execution_count": 245,
   "metadata": {},
   "outputs": [
    {
     "name": "stdout",
     "output_type": "stream",
     "text": [
      "My probability of getting a value less than 5.8 using scipy is :  55.99999999999999 %\n"
     ]
    }
   ],
   "source": [
    "# Solve using Scipy\n",
    "\n",
    "# 1. Define the Uniform law and add parameter\n",
    "result = uniform.cdf(5.8, loc=3, scale=5) # So loc=3, scale=5 gives the uniform distribution on [3, 3+5] = [3, 8].\n",
    "\n",
    "# 2. Print result\n",
    "print(\"My probability of getting a value less than 5.8 using scipy is : \", result * 100, \"%\")"
   ]
  },
  {
   "cell_type": "markdown",
   "metadata": {},
   "source": [
    "# c) - \"What is the probability that the result is <b>MORE THAN</b>\n",
    "\n",
    "I roll a 6-sided dice, what is the probability of getting a value more than 4 (-CDF aka the SF function)?\n",
    " P(X>=4)"
   ]
  },
  {
   "cell_type": "code",
   "execution_count": 246,
   "metadata": {},
   "outputs": [
    {
     "name": "stdout",
     "output_type": "stream",
     "text": [
      "My probability of getting  a value more than 4 using scipy is :  40.0 %\n",
      "My probability using another way is :  40.0 %\n"
     ]
    }
   ],
   "source": [
    "# Solve using Scipy\n",
    "\n",
    "# 1. COmpute all in one go\n",
    "result = uniform.sf(4, loc=1, scale=5) # So loc=1, scale=5 gives the uniform distribution on [1, 1+5] = [1, 6].\n",
    "\n",
    "# 2. Print result\n",
    "print(\"My probability of getting  a value more than 4 using scipy is : \", result * 100, \"%\")\n",
    "\n",
    "\n",
    "# --------- Another way to solve it ---------------\n",
    "\n",
    "# 1. Set the uniform law\n",
    "dist = uniform(loc=1, scale=5) # loc means 'starts at', scale means ' 1+5 aka loc + scale (warning)\n",
    "\n",
    "# 2. Compute the MORE THAN probablity\n",
    "result = dist.cdf(6) - dist.cdf(4)\n",
    "\n",
    "# 3. Print result\n",
    "print(\"My probability using another way is : \", result * 100, \"%\")"
   ]
  },
  {
   "cell_type": "markdown",
   "metadata": {},
   "source": [
    "# d) - What is the probability that the result is <b>EXACTLY</b> ( Cumulated)\n",
    "\n",
    "I roll a 6-sided dice, what is the probability of getting value 3 or 4 or 5 ?\n",
    "\n",
    "( Warning : Discrete values, not Continuous values !)\n",
    "\n",
    "P(X=3 ; X=5 ;  X= 6)\n",
    "S:{3,4,5} /S:{1,2,6}\n",
    "So P = 50 %\n",
    "\n",
    "Pr(l<X<u)=Pr(X<u)−Pr(X<l)\n",
    "\n"
   ]
  },
  {
   "cell_type": "code",
   "execution_count": 247,
   "metadata": {},
   "outputs": [
    {
     "name": "stdout",
     "output_type": "stream",
     "text": [
      "My probability to get a 3, 4 or a 5 is :  50.0 %\n"
     ]
    }
   ],
   "source": [
    "# 1. Define 3 Uniform laws and the parameter 1\n",
    "PROB_3 = uniform.pdf(1, loc=0, scale=6)\n",
    "PROB_4 = uniform.pdf(1, loc=0, scale=6)\n",
    "PROB_5 = uniform.pdf(1, loc=0, scale=6)\n",
    "\n",
    "# 2. Compute the cumulation\n",
    "result = PROB_3 + PROB_4 + PROB_5\n",
    "\n",
    "# 3. Print result\n",
    "print(\"My probability to get a 3, 4 or a 5 is : \", result * 100, \"%\")"
   ]
  },
  {
   "cell_type": "markdown",
   "metadata": {},
   "source": [
    "## e) : \"What is the probability that the result is <b>MORE THAN</b>\n",
    "A company finds out that the amount of time a repairman needs to fix a furnace is uniformly distributed between 1.5 and 4 hours. What is the probability that a randomly selected furnace repair requires more than 2 hours?\n",
    "\n",
    "https://stats.stackexchange.com/questions/554364/scipy-continuous-uniform-distributions-cdf\n",
    "\n",
    "Solve by hand : \n",
    "- PDF function, f(x)\n",
    "1/(4-1.5) = 0.4 \n",
    "\n",
    "- probability of occurrence between 2 and 4: \n",
    "(4-2) = 2\n",
    "\n",
    "- answer\n",
    "0.4 * 2 = 0.8\n",
    "\n"
   ]
  },
  {
   "cell_type": "code",
   "execution_count": 248,
   "metadata": {},
   "outputs": [
    {
     "name": "stdout",
     "output_type": "stream",
     "text": [
      "Pdf function  0.4\n",
      "My probability is :  80.0 %\n",
      "My probability using the sf function is :  80.0 %\n"
     ]
    }
   ],
   "source": [
    "# 1. Define the Uniform law\n",
    "dist = uniform(loc=1.5, scale=2.5) # loc means 'starts at', scale means ' 1.5+2.5 aka loc + scale (warning)\n",
    "\n",
    "# 2. Display the PDF function\n",
    "print(\"Pdf function \", dist.pdf(2))\n",
    "\n",
    "# 3. Compute the MORE THAN probability\n",
    "result = dist.cdf(4) - dist.cdf(2)\n",
    "\n",
    "# 4. Print result\n",
    "print(\"My probability is : \", result * 100, \"%\")\n",
    "\n",
    "\n",
    "\n",
    "# Second solving option : The sf function is faster to write : \n",
    "result = uniform.sf(2, loc=1.5, scale=2.5)\n",
    "print(\"My probability using the sf function is : \", result * 100, \"%\")"
   ]
  },
  {
   "cell_type": "markdown",
   "metadata": {},
   "source": [
    "## f) : \"What is the probability that the result is <b>BETWEEN</b>\n",
    "\n",
    "Consider a random variable X following a continuous uniform law between 1 and 5. <br>\n",
    "Can you determine the probability that is between 2.5 and 4.5 ?\n",
    "P(2.5<=X<=4.5) ?\n",
    "\n",
    "Link : https://www.studysmarter.fr/resumes/mathematiques/statistiques-et-probabilites/loi-uniforme/"
   ]
  },
  {
   "cell_type": "code",
   "execution_count": 249,
   "metadata": {},
   "outputs": [
    {
     "name": "stdout",
     "output_type": "stream",
     "text": [
      "My probability  is :  50.0 %\n"
     ]
    }
   ],
   "source": [
    "# 1. Define the Uniform law\n",
    "dist = uniform(loc=1, scale=4) # loc means 'starts at', scale means ' 1+4 aka loc + scale (warning)\n",
    "\n",
    "# 2. Compute the BETWEEN probablity\n",
    "result =  dist.cdf(x=4.5) - dist.cdf(x=2.5)\n",
    "\n",
    "# 3. Display result\n",
    "print(\"My probability  is : \", result * 100, \"%\")"
   ]
  },
  {
   "cell_type": "markdown",
   "metadata": {},
   "source": [
    "# <b>2. Normal law</b>\n",
    "\n",
    "## Description\n",
    "\n",
    "The normal distribution is a bell-shaped probability distribution.\n",
    "\n",
    "<div style = \"text-align: center\">\n",
    "<IMG SRC = \"img/normal.png\">\n",
    "</div>\n",
    "\n",
    "Source: https://www.askpython.com/python/normal-distribution\n",
    "\n",
    "\n",
    "## What does it solve ?\n",
    "\n",
    "We can obtain the following probabilities on a sample:\n",
    "\n",
    "1. What is the probability that sample is <b> EXACTLY </b>\n",
    "2. What is the probability that sample bristles<b> MORE THAN</b>\n",
    "3. What is the probability that sample bristles <b>LESS THAN</b>\n",
    "4. What is the probability that sample silks <b>BETWEEN A MIN AND A MAX VALUE</b>\n",
    "\n",
    "## Scipy notation\n",
    "\n",
    "1.\n"
   ]
  },
  {
   "cell_type": "markdown",
   "metadata": {},
   "source": [
    "## a) What is the probability that sample is <b> EXACTLY </b>\n",
    "\n",
    "IQ tests are designed so that, for a given population, the average IQ is 100 and the standard deviation is 15.\n",
    "The results obtained in the IQ are distributed according to a normal law"
   ]
  },
  {
   "cell_type": "code",
   "execution_count": 270,
   "metadata": {},
   "outputs": [
    {
     "data": {
      "image/png": "[encoded data removed]",
      "text/plain": [
       "<Figure size 640x480 with 1 Axes>"
      ]
     },
     "metadata": {},
     "output_type": "display_data"
    }
   ],
   "source": [
    "# Import lib\n",
    "from scipy.stats import norm\n",
    "\n",
    "# Draw law\n",
    "import numpy as np\n",
    "import matplotlib.pyplot as plt\n",
    "from scipy.stats import norm\n",
    "\n",
    "# Plot between -10 and 10 with .001 steps.\n",
    "x_axis = np.arange(1, 200, 1)\n",
    "# Mean = 0, SD = 2.\n",
    "plt.plot(x_axis, norm.pdf(x_axis,100,15))\n",
    "plt.show()"
   ]
  },
  {
   "cell_type": "code",
   "execution_count": 251,
   "metadata": {},
   "outputs": [],
   "source": [
    "# 1. Define normal law\n",
    "dist = norm(90,14)\n",
    "\n",
    "# oCmpute the EXACT probability\n"
   ]
  }
 ],
 "metadata": {
  "kernelspec": {
   "display_name": "Python 3",
   "language": "python",
   "name": "python3"
  },
  "language_info": {
   "codemirror_mode": {
    "name": "ipython",
    "version": 3
   },
   "file_extension": ".py",
   "mimetype": "text/x-python",
   "name": "python",
   "nbconvert_exporter": "python",
   "pygments_lexer": "ipython3",
   "version": "3.9.2"
  }
 },
 "nbformat": 4,
 "nbformat_minor": 2
}
