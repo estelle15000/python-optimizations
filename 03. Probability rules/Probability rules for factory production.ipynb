{
 "cells": [
  {
   "cell_type": "markdown",
   "metadata": {},
   "source": [
    "# Probability rules for factories production"
   ]
  },
  {
   "cell_type": "markdown",
   "metadata": {},
   "source": [
    "## Introduction\n",
    "\n",
    "This notebook will be my only ressource for all probability rules related to factory production.\n",
    "Including easy reminders and easy examples !\n",
    "\n",
    "Notebook provided by Github Estelle Derrien\n"
   ]
  },
  {
   "cell_type": "markdown",
   "metadata": {},
   "source": [
    "## Summary\n",
    "- 1. <b> Introduction </b>\n",
    "        - Type : Continuous vs Discrete\n",
    "        - Definitions and vocabulary\n",
    "\n",
    "- 2. <b> Uniform </b>\n",
    "        - Description\n",
    "        - Examples\n",
    "\n",
    "- 3. <b> Normal </b>\n",
    "        - Description\n",
    "        - Examples\n",
    "\n",
    "- 4. <b> Exponential </b>\n",
    "        - Description\n",
    "        - Examples\n",
    "\n",
    "- 5. <b> Discrete </b>\n",
    "        - Description\n",
    "        - Examples\n",
    "\n",
    "- 6. <b> Poisson </b>\n",
    "        - Description\n",
    "        - Examples\n",
    "\n",
    "- 7. <b> Binomial </b>\n",
    "        - Description\n",
    "        - Examples \n",
    "\n",
    "- 8. <b> Geometric </b>\n",
    "        - Description\n",
    "        - Examples\n",
    "\n",
    "- 9. <b> Probability tree </b>\n",
    "        - Description\n",
    "        - Examples\n",
    "        \n",
    "- 10. <b>Markov chains </b>\n",
    "        - Description\n",
    "        - Examples\n",
    "\n"
   ]
  },
  {
   "cell_type": "markdown",
   "metadata": {},
   "source": [
    "# 1. Introduction\n",
    "\n",
    "## Types : Continuous vs Discrete\n",
    "\n",
    "\n",
    "## Definitions and vocabulary\n",
    "\n",
    "Before discussing the rules of probability, we state the following definitions:\n",
    "\n",
    "- Two events are mutually exclusive or disjoint if they cannot occur at the same time.\n",
    "\n",
    "- The probability that Event A occurs, given that Event B has occurred, is called a conditional probability. The conditional probability of Event A, given Event B, is denoted by the symbol P(A|B).\n",
    "\n",
    "- The complement of an event is the event not occurring. The probability that Event A will not occur is denoted by P(A').\n",
    "    \n",
    "- The probability that Events A and B both occur is the probability of the intersection of A and B. The probability of the intersection of Events A and B is denoted by P(A ∩ B). If Events A and B are mutually exclusive, P(A ∩ B) = 0.\n",
    "    \n",
    "- The probability that Events A or B occur is the probability of the union of A and B. The probability of the union of Events A and B is denoted by P(A ∪ B) .\n",
    "\n",
    "- If the occurrence of Event A changes the probability of Event B, then Events A and B are dependent. On the other hand, if the occurrence of Event A does not change the probability of Event B, then Events A and B are independent.\n"
   ]
  },
  {
   "cell_type": "code",
   "execution_count": 1,
   "metadata": {},
   "outputs": [],
   "source": [
    "# Comin soon !"
   ]
  }
 ],
 "metadata": {
  "kernelspec": {
   "display_name": "Python 3",
   "language": "python",
   "name": "python3"
  },
  "language_info": {
   "codemirror_mode": {
    "name": "ipython",
    "version": 3
   },
   "file_extension": ".py",
   "mimetype": "text/x-python",
   "name": "python",
   "nbconvert_exporter": "python",
   "pygments_lexer": "ipython3",
   "version": "3.9.2"
  }
 },
 "nbformat": 4,
 "nbformat_minor": 2
}
