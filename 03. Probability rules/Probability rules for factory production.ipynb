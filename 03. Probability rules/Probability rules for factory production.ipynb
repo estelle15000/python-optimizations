{
 "cells": [
  {
   "cell_type": "markdown",
   "metadata": {},
   "source": [
    "# Probability rules for factories production"
   ]
  },
  {
   "cell_type": "markdown",
   "metadata": {},
   "source": [
    "## Introduction\n",
    "\n",
    "This notebook will be my only ressource for all probability rules related to factory production.\n",
    "\n",
    "Including easy reminders and easy examples !\n",
    "\n",
    "<div style = \"text-align: center\">\n",
    "<IMG SRC = \"img/INTRO.png\">\n",
    "</div>\n",
    "\n",
    "<b>Notebook realized by Github Estelle Derrien</b>\n",
    "\n",
    "Libraries : Scipy, Numpy ...\n",
    "\n",
    "**  Warning : Building it  and under review, might contains errors ! **\n"
   ]
  },
  {
   "cell_type": "markdown",
   "metadata": {},
   "source": [
    "## Summary\n",
    "- 1. <b> Introduction </b>\n",
    "        - Type : Continuous vs Discrete\n",
    "        - Definitions and vocabulary\n",
    "\n",
    "- 2. <b> Uniform </b>\n",
    "        - Description\n",
    "        - What does it solves ?\n",
    "        - Scipy notation\n",
    "        \n",
    "        - Examples\n",
    "          - Main example\n",
    "          - Plotting the uniform distribution\n",
    "          - EXACT Probability \n",
    "          - LESS THAN Probability \n",
    "          - MORE THAN Probability \n",
    "          - BETWEEN Probability \n",
    "\n",
    "- 3. <b> Normal </b>\n",
    "        - Description\n",
    "        - What does it solves ?\n",
    "        - Scipy notation\n",
    "        - Examples\n",
    "          - Main example\n",
    "          - Plotting the normal distribution\n",
    "          - EXACT Probability \n",
    "          - MORE THAN Probability \n",
    "          - LESS THAN Probability \n",
    "          - BETWEEN Probability \n",
    "\n",
    "- 4. <b> Exponential </b>\n",
    "      - Description\n",
    "        - Real cases scenarios\n",
    "        - What does it solves ?\n",
    "        - Scipy notation\n",
    "        - Examples\n",
    "          - Main example : Electronical item lifespan\n",
    "          - Plotting the exponential distribution\n",
    "          - EXACT Probability \n",
    "          - LESS THAN Probability \n",
    "          - MORE THAN Probability \n",
    "          - BETWEEN Probability \n",
    "        - Computing Lambda from real life observations\n",
    "          - Main example : Time between volcano eruptions\n",
    "          - Computation\n",
    "\n",
    "- 5. <b> Binomial </b>\n",
    "      - Description\n",
    "        - Real cases scenarios\n",
    "        - What does it solves ?\n",
    "        - Scipy notation\n",
    "        - Examples\n",
    "          - Main example\n",
    "          - Plotting the Binomial distribution\n",
    "          - Simulate the Binomial distribution\n",
    "          - EXACT Probability \n",
    "          - LESS THAN Probability \n",
    "          - MORE THAN Probability \n",
    "          - BETWEEN Probability \n",
    "\n",
    "- 6. <b> Poisson </b>\n",
    "      - Description\n",
    "        - What does it solves ?\n",
    "        - Scipy notation\n",
    "        - Examples\n",
    "          - Main example\n",
    "          - Plotting the Poisson distribution\n",
    "          - EXACT Probability \n",
    "          - LESS THAN Probability \n",
    "          - MORE THAN Probability \n",
    "          - BETWEEN Probability \n",
    "\n",
    "\n",
    "\n",
    "- 7. <b> Geometric </b>\n",
    "        - Description\n",
    "        - Examples\n",
    "\n",
    "- 8. <b> Probability tree / Conditional probabilities</b>\n",
    "        - Description\n",
    "        - Examples\n",
    "        \n",
    "- 9. <b>Markov chains </b>\n",
    "        - Description\n",
    "        - Examples\n",
    "\n"
   ]
  },
  {
   "cell_type": "markdown",
   "metadata": {},
   "source": [
    "# <b>1. Introduction</b>\n",
    "\n",
    "## Types : Continuous vs Discrete\n",
    "\n",
    "\n",
    "## Definitions and vocabulary\n",
    "\n",
    "Before discussing the rules of probability, we state the following definitions:\n",
    "\n",
    "- Two events are mutually exclusive or disjoint if they cannot occur at the same time.\n",
    "\n",
    "- The probability that Event A occurs, given that Event B has occurred, is called a conditional probability. The conditional probability of Event A, given Event B, is denoted by the symbol P(A|B).\n",
    "\n",
    "- The complement of an event is the event not occurring. The probability that Event A will not occur is denoted by P(A').\n",
    "    \n",
    "- The probability that Events A and B both occur is the probability of the intersection of A and B. The probability of the intersection of Events A and B is denoted by P(A ∩ B). If Events A and B are mutually exclusive, P(A ∩ B) = 0.\n",
    "    \n",
    "- The probability that Events A or B occur is the probability of the union of A and B. The probability of the union of Events A and B is denoted by P(A ∪ B) .\n",
    "\n",
    "- If the occurrence of Event A changes the probability of Event B, then Events A and B are dependent. On the other hand, if the occurrence of Event A does not change the probability of Event B, then Events A and B are independent.\n"
   ]
  },
  {
   "cell_type": "code",
   "execution_count": 581,
   "metadata": {},
   "outputs": [],
   "source": [
    "# Comin soon !"
   ]
  },
  {
   "cell_type": "markdown",
   "metadata": {},
   "source": [
    "# <b> 2. Uniform distribution</b>\n",
    "\n",
    "## Description\n",
    "\n",
    "## Discrete uniform distribution\n",
    "\n",
    "The uniform distribution defines equal probability over a given range of continuous values. In other words, it is a distribution that has constant probability.\n",
    "\n",
    "Usage examples:\n",
    "\n",
    "For example, if we roll a die, the probabilities are equal to have 1,2,3,4,5 or 6.\n",
    "\n",
    "If buses or taxis have a scheduled passage every hour without interruption,\n",
    "then we are in the case of a “Uniform” probability distribution\n",
    "\n",
    "If we try to guess someone's date of birth, then we have an equal chance in 365 of being correct, so we are in the case of a \"Uniform\" probability distribution.\n",
    "\n",
    "The probability of a person winning a sweepstakes competition is equal for all other people participating in the competition. Therefore, such a distribution is known as uniform probability distribution because each person's chances of winning are equal.\n",
    "\n",
    "## Continuous uniform distribution\n",
    "\n",
    "coming soon\n",
    "\n",
    "## What does it solve ?\n",
    "Lets solve:\\\n",
    "\"What is the probability that the result is <b>exactly</b>...?\"\\\n",
    "\"What is the probability that the result is <b>less than</b>...?\"\\\n",
    "\"What is the probability that the result is <b>more than</b>...?\"\\\n",
    "“What is the probability that the result is <b>between min value and max value</b>?”\n",
    "\n",
    "## SCIPY notation examples\n",
    "\n",
    "1. calculate the probability of having <b>EXACTLY</b> one result (PMF) example -> uniform.pdf(1, loc=0, scale=6)\n",
    "2. calculate the probability of having <b>LESS than</b> one result (CDF) example -> uniform.cdf(5, loc=1, scale=5) # !! warning!!\n",
    "3. calculate the probability of having <b>MORE than</b> one result example -> uniform.sf(5, loc=1, scale=5)\n",
    "4. calculate the probability result is <b>BETWEEN some x and y values</b> -> uniform.cdf(x=8, loc=0, scale=20) - uniform.cdf(x=0, loc=0, scale=20)\n",
    "\n",
    "Arguments :\n",
    "One argument is the lower bound, second argument is the range of the distribution\n",
    "!!\n",
    "Using the parameters loc and scale, one obtains the uniform distribution on [loc, loc + scale].\n",
    "https://stackoverflow.com/questions/73094063/calculating-cdf-with-scipy-for-an-uniform-distribution\n",
    "!!\n",
    "\n",
    "\n",
    "## Link for Maths formulas\n",
    "https://en.wikipedia.org/wiki/Discrete_uniform_distribution\n",
    "\n",
    "## Scipy Doc \n",
    "https://docs.scipy.org/doc/scipy/reference/generated/scipy.stats.uniform.html\n",
    "\n",
    "\n",
    "---------------------------------------------------------------------------------------------------------------------------"
   ]
  },
  {
   "cell_type": "markdown",
   "metadata": {},
   "source": [
    "# Main example\n",
    "\n",
    "<div style = \"text-align: center\">\n",
    "<IMG SRC = \"img/dice.jpg\" style=\"width :200px;height:200px\">\n",
    "</div>\n",
    "\n",
    "Let's take a 6-sided dice. Chances are equal to get 1, 2 , 3 ,4 , 5 or 6."
   ]
  },
  {
   "cell_type": "markdown",
   "metadata": {},
   "source": [
    "## Plotting the 6 sided dice probability distribution"
   ]
  },
  {
   "cell_type": "code",
   "execution_count": 582,
   "metadata": {},
   "outputs": [
    {
     "data": {
      "image/png": "[encoded data removed]",
      "text/plain": [
       "<Figure size 800x500 with 1 Axes>"
      ]
     },
     "metadata": {},
     "output_type": "display_data"
    }
   ],
   "source": [
    "# Import libs\n",
    "import numpy as np\n",
    "import matplotlib.pyplot as plt\n",
    "import numpy as np\n",
    "import matplotlib.pyplot as plt\n",
    "from scipy.stats import binom, poisson\n",
    " \n",
    "# PMF of the fair dice\n",
    "num_dice_faces = 6\n",
    "dice_probability = np.ones(num_dice_faces) / num_dice_faces\n",
    "dice_values = np.arange(1, num_dice_faces + 1)\n",
    " \n",
    "plt.figure(figsize=(8, 5))\n",
    "plt.bar(dice_values, dice_probability * 100, color='skyblue')\n",
    "plt.title('PMF of the fair dice')\n",
    "plt.xlabel('Dice value')\n",
    "plt.ylabel('Probability')\n",
    "plt.xticks(dice_values)\n",
    "plt.grid(True)\n",
    "plt.show()"
   ]
  },
  {
   "cell_type": "markdown",
   "metadata": {},
   "source": [
    "## Uniform distribution <b>EXACT</b> probability\n",
    "\n",
    "I roll a 6-sided dice, what is the probability of getting <b>an exact</b> 2 value ?\n",
    "\n",
    "<span style=\"color:red\">P(X=2)</span>"
   ]
  },
  {
   "cell_type": "code",
   "execution_count": 583,
   "metadata": {},
   "outputs": [],
   "source": [
    "# Import lib\n",
    "from scipy.stats import uniform"
   ]
  },
  {
   "cell_type": "code",
   "execution_count": 584,
   "metadata": {},
   "outputs": [
    {
     "name": "stdout",
     "output_type": "stream",
     "text": [
      "My probability of exactly getting a 2 value using python is :  16.666666666666664 %\n",
      "My probability of exactly getting  a 2 value using scipy is :  16.666666666666664 %\n"
     ]
    }
   ],
   "source": [
    "# Solve using Python\n",
    "n = 6 # Number of faces\n",
    "PMF = 1 / n # Probability mass function\n",
    "print(\"My probability of exactly getting a 2 value using python is : \", PMF * 100, \"%\")\n",
    "\n",
    "# Solve using Scipy\n",
    "\n",
    "# 1. Define the Uniform law and add parameter 1 in one go\n",
    "result = uniform.pdf(1, loc=0, scale=6)\n",
    "\n",
    "# 2. Print result\n",
    "print(\"My probability of exactly getting  a 2 value using scipy is : \", result * 100, \"%\")\n",
    "\n"
   ]
  },
  {
   "cell_type": "code",
   "execution_count": 585,
   "metadata": {},
   "outputs": [
    {
     "name": "stdout",
     "output_type": "stream",
     "text": [
      "My probability of getting  a value less than 4 using scipy is :  60.0 %\n"
     ]
    }
   ],
   "source": [
    "# Solve using Scipy\n",
    "\n",
    "# 1. Define the Uniform law\n",
    "dist = uniform(loc=1, scale=5)  # So loc=1, scale=5 gives the uniform distribution on [1, 1+5] = [1, 6].\n",
    "\n",
    "\n",
    "# 2. Compute the LESS THAN probability\n",
    "result = dist.cdf(4)\n",
    "\n",
    "# 2. Print result\n",
    "print(\"My probability of getting  a value less than 4 using scipy is : \", result * 100, \"%\")"
   ]
  },
  {
   "cell_type": "markdown",
   "metadata": {},
   "source": [
    "# Uniform distribution <b>LESS THAN</b> probability\n",
    "\n",
    "Suppose X is a continuous random variable that is uniformly distributed between 3 and 8. <br>\n",
    "Which one of the following functions can be used to find <span style=\"color:red\">P(X<5.8)</span>?"
   ]
  },
  {
   "cell_type": "code",
   "execution_count": 586,
   "metadata": {},
   "outputs": [
    {
     "name": "stdout",
     "output_type": "stream",
     "text": [
      "My probability of getting a value less than 5.8 using scipy is :  55.99999999999999 %\n"
     ]
    }
   ],
   "source": [
    "# Solve using Scipy\n",
    "\n",
    "# 1. Define the Uniform law and add parameter\n",
    "result = uniform.cdf(5.8, loc=3, scale=5) # So loc=3, scale=5 gives the uniform distribution on [3, 3+5] = [3, 8].\n",
    "\n",
    "# 2. Print result\n",
    "print(\"My probability of getting a value less than 5.8 using scipy is : \", result * 100, \"%\")"
   ]
  },
  {
   "cell_type": "markdown",
   "metadata": {},
   "source": [
    "# Uniform distribution <b>MORE THAN</b> probability\n",
    "\n",
    "I roll a 6-sided dice, what is the probability of getting a value more than 4 (-CDF aka the SF function)?\n",
    "\n",
    "<span style=\"color:red\">P(X>4)</span>"
   ]
  },
  {
   "cell_type": "code",
   "execution_count": 587,
   "metadata": {},
   "outputs": [
    {
     "name": "stdout",
     "output_type": "stream",
     "text": [
      "My probability of getting  a value more than 4 using scipy is :  40.0 %\n",
      "My probability using another way is :  40.0 %\n"
     ]
    }
   ],
   "source": [
    "# Solve using Scipy\n",
    "\n",
    "# 1. COmpute all in one go\n",
    "result = uniform.sf(4, loc=1, scale=5) # So loc=1, scale=5 gives the uniform distribution on [1, 1+5] = [1, 6].\n",
    "\n",
    "# 2. Print result\n",
    "print(\"My probability of getting  a value more than 4 using scipy is : \", result * 100, \"%\")\n",
    "\n",
    "\n",
    "# --------- Another way to solve it ---------------\n",
    "\n",
    "# 1. Set the uniform law\n",
    "dist = uniform(loc=1, scale=5) # loc means 'starts at', scale means ' 1+5 aka loc + scale (warning)\n",
    "\n",
    "# 2. Compute the MORE THAN probablity\n",
    "result = dist.cdf(6) - dist.cdf(4)\n",
    "\n",
    "# 3. Print result\n",
    "print(\"My probability using another way is : \", result * 100, \"%\")"
   ]
  },
  {
   "cell_type": "markdown",
   "metadata": {},
   "source": [
    "# Uniform distribution <b>EXACT</b> probability (Cumulated)\n",
    "\n",
    "I roll a 6-sided dice, what is the probability of getting value 3 or 4 or 5 ?\n",
    "\n",
    "( Warning : Discrete values, not Continuous values !)\n",
    "\n",
    "<span style=\"color:red\">P(X=3 | X=5 |  X= 6)</span>\n",
    "\n",
    "Hint : \n",
    "S:{3,4,5} /S:{1,2,6}\n",
    "So P = 50 %\n",
    "\n",
    "Pr(l<X<u)=Pr(X<u)−Pr(X<l)\n",
    "\n"
   ]
  },
  {
   "cell_type": "code",
   "execution_count": 588,
   "metadata": {},
   "outputs": [
    {
     "name": "stdout",
     "output_type": "stream",
     "text": [
      "My probability to get a 3, 4 or a 5 is :  50.0 %\n"
     ]
    }
   ],
   "source": [
    "# 1. Define 3 Uniform laws and the parameter 1\n",
    "PROB_3 = uniform.pdf(1, loc=0, scale=6)\n",
    "PROB_4 = uniform.pdf(1, loc=0, scale=6)\n",
    "PROB_5 = uniform.pdf(1, loc=0, scale=6)\n",
    "\n",
    "# 2. Compute the cumulation\n",
    "result = PROB_3 + PROB_4 + PROB_5\n",
    "\n",
    "# 3. Print result\n",
    "print(\"My probability to get a 3, 4 or a 5 is : \", result * 100, \"%\")"
   ]
  },
  {
   "cell_type": "markdown",
   "metadata": {},
   "source": [
    "##  Uniform distribution <b>MORE THAN</b> Probability\n",
    "\n",
    "A company finds out that the amount of time a repairman needs to fix a furnace is uniformly distributed between 1.5 and 4 hours. What is the probability that a randomly selected furnace repair requires more than 2 hours?\n",
    "\n",
    "<span style=\"color:red\">P(X>2)</span>\n",
    "\n",
    "https://stats.stackexchange.com/questions/554364/scipy-continuous-uniform-distributions-cdf\n",
    "\n",
    "Solve by hand : \n",
    "- PDF function, f(x)\n",
    "1/(4-1.5) = 0.4 \n",
    "\n",
    "- probability of occurrence between 2 and 4: \n",
    "(4-2) = 2\n",
    "\n",
    "- answer\n",
    "0.4 * 2 = 0.8\n",
    "\n",
    "Solve using Scipy  :\n"
   ]
  },
  {
   "cell_type": "code",
   "execution_count": 589,
   "metadata": {},
   "outputs": [
    {
     "name": "stdout",
     "output_type": "stream",
     "text": [
      "Pdf function  0.4\n",
      "My probability is :  80.0 %\n",
      "My probability using the sf function is :  80.0 %\n"
     ]
    }
   ],
   "source": [
    "# 1. Define the Uniform law\n",
    "dist = uniform(loc=1.5, scale=2.5) # loc means 'starts at', scale means ' 1.5+2.5 aka loc + scale (warning)\n",
    "\n",
    "# 2. Display the PDF function\n",
    "print(\"Pdf function \", dist.pdf(2))\n",
    "\n",
    "# 3. Compute the MORE THAN probability\n",
    "result = dist.cdf(4) - dist.cdf(2)\n",
    "\n",
    "# 4. Print result\n",
    "print(\"My probability is : \", result * 100, \"%\")\n",
    "\n",
    "\n",
    "\n",
    "# Second solving option : The sf function is faster to write : \n",
    "result = uniform.sf(2, loc=1.5, scale=2.5)\n",
    "print(\"My probability using the sf function is : \", result * 100, \"%\")"
   ]
  },
  {
   "cell_type": "markdown",
   "metadata": {},
   "source": [
    "## Uniform distribution <b>BETWEEN</b> probability\n",
    "\n",
    "Consider a random variable X following a continuous uniform law between 1 and 5. <br>\n",
    "Can you determine the probability that X is between 2.5 and 4.5 ?\n",
    "\n",
    "<span style=\"color:red\">P(2.5<X<4.5) </span>\n",
    "\n",
    "Link : https://www.studysmarter.fr/resumes/mathematiques/statistiques-et-probabilites/loi-uniforme/"
   ]
  },
  {
   "cell_type": "code",
   "execution_count": 590,
   "metadata": {},
   "outputs": [
    {
     "name": "stdout",
     "output_type": "stream",
     "text": [
      "My probability  is :  50.0 %\n"
     ]
    }
   ],
   "source": [
    "# 1. Define the Uniform law\n",
    "dist = uniform(loc=1, scale=4) # loc means 'starts at', scale means ' 1+4 aka loc + scale (warning)\n",
    "\n",
    "# 2. Compute the BETWEEN probablity\n",
    "result =  dist.cdf(x=4.5) - dist.cdf(x=2.5)\n",
    "\n",
    "# 3. Display result\n",
    "print(\"My probability  is : \", result * 100, \"%\")"
   ]
  },
  {
   "cell_type": "markdown",
   "metadata": {},
   "source": [
    "# <b>2. Normal distribution</b>\n",
    "\n",
    "## Description\n",
    "\n",
    "The normal distribution is a bell-shaped probability distribution.\n",
    "\n",
    "<div style = \"text-align: center\">\n",
    "<IMG SRC = \"img/normal.png\">\n",
    "</div>\n",
    "\n",
    "Source: https://www.askpython.com/python/normal-distribution\n",
    "\n",
    "\n",
    "## What does it solve ?\n",
    "\n",
    "We can obtain the following probabilities on a sample:\n",
    "\n",
    "1. What is the probability that sample is <b> EXACTLY </b>\n",
    "2. What is the probability that sample bristles<b> MORE THAN</b>\n",
    "3. What is the probability that sample bristles <b>LESS THAN</b>\n",
    "4. What is the probability that sample silks <b>BETWEEN A MIN AND A MAX VALUE</b>\n",
    "\n",
    "## Scipy notation examples\n",
    "\n",
    "1. Exact = norm.pdf(120,100,15)\n",
    "2. More than = norm.sf(120,100,15)\n",
    "3. Less than = norm.cdf(120,100,15)\n",
    "4. Between = dist.cdf(x=100) - dist.cdf(x=80)\n"
   ]
  },
  {
   "cell_type": "markdown",
   "metadata": {},
   "source": [
    "## Main example\n",
    "\n",
    "<div style = \"text-align: center\">\n",
    "<IMG SRC = \"img/iqs.png\" style=\"width :200px;height:200px\">\n",
    "</div>\n",
    "\n",
    "IQ tests are designed so that, for a given population, the average IQ is 100 and the standard deviation is 15.\n",
    "The results obtained in the IQ are distributed according to a normal law"
   ]
  },
  {
   "cell_type": "code",
   "execution_count": 591,
   "metadata": {},
   "outputs": [],
   "source": [
    "# Import lib\n",
    "from scipy.stats import norm"
   ]
  },
  {
   "cell_type": "markdown",
   "metadata": {},
   "source": [
    "## Plotting the normal distribution"
   ]
  },
  {
   "cell_type": "code",
   "execution_count": 592,
   "metadata": {},
   "outputs": [
    {
     "data": {
      "image/png": "[encoded data removed]",
      "text/plain": [
       "<Figure size 640x480 with 1 Axes>"
      ]
     },
     "metadata": {},
     "output_type": "display_data"
    }
   ],
   "source": [
    "# Import libs\n",
    "import numpy as np\n",
    "import matplotlib.pyplot as plt\n",
    "from scipy.stats import norm\n",
    "\n",
    "# Plot between 1 and 200 with 1 steps.\n",
    "x_axis = np.arange(1, 200, 1)\n",
    "# Mean = 100, SD = 15.\n",
    "plt.plot(x_axis, norm.pdf(x_axis,100,15))\n",
    "plt.show()"
   ]
  },
  {
   "cell_type": "markdown",
   "metadata": {},
   "source": [
    "## Normal distribution <b>Exact</b>  probability\n",
    "\n",
    "What is the probability that a person's IQ is exactly 120?\n",
    "<span style=\"color:red\">P(X=120)</span>"
   ]
  },
  {
   "cell_type": "code",
   "execution_count": 593,
   "metadata": {},
   "outputs": [
    {
     "name": "stdout",
     "output_type": "stream",
     "text": [
      "My probability  is :  1.0934004978399576 %\n"
     ]
    }
   ],
   "source": [
    "# 1. Define normal law\n",
    "dist = norm(100,15)\n",
    "\n",
    "# 2. Compute the EXACT probability\n",
    "result = dist.pdf(120)\n",
    "\n",
    "# 3. Display result\n",
    "print(\"My probability  is : \", result * 100, \"%\")\n"
   ]
  },
  {
   "cell_type": "markdown",
   "metadata": {},
   "source": [
    "## Normal distribution  <b>More than</b> probability\n",
    "\n",
    "What is the probability that a person's IQ is more than 80 ?\n",
    "\n",
    "WARNING : UNCONFIRMED RESULT STILL UNDER REVIEW ! \n",
    "\n",
    "<span style=\"color:red\">P(X>80)</span>\n"
   ]
  },
  {
   "cell_type": "code",
   "execution_count": 594,
   "metadata": {},
   "outputs": [
    {
     "name": "stdout",
     "output_type": "stream",
     "text": [
      "My probability  is :  90.87887802741321 %\n"
     ]
    }
   ],
   "source": [
    "# 1. Define normal law\n",
    "dist = norm(100,15)\n",
    "\n",
    "# 2. Compute the MORE THAN probability\n",
    "result = dist.sf(80)\n",
    "\n",
    "# 3. Display result\n",
    "print(\"My probability  is : \", result * 100, \"%\")"
   ]
  },
  {
   "cell_type": "markdown",
   "metadata": {},
   "source": [
    "## Normal distribution <b>Less than</b> probability\n",
    "\n",
    "What is the probability that a person's IQ is less than 100 ?\n",
    "<span style=\"color:red\">P(X<100)</span>\n"
   ]
  },
  {
   "cell_type": "code",
   "execution_count": 595,
   "metadata": {},
   "outputs": [
    {
     "name": "stdout",
     "output_type": "stream",
     "text": [
      "My probability  is :  50.0 %\n"
     ]
    }
   ],
   "source": [
    "# 1. Define normal law\n",
    "dist = norm(100,15)\n",
    "\n",
    "# 2. Compute the LESS THAN probability\n",
    "result = dist.cdf(100)\n",
    "\n",
    "# 3. Display result\n",
    "print(\"My probability  is : \", result * 100, \"%\")"
   ]
  },
  {
   "cell_type": "markdown",
   "metadata": {},
   "source": [
    "## Normal distribution <b>Between</b> probability\n",
    "\n",
    "What is the probability that a person's IQ is between 80 and 100 ?\n",
    "<span style=\"color:red\">P(80<X<100)</span>"
   ]
  },
  {
   "cell_type": "code",
   "execution_count": 596,
   "metadata": {},
   "outputs": [
    {
     "name": "stdout",
     "output_type": "stream",
     "text": [
      "My probability  is :  40.878878027413215 %\n"
     ]
    }
   ],
   "source": [
    "# 1. Define normal law\n",
    "dist = norm(100,15)\n",
    "\n",
    "# 2. Compute the BETWEEN probability\n",
    "result =  dist.cdf(x=100) - dist.cdf(x=80)\n",
    "\n",
    "# 3. Display result\n",
    "print(\"My probability  is : \", result * 100, \"%\")"
   ]
  },
  {
   "cell_type": "markdown",
   "metadata": {},
   "source": [
    "# <b> 3. Exponential distribution</b>"
   ]
  },
  {
   "cell_type": "markdown",
   "metadata": {},
   "source": [
    "## Description\n",
    "\n",
    "The exponential distribution is one of the widely used continuous distributions. It is often used to model the time elapsed between events.\n",
    "\n",
    "<div style = \"text-align: center\">\n",
    "<IMG SRC = \"img/exponential.png\">\n",
    "</div>\n",
    "\n",
    "\n",
    "## Real cases scenarios\n",
    "\n",
    "    The time until a radioactive particle decays, or the time between clicks of a Geiger counter\n",
    "    The time between receiving one telephone call and the next\n",
    "    The time until default (on payment to company debt holders) in reduced-form credit risk modeling\n",
    "    In queuing theory, the service times of agents in a system (e.g. how long it takes for a bank teller etc. to serve a customer) are often modeled as exponentially distributed variables\n",
    "\n",
    "## What does it solves ?\n",
    "\n",
    "We can obtain the following probabilities on a sample:\n",
    "\n",
    "1. What is the probability that sample is <b> EXACTLY </b>\n",
    "2. What is the probability that sample bristles<b> MORE THAN</b>\n",
    "3. What is the probability that sample bristles <b>LESS THAN</b>\n",
    "4. What is the probability that sample silks <b>BETWEEN A MIN AND A MAX VALUE</b>\n",
    "5. What is the probability that sample means is \n",
    "\n",
    "## Main example\n",
    "\n",
    "<div style = \"text-align: center\">\n",
    "<IMG SRC = \"img/elitem.jpg\" style=\"width :200px;height:200px\">\n",
    "</div>\n",
    "\n",
    "The lifespan, in hours, of an electronic component item is a random variable X\n",
    "which follows an exponential law with parameter Lambda = 0.0035 (λ=0.0035).\n",
    "\n",
    "\n",
    "Source (French) : https://www.youtube.com/watch?v=ZS_sW8yq-94&list=LLbfwcLDelivztPdafMQ42WQ&index=6\n",
    "\n",
    "\n",
    "## Plotting the exponential distribution"
   ]
  },
  {
   "cell_type": "code",
   "execution_count": 597,
   "metadata": {},
   "outputs": [
    {
     "data": {
      "image/png": "[encoded data removed]",
      "text/plain": [
       "<Figure size 640x480 with 1 Axes>"
      ]
     },
     "metadata": {},
     "output_type": "display_data"
    }
   ],
   "source": [
    "lam = 0.0035\n",
    "x = np.arange(0, 1000, 0.1)\n",
    "y = lam * np.exp(-lam * x) # could also use stats.expon.pdf\n",
    "plt.plot(x,y)\n",
    "plt.title('Exponential: $\\lambda$ =%.4f' % lam)\n",
    "plt.xlabel('x')\n",
    "plt.ylabel('Probability density')\n",
    "plt.show()"
   ]
  },
  {
   "cell_type": "markdown",
   "metadata": {},
   "source": [
    "## Exponential Distribution <b>AVERAGE</b> item lifespan"
   ]
  },
  {
   "cell_type": "code",
   "execution_count": 598,
   "metadata": {},
   "outputs": [
    {
     "name": "stdout",
     "output_type": "stream",
     "text": [
      "My probability is :  285.7142857142857 hours\n"
     ]
    }
   ],
   "source": [
    "# Compute average lifespan\n",
    "lifespan = 1 / 0.0035\n",
    "\n",
    "# Print result\n",
    "print(\"My probability is : \", lifespan , \"hours\")"
   ]
  },
  {
   "cell_type": "markdown",
   "metadata": {},
   "source": [
    "## Exponential Distribution Lifespan <b>LESS THAN</b> 100 hours probability ?\n",
    "\n",
    "<span style=\"color:red\">P(X<100)</span>\n",
    "\n",
    "Formula : P(X < 100) = 1 - e ** -0.0035 * 100 = 0.3 = 30%"
   ]
  },
  {
   "cell_type": "code",
   "execution_count": 599,
   "metadata": {},
   "outputs": [
    {
     "name": "stdout",
     "output_type": "stream",
     "text": [
      "My probability is :  29.53119102812866 %\n"
     ]
    }
   ],
   "source": [
    "# Import lib\n",
    "from scipy.stats import expon\n",
    "\n",
    "# 1. Define the Exponential law\n",
    "dist = expon(scale=1/0.0035) \n",
    "\n",
    "# 2. Compute the LESS THAN probability\n",
    "result = dist.cdf(100) #  which is also P(X < 100) \n",
    "\n",
    "# 3. Print result\n",
    "print(\"My probability is : \", result * 100, \"%\")"
   ]
  },
  {
   "cell_type": "markdown",
   "metadata": {},
   "source": [
    "## Exponential Distribution Lifespan <b>MORE THAN</b> 300 hours probability ?\n",
    "\n",
    "WARNING : UNCONFIRMED RESULT STILL UNDER REVIEW ! \n",
    "\n",
    "<span style=\"color:red\">P(X>300)</span>"
   ]
  },
  {
   "cell_type": "code",
   "execution_count": 600,
   "metadata": {},
   "outputs": [
    {
     "name": "stdout",
     "output_type": "stream",
     "text": [
      "My probability is :  34.99377491111553 %\n"
     ]
    }
   ],
   "source": [
    "# Import lib\n",
    "from scipy.stats import expon\n",
    "\n",
    "# 1. Define the Exponential law\n",
    "dist = expon(scale=1/0.0035) \n",
    "\n",
    "# 2. Compute the MORE THAN probability\n",
    "result = dist.sf(300) #  which is also P(X > 300) \n",
    "\n",
    "# 3. Print result\n",
    "print(\"My probability is : \", result * 100, \"%\")"
   ]
  },
  {
   "cell_type": "markdown",
   "metadata": {},
   "source": [
    "## Computing Lambda λ from real life observations .\n",
    "\n",
    "\n",
    "## Main example : Time between volcano eruptions\n",
    "\n",
    "<div style = \"text-align: center\">\n",
    "<IMG SRC = \"img/volcano.jpg\" style=\"width :200px;height:200px\">\n",
    "</div>\n",
    "\n",
    "The number of minutes between eruptions for a certain geyser can be modeled by the exponential distribution.\n",
    "\n",
    "For example, suppose the average number of minutes between eruptions for a certain geyser is 40 minutes. If a geyser erupts, what is the probability that we will have to wait less than 50 minutes for the next eruption?\n",
    "\n"
   ]
  },
  {
   "cell_type": "markdown",
   "metadata": {},
   "source": [
    "## Lambda value computation\n",
    "To solve this problem, we first need to calculate the rate parameter:\n",
    "\n",
    "λ = 1/μ<br>\n",
    "λ = 1/40<br>\n",
    "λ = 0.025<br>\n",
    "\n",
    "We can add λ = 0.025 and x = 50 to the CDF formula"
   ]
  },
  {
   "cell_type": "markdown",
   "metadata": {},
   "source": [
    "## Solving the main <b>LESS THAN</b> problem\n",
    "\n",
    "If a geyser erupts, what is the probability that we will have to wait less than 50 minutes for the next eruption?\n",
    "\n",
    "\n",
    "<span style=\"color:red\">P(X ≤ 50) ?</span>"
   ]
  },
  {
   "cell_type": "code",
   "execution_count": 601,
   "metadata": {},
   "outputs": [
    {
     "name": "stdout",
     "output_type": "stream",
     "text": [
      "The probability that we will have to wait less than 50 minutes for the next eruption is  71.34952031398099 %\n"
     ]
    }
   ],
   "source": [
    "# Import the exponential distrib\n",
    "from scipy.stats import expon\n",
    "\n",
    "# calculate the probability that x is less than 50 when the average rate is 40\n",
    "resultat = expon.cdf(x=50, scale=40)\n",
    "\n",
    "# Please notice that it can also be written : \n",
    "resultat = expon.cdf(x=50, scale=1/0.025)\n",
    "\n",
    "print(\"The probability that we will have to wait less than 50 minutes for the next eruption is \", resultat * 100, \"%\")"
   ]
  },
  {
   "cell_type": "markdown",
   "metadata": {},
   "source": [
    "## 5. Binomial distribution\n",
    "\n",
    "\n"
   ]
  },
  {
   "cell_type": "markdown",
   "metadata": {},
   "source": [
    "## Description : \n",
    "\n",
    "The binomial distribution is a probability distribution used to model the probability of a certain number of \"successes\" occurring over a certain number of trials.\n",
    "\n",
    "## Parameters :\n",
    "\n",
    "n = number of trials \\\n",
    "p = probability of success \n",
    "\n",
    "## link :\n",
    "https://scipy.github.io/devdocs/reference/generated/scipy.stats.binom.html\n",
    "\n",
    "\n",
    "## What you can find: \n",
    "\n",
    "\"What is the probability that the result is exactly...?\"\\\n",
    "\"What is the probability that the result is less than...?\"\\\n",
    "\"What is the probability that the result is more than...?\"\\\n",
    "\"What is the probability that the result is between min value and max value?\""
   ]
  },
  {
   "cell_type": "markdown",
   "metadata": {},
   "source": [
    "## Example to be turned to an industry example\n",
    "\n",
    "A 6-sided die is rolled 7 times in a row.<br>\n",
    "Let X be the random variable equal to the number of times the die displays a number\n",
    "greater than or equal to 3.<br>\n",
    "\n",
    "a) What is the law followed by X?<br>\n",
    "b) Calculate the probability P(X=5).<br>\n",
    "c) Calculate the probability P(X ≤ 5).<br>\n",
    "d) Calculate the probability P(X ≥ 3).<br>\n",
    "\n",
    "Source : https://www.maths-et-tiques.fr/telech/BinomialeGM.pdf\n",
    "\n",
    "Answer :\n",
    "a) We repeat an experiment with two outcomes 7 times: {3; 4; 5; 6} and {1; 2}.\n",
    "Success is to obtain {3; 4; 5; 6}.\n",
    "The probability of success on a draw is equal to 4 / 6 = 2 / 3.\n",
    "X therefore follows a binomial law of parameters: n = 7 and p = 2/3"
   ]
  },
  {
   "cell_type": "markdown",
   "metadata": {},
   "source": [
    "Results are the same than the Maths course, so we have a good base to continue with some Industry examples now."
   ]
  },
  {
   "cell_type": "code",
   "execution_count": 602,
   "metadata": {},
   "outputs": [
    {
     "name": "stdout",
     "output_type": "stream",
     "text": [
      "EXACT probability P(X=5)   30.72702331961592 %\n",
      "LESS THAN probability P(X<=5)  73.66255144032922 %\n",
      "MORE THAN probability P(X>=3)   95.47325102880659 %\n",
      "MORE THAN probability P(X>=3)   95.47325102880659 %\n"
     ]
    }
   ],
   "source": [
    "resultat = binom.pmf(5,n=7,p=2/3)\n",
    "print(\"EXACT probability P(X=5)  \",resultat * 100 ,\"%\")\n",
    "\n",
    "resultat = binom.cdf(5,n=7,p=2/3)\n",
    "print(\"LESS THAN probability P(X<=5) \",resultat * 100 ,\"%\")\n",
    "\n",
    "resultat = 1 - binom.cdf(2,n=7,p=2/3) # P(X ≥ 3) = 1 – P(X ≤ 2)\n",
    "print(\"MORE THAN probability P(X>=3)  \",resultat * 100 ,\"%\")\n",
    "# OR using the survival function\n",
    "resultat = binom.sf(2,n=7,p=2/3) \n",
    "print(\"MORE THAN probability P(X>=3)  \",resultat * 100 ,\"%\")"
   ]
  },
  {
   "cell_type": "markdown",
   "metadata": {},
   "source": [
    "## Turned to industry example\n",
    "\n",
    "<div style = \"text-align: center\">\n",
    "<IMG SRC = \"img/binom.jpg\" style=\"width :200px;height:200px\">\n",
    "</div>\n",
    "\n",
    "We choose <b>10 times</b> in a row from <b>100 objects</b> of which <b>5%</b> are defective.\n",
    "\n",
    "We repeat an experiment with 2 outcomes 10 times <br>\n",
    "- outcome 1 : Object is OK {1;2;3;...;95}<br>\n",
    "- outcome 2 : Object is KO {96;97;98;99;100}<br>\n",
    "\n",
    "The 'success' is considered to get one of the defectives items {96;97;98;99;100}<br>\n",
    "The probability of getting a defective item is 5/100 = 5% = 0.05<br>\n",
    "\n",
    "X therefore follows a binomial law with parameters n = 10 and p = 0.05<br>\n",
    "\n",
    "a) Plot the distribution and simulate the distribution\n",
    "b) Calculate the P(X=1) probability .<br>\n",
    "c) Calculate the P(X=5) probability.<br>\n",
    "d) Calculate the P(X ≤ 3) probability .<br>\n",
    "e) Calculate the P(X ≥ 2) probability .<br>\n",
    "f) Calculate the P(2 ≤ X ≤ 3) probability <br>"
   ]
  },
  {
   "cell_type": "markdown",
   "metadata": {},
   "source": [
    "## Plotting this binomial distrib"
   ]
  },
  {
   "cell_type": "code",
   "execution_count": 603,
   "metadata": {},
   "outputs": [
    {
     "data": {
      "image/png": "[encoded data removed]",
      "text/plain": [
       "<Figure size 640x480 with 1 Axes>"
      ]
     },
     "metadata": {},
     "output_type": "display_data"
    }
   ],
   "source": [
    "\n",
    "from scipy.stats import binom \n",
    "import matplotlib.pyplot as plt \n",
    "# setting the values \n",
    "# of n and p \n",
    "n = 10\n",
    "p = 0.05\n",
    "# defining list of r values \n",
    "r_values = list(range(n + 1)) \n",
    "# list of pmf values \n",
    "dist = [binom.pmf(r, n, p) for r in r_values ] \n",
    "# plotting the graph  \n",
    "plt.bar(r_values, dist) \n",
    "plt.show()"
   ]
  },
  {
   "cell_type": "markdown",
   "metadata": {},
   "source": [
    "## Simulating this binomial distrib"
   ]
  },
  {
   "cell_type": "code",
   "execution_count": 604,
   "metadata": {},
   "outputs": [
    {
     "name": "stderr",
     "output_type": "stream",
     "text": [
      "C:\\Users\\gloup\\AppData\\Local\\Temp\\ipykernel_8068\\550050764.py:5: UserWarning: \n",
      "\n",
      "`distplot` is a deprecated function and will be removed in seaborn v0.14.0.\n",
      "\n",
      "Please adapt your code to use either `displot` (a figure-level function with\n",
      "similar flexibility) or `histplot` (an axes-level function for histograms).\n",
      "\n",
      "For a guide to updating your code to use the new functions, please see\n",
      "https://gist.github.com/mwaskom/de44147ed2974457ad6372750bbe5751\n",
      "\n",
      "  sns.distplot(random.binomial(n=10, p=0.05, size=100), hist=True, kde=False)\n"
     ]
    },
    {
     "data": {
      "image/png": "[encoded data removed]",
      "text/plain": [
       "<Figure size 640x480 with 1 Axes>"
      ]
     },
     "metadata": {},
     "output_type": "display_data"
    }
   ],
   "source": [
    "from numpy import random\n",
    "import matplotlib.pyplot as plt\n",
    "import seaborn as sns\n",
    "\n",
    "sns.distplot(random.binomial(n=10, p=0.05, size=100), hist=True, kde=False)\n",
    "\n",
    "plt.show() "
   ]
  },
  {
   "cell_type": "markdown",
   "metadata": {},
   "source": [
    "## Calculate the probability P(X=1).\n",
    "\n",
    "Calculate the  probability to pick one defective item (between the 100 items during the \n",
    "10 \"picking sequences\")"
   ]
  },
  {
   "cell_type": "code",
   "execution_count": 605,
   "metadata": {},
   "outputs": [
    {
     "name": "stdout",
     "output_type": "stream",
     "text": [
      "EXACT probability P(X=1)   31.51247048623047 %\n"
     ]
    }
   ],
   "source": [
    "resultat = binom.pmf(1,n=10,p=0.05)\n",
    "print(\"EXACT probability P(X=1)  \",resultat * 100 ,\"%\")"
   ]
  },
  {
   "cell_type": "markdown",
   "metadata": {},
   "source": [
    "## Calculate the probability P(X=5).\n",
    "\n",
    "Calculate the  probability to <b>exactly</b> pick 5 times one defective item between the 100 items during the \n",
    "10 \"picking sequences\"\n",
    "( Control : https://homepage.divms.uiowa.edu/~mbognar/applets/bin.html)"
   ]
  },
  {
   "cell_type": "code",
   "execution_count": 606,
   "metadata": {},
   "outputs": [
    {
     "name": "stdout",
     "output_type": "stream",
     "text": [
      "EXACT probability P(X=5)   0.006093524882812494 %\n"
     ]
    }
   ],
   "source": [
    "resultat = binom.pmf(5,n=10,p=0.05)\n",
    "print(\"EXACT probability P(X=5)  \",resultat * 100 ,\"%\")"
   ]
  },
  {
   "cell_type": "markdown",
   "metadata": {},
   "source": [
    "## Calculate the probability P(X ≤ 3).\n",
    "\n",
    "Calculate the  probability to  pick less than 3 defective items between the 100 items during the \n",
    "10 \"picking sequences\"\n",
    "WARNING UNDER REVIEW\n"
   ]
  },
  {
   "cell_type": "code",
   "execution_count": 607,
   "metadata": {},
   "outputs": [
    {
     "name": "stdout",
     "output_type": "stream",
     "text": [
      "LESS THAN probability P(X<=3)  99.89715020621094 %\n"
     ]
    }
   ],
   "source": [
    "resultat = binom.cdf(3,n=10,p=0.05)\n",
    "print(\"LESS THAN probability P(X<=3) \",resultat * 100 ,\"%\")"
   ]
  },
  {
   "cell_type": "markdown",
   "metadata": {},
   "source": [
    "## Calculate the P(X ≥ 2) probability .\n",
    "\n",
    "Calculate the  probability to  pick more than 2 defective items between the 100 items during the \n",
    "10 \"picking sequences\" WARNING UNDER REVIEW"
   ]
  },
  {
   "cell_type": "code",
   "execution_count": 608,
   "metadata": {},
   "outputs": [
    {
     "name": "stdout",
     "output_type": "stream",
     "text": [
      "MORE THAN probability P(X>=3)   1.150355737929688 %\n"
     ]
    }
   ],
   "source": [
    "resultat = binom.sf(2,n=10,p=0.05) \n",
    "print(\"MORE THAN probability P(X>=3)  \",resultat * 100 ,\"%\")"
   ]
  },
  {
   "cell_type": "code",
   "execution_count": 609,
   "metadata": {},
   "outputs": [
    {
     "name": "stdout",
     "output_type": "stream",
     "text": [
      "My probability  is :  0.0 %\n"
     ]
    }
   ],
   "source": [
    "# 1. Compute the BETWEEN probability\n",
    "result =  binom.cdf(30,n,p) - binom.cdf(20,n,p)\n",
    "\n",
    "# 2. Display result\n",
    "print(\"My probability  is : \", result * 100, \"%\")"
   ]
  }
 ],
 "metadata": {
  "kernelspec": {
   "display_name": "Python 3",
   "language": "python",
   "name": "python3"
  },
  "language_info": {
   "codemirror_mode": {
    "name": "ipython",
    "version": 3
   },
   "file_extension": ".py",
   "mimetype": "text/x-python",
   "name": "python",
   "nbconvert_exporter": "python",
   "pygments_lexer": "ipython3",
   "version": "3.9.2"
  }
 },
 "nbformat": 4,
 "nbformat_minor": 2
}
