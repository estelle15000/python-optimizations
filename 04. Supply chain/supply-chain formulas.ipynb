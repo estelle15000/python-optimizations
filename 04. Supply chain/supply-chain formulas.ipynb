{
 "cells": [
  {
   "cell_type": "markdown",
   "metadata": {},
   "source": [
    "# Supply chain formulas"
   ]
  },
  {
   "cell_type": "markdown",
   "metadata": {},
   "source": [
    "## Summary\n",
    "\n",
    "- Introduction\n",
    "- 1. <b> Inventory turnover. </b>\n",
    "\n"
   ]
  },
  {
   "cell_type": "markdown",
   "metadata": {},
   "source": [
    "# Introduction\n",
    "\n",
    "What are supply chain metrics?\n",
    "Supply chain metrics are ratios, reports or other metrics that help a company understand the performance of its supply chain. Many companies review a variety of supply chain metrics to identify improvement opportunities or increase customer satisfaction. You can categorize these metrics into different sections, such as:\n",
    "\n",
    "    Inventory metrics\n",
    "    Order fulfillment metrics\n",
    "    Logistics metrics\n",
    "    Supplier metrics\n",
    "    Quality metrics"
   ]
  },
  {
   "cell_type": "markdown",
   "metadata": {},
   "source": [
    "## 1. Inventory turnover\n",
    "This metric can help you understand how fast your organization is selling its entire inventory. The inventory turnover ratio formula is equal to the cost of goods sold divided by total or average inventory to show how many times inventory is “turned” or sold during a period. The ratio can be used to determine if there are excessive inventory levels compared to sales."
   ]
  },
  {
   "cell_type": "code",
   "execution_count": null,
   "metadata": {},
   "outputs": [],
   "source": [
    "# Inventory turnover ratio = cost of goods sold in period / [(opening stock in period-closing stock in period) / 2]\n"
   ]
  },
  {
   "cell_type": "markdown",
   "metadata": {},
   "source": []
  },
  {
   "cell_type": "code",
   "execution_count": null,
   "metadata": {},
   "outputs": [],
   "source": []
  }
 ],
 "metadata": {
  "language_info": {
   "name": "python"
  }
 },
 "nbformat": 4,
 "nbformat_minor": 2
}
