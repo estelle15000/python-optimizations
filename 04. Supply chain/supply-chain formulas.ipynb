{
 "cells": [
  {
   "cell_type": "markdown",
   "metadata": {},
   "source": [
    "# Supply chain formulas"
   ]
  },
  {
   "cell_type": "markdown",
   "metadata": {},
   "source": [
    "## Summary\n",
    "\n",
    "- Introduction\n",
    "- 1. <b> Inventory turnover. </b>\n",
    "\n"
   ]
  },
  {
   "cell_type": "markdown",
   "metadata": {},
   "source": [
    "# Introduction\n",
    "\n",
    "What are supply chain metrics?\n",
    "Supply chain metrics are ratios, reports or other metrics that help a company understand the performance of its supply chain. Many companies review a variety of supply chain metrics to identify improvement opportunities or increase customer satisfaction. You can categorize these metrics into different sections, such as:\n",
    "\n",
    "    Inventory metrics\n",
    "    Order fulfillment metrics\n",
    "    Logistics metrics\n",
    "    Supplier metrics\n",
    "    Quality metrics"
   ]
  },
  {
   "cell_type": "markdown",
   "metadata": {},
   "source": [
    "## 1. Inventory turnover\n",
    "It measures the number of times a company's inventory is sold and replaced over a specific period, typically a year. A higher inventory is usually better, though there may be downsides to a high turnover. \n",
    "\n",
    "A relatively low inventory turnover ratio may be a sign of weak sales or excess inventory, while a higher ratio signals strong sales but may also indicate inadequate inventory stocking.\n",
    "\n",
    "Cost of goods sold (COGS) is also known as cost of sales. \n",
    "Secondly, average value of inventory is used to offset seasonality effects. It is calculated by adding the value of inventory at the end of a period to the value of inventory at the end of the prior period and dividing the sum by 2\n",
    "\n",
    "More : https://www.investopedia.com/terms/i/inventoryturnover.asp"
   ]
  },
  {
   "cell_type": "code",
   "execution_count": 6,
   "metadata": {},
   "outputs": [
    {
     "name": "stdout",
     "output_type": "stream",
     "text": [
      "Turnover ratio =  10.0  % \n"
     ]
    }
   ],
   "source": [
    "# Inventory turnover ratio = cost of goods sold in period / average_value_of_inventory\n",
    "\n",
    "cost_of_goods_sold = 1000 # Dollars\n",
    "average_value_of_inventory = 10000 # Dollars\n",
    "\n",
    "inventory_turnover_ratio = cost_of_goods_sold / average_value_of_inventory\n",
    "print(\"Turnover ratio = \" , inventory_turnover_ratio * 100, \" % \")\n",
    "\n",
    "# Inventory turnover measures how often a company replaces inventory relative to its cost of sales. \n",
    "# Generally, the higher the ratio, the better. \n"
   ]
  },
  {
   "cell_type": "markdown",
   "metadata": {},
   "source": []
  },
  {
   "cell_type": "code",
   "execution_count": null,
   "metadata": {},
   "outputs": [],
   "source": []
  }
 ],
 "metadata": {
  "kernelspec": {
   "display_name": "Python 3",
   "language": "python",
   "name": "python3"
  },
  "language_info": {
   "codemirror_mode": {
    "name": "ipython",
    "version": 3
   },
   "file_extension": ".py",
   "mimetype": "text/x-python",
   "name": "python",
   "nbconvert_exporter": "python",
   "pygments_lexer": "ipython3",
   "version": "3.9.2"
  }
 },
 "nbformat": 4,
 "nbformat_minor": 2
}
