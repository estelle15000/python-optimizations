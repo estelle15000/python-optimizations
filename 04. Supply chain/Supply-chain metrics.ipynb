{
 "cells": [
  {
   "cell_type": "markdown",
   "metadata": {},
   "source": [
    "# Supply chain metrics"
   ]
  },
  {
   "cell_type": "markdown",
   "metadata": {},
   "source": [
    "# <b>Introduction</b>\n",
    "\n",
    "<div style = \"text-align: center\">\n",
    "<IMG SRC = \"img/intro.jpg\">\n",
    "</div>\n",
    "\n",
    "What are supply chain metrics?\n",
    "Supply chain metrics are ratios, reports or other metrics that help a company understand the performance of its supply chain. Many companies review a variety of supply chain metrics to identify improvement opportunities or increase customer satisfaction. You can categorize these metrics into different sections, such as:\n",
    "\n",
    "    Inventory metrics\n",
    "    Order fulfillment metrics\n",
    "    Logistics metrics\n",
    "    Supplier metrics\n",
    "    Quality metrics\n",
    "\n",
    "  \n",
    "  Sources : \n",
    "  - https://www.conveyco.com/blog/supply-chain-formulas/\n",
    "  - https://www.indeed.com/career-advice/career-development/supply-chain-metrics\n",
    "\n",
    "\n",
    "  <b>Notebook and Python codes realized by Github Estelle Derrien</b>"
   ]
  },
  {
   "cell_type": "markdown",
   "metadata": {},
   "source": [
    "## Summary\n",
    "\n",
    "- Introduction\n",
    "\n",
    "\n",
    "- 1. <b> Inventory turnover. </b>\n",
    "    - Description\n",
    "    - Computation\n",
    "    - Example\n",
    "\n",
    "- 2. <b> Inventory Accuracy. </b>\n",
    "    - Description\n",
    "    - Computation\n",
    "\n",
    "- 3. <b> Storage utilisation rate. </b>\n",
    "    - Description\n",
    "    - Computation\n",
    "\n",
    "- 4. <b> Perfect order index. </b>\n",
    "    - Description\n",
    "    - Computation\n",
    "\n",
    "- 5. <b> Supply chain costs vs sales  </b>\n",
    "    - Description\n",
    "    - Computation\n",
    "\n",
    "\n"
   ]
  },
  {
   "cell_type": "markdown",
   "metadata": {},
   "source": [
    "## <b>1. Inventory turnover</b>\n",
    "\n",
    "\n",
    "## Description\n",
    "It measures the number of times a company's inventory is sold and replaced over a specific period, typically a year. A higher inventory is usually better, though there may be downsides to a high turnover. \n",
    "\n",
    "A relatively low inventory turnover ratio may be a sign of weak sales or excess inventory, while a higher ratio signals strong sales but may also indicate inadequate inventory stocking.\n",
    "\n",
    "Cost of goods sold (COGS) is also known as cost of sales. \n",
    "Secondly, average value of inventory is used to offset seasonality effects. It is calculated by adding the value of inventory at the end of a period to the value of inventory at the end of the prior period and dividing the sum by 2\n",
    "\n",
    "More : https://www.investopedia.com/terms/i/inventoryturnover.asp\n",
    "\n",
    "https://corporatefinanceinstitute.com/resources/accounting/inventory-turnover/\n",
    "\n",
    "https://en.wikipedia.org/wiki/Inventory_turnover\n",
    "\n",
    "High inventory turnover indicates that items are \"moving fast\" and that inventory levels and associated costs are limited.\n",
    "Conversely, low inventory turnover is often a cause for concern. The items then have significant stock coverage (which can reach several years) The money is tied up unnecessarily, the need for space in the warehouse is high (which harms its productivity) and it is possible that part of these Items are never actually ordered because they are out of date, out of fashion, etc.\n",
    "\n",
    "\n",
    "    Higher Inventory Turnover Ratio → The company likely experiences strong demand in the market for its products, as confirmed by the high turnover and the frequent need for inventory replenishment.\n",
    "\n",
    "    Lower Inventory Turnover Ratio → There might be poor demand in the market and excess inventory accumulating (i.e. overstocking). The company’s inventory, if left unsold, might eventually need to be written down to reflect the true (lower) value on the balance sheet.\n",
    "\n",
    "\n",
    "## Computation\n"
   ]
  },
  {
   "cell_type": "code",
   "execution_count": 6,
   "metadata": {},
   "outputs": [
    {
     "name": "stdout",
     "output_type": "stream",
     "text": [
      "Turnover =  10.0 times a year\n"
     ]
    }
   ],
   "source": [
    "############\n",
    "# DATA \n",
    "############\n",
    "cost_of_goods_sold = 10000 # Dollars\n",
    "average_value_of_inventory = 1000 # Dollars -> (Beggining inventory + Ending inventory / 2)\n",
    "\n",
    "############\n",
    "# FORMULA\n",
    "############\n",
    "inventory_turnover_ratio = cost_of_goods_sold / average_value_of_inventory # # Inventory turnover ratio = cost of goods sold in period / average_value_of_inventory\n",
    "\n",
    "############\n",
    "# DISPLAY\n",
    "############\n",
    "print(\"Turnover = \" , inventory_turnover_ratio, \"times a year\" )\n",
    "\n",
    "############\n",
    "# NOTES\n",
    "############\n",
    "# Inventory turnover measures how often a company replaces inventory relative to its cost of sales. \n",
    "# Generally, the higher the ratio, the better. \n",
    "\n"
   ]
  },
  {
   "cell_type": "markdown",
   "metadata": {},
   "source": [
    "## Example:\n",
    "Republican Manufacturing Co. has a cost of goods sold of $5M for the current year. The company’s cost of beginning inventory was $600,000 and the cost of ending inventory was $400,000. Given the inventory balances, the average cost of inventory during the year is calculated at $500,000. As a result, inventory turnover is rated at 10 times a year."
   ]
  },
  {
   "cell_type": "markdown",
   "metadata": {},
   "source": [
    "##  <b>2. Inventory Accuracy.</b>\n",
    "\n",
    "## Description\n",
    "\n",
    "Inventory accuracy is used to calculate the accuracy of your inventory. It works by taking a count of items in stock and comparing that number against what’s recorded in your database. Bench-marking and monitoring your inventory accuracy can help ensure that your bookkeeping and data management practices are in order."
   ]
  },
  {
   "cell_type": "markdown",
   "metadata": {},
   "source": [
    "## Computation"
   ]
  },
  {
   "cell_type": "code",
   "execution_count": 7,
   "metadata": {},
   "outputs": [
    {
     "name": "stdout",
     "output_type": "stream",
     "text": [
      "Inventory accuracy =  97.0873786407767 %\n"
     ]
    }
   ],
   "source": [
    "############\n",
    "# DATA \n",
    "############\n",
    "current_inventory = 10000 # units\n",
    "database_inventory = 10300  # units\n",
    "\n",
    "############\n",
    "# FORMULA : Formula: (# of items counted) / (# of items books count)\n",
    "############\n",
    "inventory_accuracy = current_inventory / database_inventory\n",
    "\n",
    "############\n",
    "# DISPLAY\n",
    "############\n",
    "print(\"Inventory accuracy = \" , inventory_accuracy * 100, \"%\" )\n",
    "\n",
    "############\n",
    "# NOTES\n",
    "############\n",
    "# The clother you are to 100%, the better it is."
   ]
  },
  {
   "cell_type": "markdown",
   "metadata": {},
   "source": [
    "## <b>3.  Storage utilisation rate. </b>\n",
    "\n",
    "## Introduction\n",
    "\n",
    "Storage utilization rate reflects how efficiently you are utilizing the amount of available space in your warehouse or distribution center\n",
    "\n",
    "To find your utilization, you need to calculate your inventory cube size. To do this, add up the volume of all of the products that you store in your warehouse, and divide that sum by the building's storage capacity. If you have 225,000 cubic feet of product in your 1,485,000 cubic foot warehouse, you have 15.15 percent utilization, which is relatively healthy.\n",
    "\n",
    "## Computation"
   ]
  },
  {
   "cell_type": "code",
   "execution_count": 8,
   "metadata": {},
   "outputs": [
    {
     "name": "stdout",
     "output_type": "stream",
     "text": [
      "Storage utilisation rate =  15.151515151515152 %\n"
     ]
    }
   ],
   "source": [
    "############\n",
    "# DATA \n",
    "############\n",
    "products_mass = 225000 # cubic feet\n",
    "warehouse_capacity = 1485000  # cubic feet\n",
    "\n",
    "############\n",
    "# FORMULA : storage_utilisation_rate = (inventory cube) / (total warehouse cube)\n",
    "############\n",
    "storage_utilisation_rate = products_mass / warehouse_capacity\n",
    "\n",
    "############\n",
    "# DISPLAY\n",
    "############\n",
    "print(\"Storage utilisation rate = \" , storage_utilisation_rate * 100, \"%\" )"
   ]
  },
  {
   "cell_type": "markdown",
   "metadata": {},
   "source": [
    "## Example\n",
    "\n",
    "A classroom built to take 30 pupils is only occupied by an average of 15 pupils. The space utilisation rate is (15/30) x 100 = 50 %"
   ]
  },
  {
   "cell_type": "markdown",
   "metadata": {},
   "source": [
    "## <b>4. Perfect order index</b>\n",
    "\n",
    "## Description\n",
    "\n",
    "The perfect order index can help you understand the number of error-free deliveries in your organization. Having a higher percentage often indicates that your organization has a high number of error-free deliveries, which can improve customer satisfaction. \n",
    "\n",
    "## Computation"
   ]
  },
  {
   "cell_type": "code",
   "execution_count": 9,
   "metadata": {},
   "outputs": [
    {
     "name": "stdout",
     "output_type": "stream",
     "text": [
      "Perfect order index =  99.77000000000001 %\n"
     ]
    }
   ],
   "source": [
    "############\n",
    "# DATA \n",
    "############\n",
    "total_orders = 10000 # units\n",
    "errors = 23  # units\n",
    "\n",
    "############\n",
    "# FORMULA : Perfect order = [(total orders - errors) / total orders] x 100\n",
    "############\n",
    "perfect_order_index = (total_orders - errors) / total_orders\n",
    "\n",
    "############\n",
    "# DISPLAY\n",
    "############\n",
    "print(\"Perfect order index = \" , perfect_order_index * 100, \"%\" )\n",
    "\n",
    "############\n",
    "# NOTES\n",
    "############\n",
    "# The clother you are to 100%, the better it is."
   ]
  },
  {
   "cell_type": "markdown",
   "metadata": {},
   "source": [
    "## <b> 5.  Supply chain costs vs sales  </b>\n",
    "\n",
    "## Description\n",
    "\n",
    "Comparing supply chain costs against sales can help you learn how these expenses relate to your organization's sales operations. This can help you conduct an expense analysis and provide inspiration for reducing costs in your organization. \n",
    "\n",
    "## Computation"
   ]
  },
  {
   "cell_type": "code",
   "execution_count": 10,
   "metadata": {},
   "outputs": [
    {
     "name": "stdout",
     "output_type": "stream",
     "text": [
      "Supply chain costs vs. sales =  6.508066201759553 %\n"
     ]
    }
   ],
   "source": [
    "############\n",
    "# DATA \n",
    "############\n",
    "total_supply_chain_costs = 6850 # dollars\n",
    "total_sales = 105254 # dollars\n",
    "\n",
    "############\n",
    "# FORMULA : Supply chain costs vs. sales = (total supply chain costs / total sales) x 100\n",
    "############\n",
    "spc = total_supply_chain_costs / total_sales\n",
    "\n",
    "############\n",
    "# DISPLAY\n",
    "############\n",
    "print(\"Supply chain costs vs. sales = \" , spc * 100, \"%\" )\n",
    "\n",
    "############\n",
    "# NOTES\n",
    "############\n",
    "# Higher percentage is bad, less is good ."
   ]
  }
 ],
 "metadata": {
  "kernelspec": {
   "display_name": "Python 3",
   "language": "python",
   "name": "python3"
  },
  "language_info": {
   "codemirror_mode": {
    "name": "ipython",
    "version": 3
   },
   "file_extension": ".py",
   "mimetype": "text/x-python",
   "name": "python",
   "nbconvert_exporter": "python",
   "pygments_lexer": "ipython3",
   "version": "3.9.2"
  }
 },
 "nbformat": 4,
 "nbformat_minor": 2
}
