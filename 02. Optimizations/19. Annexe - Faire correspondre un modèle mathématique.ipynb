{
 "cells": [
  {
   "cell_type": "markdown",
   "metadata": {},
   "source": [
    "# Faire correspondre un modèle mathématique au code d'un solveur"
   ]
  },
  {
   "cell_type": "markdown",
   "metadata": {},
   "source": [
    "## Introduction.\n",
    "Dans ce notebook, on va analyser les méthodes pour faire correspondre un modèle mathématique donné à un code de solveur Python.\n",
    "Autrement dit, comment passer de l'un à l'autre.\n",
    "\n",
    "*** CREATION EN COURS - A VENIR !!***"
   ]
  },
  {
   "cell_type": "markdown",
   "metadata": {},
   "source": [
    "## Sommaire\n",
    "\n",
    "1. Les signes à connaitre.\n",
    "1. Notre exemple de base\n",
    "2. Le symbole de sommation\n",
    "3. Les matrices\n",
    "4. On nous donne un modèle mathématique, par oû commencer ?"
   ]
  },
  {
   "cell_type": "markdown",
   "metadata": {},
   "source": [
    "# 1. Les signes à connaitre :\n",
    "\n",
    "- Le symbole Σ (sigma), il s'apprends en classe de seconde et permet de simplifier l'ecriture d'une addition.\n",
    "\n",
    "- Le symbole ∈ veut dire \"appartient à\", on s'en sert quand on a au préalable définit un ensemble S{x1,x2...xn}\n",
    "\n",
    "- Le symbole ∀ veut dire \"Pour tout\"\n",
    "\n",
    "- Une matrice Aij : i c'est la ligne, j c'est la colonne. Donc si on nous parle de la valeur A14, il s'agit de la valeur de la ligne 1 colonne 4.\n",
    "\n",
    "- Une fonction objectif : elle est destinée à être minimisée ou maximisée, lorsque le solveur calcule les meilleures valeurs des variables de décision\n",
    "\n",
    "- Les variables de décision : Une variable de décision contient une valeur qui sera ensuite calculée par le solveur pour être la meilleure valeur possible pour minimiser ou maximiser une fonction objectif ( C'est ça, l'optimisation)\n",
    "\n",
    "- \"Sujet à\" ou \"subject to\" veut dire que la fonction objectif est sujette à des contraintes que l'on écrit sous la phrase \"subject to\".\n",
    "\n",
    "# Notre exemple de base :\n",
    "\n",
    "On va prendre un modèle assez simple de mixe de production.\n",
    "\n",
    "\n",
    "\n"
   ]
  }
 ],
 "metadata": {
  "language_info": {
   "name": "python"
  },
  "orig_nbformat": 4
 },
 "nbformat": 4,
 "nbformat_minor": 2
}
