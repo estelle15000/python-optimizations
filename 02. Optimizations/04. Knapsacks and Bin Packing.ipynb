{
 "cells": [
  {
   "attachments": {},
   "cell_type": "markdown",
   "metadata": {},
   "source": [
    "# Knapsacks and Bin Packing optimizations\n",
    "\n",
    "## Introduction.\n",
    "Knapsacks optimizations type make it possible to maximize the value of a bag by taking only the most expensive objects, under maximum weight constraint.\n",
    "In practice, it is used to load trucks or cargoes judiciously, in order to optimize profit, however, we can decide to optimize another parameter.\n",
    "We can for example optimize a football team by choosing the fastest players under maximum budget constraint, and many others.\n",
    "\n",
    "In this notebook, I will also treat bin packing optimizations in one dimension, and two dimensions, because this is similar in some cases to the knapsacks problems. We want to fill n containers in the most judicious way, in order to minimize the number of containers to use, and therefore save money!\n",
    "\n",
    "Global study proposed by <b> Estelle Derrien - Github Estellederrien </b>\n",
    "\n",
    "Creation in progress\n",
    "\n",
    "The basic example of a Knapsack optimization, resolved by my application www.solvgraph.com in graphic mode:\n",
    "\n",
    "<div style = \"text-align: center\">\n",
    "<img src = \"img/knapsack.png\">\n",
    "</div>\n",
    "\n",
    "\n",
    "\n",
    "-https://machinelearninggeek.com/solving-cargo-loading-problem-using-integer-programming-in-python/"
   ]
  },
  {
   "cell_type": "markdown",
   "metadata": {},
   "source": [
    "# Summary\n",
    "- <b> The variants of knapsack. </b>\n",
    "- Description\n",
    "- 1. <b> The knapsack in 0-1 </b>\n",
    "    - Our basic problem\n",
    "    - Mathematical modeling\n",
    "    - Solution with Python Pulp\n",
    "- 2. <b> Unlimited knapsack </b>\n",
    "    - Our basic problem\n",
    "    - Mathematical modeling\n",
    "    - Solution\n",
    "- 3. <b> The multiple knapsack </b>\n",
    "    - Our basic problem\n",
    "    - Mathematical modeling\n",
    "    - Solution with Python Pulp\n",
    "- 4. <b> The 2 -dimensional knapsack </b>\n",
    "    - Our basic problem\n",
    "    - Mathematical modeling\n",
    "    - Example\n",
    "- 5. <b> The quadratic knapsack </b>\n",
    "    - Our basic problem\n",
    "    - Mathematical modeling\n",
    "    - Example\n",
    "- 6. <b> the bin packing in one dimension </b>\n",
    "    - Our basic problem\n",
    "    - Mathematical modeling\n",
    "    - Solution with Python Pulp\n",
    "- 7. <b> The two -dimensional bin packing </b>  \n",
    "    - Our basic problem\n",
    "    - Mathematical modeling\n",
    "    - Solution"
   ]
  },
  {
   "cell_type": "markdown",
   "metadata": {},
   "source": [
    "# Variants of knapsacks.\n",
    "\n",
    "## Description\n",
    "\n",
    "- <b> knapsack 0-1: </b>\n",
    "\n",
    "We take only one object at a time to fill the bag to obtain the greatest value under maximum weight constraint (or other param)\n",
    "\n",
    "- <b> Unlimited knapsack: </b>\n",
    "\n",
    "We can take as many times the same object as you want.(Unbounded Knapsack)\n",
    "\n",
    "- <b> Multiple knapsack: </b>\n",
    "\n",
    "You can take several knapsacks.\n",
    "\n",
    "- <b> knapsack in 2 dimensions: </b>\n",
    "\n",
    "We take into account the width and length of the objects - Ditto Bin Packing 2 Dimensions.\n",
    "\n",
    "- <b> Quadratic knapsack. </b>\n",
    "\n",
    "It is not linear."
   ]
  },
  {
   "cell_type": "markdown",
   "metadata": {},
   "source": [
    "# 1. The knapsack in 0-1\n",
    "\n",
    "Interest: Maximize the value of what we carry.\n",
    "\n",
    "Description: We can only take the same object once to maximize the value of the bag."
   ]
  },
  {
   "cell_type": "markdown",
   "metadata": {},
   "source": [
    "## Our basic problem.\n",
    "\n",
    "- I have the choice between 4 objects, 1 hammer, 1 mass, 1 screwdriver, 1 towel.\n",
    "- Their value is 8, 3, 6 and 4 euros respectively\n",
    "- Their weight is 5,7,4, and 3 kgs respectively.\n",
    "The capacity of my bag is 14 kg maximum, otherwise it cracks.\n",
    "\n",
    "What objects should I take in order to maximize the value of my bag."
   ]
  },
  {
   "cell_type": "markdown",
   "metadata": {},
   "source": [
    "## Mathematical modeling\n",
    "Future !"
   ]
  },
  {
   "cell_type": "markdown",
   "metadata": {},
   "source": [
    "## Solution with Python Pulp"
   ]
  },
  {
   "cell_type": "code",
   "execution_count": 5,
   "metadata": {},
   "outputs": [
    {
     "name": "stdout",
     "output_type": "stream",
     "text": [
      "status = Optimal\n",
      " x_hammer = 1.000000\n",
      " x_mass = 0.000000\n",
      " x_screwdriver = 1.000000\n",
      " x_towel = 1.000000\n",
      "value of my bag =  18.000000\n"
     ]
    }
   ],
   "source": [
    "# Solver Import\n",
    "from pulp import *\n",
    "\n",
    "# V Like Value\n",
    "v = {'hammer': 8, 'mass': 3, 'screwdriver': 6, 'towel': 4}\n",
    "\n",
    "# P Like Weight\n",
    "p = {'hammer': 5, 'mass': 7, 'screwdriver': 4, 'towel': 3}\n",
    "\n",
    "# The maximum weight my bag can hold\n",
    "Limit = 14\n",
    "\n",
    "# Tip to Quickly Get the Names Variables \n",
    "objects = list (sorted (v.keys ()))\n",
    "\n",
    "# Create the model: maximize the total value in my bag\n",
    "m = LpProblem(\"Knapsack\", LpMaximize)\n",
    "\n",
    "# Decision variables\n",
    "x = LpVariable.dicts ('x', objects, cat = LpBinary)\n",
    "\n",
    "# Objective: the sum of object values ​​must be maximized\n",
    "m += sum (v [i]*x [i] for i in objects)\n",
    "\n",
    "# Stress: The sum of the weight of the objects must be lower than the limit.\n",
    "m += sum (p [i]*x [i] for i in objects) <= Limit\n",
    "\n",
    "# Optimize\n",
    "m.solve ()\n",
    "\n",
    "# Print the status\n",
    "print (\"status = % s\" % LpStatus [m.status])\n",
    "\n",
    "# Print the values ​​of decision variables to their optimum\n",
    "for i in objects:\n",
    "    print (\" %s = %f\" %(x [i] .name, x[i].varValue))\n",
    "\n",
    "# Show the maximized lens.\n",
    "print (\"value of my bag = % f\" % value (m.objective))"
   ]
  },
  {
   "cell_type": "markdown",
   "metadata": {},
   "source": [
    "# 2. The unlimited backpack.\n",
    "\n",
    "We can take as many times the same object as you want."
   ]
  },
  {
   "cell_type": "markdown",
   "metadata": {},
   "source": [
    "## Our basic problem.\n",
    "\n",
    "We resume the same as in the previous problem, except that we have a 140kg capacity bag."
   ]
  },
  {
   "cell_type": "markdown",
   "metadata": {},
   "source": [
    "## Mathematical modeling\n",
    "Future."
   ]
  },
  {
   "cell_type": "markdown",
   "metadata": {},
   "source": [
    "## Solution with Pulp"
   ]
  },
  {
   "cell_type": "code",
   "execution_count": 6,
   "metadata": {},
   "outputs": [
    {
     "name": "stdout",
     "output_type": "stream",
     "text": [
      "Status = Optimal\n",
      "x_hammer = 28.000000\n",
      "x_masse = 0.000000\n",
      "x_screwdriver = 0.000000\n",
      "x_towel = 0.000000\n",
      "Knapsack value = 224.000000\n",
      "Total weight = 140.000000\n"
     ]
    }
   ],
   "source": [
    "# Import Pulp\n",
    "from pulp import *\n",
    "\n",
    "# v like value\n",
    "v = {'hammer':8, 'masse':3, 'screwdriver':6, 'towel':4}\n",
    "\n",
    "# w like weight\n",
    "p = {'hammer':5, 'masse':7, 'screwdriver':4, 'towel':3}\n",
    "\n",
    "# q like quantity\n",
    "q = {'hammer':1000, 'masse':400, 'screwdriver':500, 'towel':150}\n",
    "\n",
    "# max weight my bag can hold\n",
    "limit = 140\n",
    "\n",
    "# getting decision vars names quickly\n",
    "objets = list(sorted(v.keys()))\n",
    "\n",
    "# Create model and name it\n",
    "m = LpProblem(\"Knapsack_illimité\", LpMaximize)\n",
    "\n",
    "# Decisions variables are integer\n",
    "x = LpVariable.dicts('x', objets, lowBound=0,  cat=LpInteger)\n",
    "\n",
    "# Objective : Items value sum must be maximized\n",
    "m += sum(v[i]*x[i] for i in objets)\n",
    "\n",
    "# Constraint : items weight sum must be inferior to limit\n",
    "m += sum(p[i]*x[i] for i in objets) <= limit\n",
    "\n",
    "# Items quantity must be inferior to the available quantity\n",
    "for i in objets:\n",
    "    m += x[i] <= q[i]\n",
    "\n",
    "# Optimize\n",
    "m.solve()\n",
    "\n",
    "# Print status\n",
    "print(\"Status = %s\" % LpStatus[m.status])\n",
    "\n",
    "# Print optimums\n",
    "for i in objets:\n",
    "    print(\"%s = %f\" % (x[i].name, x[i].varValue))\n",
    "\n",
    "# Print the maximized objective\n",
    "print(\"Knapsack value = %f\" % value(m.objective))\n",
    "\n",
    "print(\"Total weight = %f\" % sum([x[i].varValue*p[i] for i in objets]))"
   ]
  },
  {
   "cell_type": "markdown",
   "metadata": {},
   "source": [
    "# 6. Fill in a container in 1 dimension\n",
    "\n",
    "## Our basic problem.\n",
    "\n"
   ]
  },
  {
   "cell_type": "markdown",
   "metadata": {},
   "source": [
    "## Mathematical modeling\n",
    "\n",
    "y [i] = 1 if a bin I is used, 0 otherwise.<br>\n",
    "x [(i, j)] = 1 if the element j is placed in tank i, 0 otherwise<br>\n",
    "Z = number of bins actually used<br>\n",
    "n = number of articles<br>\n",
    "C = capacity of a single tank<br>\n",
    "w [j] = weight (or size) of article j<br>"
   ]
  },
  {
   "cell_type": "code",
   "execution_count": 7,
   "metadata": {},
   "outputs": [
    {
     "name": "stdout",
     "output_type": "stream",
     "text": [
      "Solved in 0.10141968727111816 seconds.\n",
      "Bins used: 5.0\n",
      "0: ['a', 'b', 'e', 'i', 'm', 'n']\n",
      "1: ['c', 'g', 'h', 'l']\n",
      "13: ['d']\n",
      "14: ['f']\n",
      "7: ['k']\n"
     ]
    }
   ],
   "source": [
    "\n",
    "from pulp import *\n",
    "import time\n",
    "\n",
    "#\n",
    "# Une liste de tuples d'éléments (nom, poids) -- le nom n'a de sens que pour les humains.\n",
    "# Le poids et la taille sont utilisés de manière interchangeable ici et ailleurs.\n",
    "#\n",
    "items = [(\"a\", 5),\n",
    "         (\"b\", 6),\n",
    "         (\"c\", 7),\n",
    "         (\"d\", 32),\n",
    "         (\"e\", 2),\n",
    "         (\"f\", 32),\n",
    "         (\"g\", 5),\n",
    "         (\"h\", 7),\n",
    "         (\"i\", 9),\n",
    "         (\"k\", 12),\n",
    "         (\"l\", 11),\n",
    "         (\"m\", 1),\n",
    "         (\"n\", 2)]\n",
    "\n",
    "itemCount = len(items)\n",
    "\n",
    "# Nombre de bacs maximum \n",
    "maxBins = 32\n",
    "\n",
    "# Taille d'un bac\n",
    "binCapacity = 32\n",
    "\n",
    "# Variable indicatrice affectée à 1 lorsque le bac est utilisé.\n",
    "y = pulp.LpVariable.dicts('BinUsed', range(maxBins),\n",
    "                            lowBound = 0,\n",
    "                            upBound = 1,\n",
    "                            cat = \"Integer\")\n",
    "\n",
    "# Une variable indicatrice qui est affectée à 1 lorsque l'élément est placé dans binNum\n",
    "possible_ItemInBin = [(itemTuple[0], binNum) for itemTuple in items\n",
    "                                            for binNum in range(maxBins)]\n",
    "x = pulp.LpVariable.dicts('itemInBin', possible_ItemInBin,\n",
    "                            lowBound = 0,\n",
    "                            upBound = 1,\n",
    "                            cat = \"Integer\")\n",
    "\n",
    "# Initialiser le problème\n",
    "prob = LpProblem(\"Bin_Packing_Problem\", LpMinimize)\n",
    "\n",
    "\n",
    "# Ajoutez la fonction objectif.\n",
    "prob += lpSum([y[i] for i in range(maxBins)]), \"Minimize_Bins_Used\"\n",
    "\n",
    "#\n",
    "# Ceci est la section des contraintes.\n",
    "#\n",
    "\n",
    "# Première contrainte : Un objet ne peut être que dans un seul bac\n",
    "for j in items:\n",
    "    prob += lpSum([x[(j[0], i)] for i in range(maxBins)]) == 1, (\"An item can be in only 1 bin -- \" + str(j[0]))\n",
    "\n",
    "# Deuxième contrainte : Pour chaque bac, le nombre d'articles dans le bac ne peut pas dépasser la capacité du bac\n",
    "for i in range(maxBins):\n",
    "    prob += lpSum([items[j][1] * x[(items[j][0], i)] for j in range(itemCount)]) <= binCapacity*y[i], (\"The sum of item sizes must be smaller than the bin -- \" + str(i))\n",
    "\n",
    "# Ecrire le modèle sur le disque\n",
    "prob.writeLP(\"BinPack.lp\")\n",
    "\n",
    "# Résoudre l'optimisation\n",
    "start_time = time.time()\n",
    "prob.solve()\n",
    "print(\"Solved in %s seconds.\" % (time.time() - start_time))\n",
    "\n",
    "\n",
    "# Les bacs utilisés\n",
    "print(\"Bins used: \" + str(sum(([y[i].value() for i in range(maxBins)]))))\n",
    "\n",
    "# Améliorer l'aspect des résultats.\n",
    "bins = {}\n",
    "for itemBinPair in x.keys():\n",
    "    if(x[itemBinPair].value() == 1):\n",
    "        itemNum = itemBinPair[0]\n",
    "        binNum = itemBinPair[1]\n",
    "        if binNum in bins:\n",
    "            bins[binNum].append(itemNum)\n",
    "        else:\n",
    "            bins[binNum] = [itemNum]\n",
    "\n",
    "for b in bins.keys():\n",
    "    print(str(b) + \": \" + str(bins[b]))\n",
    "\n"
   ]
  }
 ],
 "metadata": {
  "kernelspec": {
   "display_name": "Python 3",
   "language": "python",
   "name": "python3"
  },
  "language_info": {
   "codemirror_mode": {
    "name": "ipython",
    "version": 3
   },
   "file_extension": ".py",
   "mimetype": "text/x-python",
   "name": "python",
   "nbconvert_exporter": "python",
   "pygments_lexer": "ipython3",
   "version": "3.9.2"
  },
  "orig_nbformat": 4
 },
 "nbformat": 4,
 "nbformat_minor": 2
}
