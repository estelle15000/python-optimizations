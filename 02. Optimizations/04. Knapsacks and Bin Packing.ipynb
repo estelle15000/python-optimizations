{
 "cells": [
  {
   "attachments": {},
   "cell_type": "markdown",
   "metadata": {},
   "source": [
    "# Knapsacks and Bin Packing optimizations\n",
    "\n",
    "## Introduction.\n",
    "Knapsacks optimizations type make it possible to maximize the value of a bag by taking only the most expensive objects, under maximum weight constraint.\n",
    "In practice, it is used to load trucks or cargoes judiciously, in order to optimize profit, however, we can decide to optimize another parameter.\n",
    "We can for example optimize a football team by choosing the fastest players under maximum budget constraint, and many others.\n",
    "\n",
    "In this notebook, I will also treat bin packing optimizations in one dimension, and two dimensions, because this is similar in some cases to the knapsacks problems. We want to fill n containers in the most judicious way, in order to minimize the number of containers to use, and therefore save money!\n",
    "\n",
    "Global study proposed by <b> Estelle Derrien - Github Estellederrien </b>\n",
    "\n",
    "Creation in progress\n",
    "\n",
    "The basic example of a Knapsack optimization, resolved by my application www.solvgraph.com in graphic mode:\n",
    "\n",
    "<div style = \"text-align: center\">\n",
    "<img src = \"img/knapsack.png\">\n",
    "</div>\n",
    "\n",
    "\n",
    "\n",
    "-https://machinelearninggeek.com/solving-cargo-loading-problem-using-integer-programming-in-python/"
   ]
  },
  {
   "cell_type": "markdown",
   "metadata": {},
   "source": [
    "# Summary\n",
    "- <b> The variants of knapsack. </b>\n",
    "- Description\n",
    "- 1. <b> The knapsack in 0-1 </b>\n",
    "    - Our basic problem\n",
    "    - Mathematical modeling\n",
    "    - Solution with Python Pulp\n",
    "- 2. <b> Unlimited knapsack </b>\n",
    "    - Our basic problem\n",
    "    - Mathematical modeling\n",
    "    - Solution\n",
    "- 3. <b> The multiple knapsack </b>\n",
    "    - Our basic problem\n",
    "    - Mathematical modeling\n",
    "    - Solution with Python Pulp\n",
    "- 4. <b> The 2 -dimensional knapsack </b>\n",
    "    - Our basic problem\n",
    "    - Mathematical modeling\n",
    "    - Example\n",
    "- 5. <b> The quadratic knapsack </b>\n",
    "    - Our basic problem\n",
    "    - Mathematical modeling\n",
    "    - Example\n",
    "- 6. <b> the bin packing in one dimension </b>\n",
    "    - Our basic problem\n",
    "    - Mathematical modeling\n",
    "    - Solution with Python Pulp\n",
    "- 7. <b> The two -dimensional bin packing </b>  \n",
    "    - Our basic problem\n",
    "    - Mathematical modeling\n",
    "    - Solution"
   ]
  },
  {
   "cell_type": "markdown",
   "metadata": {},
   "source": [
    "# Variants of knapsacks.\n",
    "\n",
    "## Description\n",
    "\n",
    "- <b> knapsack 0-1: </b>\n",
    "\n",
    "We take only one object at a time to fill the bag to obtain the greatest value under maximum weight constraint (or other param)\n",
    "\n",
    "- <b> Unlimited knapsack: </b>\n",
    "\n",
    "We can take as many times the same object as you want.(Unbounded Knapsack)\n",
    "\n",
    "- <b> Multiple knapsack: </b>\n",
    "\n",
    "You can take several knapsacks.\n",
    "\n",
    "- <b> knapsack in 2 dimensions: </b>\n",
    "\n",
    "We take into account the width and length of the objects - Ditto Bin Packing 2 Dimensions.\n",
    "\n",
    "- <b> Quadratic knapsack. </b>\n",
    "\n",
    "It is not linear."
   ]
  },
  {
   "cell_type": "markdown",
   "metadata": {},
   "source": [
    "# 1. The knapsack in 0-1\n",
    "\n",
    "Interest: Maximize the value of what we carry.\n",
    "\n",
    "Description: We can only take the same object once to maximize the value of the bag."
   ]
  },
  {
   "cell_type": "markdown",
   "metadata": {},
   "source": [
    "## Our basic problem.\n",
    "\n",
    "- I have the choice between 4 objects, 1 hammer, 1 mass, 1 screwdriver, 1 towel.\n",
    "- Their value is 8, 3, 6 and 4 euros respectively\n",
    "- Their weight is 5,7,4, and 3 kgs respectively.\n",
    "The capacity of my bag is 14 kg maximum, otherwise it cracks.\n",
    "\n",
    "What objects should I take in order to maximize the value of my bag."
   ]
  },
  {
   "cell_type": "markdown",
   "metadata": {},
   "source": [
    "## Mathematical modeling\n",
    "Future !"
   ]
  },
  {
   "cell_type": "markdown",
   "metadata": {},
   "source": [
    "## Solution with Python Pulp"
   ]
  },
  {
   "cell_type": "code",
   "execution_count": 12,
   "metadata": {},
   "outputs": [
    {
     "name": "stdout",
     "output_type": "stream",
     "text": [
      "status = Optimal\n",
      " x_hammer = 1.000000\n",
      " x_mass = 0.000000\n",
      " x_screwdriver = 1.000000\n",
      " x_towel = 1.000000\n",
      "value of my bag =  18.000000\n"
     ]
    }
   ],
   "source": [
    "# Solver Import\n",
    "from pulp import *\n",
    "\n",
    "# V Like Value\n",
    "v = {'hammer': 8, 'mass': 3, 'screwdriver': 6, 'towel': 4}\n",
    "\n",
    "# P Like Weight\n",
    "p = {'hammer': 5, 'mass': 7, 'screwdriver': 4, 'towel': 3}\n",
    "\n",
    "# The maximum weight my bag can hold\n",
    "Limit = 14\n",
    "\n",
    "# Tip to Quickly Get the Names Variables \n",
    "objects = list (sorted (v.keys ()))\n",
    "\n",
    "# Create the model: maximize the total value in my bag\n",
    "m = LpProblem(\"Knapsack\", LpMaximize)\n",
    "\n",
    "# Decision variables\n",
    "x = LpVariable.dicts ('x', objects, cat = LpBinary)\n",
    "\n",
    "# Objective: the sum of object values ​​must be maximized\n",
    "m += sum (v [i]*x [i] for i in objects)\n",
    "\n",
    "# Stress: The sum of the weight of the objects must be lower than the limit.\n",
    "m += sum (p [i]*x [i] for i in objects) <= Limit\n",
    "\n",
    "# Optimize\n",
    "m.solve ()\n",
    "\n",
    "# Print the status\n",
    "print (\"status = % s\" % LpStatus [m.status])\n",
    "\n",
    "# Print the values ​​of decision variables to their optimum\n",
    "for i in objects:\n",
    "    print (\" %s = %f\" %(x [i] .name, x[i].varValue))\n",
    "\n",
    "# Show the maximized lens.\n",
    "print (\"value of my bag = % f\" % value (m.objective))"
   ]
  },
  {
   "cell_type": "markdown",
   "metadata": {},
   "source": [
    "# Le sac à dos illimité.\n",
    "\n",
    "On peut prendre autant de fois le même objet qu'on veut. "
   ]
  },
  {
   "cell_type": "markdown",
   "metadata": {},
   "source": [
    "## Notre problème de base.\n",
    "\n",
    "On reprends le même que dans le problème précédent, sauf qu'on a un sac de capacité de 140kgs."
   ]
  },
  {
   "cell_type": "markdown",
   "metadata": {},
   "source": [
    "## Modélisation mathématique\n",
    "A venir."
   ]
  },
  {
   "cell_type": "markdown",
   "metadata": {},
   "source": [
    "## Solution avec Pulp"
   ]
  },
  {
   "cell_type": "code",
   "execution_count": 13,
   "metadata": {},
   "outputs": [
    {
     "name": "stdout",
     "output_type": "stream",
     "text": [
      "Status = Optimal\n",
      "x_marteau = 28.000000\n",
      "x_masse = 0.000000\n",
      "x_serviette = 0.000000\n",
      "x_tournevis = 0.000000\n",
      "Valeur de mon sac = 224.000000\n",
      "Poids total = 140.000000\n"
     ]
    }
   ],
   "source": [
    "# Import du solveur.\n",
    "from pulp import *\n",
    "\n",
    "# v comme valeurs\n",
    "v = {'marteau':8, 'masse':3, 'tournevis':6, 'serviette':4}\n",
    "\n",
    "# p comme poids\n",
    "p = {'marteau':5, 'masse':7, 'tournevis':4, 'serviette':3}\n",
    "\n",
    "# q comme quantité\n",
    "q = {'marteau':1000, 'masse':400, 'tournevis':500, 'serviette':150}\n",
    "\n",
    "# Le poids maximum que mon sac peut contenir.\n",
    "limit = 140\n",
    "\n",
    "# astuce pour récupérer les noms des variables de décision.\n",
    "objets = list(sorted(v.keys()))\n",
    "\n",
    "# Créer le modèle : maximiser la valeur totale dans mon sac\n",
    "m = LpProblem(\"Knapsack_illimité\", LpMaximize)\n",
    "\n",
    "# Variables de décision, elle ne peut pas être négative et est entière, pas binaire.\n",
    "x = LpVariable.dicts('x', objets, lowBound=0,  cat=LpInteger)\n",
    "\n",
    "# Objectif :  La somme des valeurs de objets doit être maximisée\n",
    "m += sum(v[i]*x[i] for i in objets)\n",
    "\n",
    "# Contrainte : La somme du poids des objets doit être inférieur à la limite.\n",
    "m += sum(p[i]*x[i] for i in objets) <= limit\n",
    "\n",
    "# La quantité de chaque objets doit être inférieur à la quantité disponible\n",
    "for i in objets:\n",
    "    m += x[i] <= q[i]\n",
    "\n",
    "# Optimize\n",
    "m.solve()\n",
    "\n",
    "# Imprimer le statut\n",
    "print(\"Status = %s\" % LpStatus[m.status])\n",
    "\n",
    "# Imprimer les valeurs des variables de décision à leur optimum\n",
    "for i in objets:\n",
    "    print(\"%s = %f\" % (x[i].name, x[i].varValue))\n",
    "\n",
    "# Afficher l'objectif maximisé.\n",
    "print(\"Valeur de mon sac = %f\" % value(m.objective))\n",
    "\n",
    "print(\"Poids total = %f\" % sum([x[i].varValue*p[i] for i in objets]))"
   ]
  },
  {
   "cell_type": "markdown",
   "metadata": {},
   "source": [
    "# 6. Remplir un container en 1 dimension\n",
    "\n",
    "## Notre problème de base.\n",
    "\n"
   ]
  },
  {
   "cell_type": "markdown",
   "metadata": {},
   "source": [
    "## Modélisation mathématique\n",
    "\n",
    "    y[i] = 1 si un bin i est utilisé, 0 sinon.\n",
    "    x[(i, j)] = 1 si l'élément j est placé dans le bac i, 0 sinon\n",
    "    z = nombre de bacs réellement utilisés\n",
    "    n = nombre d'articles\n",
    "    c = capacité d'un seul bac\n",
    "    w[j] = poids (ou taille) de l'article j"
   ]
  },
  {
   "cell_type": "code",
   "execution_count": 14,
   "metadata": {},
   "outputs": [
    {
     "name": "stdout",
     "output_type": "stream",
     "text": [
      "Solved in 0.0876312255859375 seconds.\n",
      "Bins used: 5.0\n",
      "0: ['a', 'b', 'e', 'i', 'm', 'n']\n",
      "1: ['c', 'g', 'h', 'l']\n",
      "13: ['d']\n",
      "14: ['f']\n",
      "7: ['k']\n"
     ]
    },
    {
     "name": "stderr",
     "output_type": "stream",
     "text": [
      "c:\\Users\\gloup\\AppData\\Local\\Programs\\Python\\Python39\\lib\\site-packages\\pulp\\pulp.py:1352: UserWarning: Spaces are not permitted in the name. Converted to '_'\n",
      "  warnings.warn(\"Spaces are not permitted in the name. Converted to '_'\")\n"
     ]
    }
   ],
   "source": [
    "\n",
    "from pulp import *\n",
    "import time\n",
    "\n",
    "#\n",
    "# Une liste de tuples d'éléments (nom, poids) -- le nom n'a de sens que pour les humains.\n",
    "# Le poids et la taille sont utilisés de manière interchangeable ici et ailleurs.\n",
    "#\n",
    "items = [(\"a\", 5),\n",
    "         (\"b\", 6),\n",
    "         (\"c\", 7),\n",
    "         (\"d\", 32),\n",
    "         (\"e\", 2),\n",
    "         (\"f\", 32),\n",
    "         (\"g\", 5),\n",
    "         (\"h\", 7),\n",
    "         (\"i\", 9),\n",
    "         (\"k\", 12),\n",
    "         (\"l\", 11),\n",
    "         (\"m\", 1),\n",
    "         (\"n\", 2)]\n",
    "\n",
    "itemCount = len(items)\n",
    "\n",
    "# Nombre de bacs maximum \n",
    "maxBins = 32\n",
    "\n",
    "# Taille d'un bac\n",
    "binCapacity = 32\n",
    "\n",
    "# Variable indicatrice affectée à 1 lorsque le bac est utilisé.\n",
    "y = pulp.LpVariable.dicts('BinUsed', range(maxBins),\n",
    "                            lowBound = 0,\n",
    "                            upBound = 1,\n",
    "                            cat = \"Integer\")\n",
    "\n",
    "# Une variable indicatrice qui est affectée à 1 lorsque l'élément est placé dans binNum\n",
    "possible_ItemInBin = [(itemTuple[0], binNum) for itemTuple in items\n",
    "                                            for binNum in range(maxBins)]\n",
    "x = pulp.LpVariable.dicts('itemInBin', possible_ItemInBin,\n",
    "                            lowBound = 0,\n",
    "                            upBound = 1,\n",
    "                            cat = \"Integer\")\n",
    "\n",
    "# Initialiser le problème\n",
    "prob = LpProblem(\"Bin Packing Problem\", LpMinimize)\n",
    "\n",
    "\n",
    "# Ajoutez la fonction objectif.\n",
    "prob += lpSum([y[i] for i in range(maxBins)]), \"Minimize_Bins_Used\"\n",
    "\n",
    "#\n",
    "# Ceci est la section des contraintes.\n",
    "#\n",
    "\n",
    "# Première contrainte : Un objet ne peut être que dans un seul bac\n",
    "for j in items:\n",
    "    prob += lpSum([x[(j[0], i)] for i in range(maxBins)]) == 1, (\"An item can be in only 1 bin -- \" + str(j[0]))\n",
    "\n",
    "# Deuxième contrainte : Pour chaque bac, le nombre d'articles dans le bac ne peut pas dépasser la capacité du bac\n",
    "for i in range(maxBins):\n",
    "    prob += lpSum([items[j][1] * x[(items[j][0], i)] for j in range(itemCount)]) <= binCapacity*y[i], (\"The sum of item sizes must be smaller than the bin -- \" + str(i))\n",
    "\n",
    "# Ecrire le modèle sur le disque\n",
    "prob.writeLP(\"BinPack.lp\")\n",
    "\n",
    "# Résoudre l'optimisation\n",
    "start_time = time.time()\n",
    "prob.solve()\n",
    "print(\"Solved in %s seconds.\" % (time.time() - start_time))\n",
    "\n",
    "\n",
    "# Les bacs utilisés\n",
    "print(\"Bins used: \" + str(sum(([y[i].value() for i in range(maxBins)]))))\n",
    "\n",
    "# Améliorer l'aspect des résultats.\n",
    "bins = {}\n",
    "for itemBinPair in x.keys():\n",
    "    if(x[itemBinPair].value() == 1):\n",
    "        itemNum = itemBinPair[0]\n",
    "        binNum = itemBinPair[1]\n",
    "        if binNum in bins:\n",
    "            bins[binNum].append(itemNum)\n",
    "        else:\n",
    "            bins[binNum] = [itemNum]\n",
    "\n",
    "for b in bins.keys():\n",
    "    print(str(b) + \": \" + str(bins[b]))\n",
    "\n"
   ]
  }
 ],
 "metadata": {
  "kernelspec": {
   "display_name": "Python 3",
   "language": "python",
   "name": "python3"
  },
  "language_info": {
   "codemirror_mode": {
    "name": "ipython",
    "version": 3
   },
   "file_extension": ".py",
   "mimetype": "text/x-python",
   "name": "python",
   "nbconvert_exporter": "python",
   "pygments_lexer": "ipython3",
   "version": "3.9.2"
  },
  "orig_nbformat": 4
 },
 "nbformat": 4,
 "nbformat_minor": 2
}
