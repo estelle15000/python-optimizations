{
 "cells": [
  {
   "attachments": {},
   "cell_type": "markdown",
   "metadata": {},
   "source": [
    "# Products mix optimizations \n",
    "\n",
    "## Introduction.\n",
    "\n",
    "Product mixtures of product type are the first addressed in optimization.\n",
    "\n",
    "They make it possible to optimize the production and commercial efficiency of a factory or an agricultural organization, and to avoid primarily the logics of aberrant production.\n",
    "\n",
    "They allow a factory to know which products it is better to produce in its range of products, in order to maximize its profit.\n",
    "\n",
    "You can also minimize or maximize other paramerters in a second step.\n",
    "\n",
    "An example of product mix of products for a chalet company\n",
    "In my application www.solvgraph.com:\n",
    "<div style = \"text-align: center\">\n",
    "<IMG SRC = \"img/product-mix1.png\">\n",
    "</div>\n",
    "\n",
    "In its non -linear versions, they allow more sophistication and allow you to stick to reality.\n",
    "\n",
    "In this study, I will use several solvers, and make linear optimizations and not\n",
    "linear.\n",
    "\n",
    "Global study proposed by <b> Estelle Derrien - GitHub Estellederrien </b>\n",
    "\n",
    "** Creation in progress **\n"
   ]
  },
  {
   "attachments": {},
   "cell_type": "markdown",
   "metadata": {},
   "source": [
    "# Summary\n",
    "\n",
    "- 1. <b> Linear profit maximization. </b>\n",
    "        - Our basic problem\n",
    "        - Mathematical modeling\n",
    "        - Solution with Python Pulp\n",
    "- 2. <b> What is the use of sensitivity analysis? </b>\n",
    "        - Reduced costs\n",
    "        - The Shadow Price\n",
    "        - Slacks variables\n",
    "- 4. <b> Addition of fixed and variable costs. </b>\n",
    "- 5. <b> Fork the production of an element. </b>\n",
    "- 6. <b> Addition of binary/conditional constraints. </b>\n",
    "    - Conditional costs\n",
    "        - With Pulp\n",
    "        - with cplex\n",
    "    - Conditional associations\n",
    "        - With Pulp\n",
    "        - with cplex\n",
    "- 7. <b> Addition of \"multiple\". </b>\n",
    "- 8. <b> Reductions of transport costs in %</b>\n",
    "        - description\n",
    "        - With Pulp\n",
    "- 8. <b> Addition of additional cost constraints. </b>\n",
    "    - Description\n",
    "    - Solution with Python Pulp\n",
    "- 9. <b> Addition of discontinuous cost constraints. </b>\n",
    "    - Description\n",
    "    - Solution with Python Pulp\n",
    "- 10. <b> Adding Piecewize constraints. </b>\n",
    "    - Description\n",
    "    - Solution with CPLEX\n",
    "    - Solution with Python Pulp\n",
    "    - Creation of Piecewize functions from a curved function\n",
    "- 11. <b> Make a linear profit simulation with normal law </b>\n",
    "     - Description\n",
    "     - Solution with Python Pulp\n",
    "- 12. <b> Taken into account unsold. </b>\n",
    "     - Description\n",
    "     - Solution with Python Pulp\n",
    "- 13. <b> impose penalties (elastic constraints) </b>\n",
    "     - Description\n",
    "     - Solution with Pulp\n",
    "- 14. <b> MinMax optimization </b>\n",
    "     - Description\n",
    "     - Solution with Pulp and Gekko\n",
    "    \n",
    "- 15. <b> Double objectives </b>\n",
    "     - Description\n",
    "     - Solution with Pulp\n",
    "*************************************************************************************************\n",
    "- 1. <b> Maximization of non -linear profit </b>\n",
    "    - Our basic problem\n",
    "    - Non -linear costs graph.\n",
    "    - Mathematical modeling\n",
    "    - Solution with Python Gekko\n",
    "        - Without loop for\n",
    "        - With loop for\n",
    "    - Solution with CPLEX\n",
    "- 2. <b> Addition of binary constraints </b>\n",
    "- 3. <b> Adding Piecewize constraints </b>"
   ]
  },
  {
   "cell_type": "markdown",
   "metadata": {},
   "source": [
    "# Linear profit maximization"
   ]
  },
  {
   "cell_type": "markdown",
   "metadata": {},
   "source": [
    "## Our basic problem.\n",
    "\n",
    "- I have the choice between 3 types of cows to produce milk: Charolais, white Bleuc and Salers.\n",
    "\n",
    "- I have 600 kgs of food, 700 liters of water in stock.\n",
    "\n",
    "- Each animal consumes 7kgs, 7kgs, 8kgs of food per day respectively.\n",
    "\n",
    "- Each animal consumes 4.5L, 9L and 3L of water respectively per day respectively.\n",
    "\n",
    "- Each animal reports 100.110 respectively, and 115 euros.\n",
    "\n",
    "What animals should be raised in order to maximize my profit?\n",
    "\n"
   ]
  },
  {
   "cell_type": "markdown",
   "metadata": {},
   "source": [
    "# Mathematical modeling.\n",
    "\n",
    "- Let V be a set of animals indicated by I (V1, V2, V3 ... VI)\n",
    "- Either nij the food consumed by each animal, it is a matrix (or a table).\n",
    "- Either eij the water consumed by each animal, it is a matrix (or a table).\n",
    "- Either pij the profit reported by each animal, it is a matrix (or a table).\n",
    "- either n the amount of food in stock\n",
    "- either the amount of water in stock\n",
    "\n",
    "\n",
    "I want to maximize my profit under the constraints of food and water.\n",
    "\n",
    "Max σ vi*pij\n",
    "\n",
    "st\n",
    "\n",
    "Σ nij*vi <= n, ∀ n ∈ {n1, n2, n3}\n",
    "\n",
    "Σ eij*vi <= e, ∀ e ∈ {E1, E2, E3}\n"
   ]
  },
  {
   "cell_type": "markdown",
   "metadata": {},
   "source": [
    "# Solution with Python Pulp\n",
    "\n",
    "As we only have 3 animals, we can solve without using the for forms, which seem a little complicated when you start."
   ]
  },
  {
   "cell_type": "code",
   "execution_count": 1,
   "metadata": {},
   "outputs": [
    {
     "name": "stdout",
     "output_type": "stream",
     "text": [
      "blanc_bleu = 72.0\n",
      "charolaise = 0.0\n",
      "salers = 12.0\n",
      "Profit total maximisé =  9300.0\n"
     ]
    }
   ],
   "source": [
    "# Importer la librairie Pulp sous le pseudo p\n",
    "import pulp as p \n",
    "\n",
    "# Créer un programme linéaire de maximisation\n",
    "Mon_Probleme = p.LpProblem('maximisation_de_profit_agricole', p.LpMaximize)  \n",
    "\n",
    "# Créer les variables du problème, \n",
    "# On dit que ce sont des variables entières, car on ne peut pas avoir une demi vache.\n",
    "charolaise = p.LpVariable(\"charolaise\", 0, None, p.LpInteger)   \n",
    "blanc_bleu = p.LpVariable(\"blanc_bleu\", 0, None, p.LpInteger)   \n",
    "salers = p.LpVariable(\"salers\", 0, None, p.LpInteger)  \n",
    "\n",
    "# Ecrire la fonction objectif à maximizer qui nous donne un résultat en Euros \n",
    "Mon_Probleme +=  100 * charolaise + 110 * blanc_bleu + 115 * salers\n",
    "\n",
    "# Les contraintes : \n",
    "\n",
    "# nourriture\n",
    "Mon_Probleme += 7 * charolaise + 7 * blanc_bleu + 8 * salers <= 600\n",
    "\n",
    "# eau\n",
    "Mon_Probleme += 4.5* charolaise + 9 * blanc_bleu + 3 * salers <= 700\n",
    "\n",
    "# Résoudre\n",
    "Mon_Probleme.solve()\n",
    "# On imprime les variables qui ont leur valeur optimisées\n",
    "for v in Mon_Probleme.variables():\n",
    "    print(v.name, \"=\", v.varValue)\n",
    "# La valeur de la fonction objective optimisée est imprimée à l'écran\n",
    "print(\"Profit total maximisé = \", p.value(Mon_Probleme.objective))"
   ]
  },
  {
   "cell_type": "markdown",
   "metadata": {},
   "source": [
    "# What is sensitive analysis for?\n",
    "\n",
    "The best link to understand:\n",
    "https://www.eit.lth.se/fileadmin/eit/courses/eitn95/2018/labs_assignments/sensitivity_analysis_in_excel.pdf\n",
    "\n",
    "The sensitivity analysis allows you to know to what extent you can change the parameters of the solution provided.This allows decision -makers to assess if it is worth increasing the stock, for example.\n",
    "\n",
    "- Reduced costs:\n",
    "\n",
    "Reduced costs tell us how much the coefficients of the objective function (unit profits) can be increased or decreased before the optimal solution changes.Example: \"If we increase the unit profit of children's seats with 20 or more units, the optimal value will change\"\n",
    "\n",
    "- The Shadow Price:\n",
    "\n",
    "The Shadow Price or \"Fictive Price\" in French tells us how much the optimal solution can be increased or decreased if we modify the available resources in a single unit.\n",
    " Or\n",
    "The fictitious price measures the variation in the value of the objective function per unit of increase in the limit of constraint.\n",
    "\n",
    "- Slacks:\n",
    "\n",
    "The quantity of a resource that is not used.Let us know how many resources are \"wasted\" or \"unused\".When you have stock constraints, these values allow you to know the amount of unused stock.\n"
   ]
  },
  {
   "cell_type": "markdown",
   "metadata": {},
   "source": [
    "# Show sensitivity analysis with Python Pulp\n",
    "\n"
   ]
  },
  {
   "cell_type": "code",
   "execution_count": 2,
   "metadata": {},
   "outputs": [
    {
     "name": "stdout",
     "output_type": "stream",
     "text": [
      "blanc_bleu = 72.0\n",
      "charolaise = 0.0\n",
      "salers = 12.0\n",
      "Profit total maximisé =  9300.0\n",
      "status: 1, Optimal\n",
      "                    Name                                   Constraint  \\\n",
      "0         Contrainte_eau    {charolaise: 7, blanc_bleu: 7, salers: 8}   \n",
      "1  Contrainte_nourriture  {charolaise: 4.5, blanc_bleu: 9, salers: 3}   \n",
      "\n",
      "   Shadow Price  Slack  \n",
      "0          -0.0   -0.0  \n",
      "1          -0.0   16.0  \n"
     ]
    }
   ],
   "source": [
    "# Le bon lien : https://s3.amazonaws.com/assets.datacamp.com/production/course_8835/slides/chapter4.pdf\n",
    "\n",
    "# Importer la librairie Pulp sous le pseudo p\n",
    "import pulp as p \n",
    "import pandas as pd\n",
    "\n",
    "# Créer un programme linéaire de maximisation\n",
    "Mon_Probleme = p.LpProblem('maximisation_de_profit_agricole', p.LpMaximize)  \n",
    "\n",
    "# Créer les variables du problème, \n",
    "# On dit que ce sont des variables entières, car on ne peut pas avoir une demi vache.\n",
    "charolaise = p.LpVariable(\"charolaise\", 0, None, p.LpInteger)   \n",
    "blanc_bleu = p.LpVariable(\"blanc_bleu\", 0, None, p.LpInteger)   \n",
    "salers = p.LpVariable(\"salers\", 0, None, p.LpInteger)  \n",
    "\n",
    "# Ecrire la fonction objectif à maximizer qui nous donne un résultat en Euros \n",
    "# Les coûts réduits sont ici.\n",
    "Mon_Probleme +=  100 * charolaise + 110 * blanc_bleu + 115 * salers\n",
    "\n",
    "# Les contraintes : \n",
    "# Les shadow price sont ici :\n",
    "# nourriture\n",
    "Mon_Probleme += (7 * charolaise + 7 * blanc_bleu + 8 * salers <= 600,\"Contrainte_eau\")\n",
    "\n",
    "# eau\n",
    "Mon_Probleme += (4.5* charolaise + 9 * blanc_bleu + 3 * salers <= 700,\"Contrainte_nourriture\")\n",
    "\n",
    "# Résoudre\n",
    "Mon_Probleme.solve()\n",
    "# On imprime les variables qui ont leur valeur optimisées\n",
    "for v in Mon_Probleme.variables():\n",
    "    print(v.name, \"=\", v.varValue)\n",
    "# La valeur de la fonction objective optimisée est imprimée à l'écran\n",
    "print(\"Profit total maximisé = \", p.value(Mon_Probleme.objective))\n",
    "print(f\"status: {Mon_Probleme.status}, {p.LpStatus[Mon_Probleme.status]}\")\n",
    "\n",
    "# Analyse de sensitivité\n",
    "sensitivity_data = []\n",
    "for name, constraint in Mon_Probleme.constraints.items():\n",
    "    sensitivity_data.append({'Name': name,\n",
    "                             'Constraint': constraint,\n",
    "                             'Shadow Price': constraint.pi,\n",
    "                             'Slack': constraint.slack\n",
    "                             })\n",
    "Modeloutput = pd.DataFrame(sensitivity_data)\n",
    "print((Modeloutput))\n"
   ]
  },
  {
   "cell_type": "markdown",
   "metadata": {},
   "source": [
    "## A second short example showing the Shadow Price in action.\n",
    "\n",
    "The Shadow Price tells us that if we unbelieved constraint 1 which is our stock, we will win 78.14 euros more!\n",
    "By doing the test, it fills!\n",
    "(This example has no connection with the basic example)\n",
    "\n",
    "Author: Aaren Stubberfield"
   ]
  },
  {
   "cell_type": "code",
   "execution_count": 3,
   "metadata": {},
   "outputs": [
    {
     "name": "stdout",
     "output_type": "stream",
     "text": [
      "Model Status:Optimal\n",
      "Objective =  5133.333350000001\n",
      "A = 6.6666667\n",
      "B = 4.0\n",
      "C = 0.0\n",
      "  Name               Constraint  Shadow Price     Slack\n",
      "0  _C1       {A: 6, B: 5, C: 8}     78.148148 -0.000000\n",
      "1  _C2  {A: 10.5, B: 20, C: 10}      2.962963 -0.000000\n",
      "2  _C3                   {A: 1}     -0.000000  1.333333\n"
     ]
    }
   ],
   "source": [
    "\n",
    "import pulp as p\n",
    "model = p.LpProblem(\"Max_GlassCo_Profits\",p.LpMaximize)\n",
    "A = p.LpVariable('A', lowBound=0)\n",
    "B = p.LpVariable('B', lowBound=0)\n",
    "C = p.LpVariable('C', lowBound=0)\n",
    "model += 500 * A + 450 * B + 600 * C\n",
    "# Constraint 1\n",
    "model += 6 * A + 5 * B + 8 * C <= 60\n",
    "# Constraint 2\n",
    "model += 10.5 * A + 20 * B + 10 * C <= 150\n",
    "# Constraint 3\n",
    "model += A <= 8\n",
    "# Solve Model\n",
    "model.solve()\n",
    "print(\"Model Status:{}\".format(p.LpStatus[model.status]))\n",
    "print(\"Objective = \", p.value(model.objective))\n",
    "for v in model.variables():\n",
    "    print(v.name, \"=\", v.varValue)\n",
    "# Analyse de sensitivité\n",
    "sensitivity_data = []\n",
    "for name, constraint in model.constraints.items():\n",
    "    sensitivity_data.append({'Name': name,\n",
    "                             'Constraint': constraint,\n",
    "                             'Shadow Price': constraint.pi,\n",
    "                             'Slack': constraint.slack\n",
    "                             })\n",
    "Modeloutput = pd.DataFrame(sensitivity_data)\n",
    "print((Modeloutput))"
   ]
  },
  {
   "cell_type": "markdown",
   "metadata": {},
   "source": [
    "## Adding fixed and variable costs.\n",
    "\n",
    "My farm has a fixed cost of 1200 euros.\n",
    "Each animal implies a variable cost of 10.12 and 9.5 euros respectively.\n",
    "\n",
    "I want to include these elements to the objective function so that it takes them into account when optimizing.\n",
    "\n",
    "Note: We are still within the framework of a linear problem, the variable costs of animals is therefore proportional to the number of animals, each animal has a fixed cost directly applied, it does not decrease or does not vary with the number, ifThis was the case, we would be in a non -linear problem."
   ]
  },
  {
   "cell_type": "code",
   "execution_count": 4,
   "metadata": {},
   "outputs": [
    {
     "name": "stdout",
     "output_type": "stream",
     "text": [
      "blanc_bleu = 72.0\n",
      "charolaise = 0.0\n",
      "salers = 12.0\n",
      "Profit total maximisé =  7322.0\n"
     ]
    }
   ],
   "source": [
    "# Importer la librairie Pulp sous le pseudo p\n",
    "import pulp as p \n",
    "\n",
    "# Nos coûts\n",
    "cout_fixe = 1000\n",
    "cout_charolaise = 10\n",
    "cout_blanc_bleu = 12\n",
    "cout_salers = 9.5\n",
    "\n",
    "# Créer un programme linéaire de maximisation\n",
    "Mon_Probleme = p.LpProblem('maximisation_de_profit_agricole', p.LpMaximize)  \n",
    "\n",
    "# Créer les variables du problème \n",
    "charolaise = p.LpVariable(\"charolaise\", 0, None, p.LpInteger)   \n",
    "blanc_bleu = p.LpVariable(\"blanc_bleu\", 0, None, p.LpInteger)   \n",
    "salers = p.LpVariable(\"salers\", 0, None, p.LpInteger)   \n",
    "\n",
    "# Ecrire la fonction objectif à maximizer qui nous donne un résultat en Euros \n",
    "Mon_Probleme +=  ((100 - cout_charolaise)  * charolaise + (110 - cout_blanc_bleu) * blanc_bleu + \n",
    "             (115 - cout_salers) * salers ) - cout_fixe\n",
    "\n",
    "# Les contraintes : \n",
    "\n",
    "# nourriture\n",
    "Mon_Probleme += 7 * charolaise + 7 * blanc_bleu + 8 * salers <= 600\n",
    "\n",
    "# eau\n",
    "Mon_Probleme += 4.5* charolaise + 9 * blanc_bleu + 3 * salers <= 700\n",
    "\n",
    "# Résoudre\n",
    "Mon_Probleme.solve()\n",
    "# On imprime les variables qui ont leur valeur optimisées\n",
    "for v in Mon_Probleme.variables():\n",
    "    print(v.name, \"=\", v.varValue)\n",
    "# La valeur de la fonction objective optimisée est imprimée à l'écran\n",
    "print(\"Profit total maximisé = \", p.value(Mon_Probleme.objective))"
   ]
  },
  {
   "cell_type": "markdown",
   "metadata": {},
   "source": [
    "## Forcing the production of an element.\n",
    "\n",
    "We see in our result that the solver tells us not to produce Charolais, in order to maximize our profit.\n",
    "But I still want to have 20 Charolais at least in my livestock and at least 20 Salers, even if it implies a loss of profit.\n"
   ]
  },
  {
   "cell_type": "code",
   "execution_count": 5,
   "metadata": {},
   "outputs": [
    {
     "name": "stdout",
     "output_type": "stream",
     "text": [
      "blanc_bleu = 36.0\n",
      "charolaise = 20.0\n",
      "salers = 26.0\n",
      "Profit total maximisé =  7071.0\n"
     ]
    }
   ],
   "source": [
    "# Importer la librairie Pulp sous le pseudo p\n",
    "import pulp as p \n",
    "\n",
    "# Nos coûts\n",
    "cout_fixe = 1000\n",
    "cout_charolaise = 10\n",
    "cout_blanc_bleu = 12\n",
    "cout_salers = 9.5\n",
    "\n",
    "# Créer un programme linéaire de maximisation\n",
    "Mon_Probleme = p.LpProblem('maximisation_de_profit_agricole', p.LpMaximize)  \n",
    "\n",
    "# Créer les variables du problème \n",
    "charolaise = p.LpVariable(\"charolaise\", 0, None, p.LpInteger)   \n",
    "blanc_bleu = p.LpVariable(\"blanc_bleu\", 0, None, p.LpInteger)   \n",
    "salers = p.LpVariable(\"salers\", 0, None, p.LpInteger)   \n",
    "\n",
    "# Ecrire la fonction objectif à maximizer qui nous donne un résultat en Euros \n",
    "Mon_Probleme +=  ((100 - cout_charolaise)  * charolaise + (110 - cout_blanc_bleu) * blanc_bleu + \n",
    "             (115 - cout_salers) * salers ) - cout_fixe\n",
    "\n",
    "# Les contraintes : \n",
    "# nourriture\n",
    "Mon_Probleme += 7 * charolaise + 7 * blanc_bleu + 8 * salers <= 600\n",
    "# eau\n",
    "Mon_Probleme += 4.5* charolaise + 9 * blanc_bleu + 3 * salers <= 700\n",
    "\n",
    "# Minimum de 20 charolaises\n",
    "Mon_Probleme += charolaise >= 20\n",
    "\n",
    "# Minimum de 20 salers\n",
    "Mon_Probleme += salers >= 20\n",
    "\n",
    "# Résoudre\n",
    "Mon_Probleme.solve()\n",
    "# On imprime les variables qui ont leur valeur optimisées\n",
    "for v in Mon_Probleme.variables():\n",
    "    print(v.name, \"=\", v.varValue)\n",
    "# La valeur de la fonction objective optimisée est imprimée à l'écran\n",
    "print(\"Profit total maximisé = \", p.value(Mon_Probleme.objective))"
   ]
  },
  {
   "cell_type": "markdown",
   "metadata": {},
   "source": [
    "## Addition of conditional constraint.(1)\n",
    "\n",
    "I want that if my animal livestock of the white_bleu type exceeds 30 units, an additional cost of labor of 30 euros applied bristles."
   ]
  },
  {
   "cell_type": "code",
   "execution_count": 6,
   "metadata": {},
   "outputs": [
    {
     "name": "stdout",
     "output_type": "stream",
     "text": [
      "blanc_bleu = 36.0\n",
      "charolaise = 20.0\n",
      "depassement_blanc_bleu = 1.0\n",
      "salers = 26.0\n",
      "Profit total maximisé =  7041.0\n"
     ]
    }
   ],
   "source": [
    "# Importer la librairie Pulp sous le pseudo p\n",
    "import pulp as p \n",
    "\n",
    "# Nos coûts\n",
    "cout_fixe = 1000\n",
    "cout_charolaise = 10\n",
    "cout_blanc_bleu = 12\n",
    "cout_salers = 9.5\n",
    "\n",
    "# Créer un programme linéaire de maximisation\n",
    "Mon_Probleme = p.LpProblem('maximisation_de_profit_agricole', p.LpMaximize)  \n",
    "\n",
    "# Créer les variables du problème \n",
    "charolaise = p.LpVariable(\"charolaise\", 0, None, p.LpInteger)   \n",
    "blanc_bleu = p.LpVariable(\"blanc_bleu\", 0, None, p.LpInteger)   \n",
    "salers = p.LpVariable(\"salers\", 0, None, p.LpInteger) \n",
    "\n",
    "# Variable binaire On/Off\n",
    "depassement_blanc_bleu =   p.LpVariable(\"depassement_blanc_bleu\", 0, None, p.LpBinary)\n",
    "\n",
    "# Ecrire la fonction objectif à maximizer qui nous donne un résultat en Euros \n",
    "Mon_Probleme +=  ((100 - cout_charolaise)  * charolaise + (110 - cout_blanc_bleu) * \n",
    "             blanc_bleu + (115 - cout_salers) * salers ) - cout_fixe -  30 * depassement_blanc_bleu\n",
    "\n",
    "# Les contraintes : \n",
    "# nourriture\n",
    "Mon_Probleme += 7 * charolaise + 7 * blanc_bleu + 8 * salers <= 600\n",
    "# eau\n",
    "Mon_Probleme += 4.5* charolaise + 9 * blanc_bleu + 3 * salers <= 700\n",
    "# Minimum de 20 charolaises\n",
    "Mon_Probleme += charolaise >= 20\n",
    "# Minimum de 20 salers\n",
    "Mon_Probleme += salers >= 20\n",
    "\n",
    "# La variable binaire\n",
    "# Si mon cheptel de blanc_bleu dépasse 30, alors la variable binaire est à 1 et le\n",
    "# coût de 30 est soustrait de la fonction objectif, attention, c'est pris en compte\n",
    "# en cours d'optimisation.\n",
    "M = 1000  # M se calcule selon une certaine méthode ( BigM)\n",
    "# si blanc_bleu > 30 alors z = 1 s'écrit comme cela avec PULP\n",
    "Mon_Probleme += depassement_blanc_bleu  >= (blanc_bleu - 30 )/M\n",
    "\n",
    "# Résoudre\n",
    "Mon_Probleme.solve()\n",
    "# On imprime les variables qui ont leur valeur optimisées\n",
    "for v in Mon_Probleme.variables():\n",
    "    print(v.name, \"=\", v.varValue)\n",
    "# La valeur de la fonction objective optimisée est imprimée à l'écran\n",
    "print(\"Profit total maximisé = \", p.value(Mon_Probleme.objective))"
   ]
  },
  {
   "cell_type": "markdown",
   "metadata": {},
   "source": [
    "## Addition of conditional constraint.(2)\n",
    "\n",
    "I want that if my animal livestock of the white_bleu type exceeds 30 units, an additional cost of labor of 30 euros applied bristles.\n",
    "This time, we resolve with the Solver <b> python cplex </b>, which allows you to express the conditional constraints very naturally (but it is paying ..)."
   ]
  },
  {
   "cell_type": "code",
   "execution_count": 7,
   "metadata": {},
   "outputs": [
    {
     "name": "stdout",
     "output_type": "stream",
     "text": [
      "Version identifier: 22.1.1.0 | 2023-02-09 | 22d6266e5\n",
      "CPXPARAM_Read_DataCheck                          1\n",
      "CPXPARAM_MIP_Display                             0\n",
      "objective: 7041.000\n",
      "status: OPTIMAL_SOLUTION(2)\n",
      "  \"charolaise\"=20\n",
      "  \"blanc_bleu\"=36\n",
      "  \"salers \"=26\n",
      "  \"depassement_blanc_bleu\"=1\n"
     ]
    }
   ],
   "source": [
    "import cplex\n",
    "import docplex.mp\n",
    "from docplex.mp.model import Model\n",
    "\n",
    "# Nos coûts\n",
    "cout_fixe = 1000\n",
    "cout_charolaise = 10\n",
    "cout_blanc_bleu = 12\n",
    "cout_salers = 9.5\n",
    "\n",
    "# On crée notre modèle\n",
    "model = Model(name='maximisation_de_profit_agricole', log_output=True)\n",
    "\n",
    "# On crée nos variables de décision\n",
    "charolaise = model.integer_var(name='charolaise')\n",
    "blanc_bleu = model.integer_var(name='blanc_bleu')\n",
    "salers = model.integer_var(name='salers ')\n",
    "depassement_blanc_bleu = model.binary_var(name='depassement_blanc_bleu')\n",
    "\n",
    "# On crée la fonction objectif\n",
    "model.maximize(((100 - cout_charolaise)  * charolaise + (110 - cout_blanc_bleu) * \n",
    "             blanc_bleu + (115 - cout_salers) * salers ) - cout_fixe -  30 * depassement_blanc_bleu)\n",
    "\n",
    "# On crée les contraintes\n",
    "model.add_constraint(7 * charolaise + 7 * blanc_bleu + 8 * salers <= 600)\n",
    "model.add_constraint(4.5* charolaise + 9 * blanc_bleu + 3 * salers <= 700)\n",
    "model.add_constraint(charolaise >= 20)\n",
    "model.add_constraint(salers >= 20)\n",
    "\n",
    "\n",
    "# On spécifie le déclencheur de la contrainte depassement_blanc_bleu, \n",
    "# qui dit que si la production de animaux blanc_bleu dépasse 30, \n",
    "# alors le coût de 30 euros est soustrait dans la fonction objectif\n",
    "#if then constraint\n",
    "model.add_constraint(model.if_then(blanc_bleu >= 30, depassement_blanc_bleu == 1))\n",
    "\n",
    "\n",
    "model.parameters.mip.display.set(0)\n",
    "sol_model = model.solve()\n",
    "model.print_solution()\n"
   ]
  },
  {
   "cell_type": "markdown",
   "metadata": {},
   "source": [
    "## Conditional associations (with Pulp)\n",
    "\n",
    "If blue white animals exceed 20, then Salers animals should exceed 15.\n"
   ]
  },
  {
   "cell_type": "code",
   "execution_count": 8,
   "metadata": {},
   "outputs": [
    {
     "name": "stdout",
     "output_type": "stream",
     "text": [
      "association = 1.0\n",
      "blanc_bleu = 44.0\n",
      "charolaise = 20.0\n",
      "salers = 19.0\n",
      "Profit total maximisé =  7116.5\n"
     ]
    }
   ],
   "source": [
    "# Importer la librairie Pulp sous le pseudo p\n",
    "import pulp as p \n",
    "\n",
    "# Nos coûts\n",
    "cout_fixe = 1000\n",
    "cout_charolaise = 10\n",
    "cout_blanc_bleu = 12\n",
    "cout_salers = 9.5\n",
    "\n",
    "# Créer un programme linéaire de maximisation\n",
    "Mon_Probleme = p.LpProblem('maximisation_de_profit_agricole', p.LpMaximize)  \n",
    "\n",
    "# Créer les variables du problème \n",
    "charolaise = p.LpVariable(\"charolaise\", 0, None, p.LpInteger)   \n",
    "blanc_bleu = p.LpVariable(\"blanc_bleu\", 0, None, p.LpInteger)   \n",
    "salers = p.LpVariable(\"salers\", 0, None, p.LpInteger) \n",
    "\n",
    "# Variable binaire On/Off\n",
    "association =   p.LpVariable(\"association\", 0, None, p.LpBinary)\n",
    "\n",
    "# Ecrire la fonction objectif à maximizer qui nous donne un résultat en Euros \n",
    "Mon_Probleme +=  ((100 - cout_charolaise)  * charolaise + (110 - cout_blanc_bleu) * \n",
    "             blanc_bleu + (115 - cout_salers) * salers ) - cout_fixe \n",
    "\n",
    "# Les contraintes : \n",
    "# nourriture\n",
    "Mon_Probleme += 7 * charolaise + 7 * blanc_bleu + 8 * salers <= 600\n",
    "# eau\n",
    "Mon_Probleme += 4.5* charolaise + 9 * blanc_bleu + 3 * salers <= 700\n",
    "# Minimum de 20 charolaises\n",
    "Mon_Probleme += charolaise >= 20\n",
    "# Si le nobre de blanc_bleu dépasse 20, alors, il  doit y avoir au moins 15 vaches salers\n",
    "Mon_Probleme += salers >= association * 15\n",
    "\n",
    "# Setting de la variable binaire avec la méthode BigM\n",
    "M = 1000  \n",
    "Mon_Probleme += association  >= (blanc_bleu - 20 )/M\n",
    "\n",
    "# Résoudre\n",
    "Mon_Probleme.solve()\n",
    "# On imprime les variables qui ont leur valeur optimisées\n",
    "for v in Mon_Probleme.variables():\n",
    "    print(v.name, \"=\", v.varValue)\n",
    "# La valeur de la fonction objective optimisée est imprimée à l'écran\n",
    "print(\"Profit total maximisé = \", p.value(Mon_Probleme.objective))"
   ]
  },
  {
   "cell_type": "markdown",
   "metadata": {},
   "source": [
    "## Conditional associations (with CPLEX)\n",
    "\n",
    "If blue white animals exceed 20, then Salers type animals should exceed 15."
   ]
  },
  {
   "cell_type": "code",
   "execution_count": 9,
   "metadata": {},
   "outputs": [],
   "source": [
    "# To come ..."
   ]
  },
  {
   "cell_type": "markdown",
   "metadata": {},
   "source": [
    "# Reduction of transport costs in %\n",
    "\n",
    "The transport costs are 5 euros per animal minus a reduction of 20% for x animals, so if x = 100, the transport costs are 400.\n",
    "5 * x - (5 * x * 20/100)\n",
    "\n",
    "\n",
    "Let's see this in graphics:"
   ]
  },
  {
   "cell_type": "code",
   "execution_count": 10,
   "metadata": {},
   "outputs": [
    {
     "data": {
      "image/png": "[encoded data removed]",
      "text/plain": [
       "<Figure size 640x480 with 1 Axes>"
      ]
     },
     "metadata": {},
     "output_type": "display_data"
    }
   ],
   "source": [
    "import matplotlib.pyplot as plt\n",
    "\n",
    "\n",
    "x_cords = range(0,100)\n",
    "\n",
    "# les frais de transport sont de 5 euros par animal\n",
    "y_lin = [x * 5 for x in x_cords]\n",
    "\n",
    "# les frais de transport sont de 5 euros par objet moins une réduction de 20% pour x\n",
    "y_cords = [ 5 * x -  ( 5 * x * 20 / 100) for x in x_cords] \n",
    "\n",
    "plt.plot(x_cords, y_lin, \"-b\", label=\"transport Port total pour 5 euros par animal\")\n",
    "plt.plot(x_cords, y_cords, label=\"réduction de 20% pour x animaux\")\n",
    "\n",
    "plt.xlabel(\"nombre d'animaux\")\n",
    "plt.ylabel(\"cout du port \")\n",
    "plt.legend(loc=\"upper left\")\n",
    "plt.show()"
   ]
  },
  {
   "cell_type": "code",
   "execution_count": 11,
   "metadata": {},
   "outputs": [
    {
     "name": "stdout",
     "output_type": "stream",
     "text": [
      "blanc_bleu = 0.0\n",
      "charolaise = 85.0\n",
      "salers = 0.0\n",
      "Profit total maximisé =  8160.0\n"
     ]
    }
   ],
   "source": [
    "# Importer la librairie Pulp sous le pseudo p\n",
    "import pulp as p \n",
    "\n",
    "frais_port = 5\n",
    "\n",
    "# Créer un programme linéaire de maximisation\n",
    "Mon_Probleme = p.LpProblem('maximisation_de_profit_agricole', p.LpMaximize)  \n",
    "\n",
    "# Créer les variables du problème, \n",
    "# On dit que ce sont des variables entières, car on ne peut pas avoir une demi vache.\n",
    "charolaise = p.LpVariable(\"charolaise\", 0, None, p.LpInteger)   \n",
    "blanc_bleu = p.LpVariable(\"blanc_bleu\", 0, None, p.LpInteger)   \n",
    "salers = p.LpVariable(\"salers\", 0, None, p.LpInteger)  \n",
    "\n",
    "# Ecrire la fonction objectif à maximizer qui nous donne un résultat en Euros \n",
    "Mon_Probleme +=  (100 * charolaise - (frais_port * charolaise - ( frais_port * charolaise * 20 / 100))) \n",
    "+ ( 110 * blanc_bleu - ( frais_port * blanc_bleu - ( frais_port * blanc_bleu * 20 / 100)))\n",
    "+ ( 115 * salers - (frais_port * salers - ( frais_port * salers * 20 / 100))) \n",
    "\n",
    "# Les contraintes : \n",
    "\n",
    "# nourriture\n",
    "Mon_Probleme += 7 * charolaise + 7 * blanc_bleu + 8 * salers <= 600\n",
    "\n",
    "# eau\n",
    "Mon_Probleme += 4.5* charolaise + 9 * blanc_bleu + 3 * salers <= 700\n",
    "\n",
    "# Résoudre\n",
    "Mon_Probleme.solve()\n",
    "# On imprime les variables qui ont leur valeur optimisées\n",
    "for v in Mon_Probleme.variables():\n",
    "    print(v.name, \"=\", v.varValue)\n",
    "# La valeur de la fonction objective optimisée est imprimée à l'écran\n",
    "print(\"Profit total maximisé = \", p.value(Mon_Probleme.objective))"
   ]
  },
  {
   "cell_type": "markdown",
   "metadata": {},
   "source": [
    "## Adding \"multiple\"\n",
    "\n",
    "We come back to our basic problem,\n",
    "\n",
    "We will add a constraint which says that for any animal of the white white type produced, then it is necessary to produce 2 animals of the Salers type."
   ]
  },
  {
   "cell_type": "code",
   "execution_count": 12,
   "metadata": {},
   "outputs": [
    {
     "name": "stdout",
     "output_type": "stream",
     "text": [
      "blanc_bleu = 72.0\n",
      "charolaise = 4.0\n",
      "salers = 8.0\n",
      "Profit total maximisé =  9240.0\n"
     ]
    }
   ],
   "source": [
    "# Importer la librairie Pulp sous le pseudo p\n",
    "import pulp as p \n",
    "\n",
    "# Créer un programme linéaire de maximisation\n",
    "Mon_Probleme = p.LpProblem('maximisation_de_profit_agricole', p.LpMaximize)  \n",
    "\n",
    "# Créer les variables du problème, \n",
    "# On dit que ce sont des variables entières, car on ne peut pas avoir une demi vache.\n",
    "charolaise = p.LpVariable(\"charolaise\", 0, None, p.LpInteger)   \n",
    "blanc_bleu = p.LpVariable(\"blanc_bleu\", 0, None, p.LpInteger)   \n",
    "salers = p.LpVariable(\"salers\", 0, None, p.LpInteger)  \n",
    "\n",
    "# Ecrire la fonction objectif à maximizer qui nous donne un résultat en Euros \n",
    "Mon_Probleme +=  100 * charolaise + 110 * blanc_bleu + 115 * salers\n",
    "\n",
    "# Les contraintes : \n",
    "\n",
    "# nourriture\n",
    "Mon_Probleme += 7 * charolaise + 7 * blanc_bleu + 8 * salers <= 600\n",
    "\n",
    "# eau\n",
    "Mon_Probleme += 4.5* charolaise + 9 * blanc_bleu + 3 * salers <= 700\n",
    "\n",
    "# Contrainte de multiplicité :\n",
    "# 1 charolaise produite, on doit avoir 2 salers\n",
    "Mon_Probleme += charolaise  * 2 == salers\n",
    "\n",
    "# Résoudre\n",
    "Mon_Probleme.solve()\n",
    "# On imprime les variables qui ont leur valeur optimisées\n",
    "for v in Mon_Probleme.variables():\n",
    "    print(v.name, \"=\", v.varValue)\n",
    "# La valeur de la fonction objective optimisée est imprimée à l'écran\n",
    "print(\"Profit total maximisé = \", p.value(Mon_Probleme.objective))"
   ]
  },
  {
   "cell_type": "markdown",
   "metadata": {},
   "source": [
    "# Addition of additive cost constraints\n",
    "\n",
    "- If the production of animal type white_bleu> 0, then the maintenance side is 20\n",
    "- if the production of type> 20 animal, then the maintenance side is an additional 30 euros\n",
    "- if the production of type> 50 animal, then the maintenance side is an additional 30 euros"
   ]
  },
  {
   "cell_type": "code",
   "execution_count": 13,
   "metadata": {},
   "outputs": [
    {
     "name": "stdout",
     "output_type": "stream",
     "text": [
      "Version identifier: 22.1.1.0 | 2023-02-09 | 22d6266e5\n",
      "CPXPARAM_Read_DataCheck                          1\n",
      "CPXPARAM_MIP_Display                             0\n",
      "objective: 9200\n",
      "status: OPTIMAL_SOLUTION(2)\n",
      "  \"blanc_bleu\"=72\n",
      "  \"salers \"=12\n",
      "  \"depassement_0\"=1\n",
      "  \"depassement_20\"=1\n",
      "  \"depassement_50\"=1\n"
     ]
    }
   ],
   "source": [
    "import cplex\n",
    "import docplex.mp\n",
    "from docplex.mp.model import Model\n",
    "from docplex.util.environment import get_environment\n",
    "\n",
    "# On crée notre modèle\n",
    "model = Model(name='maximisation_de_profit_agricole', log_output=True)\n",
    "\n",
    "# On crée nos variables de décision\n",
    "charolaise = model.integer_var(name='charolaise')\n",
    "blanc_bleu = model.integer_var(name='blanc_bleu')\n",
    "salers = model.integer_var(name='salers ')\n",
    "# Les variables binaires\n",
    "depassement_0 = model.binary_var(name='depassement_0')\n",
    "depassement_20 = model.binary_var(name='depassement_20')\n",
    "depassement_50 = model.binary_var(name='depassement_50')\n",
    "\n",
    "# On crée la fonction objectif\n",
    "model.maximize(100 * charolaise + 110 * blanc_bleu + 115 * salers \n",
    "               - depassement_0 * 20 - depassement_20 * 30 - depassement_50 * 50) \n",
    "\n",
    "# On crée les contraintes\n",
    "model.add_constraint(7 * charolaise + 7 * blanc_bleu + 8 * salers <= 600)\n",
    "model.add_constraint(4.5* charolaise + 9 * blanc_bleu + 3 * salers <= 700)\n",
    "\n",
    "\n",
    "# Contraintes de coûts additives\n",
    "# On crée les contraintes binaires qui vont activer ou pas les couts dans la fonction objectif\n",
    "model.add_constraint(model.if_then(blanc_bleu >= 0, depassement_0 == 1))\n",
    "model.add_constraint(model.if_then(blanc_bleu >= 20, depassement_20 == 1))\n",
    "model.add_constraint(model.if_then(blanc_bleu >= 50, depassement_50 == 1))\n",
    "\n",
    "model.parameters.mip.display.set(0)\n",
    "sol_model = model.solve()\n",
    "model.print_solution()"
   ]
  },
  {
   "cell_type": "markdown",
   "metadata": {},
   "source": [
    "## Addition of discontinuous constraints.\n",
    "\n",
    "## Description :\n",
    "\n",
    "- If the production of animal type white_bleu> 0, then the maintenance side is 20\n",
    "- if the production of animal type white_bleu> 20, then the maintenance side is 30 euros\n",
    "- if the production of animal type white_bleu> 50, then the maintenance side is 50 euros\n",
    "\n",
    "- Important note:\n",
    "The costs are always taken into account when optimizing, when the simplex is executed.\n",
    "That is to say that the solver takes into account the fixed costs mentioned above and suddenly, may choose less blue animal of blue."
   ]
  },
  {
   "cell_type": "markdown",
   "metadata": {},
   "source": [
    "## graphic of our discontinuous constraints.\n"
   ]
  },
  {
   "cell_type": "code",
   "execution_count": 14,
   "metadata": {},
   "outputs": [
    {
     "data": {
      "image/png": "[encoded data removed]",
      "text/plain": [
       "<Figure size 640x480 with 1 Axes>"
      ]
     },
     "metadata": {},
     "output_type": "display_data"
    }
   ],
   "source": [
    "import matplotlib.pyplot as plt\n",
    "plt.plot([0, 19, 20, 49,50,100], [20,20,30, 30, 50 ,50])\n",
    "plt.xlabel('Nombre produits A')\n",
    "plt.ylabel('coût de production en euros')\n",
    "plt.show()"
   ]
  },
  {
   "cell_type": "markdown",
   "metadata": {},
   "source": [
    "## Solution avec Python Cplex"
   ]
  },
  {
   "cell_type": "code",
   "execution_count": 15,
   "metadata": {},
   "outputs": [
    {
     "name": "stdout",
     "output_type": "stream",
     "text": [
      "Version identifier: 22.1.1.0 | 2023-02-09 | 22d6266e5\n",
      "CPXPARAM_Read_DataCheck                          1\n",
      "CPXPARAM_MIP_Display                             0\n",
      "objective: 9228.000\n",
      "status: OPTIMAL_SOLUTION(2)\n",
      "  \"blanc_bleu\"=72\n",
      "  \"salers \"=12\n"
     ]
    }
   ],
   "source": [
    "import cplex\n",
    "import docplex.mp\n",
    "from docplex.mp.model import Model\n",
    "from docplex.util.environment import get_environment\n",
    "\n",
    "# On crée notre modèle\n",
    "model = Model(name='maximisation_de_profit_agricole', log_output=True)\n",
    "\n",
    "# On crée nos variables de décision\n",
    "charolaise = model.integer_var(name='charolaise')\n",
    "blanc_bleu = model.integer_var(name='blanc_bleu')\n",
    "salers = model.integer_var(name='salers ')\n",
    "\n",
    "# On définit la fonction piecewize de type discontinue\n",
    "f = model.piecewise(0, [(0, 20), (20, 30), (50, 50)],1)\n",
    "\n",
    "# On crée la fonction objectif\n",
    "# On maximise moins les coûts provenant de la fonction piecewize f(x)\n",
    "model.maximize(100 * charolaise + 110 * blanc_bleu  + 115 * salers - f(blanc_bleu)) \n",
    "\n",
    "# On crée les contraintes\n",
    "model.add_constraint(7 * charolaise + 7 * blanc_bleu + 8 * salers <= 600)\n",
    "model.add_constraint(4.5* charolaise + 9 * blanc_bleu + 3 * salers <= 700)\n",
    "\n",
    "# Résoudre\n",
    "model.parameters.mip.display.set(0)\n",
    "sol_model = model.solve()\n",
    "model.print_solution()"
   ]
  },
  {
   "cell_type": "markdown",
   "metadata": {},
   "source": [
    "# Ajout de contraintes piecewize\n",
    "\n",
    "Les contraintes piecewize permettent de linéariser une fonction côut non linéaire.\n",
    "\n"
   ]
  },
  {
   "cell_type": "markdown",
   "metadata": {},
   "source": [
    "# Solution avec Python Cplex\n",
    "\n",
    "Il existe 2 méthodes, on choisit celle avec les breakpoints. \n",
    "(Voir le lien https://ibmdecisionoptimization.github.io/tutorials/html/Beyond_Linear_Programming.html)\n",
    "\n",
    "Le coût de production est proportionnel au nombre d'animal de type blanc_bleu produit, \n",
    "mais il différe par \"à coups\" selon certains seuils.\n",
    "On décompose cela en fonctions piecewize, et on se sert de Python Cplex pour résoudre et afficher le graphique des fonctions de coût piecewize."
   ]
  },
  {
   "cell_type": "code",
   "execution_count": 16,
   "metadata": {},
   "outputs": [
    {
     "name": "stdout",
     "output_type": "stream",
     "text": [
      "Version identifier: 22.1.1.0 | 2023-02-09 | 22d6266e5\n",
      "CPXPARAM_Read_DataCheck                          1\n",
      "CPXPARAM_MIP_Display                             0\n",
      "charolaise  =  0\n",
      "blanc_bleu  =  72.0\n",
      "salers   =  12.0\n",
      "_pwl3  =  52.2\n",
      "solution for: maximisation_de_profit_agricole\n",
      "objective: 9247.8\n",
      "status: OPTIMAL_SOLUTION(2)\n",
      "blanc_bleu=72\n",
      "salers =12\n",
      "\n"
     ]
    },
    {
     "data": {
      "image/png": "[encoded data removed]",
      "text/plain": [
       "<Figure size 640x480 with 1 Axes>"
      ]
     },
     "metadata": {},
     "output_type": "display_data"
    }
   ],
   "source": [
    "import cplex\n",
    "import docplex.mp\n",
    "from docplex.mp.model import Model\n",
    "\n",
    "\n",
    "# On crée notre modèle\n",
    "model = Model(name='maximisation_de_profit_agricole', log_output=True)\n",
    "\n",
    "# On crée nos variables de décision\n",
    "charolaise = model.integer_var(name='charolaise')\n",
    "blanc_bleu = model.integer_var(name='blanc_bleu')\n",
    "salers = model.integer_var(name='salers ')\n",
    "\n",
    "# On crée les fonctions piecewize avec leur breakpoints\n",
    "pwf2 = model.piecewise(preslope=0, breaksxy=[(0, 10), (20, 20), (50, 50)], postslope=0.1)\n",
    "\n",
    "\n",
    "# On crée cette contrainte pour contrôler \n",
    "# si les couts piecewize fonctionnent quand on change la valeur\n",
    "# model.add_constraint(a  <= 1000)\n",
    "\n",
    "# On crée la fonction objectif\n",
    "# On maximise notre profit, moins les couts de type piecewize\n",
    "model.maximize(100 * charolaise + 110 * blanc_bleu  + 115 * salers - pwf2(blanc_bleu)) \n",
    "\n",
    "# On crée les contraintes\n",
    "model.add_constraint(7 * charolaise + 7 * blanc_bleu + 8 * salers <= 600)\n",
    "model.add_constraint(4.5* charolaise + 9 * blanc_bleu + 3 * salers <= 700)\n",
    "\n",
    "model.parameters.mip.display.set(0)\n",
    "model.solve()\n",
    "\n",
    "for v in model.iter_integer_vars():\n",
    "    print(v,\" = \",v.solution_value) \n",
    "\n",
    "for v in model.iter_continuous_vars():\n",
    "    print(v,\" = \",v.solution_value) \n",
    "\n",
    "for v in model.iter_binary_vars():\n",
    "    print(v,\" = \",v.solution_value) \n",
    "\n",
    "print(model.solution)\n",
    "\n",
    "# On dessine les fonctions de couts piecewize\n",
    "pwf2.plot(lx=-1, rx=100, k=1, color='r', marker='o', linewidth=2)"
   ]
  },
  {
   "cell_type": "markdown",
   "metadata": {},
   "source": [
    "## - Creation of Piecewize functions from a convex function\n",
    "\n",
    "We look at this bookstore, pwlf:\n",
    "https://jekel.me/piecewise_line_fit_py/examples.html#fit-with-known-breakpoint-locations\n",
    "\n",
    "This goes beyond the framework of this notebook, but it is a path to recover the breakpoints, in order to then create a linear optimization.\n",
    "To see if there is not a simpler solution.\n"
   ]
  },
  {
   "cell_type": "code",
   "execution_count": 17,
   "metadata": {},
   "outputs": [
    {
     "ename": "ModuleNotFoundError",
     "evalue": "No module named 'pwlf'",
     "output_type": "error",
     "traceback": [
      "\u001b[1;31m---------------------------------------------------------------------------\u001b[0m",
      "\u001b[1;31mModuleNotFoundError\u001b[0m                       Traceback (most recent call last)",
      "Cell \u001b[1;32mIn[17], line 3\u001b[0m\n\u001b[0;32m      1\u001b[0m \u001b[38;5;28;01mimport\u001b[39;00m \u001b[38;5;21;01mnumpy\u001b[39;00m \u001b[38;5;28;01mas\u001b[39;00m \u001b[38;5;21;01mnp\u001b[39;00m\n\u001b[0;32m      2\u001b[0m \u001b[38;5;28;01mimport\u001b[39;00m \u001b[38;5;21;01mmatplotlib\u001b[39;00m\u001b[38;5;21;01m.\u001b[39;00m\u001b[38;5;21;01mpyplot\u001b[39;00m \u001b[38;5;28;01mas\u001b[39;00m \u001b[38;5;21;01mplt\u001b[39;00m\n\u001b[1;32m----> 3\u001b[0m \u001b[38;5;28;01mimport\u001b[39;00m \u001b[38;5;21;01mpwlf\u001b[39;00m\n\u001b[0;32m      5\u001b[0m \u001b[38;5;66;03m# your data\u001b[39;00m\n\u001b[0;32m      6\u001b[0m y \u001b[38;5;241m=\u001b[39m np\u001b[38;5;241m.\u001b[39marray([\u001b[38;5;241m0.00000000e+00\u001b[39m, \u001b[38;5;241m9.69801700e-03\u001b[39m, \u001b[38;5;241m2.94350340e-02\u001b[39m,              \u001b[38;5;241m4.39052750e-02\u001b[39m, \u001b[38;5;241m5.45343950e-02\u001b[39m, \u001b[38;5;241m6.74104940e-02\u001b[39m,              \u001b[38;5;241m8.34831790e-02\u001b[39m, \u001b[38;5;241m1.02580042e-01\u001b[39m, \u001b[38;5;241m1.22767939e-01\u001b[39m,              \u001b[38;5;241m1.42172312e-01\u001b[39m, \u001b[38;5;241m0.00000000e+00\u001b[39m, \u001b[38;5;241m8.58600000e-06\u001b[39m,              \u001b[38;5;241m8.31543400e-03\u001b[39m, \u001b[38;5;241m2.34184100e-02\u001b[39m, \u001b[38;5;241m3.39709150e-02\u001b[39m,              \u001b[38;5;241m4.03581990e-02\u001b[39m, \u001b[38;5;241m4.53545600e-02\u001b[39m, \u001b[38;5;241m5.02345260e-02\u001b[39m,              \u001b[38;5;241m5.55253360e-02\u001b[39m, \u001b[38;5;241m6.14750770e-02\u001b[39m, \u001b[38;5;241m6.82125120e-02\u001b[39m,              \u001b[38;5;241m7.55892510e-02\u001b[39m, \u001b[38;5;241m8.38356810e-02\u001b[39m, \u001b[38;5;241m9.26413070e-02\u001b[39m,              \u001b[38;5;241m1.02039790e-01\u001b[39m, \u001b[38;5;241m1.11688258e-01\u001b[39m, \u001b[38;5;241m1.21390666e-01\u001b[39m,              \u001b[38;5;241m1.31196948e-01\u001b[39m, \u001b[38;5;241m0.00000000e+00\u001b[39m, \u001b[38;5;241m1.56706510e-02\u001b[39m,              \u001b[38;5;241m3.54628780e-02\u001b[39m, \u001b[38;5;241m4.63739040e-02\u001b[39m, \u001b[38;5;241m5.61442590e-02\u001b[39m,              \u001b[38;5;241m6.78542550e-02\u001b[39m, \u001b[38;5;241m8.16388310e-02\u001b[39m, \u001b[38;5;241m9.77756110e-02\u001b[39m,              \u001b[38;5;241m1.16531753e-01\u001b[39m, \u001b[38;5;241m1.37038283e-01\u001b[39m, \u001b[38;5;241m0.00000000e+00\u001b[39m,              \u001b[38;5;241m1.16951050e-02\u001b[39m, \u001b[38;5;241m3.12089850e-02\u001b[39m, \u001b[38;5;241m4.41776550e-02\u001b[39m,              \u001b[38;5;241m5.42877590e-02\u001b[39m, \u001b[38;5;241m6.63321350e-02\u001b[39m, \u001b[38;5;241m8.07655920e-02\u001b[39m,              \u001b[38;5;241m9.70363280e-02\u001b[39m, \u001b[38;5;241m1.15706975e-01\u001b[39m, \u001b[38;5;241m1.36687642e-01\u001b[39m,              \u001b[38;5;241m0.00000000e+00\u001b[39m, \u001b[38;5;241m1.50144640e-02\u001b[39m, \u001b[38;5;241m3.44519970e-02\u001b[39m,              \u001b[38;5;241m4.55907760e-02\u001b[39m, \u001b[38;5;241m5.59556700e-02\u001b[39m, \u001b[38;5;241m6.88450940e-02\u001b[39m,              \u001b[38;5;241m8.41374060e-02\u001b[39m, \u001b[38;5;241m1.01254006e-01\u001b[39m, \u001b[38;5;241m1.20605073e-01\u001b[39m,              \u001b[38;5;241m1.41881288e-01\u001b[39m, \u001b[38;5;241m1.62618058e-01\u001b[39m])\n",
      "\u001b[1;31mModuleNotFoundError\u001b[0m: No module named 'pwlf'"
     ]
    }
   ],
   "source": [
    "import numpy as np\n",
    "import matplotlib.pyplot as plt\n",
    "import pwlf\n",
    "\n",
    "# your data\n",
    "y = np.array([0.00000000e+00, 9.69801700e-03, 2.94350340e-02,              4.39052750e-02, 5.45343950e-02, 6.74104940e-02,              8.34831790e-02, 1.02580042e-01, 1.22767939e-01,              1.42172312e-01, 0.00000000e+00, 8.58600000e-06,              8.31543400e-03, 2.34184100e-02, 3.39709150e-02,              4.03581990e-02, 4.53545600e-02, 5.02345260e-02,              5.55253360e-02, 6.14750770e-02, 6.82125120e-02,              7.55892510e-02, 8.38356810e-02, 9.26413070e-02,              1.02039790e-01, 1.11688258e-01, 1.21390666e-01,              1.31196948e-01, 0.00000000e+00, 1.56706510e-02,              3.54628780e-02, 4.63739040e-02, 5.61442590e-02,              6.78542550e-02, 8.16388310e-02, 9.77756110e-02,              1.16531753e-01, 1.37038283e-01, 0.00000000e+00,              1.16951050e-02, 3.12089850e-02, 4.41776550e-02,              5.42877590e-02, 6.63321350e-02, 8.07655920e-02,              9.70363280e-02, 1.15706975e-01, 1.36687642e-01,              0.00000000e+00, 1.50144640e-02, 3.44519970e-02,              4.55907760e-02, 5.59556700e-02, 6.88450940e-02,              8.41374060e-02, 1.01254006e-01, 1.20605073e-01,              1.41881288e-01, 1.62618058e-01])\n",
    "x = np.array([0.00000000e+00, 8.82678000e-03, 3.25615100e-02,              5.66106800e-02, 7.95549800e-02, 1.00936330e-01,              1.20351520e-01, 1.37442010e-01, 1.51858250e-01,              1.64433570e-01, 0.00000000e+00, -2.12600000e-05,              7.03872000e-03, 1.85494500e-02, 3.00926700e-02,              4.17617000e-02, 5.37279600e-02, 6.54941000e-02,              7.68092100e-02, 8.76596300e-02, 9.80525800e-02,              1.07961810e-01, 1.17305210e-01, 1.26063930e-01,              1.34180360e-01, 1.41725010e-01, 1.48629710e-01,              1.55374770e-01, 0.00000000e+00, 1.65610200e-02,              3.91016100e-02, 6.18679400e-02, 8.30997400e-02,              1.02132890e-01, 1.19011260e-01, 1.34620080e-01,              1.49429370e-01, 1.63539960e-01, -0.00000000e+00,              1.01980300e-02, 3.28642800e-02, 5.59461900e-02,              7.81388400e-02, 9.84458400e-02, 1.16270210e-01,              1.31279040e-01, 1.45437090e-01, 1.59627540e-01,              0.00000000e+00, 1.63404300e-02, 4.00086000e-02,              6.34390200e-02, 8.51085900e-02, 1.04787860e-01,              1.22120350e-01, 1.36931660e-01, 1.50958760e-01,              1.65299640e-01, 1.79942720e-01])\n",
    "\n",
    "# your desired line segment end locations\n",
    "x0 = np.array([min(x), 0.039, 0.10, max(x)])\n",
    "\n",
    "# initialize piecewise linear fit with your x and y data\n",
    "my_pwlf = pwlf.PiecewiseLinFit(x, y)\n",
    "\n",
    "# fit the data with the specified break points\n",
    "# (ie the x locations of where the line segments\n",
    "# will terminate)\n",
    "my_pwlf.fit_with_breaks(x0)\n",
    "\n",
    "# predict for the determined points\n",
    "xHat = np.linspace(min(x), max(x), num=10000)\n",
    "yHat = my_pwlf.predict(xHat)\n",
    "\n",
    "# plot the results\n",
    "plt.figure()\n",
    "plt.plot(x, y, 'o')\n",
    "plt.plot(xHat, yHat, '-')\n",
    "plt.show()"
   ]
  },
  {
   "cell_type": "markdown",
   "metadata": {},
   "source": [
    "## 11. Make a profit simulation with normal law\n",
    "\n",
    "Sometimes the profits are not too high, to make a more realistic optimization, which remains linear, we can use the normal law.(Credit: Aaron Stubberfield)\n",
    "\n",
    "We take into account the risks: Profit estimates can be inaccurate.\n",
    "\n",
    "\n",
    "Read this Aaron Stubberfield link:\n",
    "https://s3.amazonaws.com/assets.datacamp.com/production/course_8835/slides/chaptter4.pdf\n",
    "\n",
    "We take up our basic linear program and add the tip of the normal law.\n",
    "The results are therefore different each time we recharge the program, since the probability is recalculated each time."
   ]
  },
  {
   "cell_type": "code",
   "execution_count": null,
   "metadata": {},
   "outputs": [
    {
     "name": "stdout",
     "output_type": "stream",
     "text": [
      "blanc_bleu = 74.0\n",
      "charolaise = 0.0\n",
      "salers = 10.0\n",
      "Profit total maximisé =  11520.916575486885\n",
      "Profits probabilistes: -5.237092247288431 31.676034420169614 -11.310997160566966\n"
     ]
    }
   ],
   "source": [
    "# Importer la librairie Pulp sous le pseudo p\n",
    "import pulp as p \n",
    "import random\n",
    "  \n",
    "# Probabilités\n",
    "a, b, c = random.normalvariate(0,25),random.normalvariate(0,25),random.normalvariate(0,25)\n",
    "\n",
    "# Créer un programme linéaire de maximisation\n",
    "Mon_Probleme = p.LpProblem('maximisation_de_profit_agricole', p.LpMaximize)  \n",
    "\n",
    "# Créer les variables du problème, \n",
    "# On dit que ce sont des variables entières, car on ne peut pas avoir une demi vache.\n",
    "charolaise = p.LpVariable(\"charolaise\", 0, None, p.LpInteger)   \n",
    "blanc_bleu = p.LpVariable(\"blanc_bleu\", 0, None, p.LpInteger)   \n",
    "salers = p.LpVariable(\"salers\", 0, None, p.LpInteger)  \n",
    "\n",
    "# Ecrire la fonction objectif à maximizer qui nous donne un résultat en Euros \n",
    "Mon_Probleme +=  (100+a) * charolaise + (110+b) * blanc_bleu + (115+c) * salers\n",
    "\n",
    "# Les contraintes : \n",
    "\n",
    "# nourriture\n",
    "Mon_Probleme += 7 * charolaise + 7 * blanc_bleu + 8 * salers <= 600\n",
    "\n",
    "# eau\n",
    "Mon_Probleme += 4.5* charolaise + 9 * blanc_bleu + 3 * salers <= 700\n",
    "\n",
    "# Résoudre\n",
    "Mon_Probleme.solve()\n",
    "# On imprime les variables qui ont leur valeur optimisées\n",
    "for v in Mon_Probleme.variables():\n",
    "    print(v.name, \"=\", v.varValue)\n",
    "# La valeur de la fonction objective optimisée est imprimée à l'écran\n",
    "print(\"Profit total maximisé = \", p.value(Mon_Probleme.objective))\n",
    "\n",
    "print(\"Profits probabilistes:\",a,b,c)"
   ]
  },
  {
   "cell_type": "markdown",
   "metadata": {},
   "source": [
    "## - 12. Unsolds items taken into account\n",
    "\n",
    "\n",
    "# Comin soon"
   ]
  },
  {
   "cell_type": "code",
   "execution_count": null,
   "metadata": {},
   "outputs": [],
   "source": [
    "# Comin soon"
   ]
  },
  {
   "cell_type": "markdown",
   "metadata": {},
   "source": [
    "# 14. MinMax optimizations\n",
    "\n",
    "- Description (credit: apmonitor.com - http://apmonitor.com/me575/index.php/main/minimax)\n",
    "\n",
    "A minimum problem seeks to minimize the maximum value of a certain number of decision variables.\n",
    "It is sometimes applied to minimize the possible loss in the worst case (maximum loss).\n",
    "A maximimal problem maximizes the minimum value.\n",
    "It is used to maximize the minimum objective (such as profit or income) for all potential scenarios.\n",
    "\n",
    "Suppose we wanted to minimize the maximum of 3 variables and that the sum of these variables must total 15. This problem arises as follows:\n",
    "\n",
    "- Min Max (X1, X2, X3)\n",
    "- S.T. x1 + x2 + x3 = 15\n",
    "\n"
   ]
  },
  {
   "cell_type": "markdown",
   "metadata": {},
   "source": [
    "-------------------------------------------------------------------------------------------------------"
   ]
  },
  {
   "cell_type": "markdown",
   "metadata": {},
   "source": [
    "# Maximization of profit <b> non -linear </b>\n",
    "\n",
    "# The basic problem.\n",
    "\n",
    "## Mix products of 3 objects.\n",
    "\n",
    "Description :\n",
    "I sell 3 objects, I decide to apply a reduction in the event of wholesale on the part of a\n",
    "important customer.\n",
    "The reduction is \"smooth\", that is to say that it does not jump from one value to another as with the Piecewize constraints.\n",
    "In other words, the larger the number of objects, the less the price of an object is expensive.\n",
    "\n",
    "\n",
    "History :\n",
    "\n",
    "I have 1 machine that produces 3 rooms.The machine can make a maximum of 1000 products in the allotted time.\n",
    "The sale price of parts A, B and C decreases with the quantity produced.\n",
    "- The sale price of part A is 81-qa/20 (the price decreases if you produce a lot)\n",
    "- The sale price of part B is 90-qb/10 (the price decreases if you produce a lot)\n",
    "- The sale price of the part C is 85-qc/10 (the price decreases if you produce a lot)\n",
    "\n",
    "What parts sell to maximize profit while taking into account my non -linear price reduction?\n",
    "\n",
    "* Similar link:\n",
    "https://www.emse.fr/~beaune/solver/xpnl.html"
   ]
  },
  {
   "cell_type": "markdown",
   "metadata": {},
   "source": [
    "# The costs represented graphically\n",
    "\n",
    "This graph allows me to \"tuner\" and watch my future fat -price reductions.\n",
    "\n",
    "We see 3 beautiful concave functions."
   ]
  },
  {
   "cell_type": "code",
   "execution_count": null,
   "metadata": {},
   "outputs": [
    {
     "data": {
      "image/png": "[encoded data removed]",
      "text/plain": [
       "<Figure size 640x480 with 1 Axes>"
      ]
     },
     "metadata": {},
     "output_type": "display_data"
    }
   ],
   "source": [
    "import matplotlib.pyplot as plt\n",
    "import math\n",
    "\n",
    "# On définit l'étendue (range)\n",
    "x_cords = range(0,1000)\n",
    "\n",
    "# On définit les fonctions.\n",
    "prix_lineaires_objet_A = [x * 81 for x in x_cords] \n",
    "prix_non_lineaires_objet_A = [x * ( 81 - x / 20) for x in x_cords] \n",
    "\n",
    "prix_lineaires_objet_B = [x * 90 for x in x_cords] \n",
    "prix_non_lineaires_objet_B = [x * ( 90 - x / 20) for x in x_cords] \n",
    "\n",
    "prix_lineaires_objet_C = [x * 85 for x in x_cords] \n",
    "prix_non_lineaires_objet_C = [x * ( 85 - x / 20) for x in x_cords] \n",
    "\n",
    "# On trace\n",
    "plt.plot(x_cords,prix_lineaires_objet_A, label=\"Item A Linear prices \")\n",
    "plt.plot(x_cords,prix_non_lineaires_objet_A, label=\"Wholesale prices A\")\n",
    "\n",
    "plt.plot(x_cords,prix_lineaires_objet_B, label=\"Item B Linear prices \")\n",
    "plt.plot(x_cords,prix_non_lineaires_objet_B, label=\"Wholesale prices B\")\n",
    "\n",
    "plt.plot(x_cords,prix_lineaires_objet_C, label=\"Item C Linear prices \")\n",
    "plt.plot(x_cords,prix_non_lineaires_objet_C, label=\"Wholesale prices C\")\n",
    "\n",
    "plt.xlabel(\"Produced items\")\n",
    "plt.ylabel(\"price\")\n",
    "plt.legend(loc=\"upper left\")\n",
    "plt.show()"
   ]
  },
  {
   "cell_type": "markdown",
   "metadata": {},
   "source": [
    "# Mathematical modeling\n",
    "\n",
    "Coming !"
   ]
  },
  {
   "cell_type": "markdown",
   "metadata": {},
   "source": [
    "# Resolve optimization with the Gekko solver.\n",
    "\n",
    "We use Gekko, the non -linear solver."
   ]
  },
  {
   "cell_type": "code",
   "execution_count": null,
   "metadata": {},
   "outputs": [],
   "source": [
    "# On importe Gekko\n",
    "from gekko import GEKKO\n",
    "\n",
    "m = GEKKO(remote=False) # Initialize gekko\n",
    "\n",
    "#The example problem that you referenced uses the default IPOPT solver. To get a binary or integer solution, switch to the APOPT solver.\n",
    "m.options.SOLVER = 1"
   ]
  },
  {
   "cell_type": "code",
   "execution_count": null,
   "metadata": {},
   "outputs": [],
   "source": [
    "# On crée les variables de décision , ce sera notre nombre de pièces à réaliser, vu qu'on ne \n",
    "# peut pas avoir 1/2 objet, on dit que ce sont des variables entières.\n",
    "\n",
    "A = m.Var(value=1,lb=0,ub=10000,integer=True)\n",
    "B = m.Var(value=1,lb=0,ub=10000,integer=True)\n",
    "C = m.Var(value=1,lb=0,ub=10000,integer=True)\n",
    "\n",
    "# contraintes\n",
    "m.Equation( A + B + C <= 1000) # La machine un peut produire 1000 objets maximum\n",
    "\n",
    "\n",
    "# Voici notre fonction objectif , qui tient compte du fait que plus on produits de pièces, Moins ça coute cher !!\n",
    "# On voit qu'elle est non linéaire parce que A , B et C sont élevés au carré !!\n",
    "m.Maximize( A * (81 - ( A / 20  )) + B * (90 - (B / 20)) + C * (85 - (C / 20)))\n",
    "\n"
   ]
  },
  {
   "cell_type": "code",
   "execution_count": null,
   "metadata": {},
   "outputs": [
    {
     "name": "stdout",
     "output_type": "stream",
     "text": [
      "Solution\n",
      "A: [290.0]\n",
      "B: [380.0]\n",
      "C: [330.0]\n",
      "Objectif: 68870.0\n"
     ]
    }
   ],
   "source": [
    "# On imprime le résultat \n",
    "m.options.IMODE = 3 # Steady state optimization\n",
    "\n",
    "m.solve(disp=False) # Solve\n",
    "\n",
    "print('Solution')\n",
    "\n",
    "print('A: ' + str(A.value))\n",
    "print('B: ' + str(B.value))\n",
    "print('C: ' + str(C.value))\n",
    "\n",
    "print('Objectif: ' + str(-m.options.objfcnval))"
   ]
  },
  {
   "cell_type": "markdown",
   "metadata": {},
   "source": [
    "# Does the Cplex solver find the same solutions?\n",
    "\n",
    "Yes !He finds the same solution!\n"
   ]
  },
  {
   "cell_type": "code",
   "execution_count": null,
   "metadata": {},
   "outputs": [
    {
     "name": "stdout",
     "output_type": "stream",
     "text": [
      "Version identifier: 22.1.0.0 | 2022-03-25 | 54982fbec\n",
      "CPXPARAM_Read_DataCheck                          1\n",
      "CPXPARAM_MIP_Display                             0\n",
      "objective: 68870.000\n",
      "status: OPTIMAL_SOLUTION(2)\n",
      "  A=290\n",
      "  B=380\n",
      "  C=330\n"
     ]
    }
   ],
   "source": [
    "import cplex\n",
    "import docplex.mp\n",
    "from docplex.mp.model import Model\n",
    "from docplex.util.environment import get_environment\n",
    "\n",
    "# On crée notre modèle\n",
    "model = Model(name='maximisation_de_profit_non_lineaire', log_output=True)\n",
    "\n",
    "# On crée nos variables de décision\n",
    "A = model.integer_var(name='A')\n",
    "B = model.integer_var(name='B')\n",
    "C = model.integer_var(name='C')\n",
    "\n",
    "# On crée la fonction objectif\n",
    "model.maximize(A * (81 - ( A / 20  )) + B * (90 - (B / 20)) + C * (85 - (C / 20))) \n",
    "\n",
    "# On crée les contraintes\n",
    "model.add_constraint(A + B + C <= 1000)\n",
    "\n",
    "# Résoudre\n",
    "model.parameters.mip.display.set(0)\n",
    "sol_model = model.solve()\n",
    "model.print_solution()"
   ]
  }
 ],
 "metadata": {
  "kernelspec": {
   "display_name": "Python 3",
   "language": "python",
   "name": "python3"
  },
  "language_info": {
   "codemirror_mode": {
    "name": "ipython",
    "version": 3
   },
   "file_extension": ".py",
   "mimetype": "text/x-python",
   "name": "python",
   "nbconvert_exporter": "python",
   "pygments_lexer": "ipython3",
   "version": "3.9.2"
  },
  "orig_nbformat": 4
 },
 "nbformat": 4,
 "nbformat_minor": 2
}
