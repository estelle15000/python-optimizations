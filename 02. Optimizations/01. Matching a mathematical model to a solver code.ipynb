{
 "cells": [
  {
   "cell_type": "markdown",
   "metadata": {},
   "source": [
    "<div style=\"text-align:center\">\n",
    "<img src=\"img/intro_correspondre.png\">\n",
    "</div>"
   ]
  },
  {
   "cell_type": "markdown",
   "metadata": {},
   "source": [
    "\n",
    "\n",
    "## Introduction.\n",
    "In this notebook, we will analyze the methods to match a given mathematical model to a Python solver code. In other words, how to go from one to the other. This in the context of combinatorial optimizations.\n",
    "I start with a total beginner level, then I complicate things as the notebook progresses.\n",
    "\n",
    "\n",
    "\n",
    "*** CREATION IN PROGRESS ***<br>\n",
    "Notebook created by GITHUB ESTELLE DERRIEN\n",
    "\n",
    "\n"
   ]
  },
  {
   "cell_type": "markdown",
   "metadata": {},
   "source": [
    "## Summary\n",
    "\n",
    "1. <b> Mathematical symbols and vocabulary to know. </b>\n",
    "2. <b> Begginer method using a simple problem </b>\n",
    "- 2.A Presentation of the problem \n",
    "- 2.B Modeling of a basic instance using hard values\n",
    "- 2.C Python Pulp solution\n",
    "- 2.D Cplex solution\n",
    "3. <b> Extension of our problem and Σ summation symbol discovery . </b>\n",
    "- 3.A Presentation of the problem in a table\n",
    "- 3.B Mathematical modeling and difference between instance and model\n",
    "- 3.C Programming of the Σ summation symbol in the Python solver\n",
    "    - With Python Pulp\n",
    "    - With Python Cplex\n",
    "    - With GLPK online command\n",
    "4. <b> Getting Familiar with Aij constraints writing using a simple example taken from Hillier </b>\n",
    "- 4.A Presentation of the problem in a table\n",
    "- 4.B Mathematical modeling and nomenclature\n",
    "- 4.C Aij solution and programming with Python Pulp\n",
    "- 4.D Comparing the Hillier Lingo solver solution to the Python Pulp one.\n",
    "5. <b> Getting Familiar with an objective function including a Σ  and a cost subtraction. </b>\n",
    "- 5.A Presentation of the problem in a table\n",
    "- 5.B Mathematical modeling\n",
    "- 5.C Python Pulp solution\n",
    "6. <b>Getting familiar with double summation writing ΣΣ and Xij decisions variables</b>\n",
    "- 6.A Presentation of the Aarvik and Randolph (1975) transportation problem\n",
    "- 6.B Mathematical modeling focused on the double summation and Xij decisions variables\n",
    "- 6.C Python Pulp solution\n",
    "- 6.D Comparing the Aarvik and Randolph solution to the Python Pulp one.\n",
    "7. <b>Getting familiar with logical/conditional constraints</b>\n",
    "- 7.A Best available ressources on the internet and table summaries\n",
    "- 7.B IF-THEN projects selections examples\n",
    "    - 7.B.1 Presentation of the capital budgeting problem\n",
    "    - 7.B.2 Mathematical modeling\n",
    "    - 7.B.3 Solution using Python Pulp and Book's Excel solution comparison\n",
    "    - 7.B.4 Mathematical modeling of conditional constraints.\n",
    "        - Association\n",
    "            - Solution using Ibm Cplex\n",
    "            - Solution using Python Pulp    \n",
    "        - Exclusion\n",
    "            - Solution using Ibm Cplex\n",
    "            - Solution using Python Pulp   \n",
    "        - At least\n",
    "            - Solution using Ibm Cplex\n",
    "            - Solution using Python Pulp  \n",
    "- 7.C IF-THEN Fixed costs example\n",
    "    - Presentation of the Fixed costs problem\n",
    "    - Mathematical modeling of conditional constraints.\n",
    "    - Solution using Ibm Cplex\n",
    "    - Solution using Python Pulp\n",
    "- 7.D OR example\n",
    "    - Big M method discovery.\n",
    "    - Solution using Ibm Cplex\n",
    "    - Solution using Python Pulp\n",
    "- 7.E AND example\n",
    "    - Mathematical modeling of conditional constraints.\n",
    "    - Solution using Ibm Cplex\n",
    "    - Solution using Python Pulp\n",
    "8. <b> Modeling of a bin packing problem </b>\n",
    "- Difference between bin packing pbs\n",
    "- Presentation of the problem in a table\n",
    "- Mathematical modeling\n",
    "- Python Pulp solution\n",
    "9. <b> Modeling of a blending problem </b>\n",
    "- Presentation of the problem in a table\n",
    "- Mathematical modeling\n",
    "- Python Pulp solution\n",
    "10. <b> Modeling of a set covering problem </b>\n",
    "- Presentation of the problem in a table\n",
    "- Mathematical modeling\n",
    "- Solution with Python \n",
    "11. <b> Modeling a chemistry combinatorial optimization  </b>\n",
    "- Presentation of the Mac Graw Book problem BOILER/TURBO-GENERATOR SYSTEM\n",
    "- Mathematical modeling\n",
    "- Python Pulp or Cplex solution\n",
    "11. <b> Modeling a petroleum combinatorial optimization </b>\n",
    "- Presentation and Kirchhoff constraints\n",
    "- Mathematical modeling\n",
    "- Python Pulp or Cplex solution\n",
    "12. <b> Linearizations, breakpoints, piecewize functions... </b>\n",
    "- Linearization technics using the AIMMS modeling guide\n",
    "- Applications\n",
    "- Examples using Python solvers\n",
    "13. <b> Tackle non-linear optimizations </b>\n",
    "- How to detect a non-linear problem\n",
    "- Local or global solution?\n",
    "- What solver to use?\n",
    "- Presentation of the problem in a table\n",
    "- Mathematical modeling\n",
    "- Solution with the Python solver\n",
    "14. <b> Modeling of a non linear Production mixe optimization</b>\n",
    "- Presentation of the problem in a table\n",
    "- Mathematical modeling\n",
    "- Gekko and Cplex solution\n",
    "15. <b> Modeling of a non linear location allocation model</b>\n",
    "- Presentation of the Beer Belge Ronald Rardin \" Optimizations in O.R\" 2nd edition\n",
    "- Mathematical modeling\n",
    "- Gekko and Cplex solution\n",
    "16. <b> Modeling of a non linear Portfolio optimization</b>\n",
    "- Presentation of the problem in a table\n",
    "- Mathematical modeling\n",
    "- Gekko and Cplex solution\n",
    "\n"
   ]
  },
  {
   "cell_type": "markdown",
   "metadata": {},
   "source": [
    "# 1. Mathematical symbols and vocabulary to know:\n",
    "\n",
    "\n",
    "\n",
    "<div style=\"text-align:center\">\n",
    "<img src=\"img/ensemble-plat-moderne-de-thème-d-éducation-d-illustration-de-vecteur-de-symboles-mathématiques-d-ic-nes-plates-colorées-de-86917716.webp\" width=\"100\">\n",
    "</div>\n",
    "\n",
    "- The symbol <b> Σ </b> (sigma), it learns in second class and makes it possible to simplify the writing of an addition.\n",
    "\n",
    "- The symbol <b> ∈ </b> means \"belongs to\", we use it when we first defined a set S {x1, x2 ... xn}\n",
    "\n",
    "- The symbol <b> ∀ </b> (quantifier) ​​means \"for all\".\n",
    "\n",
    "- An <b> Aij matrix </b>: i is the row, j it's the column.So if we are told about value A14, this is the value of row 1 column 4.\n",
    "\n",
    "- An <b> Objective function </b>: it is intended to be minimized or maximized, when the solver calculates the best values ​​of the decision variables\n",
    "\n",
    "- <b>Decision variables </b>: a decision variable contains a value which will then be calculated by the solver to be the best possible value to minimize or maximize an objective function (that's it, optimization).The best known algorithm is the simplex.\n",
    "\n",
    "- <b> \"subject to\"  </b> means that the objective function is subject to constraints that we write under the \"subject to\" sentence.\n",
    "\n",
    "- <b> ℕ </b> is the set of positive integers including 0, <b> n ∗ </b> omens zero.It is generally used to specify the nature of the decision variables, they can therefore be integer, continuous or binary.\n",
    "\n",
    "- <b> \"Expressed in kg\" </b> This formulation \"expressed in\" is important because in operations research, we are constantly juggling with S.Is, the international system for the rating of internationally recognized units.Omitting this specification can lead to many problems, especially during optimizations in percentages, or when it is necessary to transpose into another S.I, example, of kilos in tons, from euros to dollars."
   ]
  },
  {
   "cell_type": "markdown",
   "metadata": {},
   "source": [
    "# <b>2. First method using a simple problem </b>\n",
    "\n",
    " We're going to take a fairly simple production mix model.\n",
    " In beginner problems, at the beginning, we don't have to use the summation symbol, since we generally have few variables, by deduction, we don't have to iterate with the solver. It is therefore much simpler to\n",
    " understand, at the beginning"
   ]
  },
  {
   "cell_type": "markdown",
   "metadata": {},
   "source": [
    "## 2.A Presentation of the problem \n",
    "\n",
    "<div style=\"text-align:center\">\n",
    "<img src=\"img/000171013_896x598_c.jpg\" width=\"500\"/>\n",
    "</div>\n",
    "\n",
    "- A company produces car A and car B.\n",
    "- Car A requires 20 units of K supplies and 10 units of Z supplies.\n",
    "- Car B requires 18 units of K supplies and 8 units of Z supplies.\n",
    "- There are 5000 units of K supplies in inventory and 6000 units of Z supplies in inventory.\n",
    "- Car A has given a profit of 20,000 euros, and car B provides a profit of 18,000 euros.\n",
    "\n",
    "What cars should the company provide in order to <b> maximize its profit </b>, subject to <b> inventory constraints </b>?\n"
   ]
  },
  {
   "cell_type": "markdown",
   "metadata": {},
   "source": [
    "So here, in this problem, we can clearly see that there are few decision variables involved and few constraints. No reason to express the mathematical model with summation symbols, and to do iterations in the Python solver code."
   ]
  },
  {
   "cell_type": "markdown",
   "metadata": {},
   "source": [
    "## 2.B Modeling of a basic instance using hard values\n",
    "\n",
    "Let\n",
    "\n",
    "- A be the number of A car units to be produced (it is a decision variable)\n",
    "- B be the number of B car units to be produced (it is a decision variable)\n",
    "\n",
    "<b> The objective function r </b> is to maximize the profit: <br>\n",
    "\n",
    "Max (r) = 20000A + 18000B\n",
    "\n",
    "<b> The constraints </b> are inventory constraints: <br>\n",
    "\n",
    "K inventory : <br> \n",
    "20A + 18B <= 5000\n",
    "\n",
    "Z inventory :<br> \n",
    "10A + 8B <= 6000"
   ]
  },
  {
   "cell_type": "markdown",
   "metadata": {},
   "source": [
    "## Let's write the instance\n",
    "\n",
    "Max(R) = 20000A + 18000B<br>\n",
    "S.T<br>\n",
    "20A + 18B <= 5000<br>\n",
    "10A + 8B <= 6000<br>\n",
    "With<br>\n",
    "{A,B} ∈ ℕ<br>"
   ]
  },
  {
   "cell_type": "markdown",
   "metadata": {},
   "source": [
    "## 2.C Python Pulp solution\n",
    "\n",
    "<div style=\"text-align:center\">\n",
    "<img src=\"img/small-pulp.png\" width=\"100\">\n",
    "</div>\n",
    "\n",
    "This is a basical optimization code, done with Python Pulp Solver."
   ]
  },
  {
   "cell_type": "code",
   "execution_count": 47,
   "metadata": {},
   "outputs": [
    {
     "name": "stdout",
     "output_type": "stream",
     "text": [
      "A = 7.0\n",
      "B = 270.0\n",
      "Maximized total profit =  5000000.0\n"
     ]
    }
   ],
   "source": [
    "# The basic method:\n",
    "# -----------------------------------\n",
    "# Import from Python Pulp\n",
    "# -------- ---------------------------\n",
    "from pulp import *\n",
    "# -----------------------------------\n",
    "# Type of problem\n",
    "# -----------------------------------\n",
    "# We choose to solve a Maximization problem\n",
    "model = LpProblem ( 'Problem' , LpMaximize )\n",
    "# -----------------------------------\n",
    "# Decision variables\n",
    "# -----------------------------------\n",
    "A = LpVariable ( \"A\" , lowBound = 0 , cat = 'Integer' ) # Create a variable x >= 0\n",
    "B = LpVariable ( \"B\" , lowBound = 0 , cat = 'Integer' ) # Create a variable y >= 0\n",
    "# -----------------------------------\n",
    "# Objective function R\n",
    "# -----------------------------------\n",
    "model += 20000 * A + 18000 * B\n",
    "# -----------------------------------\n",
    "# Constraints\n",
    "# -----------------------------------\n",
    "model += 20 * A + 18 * B <= 5000 , \"k_inventory_product\"\n",
    "model += 10 * A + 8 * B <= 6000 , \"z_inventory_product\"\n",
    "# -----------------------------------\n",
    "# Solution\n",
    "# ----------- ------------------------\n",
    "model.solve ()\n",
    "\n",
    "# We print the variables that have their values optimized\n",
    "for v in model . variables ():\n",
    "    print( v . name , \"=\" , v . varValue )\n",
    "\n",
    "# The value of the optimized objective function is printed to the screen \n",
    "print ( \"Maximized total profit = \" , value ( model.objective ) )"
   ]
  },
  {
   "cell_type": "markdown",
   "metadata": {},
   "source": [
    "## 2.D Solution using CPLEX\n",
    "\n",
    "<div style=\"text-align:center\">\n",
    "<img src=\"img/IBM_CPLEX_0.png\">\n",
    "</div>\n",
    "\n",
    "\n",
    "Let's see how syntax differs from Python Pulp. We see that the maximized total profit is the same, but decisions variables values differs."
   ]
  },
  {
   "cell_type": "code",
   "execution_count": 48,
   "metadata": {},
   "outputs": [
    {
     "name": "stdout",
     "output_type": "stream",
     "text": [
      "Version identifier: 22.1.1.0 | 2023-02-09 | 22d6266e5\n",
      "CPXPARAM_Read_DataCheck                          1\n",
      "CPXPARAM_MIP_Display                             0\n",
      "objective: 5000000\n",
      "status: OPTIMAL_SOLUTION(2)\n",
      "  A=250\n"
     ]
    }
   ],
   "source": [
    "# The basic method:\n",
    "# -----------------------------------\n",
    "# Import from CPLEX\n",
    "# -------- ---------------------------\n",
    "import cplex\n",
    "import docplex.mp\n",
    "from docplex.mp.model import Model\n",
    "\n",
    "# -----------------------------------\n",
    "# Type of problem\n",
    "# -----------------------------------\n",
    "# We choose to solve a Maximization problem\n",
    "model = Model(name='Problem', log_output=True)\n",
    "\n",
    "# -----------------------------------\n",
    "# Decision variables\n",
    "# -----------------------------------\n",
    "A = model.integer_var(name='A')\n",
    "B = model.integer_var(name='B')\n",
    "\n",
    "# -----------------------------------\n",
    "# Objective function R\n",
    "# -----------------------------------\n",
    "model.maximize(20000 * A + 18000 * B)\n",
    "\n",
    "# -----------------------------------\n",
    "# Constraints\n",
    "# -----------------------------------\n",
    "model.add_constraint(20 * A + 18 * B <= 5000)\n",
    "model.add_constraint(10 * A + 8 * B <= 6000)\n",
    "\n",
    "# -----------------------------------\n",
    "# Solution\n",
    "# ----------- ------------------------\n",
    "model.parameters.mip.display.set(0)\n",
    "sol_model = model.solve()\n",
    "model.print_solution()"
   ]
  },
  {
   "cell_type": "markdown",
   "metadata": {},
   "source": [
    "# <b>3. Extension of our problem and Σ summation symbol discovery .</b>\n",
    "\n",
    "Now let's say the company produces 12 different cars, each requiring a different quantity of supply K and Z, and each providing a different profit. The goal is still to determine which cars are best to produce, in\n",
    "order to maximize our profit subject to inventory constraints.\n",
    " \n",
    "Isn't it boring to retype each value by hand? Yes, it is boring.\n",
    "\n",
    "Wouldn't it be more convenient to use the summation mathematical symbol when we are going to write the mathematical model, and to iterate over an array in the Python solver code? This is in order to synthesize the expression of our optimization? Which will allow us to communicate easily and internationally about our optimization, and to be understood quickly?\n",
    "\n",
    "So now let's try to model our mathematical optimization model, by deducing it from our data. We will use the summation symbol, then, we will iterate in the Python code, to obtain our final linear optimization."
   ]
  },
  {
   "cell_type": "markdown",
   "metadata": {},
   "source": [
    "## Table of supplies needed for the 12 cars."
   ]
  },
  {
   "cell_type": "markdown",
   "metadata": {},
   "source": [
    "<div style=\"text-align:center\">\n",
    "<img src=\"img/car-table.png\" />\n",
    "</div>"
   ]
  },
  {
   "cell_type": "markdown",
   "metadata": {},
   "source": [
    "## We deduce the mathematical instance from this.\n",
    "\n",
    "Let's write this instance in hard copy, in order to understand how boring it is.\n",
    "\n",
    "Let\n",
    "- A be the number of A car units to be produced (it is a decision variable)\n",
    "- B be the number of B car units to be produced (it is a decision variable)\n",
    "- C be the number of C car units to be produced (this is a decision variable)\n",
    "- D be the number of D car units to be produced (this is a decision variable)\n",
    "- E be the number of E car units to be produced (it is a decision variable)\n",
    "- F be the number of F car units to be produced (it is a decision variable)\n",
    "- G be the number of G car units to be produced (this is a decision variable)\n",
    "- H be the number of H car units to be produced (this is a decision variable)\n",
    "- I be The number of I car units to be produced (this is a decision variable)\n",
    "- J be the number of J car units to be produced (this is a decision variable)\n",
    "- K be the number of K car units to be produced (this is a decision variable)\n",
    "- L be the number of L car units to be produced (this is a decision variable)\n",
    "\n",
    "<b>The objective function that we can call R</b> is to maximize the profit:<br>\n",
    "Max(R) = 20000A + 18000B + 17000C + 21000D + 24000E + 18500F + 20500G + 18500H + 18900I + 21000J + 20500K + 8000L<br><br>\n",
    "\n",
    "<b>The constraints are the inventory constraints:</b><br>\n",
    "K inventory:<br>\n",
    "20A + 18B + 9C + 20D + 22E + 10F + 20G + 12H + 15I + 22J + 21K + 5L <= 5000<br><br>\n",
    "Z inventory:<br>\n",
    "10A + 8B +8C + 19D + 24E + 10F + 19G + 10H + 12I + 18J + 20K + 4L <= 6000\n"
   ]
  },
  {
   "cell_type": "markdown",
   "metadata": {},
   "source": [
    "## Difference between an instance and a model\n",
    "\n",
    "What we defined just above is an <b>instance</b> . Let's now see how to model the <b>mathematical model</b> synthesized, from this instance, in the next chapter."
   ]
  },
  {
   "cell_type": "markdown",
   "metadata": {},
   "source": [
    "## The mathematical model is modeled using the summation symbol and the indices.\n",
    "\n",
    "<div style=\"text-align:center\">\n",
    "<img src=\"img/modeles-mathematiques-intelligence-artificielle.jpg\" width=\"500\"/>\n",
    "</div>\n",
    "\n",
    "\n",
    "We can clearly see that above, we have sums, and that writing them by hand is prone to error.\n",
    "\n",
    "- We note that there are <b> sets </b> that can be <b> Indexed </b>: cars, K supplies, Z supplies, profits.\n",
    "\n",
    "- We notice that our Table of supplies needed for the 12 cars is similar to <b> an Aij matrix </b>.\n",
    "\n",
    "<b> Reminder </b>: Let Aij be a matrix: i is the row number, j is the column number. So if we are told about the value A14, it is the value of row 1 column 4 of the matrix.\n",
    "\n",
    "- We will therefore create <b>a mathematical model</b> , using sets and summation symbols, which will summarize our problem in a simpler and more understandable way; this will be the synthesized version of our optimization.\n",
    "\n",
    "\n",
    "Then, we can freely create <b>instances</b> of this model with different datas each time, possibly coming from databases. In addition, this model can be used with all solvers on the market, including Excel.\n",
    "\n",
    "Now let us consider the sets:\n",
    "\n",
    "- <b>Cj</b> for cars, {A...L} indexed by j\n",
    "- <b>Kj</b> for supplies K, {20...5} indexed by j\n",
    "- <b>Zj</b> for supplies Z, {10...4} indexed by j\n",
    "- <b>Pj</b> for profits {20000...8000} indexed by j\n",
    "\n",
    "We will already use only the sets to learn how to write the mathematical model, and not the matrix; we will do that later, because it is more complicated to read.\n",
    "\n",
    "If we want to rewrite the synthesized objective function that maximizes the benefit of the sum of cars:<br>\n",
    "Max(R) = 20000A + 18000B + 17000C + 21000D + 24000E + 18500F + 20500G + 18500H + 18900I + 21000J + 20500K + 8000\n",
    "\n",
    "We write it:\n",
    "$$\n",
    "Max (R) = \\sum_{j=1}^{C} P_{j}.C_{j}\n",
    "$$\n",
    "\n",
    "- Why do we index with the letter j? Because by convention, this designates the column of a matrix. You have to imagine in your head iterating over each value and that the value of the letter j is incremented.\n",
    "\n",
    "If we want to rewrite the first inventory constraint K, in a synthesized way:<br>\n",
    "20A + 18B + 9C + 20D + 22E + 10F + 20G + 12H + 15I + 22J + 21K + 5L <= 5000\n",
    "\n",
    "We write it : \n",
    "$$\n",
    " \\sum_{j=1}^{K} K_{j}.C_{j} <= 5000\n",
    "$$\n",
    "\n",
    "If we want to rewrite the second inventory constraint Z, in a synthesized way:<br>\n",
    "10A + 8B +8C + 19D + 24E + 10F + 19G + 10H + 12I + 18J + 20K + 4L <= 6000\n",
    "\n",
    "We write it:\n",
    "$$\n",
    " \\sum_{j=1}^{Z} Z_{j}.C_{j} <= 6000\n",
    "$$\n",
    "\n",
    "We arrive at our following synthesized optimization model:\n",
    "\n",
    "$$\n",
    "Max (R) = \\sum_{j=1}^{C} P_{j}.C_{j}\n",
    "$$\n",
    "$$\n",
    "s.t\n",
    "$$\n",
    "$$\n",
    " \\sum_{j=1}^{K} K_{j}.C_{j} <= 5000\n",
    "$$\n",
    "$$\n",
    " \\sum_{j=1}^{Z} Z_{j}.C_{j} <= 6000\n",
    "$$\n",
    "$$\n",
    " Cj \\in ℕ\n",
    "$$\n"
   ]
  },
  {
   "cell_type": "markdown",
   "metadata": {},
   "source": [
    "<b>Now, constraints are not written like this usually, but refer to the matrix: Source: Linear Programming with Excel by Christian Prins and Marc Sevaux Page 58 and Courses from Taiwan university and Hillier and many others...</b>\n",
    "We can further reduce our model by reducing the writing of constraints in this way:\n",
    "\n",
    "$$\n",
    "  \\sum_{j=1}^{C} a_{ij}.C_{j} <= S_{i}\n",
    "$$\n",
    "\n",
    "where : \n",
    "\n",
    "- aij means that we consider each supply value for each car, for each existing supply row in our data matrix.\n",
    "- Si means that the value of each current stock is contained in a vector indexed by i, instead of being hard-coded, S is therefore the set of inventory\n",
    "\n",
    "but, don't worry, we'll study a real case of this Aij notation in chapter 4..."
   ]
  },
  {
   "cell_type": "markdown",
   "metadata": {},
   "source": [
    "## Now we use Python solvers, wishing to find a solution.\n",
    "\n",
    "Let's take the objective function of our model:\n",
    "$$\n",
    "Max (R) = \\sum_{j=1}^{C} P_{j}.C_{j}\n",
    "$$\n",
    "\n",
    "So P is the set of profits. So C is the set of cars.<br>\n",
    "This will involve <b>rewriting this summation symbol</b> of the mathematical model, with <b>several Solvers</b>, in <b>Python language</b> .<br>\n",
    "The syntax is unfortunately different between solvers, but is often somewhat similar.<br>\n",
    "\n",
    "<div style=\"text-align:center\">\n",
    "<img src=\"img/small-pulp.png\" width=\"100\">\n",
    "</div>\n",
    "\n",
    "\n",
    "We must of course first enter the data of our initial table in Python, before manipulating them with Solvers, this data is an instance of our optimization . There are several ways to enter this data, and this\n",
    "then influences the syntax when manipulating the solver, however, we generally find the same syntax, on StackOverflow and by the author of Python Pulp.\n",
    "It must resemble the mathematical model as much as possible, of course it is necessary to assign strictly the same letters to the sets as in the mathematical model and its nomenclature, this is\n",
    "MANDATORY.\n",
    "\n",
    "\n",
    "## There is our instance ( data )"
   ]
  },
  {
   "cell_type": "code",
   "execution_count": 49,
   "metadata": {},
   "outputs": [],
   "source": [
    "# -----------------------------------\n",
    "# Data - Instance\n",
    "# ----------- ------------------------\n",
    "# Cars names\n",
    "C = [ 'A' , 'B' , 'C' , 'D' , 'E' , 'F' , 'G' , 'H' , 'I' , 'J' , 'K' , 'L' ]\n",
    "# Profits per car\n",
    "P = { 'A' : 20000 , 'B' : 18000 , 'C' : 17000 , 'D' : 21000 , 'E' : 24000 , 'F' : 18500 , 'G' : 20500 , 'H' : 18500 , 'I' : 18900 , 'J' : 21000 , 'K' : 20500 , 'L' : 8000 }\n",
    "\n",
    "# -----------------------------------\n",
    "# Type of problem\n",
    "# -----------------------------------\n",
    "# We choose to solve a Maximization problem\n",
    "model = LpProblem ( 'Problem' , LpMaximize )\n",
    "\n",
    "# -----------------------------------\n",
    "# Creation of Decision Variables\n",
    "# -----------------------------------\n",
    "# We stipulate that these are integer variables, normal, since they are cars, they can't be separable.\n",
    "c = LpVariable . dicts ( \"cars\" , C , lowBound = 0 , cat = 'Integer' )\n"
   ]
  },
  {
   "cell_type": "markdown",
   "metadata": {},
   "source": [
    "Then, Come on, let's go, for the first time, we recreate the objective function of our mathematical model:\n",
    "\n",
    "$$\n",
    "Max (R) = \\sum_{j=1}^{C} P_{j}.C_{j}\n",
    "$$\n",
    "\n",
    "- With Python Pulp"
   ]
  },
  {
   "cell_type": "code",
   "execution_count": 50,
   "metadata": {},
   "outputs": [],
   "source": [
    "# -----------------------------------\n",
    "# Objective function\n",
    "# -----------------------------------\n",
    "model += lpSum([P[j] * c[j] for j in C ]), \"MAXIMIZE_PROFIT_R_FUNCTION\" \n",
    "\n",
    "# -----------------------------------\n",
    "# Explanation\n",
    "# -----------------------------------\n",
    "# The previous line dynamically recreates:\n",
    "# Max(R) = 20000A + 18000B + 17000C + 21000D + 24000E + 18500F + 20500G + 18500H + 18900I + 21000J + 20500K + 8000L\n",
    "# using iterations, you have to visualize it in your head. It is the equivalent of our mathematical model\n",
    "# and its summation symbol."
   ]
  },
  {
   "cell_type": "markdown",
   "metadata": {},
   "source": [
    "- With Cplex"
   ]
  },
  {
   "cell_type": "code",
   "execution_count": 51,
   "metadata": {},
   "outputs": [],
   "source": [
    "# Comin soon"
   ]
  },
  {
   "cell_type": "markdown",
   "metadata": {},
   "source": [
    "- With GLPK, on the command line"
   ]
  },
  {
   "cell_type": "code",
   "execution_count": 52,
   "metadata": {},
   "outputs": [],
   "source": [
    "# Comin soon"
   ]
  },
  {
   "cell_type": "markdown",
   "metadata": {},
   "source": [
    "Ok, in chapter 3 , we won't bother about the solution, the goal was to learn to go from a mathematical model, to a python code.\n",
    "Starting at chapter 4, we'll take care about the solution and compare it to real officials books solutions, to make sure it's identical."
   ]
  },
  {
   "cell_type": "markdown",
   "metadata": {},
   "source": [
    "# <b>4. Familiarize yourself with the Aij constraints writing  with a simple example taken from Hillier</b>\n",
    "\n",
    "## 4.a Presentation of the problem in a table\n",
    "\n",
    "We have seen previously that the modeling of constraints in the mathematical model often uses the expression aij in the summation symbol. This is a, indexed by i and j. This i means that we iterate on the rows, in addition to iterating on the columns j. This is therefore a double treatment.\n",
    "\n",
    "Let's take this simple case of production mix optimization, present in the book Hillier, Introduction to operation research 7th edition - page 82\n",
    "\n",
    "The objective is to maximize profit under the constraint of available production time :\n"
   ]
  },
  {
   "cell_type": "markdown",
   "metadata": {},
   "source": [
    "<div style=\"text-align:center\">\n",
    "<img src=\"img/hillier-1.png\" />\n",
    "</div>"
   ]
  },
  {
   "cell_type": "markdown",
   "metadata": {},
   "source": [
    "## 4.b Mathematical modeling\n",
    "\n",
    "As usual, we first identify the sets that are involved in our mathematical model.\n",
    "Let's already try to model the <b>objective</b> function R which will maximize the profit:\n",
    "\n",
    "- Why are the products P0j the decision variables?\n",
    "Because their respective number will be calculated, in real time, by the solver to obtain the maximum profit under constraints . We will create the set Xj (x1,x2..xn) which are theses decision variables, the j is in index, because we have the columns P01, P02, P03 and P04. By convention, generally, the decision variables are called x, and we use j because by convention, we designate columns. Why not calling this set P, like ' Products' ? Because We need the P letter for the Profit set.\n",
    "\n",
    "- We see that we have the set Pj(p1,p2..pn) which are the constant values of profit per product supplied. So, here it's the same, we use the index j because by convention, it designates the columns.\n",
    "\n",
    "We therefore arrive at this objective function, as in Hillier's book:\n",
    "\n",
    "$$\n",
    "Max (R) = \\sum_{j=1}^{4} p_{j}.x_{j}\n",
    "$$\n",
    "\n",
    "We notice that we put 4 at the top of the summation symbol, as a limit, but we could also have put X, to obtain a more generic iteration, because this implies the set X which contains 4 values, but could contain\n",
    "more.\n",
    "\n",
    "<b> Now we come to the important part, the constraints.</b>\n",
    "\n",
    "We see in our table that we have 3 lines of constraints that we can index by i. By convention, i designates the line numbers. Therefore, we will not write a summation symbol per line, which would weigh down our final model, but we will introduce aij which means that we <b>automatically iterate by line and by columns at the same time</b>, so we model our constraints like this, as in Hillier's book:\n",
    "\n",
    "$$\n",
    "\\sum_{j=1}^{4} a_{ij}.x_{j} <= b_{i}\\thinspace\\thinspace\\thinspace for \\thinspace i = 1,2,3\n",
    "$$\n",
    "\n",
    "We notice that we have an additional (mandatory) piece of information \"For i = 1,2,3\", which is logical since there are 3 lines in all. The professor from Taiwan University particularly insists on the fact that we must systematically add this information, and it is present in Hillier's book.\n",
    "\n",
    "There you have it, we can now rewrite our complete model, including the <b>nomenclature</b> of our sets, below the model.\n",
    "\n",
    "$$\n",
    "Max (R) = \\sum_{j=1}^{4} p_{j}.x_{j}\n",
    "$$\n",
    "$$\n",
    "S.T\n",
    "$$\n",
    "\n",
    "$$\n",
    "\\sum_{j=1}^{4} a_{ij}.x_{j} <= b_{i} \\thinspace\\thinspace\\thinspace for \\thinspace i = 1,2,3\n",
    "$$\n",
    "\n",
    "$$\n",
    "Where\n",
    "$$\n",
    "\n",
    "$$\n",
    " x_{j} = production \\thinspace level \\thinspace for \\thinspace product \\thinspace PO_{j}\n",
    "$$\n",
    "$$\n",
    " p_{j} = unit \\thinspace profit \\thinspace for \\thinspace product \\thinspace PO_{j}\n",
    "$$\n",
    "$$\n",
    " a_{ij} = production \\thinspace time \\thinspace on \\thinspace machine \\thinspace i \\thinspace per \\thinspace unit \\thinspace of \\thinspace product \\thinspace PO_{j}\n",
    "$$\n",
    "$$\n",
    " b_{i} = production \\thinspace time \\thinspace available \\thinspace per \\thinspace week \\thinspace on \\thinspace machine \\thinspace i \n",
    "$$\n",
    "\n",
    "Note: I copied the model from Hillier's book, we can see that there is a strangeness in the nomenclature in the book (b is indexed by i in the nomenclature, and by j in the constraint), which is not exactly the\n",
    "same as in the model, we will check, but the logic is there, I corrected it and put an i"
   ]
  },
  {
   "cell_type": "markdown",
   "metadata": {},
   "source": [
    "## 4.c Solution using Python Pulp\n",
    "\n",
    "Now that we have our mathematical model ready, which we can even call a 'generic model', the second part is to find the solution using a Python solver.\n",
    "There are of course several, but Python Pulp is recognized as a famous and easy-to-access linear solver.\n",
    "\n",
    "<div style=\"text-align:center\">\n",
    "<img src=\"img/small-pulp.png\" width=\"100\">\n",
    "</div>\n",
    "\n",
    "So we have 2 elements, which we are now used to:\n",
    "- Our data <b>instance</b> which is our informative table from the beginning.\n",
    "- Our generic <b>mathematical model</b> , which we modeled by deduction.\n",
    "\n",
    "Our Python Pulp code must therefore be created in two steps: programming the instance, then programming the mathematical model, and must of course respect the elements to the letter, the nomenclature, and the names given to the sets, everything must be strictly identical, including the indentation.\n",
    "\n",
    "## Step 1\n",
    "We enter our instance into our Python Pulp optimization program"
   ]
  },
  {
   "cell_type": "code",
   "execution_count": 53,
   "metadata": {},
   "outputs": [],
   "source": [
    "# -----------------------------------\n",
    "# STEP 1- We program the Data - which we can also call the Instance\n",
    "# -----------------------------------\n",
    "# We retrieve the data from the information table, in order to create an instance of data!\n",
    "# Our products\n",
    "X = [ 'P1' , 'P2' , 'P3' , 'P4' ]\n",
    "# Their respective profits expressed in Dollars\n",
    "P = { 'P1' : 26 , 'P2' : 35 , 'P3' : 25 , 'P4' : 37 }\n",
    "# Production time available per machine for a week expressed in hours, it is a vector\n",
    "B = [ 28 , 34 , 21 ]\n",
    "# Matrix of production times per machine per product AOj, expressed in hours\n",
    "A = [\n",
    "[ 1.7 , 2.1 , 1.4 , 2.4 ],\n",
    "[ 1.1 , 2.5 , 1.7 , 2.6 ],\n",
    "[ 1.6 , 1.3 , 1.6 , 0.8 ]\n",
    "]\n",
    "\n",
    "# -----------------------------------\n",
    "# Type of problem\n",
    "# -----------------------------------\n",
    "# We choose to solve a Maximization problem\n",
    "model = LpProblem ( 'Problem' , LpMaximize )\n",
    "\n",
    "# -----------------------------------\n",
    "# Creation of Decision Variables\n",
    "# -----------------------------------\n",
    "# We stipulate that these are integer variables, normal, since they are non separable products\n",
    "x = LpVariable . dicts ( \"products\" , X , lowBound = 0 , cat = 'Integer' )"
   ]
  },
  {
   "cell_type": "markdown",
   "metadata": {},
   "source": [
    "## Step 2\n",
    "We enter our mathematical model into our Python Pulp optimization program\n",
    "First comes the maximization objective function :\n",
    "\n",
    "$$\n",
    "Max (R) = \\sum_{j=1}^{4} p_{j}.x_{j}\n",
    "$$"
   ]
  },
  {
   "cell_type": "code",
   "execution_count": 54,
   "metadata": {},
   "outputs": [],
   "source": [
    "# -----------------------------------\n",
    "# Objective function\n",
    "# -----------------------------------\n",
    "model += lpSum ([ P [ j ] * x [ j ] for j in X ]), \"MAXIMIZE_PROFIT_R_FUNCTION\"\n",
    "\n",
    "# -----------------------------------\n",
    "# Explanation\n",
    "# -----------------------------------\n",
    "# The previous line recreated dynamically:\n",
    "# Max(R) = 26*PO1 + 35*P02 + 25*P03 + 37*P04\n",
    "# using iterations, you have to visualize it in your head. It is the equivalent of our mathematical model\n",
    "# and its summation symbol."
   ]
  },
  {
   "cell_type": "markdown",
   "metadata": {},
   "source": [
    "Then, it's a little more difficult for the constraints, because we're going to use the expression aij and therefore use and iterate on the matrix A that we defined during step 1. We're also going to use the vector B\n",
    "of maximum production times.\n",
    "\n",
    "$$\n",
    "\\sum_{j=1}^{4} a_{ij}.x_{j} <= b_{i} \\thinspace\\thinspace\\thinspace for \\thinspace i = 1,2,3\n",
    "$$\n",
    "\n",
    "But we will first introduce our instance of data into this portion of the mathematical constraint model by hand, in order to understand what we will do next with the solver. If we place our instance into this\n",
    "mathematical model, by hand, we obtain:"
   ]
  },
  {
   "cell_type": "code",
   "execution_count": 55,
   "metadata": {},
   "outputs": [],
   "source": [
    "# 1.7 * PO1 + 2.1 * P02 + 1.4 * P03, 2.4 * P04 <= 28\n",
    "# 1.1 * PO1 + 2.5 * PO2 + 1.7 * PO3 + 2.6 * PO4 <= 34\n",
    "# 1.6 * P01 + 1.3 * P02 + 1.6 * PO3 + 0.8 * PO4 <= 21"
   ]
  },
  {
   "cell_type": "markdown",
   "metadata": {},
   "source": [
    "Now that we have a good understanding of what the constraints that the Python solver expects look like, we need to write the correct syntax of the model, in the Python Pulp solver.\n",
    "\n",
    "Since <b>we are no longer beginners</b>, we are obviously <b>not going to rewrite the constraints with hard values</b>, we are writing <b>the mathematical model, which will automatically iterate on the data</b>, which could be enormous in the future, if necessary (it's practical, when using databases)."
   ]
  },
  {
   "cell_type": "code",
   "execution_count": 56,
   "metadata": {},
   "outputs": [
    {
     "name": "stdout",
     "output_type": "stream",
     "text": [
      "Problem:\n",
      "MAXIMIZE\n",
      "26*products_P1 + 35*products_P2 + 25*products_P3 + 37*products_P4 + 0\n",
      "SUBJECT TO\n",
      "_C1: 1.7 products_P1 + 2.1 products_P2 + 1.4 products_P3 + 2.4 products_P4\n",
      " <= 28\n",
      "\n",
      "_C2: 1.1 products_P1 + 2.5 products_P2 + 1.7 products_P3 + 2.6 products_P4\n",
      " <= 34\n",
      "\n",
      "_C3: 1.6 products_P1 + 1.3 products_P2 + 1.6 products_P3 + 0.8 products_P4\n",
      " <= 21\n",
      "\n",
      "VARIABLES\n",
      "0 <= products_P1 Integer\n",
      "0 <= products_P2 Integer\n",
      "0 <= products_P3 Integer\n",
      "0 <= products_P4 Integer\n",
      "\n"
     ]
    }
   ],
   "source": [
    "# -----------------------------------\n",
    "# Constraints\n",
    "# -----------------------------------\n",
    "for i , m in enumerate ( B ): # For each line i of minimum production time\n",
    "    model += lpSum ( [ A [ i ][ idx ] * x [ j ] for idx , j in enumerate ( X ) ]) <= B [ i ] # For each decision variable, specify the machine working time per product\n",
    "\n",
    "# -----------------------------------\n",
    "# Explanation\n",
    "# -----------------------------------\n",
    "# The Python enumerate function allows you to retrieve the index and value of an array by iterating.\n",
    "# It is used to recreate the mathematical model\n",
    "# It is written as follows: for INDEX,VALUE in ENUMERATE(MY ARRAY)\n",
    "\n",
    "# -----------------------------------\n",
    "# Explanation 2\n",
    "# -----------------------------------\n",
    "# This constraint programming seems impressive, but in reality, it only iterates on our matrix A, and on each of\n",
    "# its lines, as in the mathematical model. It only dynamically recreates the constraints that we wrote\n",
    "# in hard in the part a little before.\n",
    "# We check by printing the model that we find the same constraints, yes, that's the case!\n",
    "print ( model )"
   ]
  },
  {
   "cell_type": "markdown",
   "metadata": {},
   "source": [
    "## 4.D Comparing the Hillier's book Lingo solver solution to the Python Pulp one.\n",
    "\n",
    "<div style=\"text-align:center\">\n",
    "<img src=\"img/small-pulp.png\" width=\"100\">\n",
    "</div>\n",
    "\n",
    "So, let's now compare the solution found by Python Pulp to the Hillier's book one.\n",
    "Hillier used the LINGO solver, we are currently using the Python Pulp solver ."
   ]
  },
  {
   "cell_type": "code",
   "execution_count": 57,
   "metadata": {},
   "outputs": [
    {
     "name": "stdout",
     "output_type": "stream",
     "text": [
      "products_P1 = 0.0\n",
      "products_P2 = 10.0\n",
      "products_P3 = 5.0\n",
      "products_P4 = 0.0\n",
      "Maximized total profit =  475.0\n"
     ]
    }
   ],
   "source": [
    "# -----------------------------------\n",
    "# Solution\n",
    "# ----------- ------------------------\n",
    "model.solve ()\n",
    "\n",
    "# We print the variables that have their values optimized\n",
    "for v in model . variables ():\n",
    "    print( v . name , \"=\" , v . varValue )\n",
    "\n",
    "# The value of the optimized objective function is printed to the screen \n",
    "print ( \"Maximized total profit = \" , value ( model.objective ) )"
   ]
  },
  {
   "cell_type": "markdown",
   "metadata": {},
   "source": [
    "<b>HEY ! Yes, Solution is the same than the Hillier's book LINGO solver one ! Looks good, bro !</b>\n",
    "\n",
    "<div style=\"text-align:center\">\n",
    "<img src=\"img/thumbs-up.jpg\" width=\"100\">\n",
    "</div>\n"
   ]
  },
  {
   "cell_type": "markdown",
   "metadata": {},
   "source": [
    "# <b>5.  Getting Familiar with an objective function including a Σ and a cost subtraction. </b>\n",
    "\n",
    "## 5.A Presentation of the problem in a table\n",
    "Now that we have confirmed our optimization below in chapter 4, and confirmed the solution is the same than in the Hillier's book, let's add a fixed cost per produced product, and see how it impacts our mathematical model and our Python Pulp programmation.\n",
    "\n",
    "So, first : Our instance is modified like this :"
   ]
  },
  {
   "cell_type": "markdown",
   "metadata": {},
   "source": [
    "<div style=\"text-align:center\">\n",
    "<img src=\"img/hillier-2.png\" />\n",
    "</div>"
   ]
  },
  {
   "cell_type": "markdown",
   "metadata": {},
   "source": [
    "## 5.B Mathematical modeling\n",
    "\n",
    "We can obviously introduce a new set called C , for \"costs\",and we index it by j, taking care about the 4 columns.\n",
    "Like the Profit vector in chapter 4, We'll consider it as a vector.\n",
    "We make sure this costs adding technic is good by reading the well known AMP doc.\n",
    "\n",
    "So, let's place it in our model.\n",
    "\n",
    "$$\n",
    "Max (R) = \\sum_{j=1}^{4} (p_{j}-c_{j}).x_{j}\n",
    "$$\n",
    "$$\n",
    "S.T\n",
    "$$\n",
    "\n",
    "$$\n",
    "\\sum_{j=1}^{4} a_{ij}.x_{j} <= b_{i} \\thinspace\\thinspace\\thinspace for \\thinspace i = 1,2,3\n",
    "$$\n",
    "\n",
    "$$\n",
    "Where\n",
    "$$\n",
    "\n",
    "$$\n",
    " x_{j} = production \\thinspace level \\thinspace for \\thinspace product \\thinspace PO_{j}\n",
    "$$\n",
    "$$\n",
    " p_{j} = unit \\thinspace profit \\thinspace for \\thinspace product \\thinspace PO_{j}\n",
    "$$\n",
    "$$\n",
    " a_{ij} = production \\thinspace time \\thinspace on \\thinspace machine \\thinspace i \\thinspace per \\thinspace unit \\thinspace of \\thinspace product \\thinspace PO_{j}\n",
    "$$\n",
    "$$\n",
    " b_{i} = production \\thinspace time \\thinspace available \\thinspace per \\thinspace week \\thinspace on \\thinspace machine \\thinspace i \n",
    "$$\n",
    "$$\n",
    " c_{j} = cost \\thinspace per \\thinspace produced \\thinspace product\\thinspace  \n",
    "$$"
   ]
  },
  {
   "cell_type": "markdown",
   "metadata": {},
   "source": [
    "# 5c Python Pulp Solution\n",
    "\n",
    "\n",
    "Let's first enter our new C set in our data instance."
   ]
  },
  {
   "cell_type": "code",
   "execution_count": 58,
   "metadata": {},
   "outputs": [],
   "source": [
    "# Costs \n",
    "C = { 'P1' : 0.2 , 'P2' : 0.3 , 'P3' : 0.2 , 'P4' : 0.3 }"
   ]
  },
  {
   "cell_type": "markdown",
   "metadata": {},
   "source": [
    "Our math model objective function is now different, so let's modify the math model correctly, also inside of the Python Pulp code :.\n",
    "$$\n",
    "Max (R) = \\sum_{j=1}^{4} (p_{j}-c_{j}).x_{j}\n",
    "$$\n",
    "\n",
    " "
   ]
  },
  {
   "cell_type": "code",
   "execution_count": 59,
   "metadata": {},
   "outputs": [],
   "source": [
    "# -----------------------------------\n",
    "# Objective function\n",
    "# -----------------------------------\n",
    "model += lpSum ([ (P [ j ] - C [ j ]) * x [ j ] for j in X ]), \"MAXIMIZE_PROFIT_R_FUNCTION\""
   ]
  },
  {
   "cell_type": "markdown",
   "metadata": {},
   "source": [
    "## Checking solution :\n",
    "\n",
    "Let's rewrite the whole code without previous explanations.\n",
    "Solution substracted costs and took it in consideration while resolving the linear optimization. We got less profit than before."
   ]
  },
  {
   "cell_type": "code",
   "execution_count": 60,
   "metadata": {},
   "outputs": [
    {
     "name": "stdout",
     "output_type": "stream",
     "text": [
      "products_P1 = 0.0\n",
      "products_P2 = 10.0\n",
      "products_P3 = 5.0\n",
      "products_P4 = 0.0\n",
      "Maximized total profit =  471.0\n"
     ]
    }
   ],
   "source": [
    "from pulp import *\n",
    "# Instance\n",
    "X = [ 'P1' , 'P2' , 'P3' , 'P4' ]\n",
    "P = { 'P1' : 26 , 'P2' : 35 , 'P3' : 25 , 'P4' : 37 }\n",
    "C = { 'P1' : 0.2 , 'P2' : 0.3 , 'P3' : 0.2 , 'P4' : 0.3 }\n",
    "B = [ 28 , 34 , 21 ]\n",
    "A = [\n",
    "[ 1.7 , 2.1 , 1.4 , 2.4 ],\n",
    "[ 1.1 , 2.5 , 1.7 , 2.6 ],\n",
    "[ 1.6 , 1.3 , 1.6 , 0.8 ]\n",
    "]\n",
    "\n",
    "# Params\n",
    "model = LpProblem ( 'Problem' , LpMaximize )\n",
    "x = LpVariable . dicts ( \"products\" , X , lowBound = 0 , cat = 'Integer' )\n",
    "\n",
    "# Math model\n",
    "model += lpSum ([ (P [ j ] - C [ j ]) * x [ j ] for j in X ]), \"MAXIMIZE_PROFIT_R_FUNCTION\"\n",
    "\n",
    "for i , m in enumerate ( B ): \n",
    "    model += lpSum ( [ A [ i ][ idx ] * x [ j ] for idx , j in enumerate ( X ) ]) <= B [ i ] \n",
    "\n",
    "# Solution\n",
    "model.solve ()\n",
    "\n",
    "for v in model . variables ():\n",
    "    print( v . name , \"=\" , v . varValue )\n",
    "\n",
    "print ( \"Maximized total profit = \" , value ( model.objective ) )\n",
    "    "
   ]
  },
  {
   "cell_type": "markdown",
   "metadata": {},
   "source": [
    "# <b> 6. Getting familiar with double summation writing ΣΣ and Xij decisions variables</b>"
   ]
  },
  {
   "cell_type": "markdown",
   "metadata": {},
   "source": [
    "Let's take this famous PowerCo transportation example from http://www.inf.u-szeged.hu/~london/Linprog/linprog7.pdf , and from - ( - still unknown book - , This example is based on Aarvik and Randolph (1975).\n",
    "And Let's focus on the double summation only and why it exists , then, we'll find the solution using Python Pulp.\n",
    "Let's understand how Xij decisions variables works too, cause if we look at chapter 4, we see that we deal with Xj decisions variables, with only one indice, but now, Xij has 2 indices, let's see why."
   ]
  },
  {
   "cell_type": "markdown",
   "metadata": {},
   "source": [
    "##  Aarvik and Randolph (1975) transportation problem\n",
    "Powerco has three electric power plants that supply the needs of four cities. \n",
    "Each power plant can supply the following numbers of kilowatt-hours (kwh) of electricity: \n",
    "- plant 1 — 35 million\n",
    "- plant 2 — 50 million \n",
    "- plant 3 — 40 million \n",
    "\n",
    "The peak power demands in these cities, which occur at the same time (2 P.M.), are as follows (in kwh): \n",
    "- city 1—45 million\n",
    "- city 2—20 million \n",
    "- city 3—30 million \n",
    "- city 4—30 million \n",
    "\n",
    "The costs of sending 1 million kwh of electricity from plant to city depend on the distance the elec-\n",
    "tricity must travel. Formulate an LP to minimize the cost of meeting each city’s peak\n",
    "power demand.\n",
    "\n",
    "## 6A. Our instance table :\n",
    "\n",
    "<div style=\"text-align:center\">\n",
    "<img src=\"img/powerco.png\">\n",
    "</div>\n"
   ]
  },
  {
   "attachments": {
    "xandj.png": {
     "image/png": "[encoded data removed]"
    }
   },
   "cell_type": "markdown",
   "metadata": {},
   "source": [
    "## 6.B Mathematical modeling.\n",
    "\n",
    "There is the <b>objective function instance</b> to be minimized :\n",
    "![xandj.png](attachment:xandj.png)\n",
    "\n",
    "We can see that the decision variables are present on several lines, which implies an Xij type notation because we iterate over the lines and columns to find them. So when in chapter 4, the decision variables are on a single line and we therefore had an Xj type notation which only iterated over the columns.\n",
    "In other words, instead of having a single line of decision variables, we have an entire table, hence the need to index by i and j at the same time.\n",
    "\n",
    "\n",
    "There is the <b>Math model objective function</b> :\n",
    "\n",
    "$$\n",
    "Min \\sum_{i=1}^{i=m} \\sum_{j=1}^{j=n} c_{ij}.x_{ij}\n",
    "$$\n",
    "\n",
    "we also see that the costs are indexed by i for the rows and j for the columns. Now why are there 2 summation symbols?\n",
    "It's because number of lines is not equal to the number of rows, and for i = 1, 2, 3 (m=number of lines)and j = 1, 2, 3, 4(n=number of rows)"
   ]
  },
  {
   "cell_type": "markdown",
   "metadata": {},
   "source": [
    "Now, here are the constraints written in hard :\n",
    "\n",
    "<div style=\"text-align:center\">\n",
    "<img src=\"img/hardcodedconstraints.png\" width=\"500\"/>\n",
    "</div>\n",
    "\n",
    "Then, converted to a math model : \n",
    "\n",
    "\n",
    "$$\n",
    "\\sum_{j=1}^{n} x_{ij} <= s_{i} \\thinspace\\thinspace\\thinspace for \\thinspace i = 1,2,3,m\n",
    "$$\n",
    "\n",
    "$$\n",
    "\\sum_{j=1}^{m} x_{ij} <= d_{j} \\thinspace\\thinspace\\thinspace for \\thinspace j = 1,2,3,4,n\n",
    "$$\n",
    "\n",
    "$$\n",
    "x_{ij} \\ge 0 \\thinspace (i = 1,2,3...m; j = 1,2,...n)\n",
    "$$\n",
    "\n",
    "$$\n",
    "Where\n",
    "$$\n",
    "\n",
    "$$\n",
    " x_{ij} = number \\thinspace of \\thinspace (million) \\thinspace kwh \\thinspace produced \\thinspace at \\thinspace plant \\thinspace i \\thinspace and \\thinspace sent \\thinspace to \\thinspace city \\thinspace j\n",
    "$$\n",
    "\n",
    "$$\n",
    " c_{ij} = cost \\thinspace of \\thinspace (million) \\thinspace kwh \\thinspace produced \\thinspace at \\thinspace plant \\thinspace i \\thinspace and \\thinspace sent \\thinspace to \\thinspace city \\thinspace j\n",
    "$$\n",
    "\n",
    "$$\n",
    " s_{i} = supply \\thinspace available \\thinspace per \\thinspace plant \n",
    "$$\n",
    "\n",
    "$$\n",
    " d_{j} = demand \\thinspace per \\thinspace city \n",
    "$$\n",
    "\n",
    "$$\n",
    " p_{i} = plant_{i}\n",
    "$$\n",
    "\n",
    "$$\n",
    " ct_{j} = city_{j}\n",
    "$$\n",
    "\n",
    "\n",
    "\n"
   ]
  },
  {
   "cell_type": "markdown",
   "metadata": {},
   "source": [
    "## 6.C Solution using Python Pulp.\n",
    "\n",
    "Let's enter our instance."
   ]
  },
  {
   "cell_type": "code",
   "execution_count": 61,
   "metadata": {},
   "outputs": [],
   "source": [
    "# -----------------------------------\n",
    "# Instance\n",
    "# -----------------------------------\n",
    "\n",
    "# I respect the math nomenclature sets names\n",
    "\n",
    "# plants\n",
    "p = ['1','2','3']\n",
    "# cities\n",
    "ct = ['A','B','C','D']\n",
    "# costs\n",
    "c = [  \n",
    "            [8,    6,   10,  9],        # 1   CITY\n",
    "            [9,    12,  13,  7],        # 2\n",
    "            [14,   9,   16,  5],        # 3\n",
    "\n",
    "]\n",
    "# supply per plant\n",
    "s = { '1' : 35 , '2' : 40 , '3' : 50 }\n",
    "# demand per city\n",
    "# d = { 'A' : 45 , 'B' : 20 , 'C' : 30 , 'D' : 30}\n",
    "d = [45,20,30,30]\n",
    "\n",
    "# -----------------------------------\n",
    "# Type of problem\n",
    "# -----------------------------------\n",
    "Problem = LpProblem('optimisation_transport',LpMinimize)\n",
    "\n"
   ]
  },
  {
   "cell_type": "markdown",
   "metadata": {},
   "source": [
    "Now, we have to re-create the Objective function math model.\n",
    "\n",
    "$$\n",
    "Min \\sum_{i=1}^{i=m} \\sum_{j=1}^{j=n} c_{ij}.x_{ij}\n",
    "$$\n",
    "\n",
    "It should automatically recreate the following hard coded data :\n",
    "\n",
    "<div style=\"text-align:center\">\n",
    "<img src=\"img/xandj.png\" width=\"500\"/>\n",
    "</div>"
   ]
  },
  {
   "cell_type": "code",
   "execution_count": 62,
   "metadata": {},
   "outputs": [
    {
     "name": "stdout",
     "output_type": "stream",
     "text": [
      "optimisation_transport:\n",
      "MINIMIZE\n",
      "8*Route_1_A + 6*Route_1_B + 10*Route_1_C + 9*Route_1_D + 9*Route_2_A + 12*Route_2_B + 13*Route_2_C + 7*Route_2_D + 14*Route_3_A + 9*Route_3_B + 16*Route_3_C + 5*Route_3_D + 0\n",
      "VARIABLES\n",
      "0 <= Route_1_A Integer\n",
      "0 <= Route_1_B Integer\n",
      "0 <= Route_1_C Integer\n",
      "0 <= Route_1_D Integer\n",
      "0 <= Route_2_A Integer\n",
      "0 <= Route_2_B Integer\n",
      "0 <= Route_2_C Integer\n",
      "0 <= Route_2_D Integer\n",
      "0 <= Route_3_A Integer\n",
      "0 <= Route_3_B Integer\n",
      "0 <= Route_3_C Integer\n",
      "0 <= Route_3_D Integer\n",
      "\n"
     ]
    }
   ],
   "source": [
    "# Create a list of all possibilities\n",
    "Routes = [(w, b) for w in p  for b in ct]\n",
    "\n",
    "# Create decisions variables list\n",
    "x = LpVariable.dicts(\"Route\", (p , ct), 0, None, LpInteger)\n",
    "\n",
    "# Create a cost directory\n",
    "cost = makeDict([p,ct], c, 0)\n",
    "\n",
    "# Objective function\n",
    "Problem += lpSum([cost[w][b]  * x[w][b]  for (w, b) in Routes])\n",
    "\n",
    "# Let's print model, to make sure our objective function is ok.\n",
    "print(Problem)\n"
   ]
  },
  {
   "cell_type": "markdown",
   "metadata": {},
   "source": [
    "And now let's recreate constraints.\n",
    "\n",
    "$$\n",
    "\\sum_{j=1}^{n} x_{ij} <= s_{i} \\thinspace\\thinspace\\thinspace for \\thinspace i = 1,2,3,m\n",
    "$$\n",
    "\n",
    "$$\n",
    "\\sum_{j=1}^{m} x_{ij} <= d_{j} \\thinspace\\thinspace\\thinspace for \\thinspace j = 1,2,3,4,n\n",
    "$$\n",
    "\n",
    "The mathematical model has to be able to recreate to theses hard coded constraints, when feeded by datas :\n",
    "<div style=\"text-align:center\">\n",
    "<img src=\"img/hardcodedconstraints.png\" width=\"500\"/>\n",
    "</div>\n",
    "\n",
    "Ok, first, I am going to hard code constraints, then we'll try to iterate instead, in a second step.\n",
    "\n",
    "We can access decisions variables using their indexes."
   ]
  },
  {
   "cell_type": "code",
   "execution_count": 63,
   "metadata": {},
   "outputs": [
    {
     "name": "stdout",
     "output_type": "stream",
     "text": [
      "Statut: Optimal\n",
      "Total minimized cost =  1020.0\n",
      "Route : Route_1_B = 10.0\n",
      "Route : Route_1_C = 25.0\n",
      "Route : Route_2_A = 45.0\n",
      "Route : Route_2_C = 5.0\n",
      "Route : Route_3_B = 10.0\n",
      "Route : Route_3_D = 30.0\n"
     ]
    }
   ],
   "source": [
    "# Supply constraints\n",
    "Problem += x[\"1\"][\"A\"] + x[\"1\"][\"B\"] + x[\"1\"][\"C\"] + x[\"1\"][\"D\"] >=35\n",
    "Problem += x[\"2\"][\"A\"] + x[\"2\"][\"B\"] + x[\"2\"][\"C\"] + x[\"2\"][\"D\"] >=50\n",
    "Problem += x[\"3\"][\"A\"] + x[\"3\"][\"B\"] + x[\"3\"][\"C\"] + x[\"3\"][\"D\"] >=40\n",
    "\n",
    "# Demand constraints\n",
    "Problem += x[\"1\"][\"A\"] + x[\"2\"][\"A\"] + x[\"3\"][\"A\"]  >=45\n",
    "Problem += x[\"1\"][\"B\"] + x[\"2\"][\"B\"] + x[\"3\"][\"B\"]  >=20\n",
    "Problem += x[\"1\"][\"C\"] + x[\"2\"][\"C\"] + x[\"3\"][\"C\"]  >=30\n",
    "Problem += x[\"1\"][\"D\"] + x[\"2\"][\"D\"] + x[\"3\"][\"D\"]  >=30\n",
    "\n",
    "\n",
    "Problem.solve() \n",
    "\n",
    "print('Statut:', LpStatus[Problem.status])\n",
    "print('Total minimized cost = ', value(Problem.objective))\n",
    " \n",
    "for i in Problem.variables():\n",
    "    if i.varValue > 0:\n",
    "        print('Route :',i.name, '=', i.varValue)\n",
    "\n",
    "\n"
   ]
  },
  {
   "cell_type": "markdown",
   "metadata": {},
   "source": [
    "# Comparing solution to the Book's one\n",
    "\n",
    "Book screen copy :\n",
    "<div style=\"text-align:center\">\n",
    "<img src=\"img/solution1.png\" width=\"500\"/>\n",
    "</div>\n",
    "\n",
    "Yes, It's the same than the Excel one , looks good, bro.\n",
    "<div style=\"text-align:center\">\n",
    "<img src=\"img/thumbs-up.jpg\" width=\"100\">\n",
    "</div>\n",
    "\n"
   ]
  },
  {
   "cell_type": "markdown",
   "metadata": {},
   "source": [
    "## Now, let's iterate over datas instead of hard coding constraints, We code the mathematical model directly\n",
    "\n",
    "First, let's redo this Supply constraint: \n",
    "\n",
    "$$\n",
    "\\sum_{j=1}^{ct} x_{ij} <= s_{i} \\thinspace\\thinspace\\thinspace for \\thinspace i = 1,2,3,m\n",
    "$$\n",
    "\n",
    "PLease notice that I stay similar to the math model, as much as possible !"
   ]
  },
  {
   "cell_type": "code",
   "execution_count": 64,
   "metadata": {},
   "outputs": [],
   "source": [
    "# -----------------------------------\n",
    "# Constraints\n",
    "# -----------------------------------\n",
    "\n",
    "# Supply constraint\n",
    "for i in p : # For each plant\n",
    "    Problem += lpSum ( [ x [ i ][ j ] for j in ct ]) >= s[i]\n",
    "\n",
    "# Model will then automatically create theses lines\n",
    "# No need to hard code it any more, less pain, if you see what I mean ...\n",
    "# Problem += x[\"1\"][\"A\"] + x[\"1\"][\"B\"] + x[\"1\"][\"C\"] + x[\"1\"][\"D\"] >=35\n",
    "# Problem += x[\"2\"][\"A\"] + x[\"2\"][\"B\"] + x[\"2\"][\"C\"] + x[\"2\"][\"D\"] >=50\n",
    "# Problem += x[\"3\"][\"A\"] + x[\"3\"][\"B\"] + x[\"3\"][\"C\"] + x[\"3\"][\"D\"] >=40\n"
   ]
  },
  {
   "cell_type": "markdown",
   "metadata": {},
   "source": [
    "And now, let's program this last demand constraint :\n",
    "\n",
    "$$\n",
    "\\sum_{j=1}^{m} x_{ij} <= d_{j} \\thinspace\\thinspace\\thinspace for \\thinspace j = 1,2,3,4,n\n",
    "$$"
   ]
  },
  {
   "cell_type": "code",
   "execution_count": 65,
   "metadata": {},
   "outputs": [],
   "source": [
    "# Demand constraint\n",
    "for idx,m in enumerate (ct) : # For each city\n",
    "    Problem += lpSum ( [ x [ i ][ m ] for i in p ]) >= d[idx]\n",
    "\n",
    "# Model will then automatically create theses lines\n",
    "# Problem += x[\"1\"][\"A\"] + x[\"2\"][\"A\"] + x[\"3\"][\"A\"]  >=45\n",
    "# Problem += x[\"1\"][\"B\"] + x[\"2\"][\"B\"] + x[\"3\"][\"B\"]  >=20\n",
    "# Problem += x[\"1\"][\"C\"] + x[\"2\"][\"C\"] + x[\"3\"][\"C\"]  >=30\n",
    "# Problem += x[\"1\"][\"D\"] + x[\"2\"][\"D\"] + x[\"3\"][\"D\"]  >=30"
   ]
  },
  {
   "cell_type": "markdown",
   "metadata": {},
   "source": [
    "Ok, let's rewrite the whole code without comments , and check if solution is still OK."
   ]
  },
  {
   "cell_type": "code",
   "execution_count": 66,
   "metadata": {},
   "outputs": [
    {
     "name": "stdout",
     "output_type": "stream",
     "text": [
      "Statut: Optimal\n",
      "Total minimized cost =  1020.0\n",
      "Route : Route_1_B = 10.0\n",
      "Route : Route_1_C = 25.0\n",
      "Route : Route_2_A = 45.0\n",
      "Route : Route_2_C = 5.0\n",
      "Route : Route_3_B = 10.0\n",
      "Route : Route_3_D = 30.0\n"
     ]
    }
   ],
   "source": [
    "# -----------------------------------\n",
    "# Instance\n",
    "# -----------------------------------\n",
    "\n",
    "# plants\n",
    "p = ['1','2','3']\n",
    "# cities\n",
    "ct = ['A','B','C','D']\n",
    "# costs\n",
    "c = [  \n",
    "        [8,    6,   10,  9],        # 1   CITY\n",
    "        [9,    12,  13,  7],        # 2\n",
    "        [14,   9,   16,  5],        # 3\n",
    "]\n",
    "# supply per plant\n",
    "s = { '1' : 35 , '2' : 50 , '3' : 40 }\n",
    "# demand per city\n",
    "# d = { 'A' : 45 , 'B' : 20 , 'C' : 30 , 'D' : 30}\n",
    "d = [45,20,30,30] # We'll see later why I need to express it like that, and if we can do better.\n",
    "\n",
    "# -----------------------------------\n",
    "# Type of problem\n",
    "# -----------------------------------\n",
    "Problem = LpProblem('optimisation_transport',LpMinimize)\n",
    "\n",
    "# -----------------------------------\n",
    "# MATHEMATICAL MODEL\n",
    "# -----------------------------------\n",
    "\n",
    "# -----------------------------------\n",
    "# Objective\n",
    "# -----------------------------------\n",
    "\n",
    "# Create a list of all possibilities\n",
    "Routes = [(w, b) for w in p  for b in ct]\n",
    "\n",
    "# Create decisions variables list\n",
    "x = LpVariable.dicts(\"Route\", (p , ct), 0, None, LpInteger)\n",
    "\n",
    "# Create a cost directory\n",
    "cost = makeDict([p,ct], c, 0)\n",
    "\n",
    "# Objective function\n",
    "Problem += lpSum([cost[w][b]  * x[w][b]  for (w, b) in Routes])\n",
    "\n",
    "\n",
    "# -----------------------------------\n",
    "# Constraints\n",
    "# -----------------------------------\n",
    "\n",
    "# Supply constraint\n",
    "for i in p : # For each plant\n",
    "    Problem += lpSum ( [ x [ i ][ j ] for j in ct ]) >= s[i]\n",
    "\n",
    "# Demand constraint\n",
    "for idx,m in enumerate (ct) : # For each city\n",
    "    Problem += lpSum ( [ x [ i ][ m ] for i in p ]) >= d[idx]\n",
    "\n",
    "# -----------------------------------\n",
    "# Solution\n",
    "# -----------------------------------\n",
    "\n",
    "Problem.solve() \n",
    "\n",
    "print('Statut:', LpStatus[Problem.status])\n",
    "print('Total minimized cost = ', value(Problem.objective))\n",
    " \n",
    "for i in Problem.variables():\n",
    "    if i.varValue > 0:\n",
    "        print('Route :',i.name, '=', i.varValue)"
   ]
  },
  {
   "cell_type": "markdown",
   "metadata": {},
   "source": [
    "Solution is still the same."
   ]
  },
  {
   "cell_type": "markdown",
   "metadata": {},
   "source": [
    "# <b>7. Getting familiar with logical/conditional constraints</b>"
   ]
  },
  {
   "cell_type": "markdown",
   "metadata": {},
   "source": [
    "## 7.A Best available ressources on the internet and table summaries\n",
    "\n",
    "\n",
    "\n",
    "<div style=\"text-align:center\">\n",
    "<img src=\"img/MIT-Logo-Histoire.jpg\" width=\"300\">\n",
    "</div>\n",
    "\n",
    "\n",
    "M.I.T courseware great Logical constraints course:\n",
    "- https://ocw.mit.edu/courses/15-053-optimization-methods-in-management-science-spring-2013/5b3af480d3aacc8c345c9e0ecfdd4ba4_MIT15_053S13_tut09.pdf\n",
    "\n",
    "- https://ocw.mit.edu/courses/15-053-optimization-methods-in-management-science-spring-2013/resources/mit15_053s13_lec11/\n",
    "\n",
    "M.I.T complete course : \n",
    "- https://ocw.mit.edu/courses/15-053-optimization-methods-in-management-science-spring-2013/pages/lecture-notes/\n",
    "\n",
    "\n",
    "<div style=\"text-align:center\">\n",
    "<img src=\"img/Artboard-3-copy-2-1.png\" width=\"300\">\n",
    "</div>\n",
    "\n",
    "Newest AIMSS course, including the famous \"Integer tricks\" turorial : \n",
    "- https://documentation.aimms.com/_downloads/AIMMS_modeling.pdf\n",
    "\n",
    "<div style=\"text-align:center\">\n",
    "<img src=\"img/keen.png\" width=\"300\">\n",
    "</div>\n",
    "\n",
    "Ben Alex Keen Phd tutorial : \n",
    "- https://benalexkeen.com/linear-programming-with-python-and-pulp-part-6/\n",
    "\n",
    "StackExchange case :\n",
    "- https://math.stackexchange.com/questions/1851140/binary-integer-variables-in-linear-programming\n",
    "\n",
    "\n",
    "\n"
   ]
  },
  {
   "cell_type": "markdown",
   "metadata": {},
   "source": [
    "## 7.B.1 Presentation of the capital budgeting problem\n",
    "\n",
    "Let's examine this example exposed in \" Optimizations modeling with spreadsheets\" by Kenneth R. Baker.<br>\n",
    "\n",
    "Division A of the Newton Corporation has been allocated $40 million for capital projects this\n",
    "year. Managers in Division A have examined various possibilities and have proposed five pro-\n",
    "jects for the capital budgeting committee to consider. The projects cover a variety of activities\n",
    "and functional areas, and there is just one of each type.<br>\n",
    "Each project has an estimated net present value (NPV), and each requires a capital expenditure,\n",
    "which must come out of the budget for capital projects. The following table summarizes the pos-\n",
    "sibilities, as they have been provided to the committee, with all figures in millions of dollars.\n",
    "\n",
    " <table>\n",
    "  <tr>\n",
    "    <th><b>Project</b></th>\n",
    "    <th>P1</th>\n",
    "    <th>P2</th>\n",
    "    <th>P3</th>\n",
    "    <th>P4</th>\n",
    "    <th>P5</th>\n",
    "  </tr>\n",
    "  <tr>\n",
    "    <td>NPV</td>\n",
    "    <td>2.0</td>\n",
    "    <td>3.6</td>\n",
    "    <td>3.2</td>\n",
    "    <td>1.6</td>\n",
    "    <td>2.8</td>\n",
    "  </tr>\n",
    "  <tr>\n",
    "    <td>Expenditure</td>\n",
    "    <td>12</td>\n",
    "    <td>24</td>\n",
    "    <td>20</td>\n",
    "    <td>8</td>\n",
    "    <td>16</td>\n",
    "  </tr>\n",
    "</table> \n",
    "\n",
    "The committee would like to maximize the total NPV from projects selected, subject to a $40\n",
    "million limit on capital expenditures. This $40-million constraint makes it impossible to under-\n",
    "take all five projects; a subset of the five must be selected. "
   ]
  },
  {
   "cell_type": "markdown",
   "metadata": {},
   "source": [
    "## 7.B.2 Mathematical modeling\n",
    "\n",
    "We are now used to model a math model from an instance, so, unlike the book, I do write the maths model directly, retrieving sets, and including the mandatory nomenclature.\n",
    "\n",
    "$$\n",
    "Max (Z) = \\sum_{j=1}^{5} n_{j}.x_{j}\n",
    "$$\n",
    "$$\n",
    "s.t\n",
    "$$\n",
    "$$\n",
    " \\sum_{j=1}^{e} e_{j}.x_{j} <= 40\n",
    "$$\n",
    "$$\n",
    "x_{j} \\in {0,1}\n",
    "$$\n",
    "\n",
    "$$\n",
    "where\n",
    "$$\n",
    "\n",
    "$$\n",
    " x_{j} = project \\thinspace selection\n",
    "$$\n",
    "$$\n",
    " n_{j} = NPV \\thinspace per \\thinspace project \\thinspace Pj\n",
    "$$\n",
    "$$\n",
    " e_{j} = expenditure \\thinspace per \\thinspace \\thinspace project \\thinspace Pj\n",
    "$$\n",
    "\n",
    "<br>\n",
    "We notice that decisions variables are now binary, and are used to select a j project  or not.\n",
    "We notice that there is no i indice in this model.\n",
    "\n",
    "\n",
    "\n"
   ]
  },
  {
   "cell_type": "markdown",
   "metadata": {},
   "source": [
    "## 7.B.3 Solution using Python Pulp and Book's Excel solution comparison\n",
    "\n",
    "\n",
    "As always, first comes the Instance, with datas, then the math model is written in Python.\n",
    "Notice that sets names are stricly the same than in the math model, so it's easy to come from one to the other."
   ]
  },
  {
   "cell_type": "code",
   "execution_count": 67,
   "metadata": {},
   "outputs": [
    {
     "name": "stdout",
     "output_type": "stream",
     "text": [
      "project_P1 = 1.0\n",
      "project_P2 = 0.0\n",
      "project_P3 = 1.0\n",
      "project_P4 = 1.0\n",
      "project_P5 = 0.0\n",
      "Total NPV =  6.800000000000001\n"
     ]
    }
   ],
   "source": [
    "# Instance\n",
    "X = [ 'P1' , 'P2' , 'P3' , 'P4','P5' ]\n",
    "n = { 'P1' : 2.0 , 'P2' : 3.6 , 'P3' : 3.2 , 'P4' : 1.6, 'P5':2.8 }\n",
    "e = { 'P1' : 12 , 'P2' : 24 , 'P3' : 20 , 'P4' : 8, 'P5':16 }\n",
    "\n",
    "\n",
    "# Params\n",
    "model = LpProblem ( 'Problem' , LpMaximize )\n",
    "x = LpVariable . dicts ( \"project\" , X , lowBound = 0 , cat = 'Binary' )\n",
    "\n",
    "# Math model\n",
    "# Objective\n",
    "model += lpSum ([ n [ j ] * x [ j ] for j in X ]), \"MAXIMIZE_Z_FUNCTION\"\n",
    "\n",
    "# Constraints\n",
    "model += lpSum ( [ e [ j ] * x [ j ] for j in X ]) <= 40\n",
    "\n",
    "# Solution\n",
    "model.solve ()\n",
    "\n",
    "for v in model . variables ():\n",
    "    print( v . name , \"=\" , v . varValue )\n",
    "\n",
    "print ( \"Total NPV = \" , value ( model.objective ) )"
   ]
  },
  {
   "cell_type": "markdown",
   "metadata": {},
   "source": [
    "We see that the book's Excel solution is the same than the one we find using Python Pulp, here is a screen cap of the book :\n",
    "<div style=\"text-align:center\">\n",
    "<img src=\"img/chapter7solution.png\">\n",
    "</div>\n",
    "\n",
    "Looks good, bro !\n",
    "<div style=\"text-align:center\">\n",
    "<img src=\"img/thumbs-up.jpg\" width=\"100\">\n",
    "</div>\n"
   ]
  },
  {
   "cell_type": "markdown",
   "metadata": {},
   "source": [
    "## 7.B.4 Mathematical modeling of conditional constraints.\n",
    "\n",
    "<h3><b>Association:</b></h3><br>\n",
    "Regarding the previous problem, let's imagine an additional association constraint, if project 1 is chosen, then project 2 must be chosen.\n",
    "Let's add this inside of the math model : \n",
    "$$\n",
    " x_{2} >= x_{1}\n",
    "$$\n",
    "\n",
    "Source : \n",
    "https://or.stackexchange.com/questions/33/in-an-integer-program-how-i-can-force-a-binary-variable-to-equal-1-if-some-cond\n",
    "\n",
    "And, now, let's modify the Python Pulp program accordingly :"
   ]
  },
  {
   "cell_type": "code",
   "execution_count": 68,
   "metadata": {},
   "outputs": [
    {
     "name": "stdout",
     "output_type": "stream",
     "text": [
      "project_P1 = 0.0\n",
      "project_P2 = 1.0\n",
      "project_P3 = 0.0\n",
      "project_P4 = 0.0\n",
      "project_P5 = 1.0\n",
      "Total NPV =  6.4\n"
     ]
    }
   ],
   "source": [
    "# Instance\n",
    "X = [ 'P1' , 'P2' , 'P3' , 'P4','P5' ]\n",
    "n = { 'P1' : 2.0 , 'P2' : 3.6 , 'P3' : 3.2 , 'P4' : 1.6, 'P5':2.8 }\n",
    "e = { 'P1' : 12 , 'P2' : 24 , 'P3' : 20 , 'P4' : 8, 'P5':16 }\n",
    "\n",
    "\n",
    "# Params\n",
    "model = LpProblem ( 'Problem' , LpMaximize )\n",
    "x = LpVariable . dicts ( \"project\" , X , lowBound = 0 , cat = 'Binary' )\n",
    "\n",
    "# Math model\n",
    "# Objective\n",
    "model += lpSum ([ n [ j ] * x [ j ] for j in X ]), \"MAXIMIZE_Z_FUNCTION\"\n",
    "\n",
    "# Constraints\n",
    "model += lpSum ( [ e [ j ] * x [ j ] for j in X ]) <= 40\n",
    "\n",
    "model +=  x['P2'] >= x['P1']\n",
    "\n",
    "# Solution\n",
    "model.solve ()\n",
    "\n",
    "for v in model . variables ():\n",
    "    print( v . name , \"=\" , v . varValue )\n",
    "\n",
    "print ( \"Total NPV = \" , value ( model.objective ) )"
   ]
  },
  {
   "cell_type": "markdown",
   "metadata": {},
   "source": [
    "<h3><b>Exclusion</b></h3><br>"
   ]
  },
  {
   "cell_type": "markdown",
   "metadata": {},
   "source": [
    "Let's now imagine an additional exclusion constraint, if project 2 is chosen, then project 2 must  not be chosen.\n",
    "Let's add this inside of the math model :\n",
    "\n",
    "$$\n",
    "x_{1} + x_{2} <= 1\n",
    "$$"
   ]
  },
  {
   "cell_type": "code",
   "execution_count": 69,
   "metadata": {},
   "outputs": [
    {
     "name": "stdout",
     "output_type": "stream",
     "text": [
      "project_P1 = 1.0\n",
      "project_P2 = 0.0\n",
      "project_P3 = 1.0\n",
      "project_P4 = 1.0\n",
      "project_P5 = 0.0\n",
      "Total NPV =  6.800000000000001\n"
     ]
    }
   ],
   "source": [
    "# Instance\n",
    "X = [ 'P1' , 'P2' , 'P3' , 'P4','P5' ]\n",
    "n = { 'P1' : 2.0 , 'P2' : 3.6 , 'P3' : 3.2 , 'P4' : 1.6, 'P5':2.8 }\n",
    "e = { 'P1' : 12 , 'P2' : 24 , 'P3' : 20 , 'P4' : 8, 'P5':16 }\n",
    "\n",
    "\n",
    "# Params\n",
    "model = LpProblem ( 'Problem' , LpMaximize )\n",
    "x = LpVariable . dicts ( \"project\" , X , lowBound = 0 , cat = 'Binary' )\n",
    "\n",
    "# Math model\n",
    "# Objective\n",
    "model += lpSum ([ n [ j ] * x [ j ] for j in X ]), \"MAXIMIZE_Z_FUNCTION\"\n",
    "\n",
    "# Constraints\n",
    "model += lpSum ( [ e [ j ] * x [ j ] for j in X ]) <= 40\n",
    "\n",
    "model +=  x['P1'] + x['P2'] <= 1\n",
    "\n",
    "# Solution\n",
    "model.solve ()\n",
    "\n",
    "for v in model . variables ():\n",
    "    print( v . name , \"=\" , v . varValue )\n",
    "\n",
    "print ( \"Total NPV = \" , value ( model.objective ) )"
   ]
  }
 ],
 "metadata": {
  "kernelspec": {
   "display_name": "Python 3",
   "language": "python",
   "name": "python3"
  },
  "language_info": {
   "codemirror_mode": {
    "name": "ipython",
    "version": 3
   },
   "file_extension": ".py",
   "mimetype": "text/x-python",
   "name": "python",
   "nbconvert_exporter": "python",
   "pygments_lexer": "ipython3",
   "version": "3.9.2"
  }
 },
 "nbformat": 4,
 "nbformat_minor": 2
}
