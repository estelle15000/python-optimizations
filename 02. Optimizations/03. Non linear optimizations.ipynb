{
 "cells": [
  {
   "cell_type": "markdown",
   "metadata": {},
   "source": [
    "## Non linear combinatory problems\n",
    "16. <b> Tackle non-linear optimizations </b>\n",
    "    - How to detect a non-linear problem\n",
    "    - Local or global solution, convex problem or not, Sinusoïdal or not ?\n",
    "    - What solver to use, Scipy, Pyomo simple model, NlOpt, Gekko , Ipopt, Lingo ?\n",
    "- Each N.L solvers simple codes discovery.\n",
    "17. <b> Modeling of a non linear Production mixe optimization</b>\n",
    "    - Presentation of the problem in a table\n",
    "    - Mathematical modeling\n",
    "    - Gekko and Pyomo simple model solution\n",
    "18. <b> Modeling of a non linear location allocation model</b>\n",
    "    - Presentation of the Beer Belge Ronald Rardin \" Optimizations in O.R\" 2nd edition\n",
    "    - Mathematical modeling\n",
    "    - Gekko and Pyomo simple model solution\n",
    "19. <b> Modeling of a non linear Oilco NLP Haverly 1978</b>\n",
    "    - Presentation of the Unknown book pb\n",
    "    - Mathematical modeling\n",
    "    - Gekko and Pyomo simple model solution\n",
    "20. <b>Modeling of an optimal dimensions of a soda can </b>\n",
    "    - Presentation of the problem in a table\n",
    "    - Mathematical modeling\n",
    "    - Gekko and Pyomo simple model solution\n",
    "21. <b> Modeling of a non linear Portfolio optimization</b>\n",
    "    - Presentation of the problem in a table\n",
    "    - Mathematical modeling\n",
    "    - Gekko and Pyomo simple model solution"
   ]
  }
 ],
 "metadata": {
  "language_info": {
   "name": "python"
  }
 },
 "nbformat": 4,
 "nbformat_minor": 2
}
