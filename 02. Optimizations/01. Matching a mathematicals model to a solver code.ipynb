{
 "cells": [
  {
   "cell_type": "markdown",
   "metadata": {},
   "source": [
    "# Matching a mathematical model to a solver code"
   ]
  },
  {
   "cell_type": "markdown",
   "metadata": {},
   "source": [
    "\n",
    "\n",
    "## Introduction.\n",
    "In this notebook, we will analyze the methods to match a given mathematical model to a Python solver code. In other words, how to go from one to the other. This in the context of combinatorial optimizations.\n",
    "\n",
    "*** CREATION IN PROGRESS ***\n",
    "Notebook created by GITHUB ESTELLE DERRIEN\n",
    "\n",
    "\n",
    "<div style=\"text-align:center\">\n",
    "<img src=\"img/intro_correspondre.png\">\n",
    "</div>"
   ]
  },
  {
   "cell_type": "markdown",
   "metadata": {},
   "source": [
    "## Summary\n",
    "\n",
    "1. <b> Mathematical symbols and the vocabulary to know. </b>\n",
    "2. <b> First methods using a simple problem </b>\n",
    "- 2.A Presentation of the problem in a table\n",
    "- 2.B Modeling of a basic instance\n",
    "- 3.c Solution with python pulp\n",
    "3. <B> Extension of our problem and summons symbol. </b>\n",
    "- 2.A Presentation of the problem in a table\n",
    "- 2.B Mathematical modeling and difference between instance and model\n",
    "- 3.c Programming of the summation symbol in the Python solver\n",
    "    - With Python Pulp\n",
    "    - With Python Cplex\n",
    "    - With GLPK online command\n",
    "4. <B> Familiar with AIJ writing with a simple example taken from Hillier </b>\n",
    "- 4.A Presentation of the problem in a table\n",
    "- 4.B Mathematical modeling and nomenclature\n",
    "- 4.C AIJ solution and programming with Python Pulp\n",
    "7. <B> Familiar with an objective function including a summation and a cost subtraction. </b>\n",
    "- Presentation of the problem in a table\n",
    "- Mathematical modeling\n",
    "- Solution with Python Pulp\n",
    "8. <B> Familiar with the writing double summation σς </b>\n",
    "- Presentation of the problem in a table\n",
    "- Mathematical modeling\n",
    "- Solution with Python Pulp\n",
    "10. <B> Modeling a bin packing problem </b>\n",
    "- The different types of bin packing\n",
    "- Presentation of the problem in a table\n",
    "- Mathematical modeling\n",
    "- Solution with Python Pulp\n",
    "10. <B> Modeling a mixture problem </b>\n",
    "- Presentation of the problem in a table\n",
    "- Mathematical modeling\n",
    "- Solution with Python Pulp\n",
    "11. <B> Modeling a commercial traveler problem </b>\n",
    "- Presentation of the problem in a table\n",
    "- Mathematical modeling\n",
    "- Solution with Python \n",
    "9. <B> Modeling a more complex combinatorial optimization of the chemistry/petroleum type </b>\n",
    "- Presentation of the problem in a table\n",
    "- Mathematical modeling\n",
    "- Solution with Python Pulp\n",
    "12. <B> linearization of constraints by breakpoints, piecewize and modeling. </b>\n",
    "- Presentation of the problem in a table\n",
    "- Mathematical modeling\n",
    "- Solution with Python \n",
    "13. <B> Tackle non -linear optimization </b>\n",
    "- How to detect a non -linear problem\n",
    "- Local or global solution?\n",
    "- What solver to use?\n",
    "- Presentation of the problem in a table\n",
    "- Mathematical modeling\n",
    "- Solution with the Python solver"
   ]
  }
 ],
 "metadata": {
  "language_info": {
   "name": "python"
  }
 },
 "nbformat": 4,
 "nbformat_minor": 2
}
