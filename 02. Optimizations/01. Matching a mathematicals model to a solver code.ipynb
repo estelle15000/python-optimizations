{
 "cells": [
  {
   "cell_type": "markdown",
   "metadata": {},
   "source": [
    "# Matching a mathematical model to a solver code"
   ]
  },
  {
   "cell_type": "markdown",
   "metadata": {},
   "source": [
    "\n",
    "\n",
    "## Introduction.\n",
    "In this notebook, we will analyze the methods to match a given mathematical model to a Python solver code. In other words, how to go from one to the other. This in the context of combinatorial optimizations.\n",
    "I start with a total beginner level, then I complicate things as the notebook progresses.\n",
    "\n",
    "\n",
    "\n",
    "*** CREATION IN PROGRESS ***\n",
    "Notebook created by GITHUB ESTELLE DERRIEN\n",
    "\n",
    "\n",
    "<div style=\"text-align:center\">\n",
    "<img src=\"img/intro_correspondre.png\">\n",
    "</div>"
   ]
  },
  {
   "cell_type": "markdown",
   "metadata": {},
   "source": [
    "## Summary\n",
    "\n",
    "1. <b> Mathematical symbols and the vocabulary to know. </b>\n",
    "2. <b> First methods using a simple problem </b>\n",
    "- 2.A Presentation of the problem in a table\n",
    "- 2.B Modeling of a basic instance\n",
    "- 3.C Solution with python pulp\n",
    "3. <b> Extension of our problem and summation symbol. </b>\n",
    "- 2.A Presentation of the problem in a table\n",
    "- 2.B Mathematical modeling and difference between instance and model\n",
    "- 3.C Programming of the summation symbol in the Python solver\n",
    "    - With Python Pulp\n",
    "    - With Python Cplex\n",
    "    - With GLPK online command\n",
    "4. <b> Getting Familiar with AIJ writing with a simple example taken from Hillier </b>\n",
    "- 4.A Presentation of the problem in a table\n",
    "- 4.B Mathematical modeling and nomenclature\n",
    "- 4.C Aij solution and programming with Python Pulp\n",
    "7. <b> Getting Familiar with an objective function including a summation and a cost subtraction. </b>\n",
    "- Presentation of the problem in a table\n",
    "- Mathematical modeling\n",
    "- Solution with Python Pulp\n",
    "8. <b>  Getting familiar with double summation writing ΣΣ</b>\n",
    "- Presentation of the problem in a table\n",
    "- Mathematical modeling\n",
    "- Solution with Python Pulp\n",
    "10. <b> Modeling a bin packing problem </b>\n",
    "- The different types of bin packing\n",
    "- Presentation of the problem in a table\n",
    "- Mathematical modeling\n",
    "- Solution with Python Pulp\n",
    "10. <b> Modeling a mixture problem </b>\n",
    "- Presentation of the problem in a table\n",
    "- Mathematical modeling\n",
    "- Solution with Python Pulp\n",
    "11. <b> Modeling a commercial traveler problem </b>\n",
    "- Presentation of the problem in a table\n",
    "- Mathematical modeling\n",
    "- Solution with Python \n",
    "9. <b> Modeling a more complex combinatorial optimization of the chemistry/petroleum type </b>\n",
    "- Presentation of the problem in a table\n",
    "- Mathematical modeling\n",
    "- Solution with Python Pulp\n",
    "12. <b> Linearization of constraints by breakpoints, piecewize and modeling. </b>\n",
    "- Presentation of the problem in a table\n",
    "- Mathematical modeling\n",
    "- Solution with Python \n",
    "13. <b> Tackle non-linear optimizations </b>\n",
    "- How to detect a non-linear problem\n",
    "- Local or global solution?\n",
    "- What solver to use?\n",
    "- Presentation of the problem in a table\n",
    "- Mathematical modeling\n",
    "- Solution with the Python solver"
   ]
  },
  {
   "cell_type": "markdown",
   "metadata": {},
   "source": [
    "# 1. Mathematical symbols and the vocabulary to know:\n",
    "\n",
    "- The symbol <b> Σ </b> (sigma), it learns in second class and makes it possible to simplify the writing of an addition.\n",
    "\n",
    "- The symbol <b> ∈ </b> means \"belongs to\", we use it when we first defined a set S {x1, x2 ... xn}\n",
    "\n",
    "- The symbol <b> ∀ </b> (quantifier) ​​means \"for all\".\n",
    "\n",
    "- An <b> Aij matrix </b>: i is the row, j it's the column.So if we are told about value A14, this is the value of row 1 column 4.\n",
    "\n",
    "- An <b> Objective function </b>: it is intended to be minimized or maximized, when the solver calculates the best values ​​of the decision variables\n",
    "\n",
    "- Decision variables </b>: a decision variable contains a value which will then be calculated by the solver to be the best possible value to minimize or maximize an objective function (that's it, optimization).The best known algorithm is the simplex.\n",
    "\n",
    "- <b> \"subject to\"  </b> means that the objective function is subject to constraints that we write under the \"subject to\" sentence.\n",
    "\n",
    "- <b> ℕ </b> is the set of positive integers including 0, <b> n ∗ </b> omens zero.It is generally used to specify the nature of the decision variables, they can therefore be integer, continuous or binary.\n",
    "\n",
    "- <b> \"Expressed in kg\" </b> This formulation \"expressed in\" is important because in operations research, we are constantly juggling with S.Is, the international system for the rating of internationally recognized units.Omitting this specification can lead to many problems, especially during optimizations in percentages, or when it is necessary to transpose into another S.I, example, of kilos in tons, from euros to dollars."
   ]
  },
  {
   "cell_type": "markdown",
   "metadata": {},
   "source": [
    "# 2. Our basic example :\n",
    "\n",
    " We're going to take a fairly simple production mix model.\n",
    " In beginner problems, at the beginning, we don't have to use the summation symbol, since we generally have few variables, by deduction, we don't have to iterate with the solver. It is therefore much simpler to\n",
    " understand, at the beginning"
   ]
  },
  {
   "cell_type": "markdown",
   "metadata": {},
   "source": [
    "## The story \n",
    "\n",
    "<div style=\"text-align:center\">\n",
    "<img src=\"img/000171013_896x598_c.jpg\" width=\"500\"/>\n",
    "</div>\n",
    "\n",
    "- A company produces car A and car B.\n",
    "- Car A requires 20 units of K supplies and 10 units of Z supplies.\n",
    "- Car B requires 18 units of K supplies and 8 units of Z supplies.\n",
    "- There are 5000 units of K supplies in inventory and 6000 units of Z supplies in inventory.\n",
    "- The car A has given a profit of 20,000 euros, and car B provides a profit of 18,000 euros.\n",
    "\n",
    "What cars should the company provide in order to <b> maximize its profit </b>, under <b> inventory constraint </b>?\n"
   ]
  },
  {
   "cell_type": "markdown",
   "metadata": {},
   "source": [
    "So here, in this problem, we can clearly see that there are few decision variables involved and few constraints. No reason to express the mathematical model with summation symbols, and to do iterations in the Python solver code."
   ]
  },
  {
   "cell_type": "markdown",
   "metadata": {},
   "source": [
    "## We deduce the mathematical instance.\n",
    "\n",
    "Either\n",
    "\n",
    "- A is the number of A car units to be produced (it is a decision variable)\n",
    "- B is the number of B car units to be produced (it is a decision variable)\n",
    "\n",
    "<b> The objective function r </b> is to maximize the profit: <br>\n",
    "\n",
    "Max (r) = 20000a + 18000b\n",
    "\n",
    "<b> The constraints </b> are inventory constraints: <br>\n",
    "\n",
    "K inventory : <br> \n",
    "20a + 18b <= 5000\n",
    "\n",
    "Z inventory :<br> \n",
    "10a + 8b <= 6000"
   ]
  }
 ],
 "metadata": {
  "language_info": {
   "name": "python"
  }
 },
 "nbformat": 4,
 "nbformat_minor": 2
}
