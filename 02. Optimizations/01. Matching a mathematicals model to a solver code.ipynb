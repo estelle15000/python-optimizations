{
 "cells": [
  {
   "cell_type": "markdown",
   "metadata": {},
   "source": [
    "# Matching a mathematical model to a solver code"
   ]
  },
  {
   "cell_type": "markdown",
   "metadata": {},
   "source": [
    "\n",
    "\n",
    "## Introduction.\n",
    "In this notebook, we will analyze the methods to match a given mathematical model to a Python solver code. In other words, how to go from one to the other. This in the context of combinatorial optimizations.\n",
    "I start with a total beginner level, then I complicate things as the notebook progresses.\n",
    "\n",
    "\n",
    "\n",
    "*** CREATION IN PROGRESS ***<br>\n",
    "Notebook created by GITHUB ESTELLE DERRIEN\n",
    "\n",
    "\n",
    "<div style=\"text-align:center\">\n",
    "<img src=\"img/intro_correspondre.png\">\n",
    "</div>"
   ]
  },
  {
   "cell_type": "markdown",
   "metadata": {},
   "source": [
    "## Summary\n",
    "\n",
    "1. <b> Mathematical symbols and the vocabulary to know. </b>\n",
    "2. <b> First methods using a simple problem </b>\n",
    "- 2.A Presentation of the problem in a table\n",
    "- 2.B Modeling of a basic instance\n",
    "- 3.C Solution with python pulp\n",
    "3. <b> Extension of our problem and the Σ summation symbol . </b>\n",
    "- 2.A Presentation of the problem in a table\n",
    "- 2.B Mathematical modeling and difference between instance and model\n",
    "- 3.C Programming of the Σ summation symbol in the Python solver\n",
    "    - With Python Pulp\n",
    "    - With Python Cplex\n",
    "    - With GLPK online command\n",
    "4. <b> Getting Familiar with Aij writing with a simple example taken from Hillier </b>\n",
    "- 4.A Presentation of the problem in a table\n",
    "- 4.B Mathematical modeling and nomenclature\n",
    "- 4.C Aij solution and programming with Python Pulp\n",
    "5. <b> Getting Familiar with an objective function including a summation and a cost subtraction. </b>\n",
    "- Presentation of the problem in a table\n",
    "- Mathematical modeling\n",
    "- Solution with Python Pulp\n",
    "6. <b>Getting familiar with double summation writing ΣΣ</b>\n",
    "- Presentation of the problem in a table\n",
    "- Mathematical modeling\n",
    "- Solution with Python Pulp\n",
    "7. <b> Modeling a bin packing problem </b>\n",
    "- The different types of bin packing\n",
    "- Presentation of the problem in a table\n",
    "- Mathematical modeling\n",
    "- Solution with Python Pulp\n",
    "8. <b> Modeling a blending problem </b>\n",
    "- Presentation of the problem in a table\n",
    "- Mathematical modeling\n",
    "- Solution with Python Pulp\n",
    "9. <b> Modeling a set covering problem </b>\n",
    "- Presentation of the problem in a table\n",
    "- Mathematical modeling\n",
    "- Solution with Python \n",
    "10. <b> Modeling a more complex combinatorial optimization of the chemistry/petroleum type </b>\n",
    "- Presentation of the problem in a table\n",
    "- Mathematical modeling\n",
    "- Solution with Python Pulp\n",
    "11. <b> Linearization of constraints by breakpoints, piecewize and modeling. </b>\n",
    "- Presentation of the problem in a table\n",
    "- Mathematical modeling\n",
    "- Solution with Python solvers\n",
    "13. <b> Tackle non-linear optimizations </b>\n",
    "- How to detect a non-linear problem\n",
    "- Local or global solution?\n",
    "- What solver to use?\n",
    "- Presentation of the problem in a table\n",
    "- Mathematical modeling\n",
    "- Solution with the Python solver"
   ]
  },
  {
   "cell_type": "markdown",
   "metadata": {},
   "source": [
    "# 1. Mathematical symbols and the vocabulary to know:\n",
    "\n",
    "- The symbol <b> Σ </b> (sigma), it learns in second class and makes it possible to simplify the writing of an addition.\n",
    "\n",
    "- The symbol <b> ∈ </b> means \"belongs to\", we use it when we first defined a set S {x1, x2 ... xn}\n",
    "\n",
    "- The symbol <b> ∀ </b> (quantifier) ​​means \"for all\".\n",
    "\n",
    "- An <b> Aij matrix </b>: i is the row, j it's the column.So if we are told about value A14, this is the value of row 1 column 4.\n",
    "\n",
    "- An <b> Objective function </b>: it is intended to be minimized or maximized, when the solver calculates the best values ​​of the decision variables\n",
    "\n",
    "- Decision variables </b>: a decision variable contains a value which will then be calculated by the solver to be the best possible value to minimize or maximize an objective function (that's it, optimization).The best known algorithm is the simplex.\n",
    "\n",
    "- <b> \"subject to\"  </b> means that the objective function is subject to constraints that we write under the \"subject to\" sentence.\n",
    "\n",
    "- <b> ℕ </b> is the set of positive integers including 0, <b> n ∗ </b> omens zero.It is generally used to specify the nature of the decision variables, they can therefore be integer, continuous or binary.\n",
    "\n",
    "- <b> \"Expressed in kg\" </b> This formulation \"expressed in\" is important because in operations research, we are constantly juggling with S.Is, the international system for the rating of internationally recognized units.Omitting this specification can lead to many problems, especially during optimizations in percentages, or when it is necessary to transpose into another S.I, example, of kilos in tons, from euros to dollars."
   ]
  },
  {
   "cell_type": "markdown",
   "metadata": {},
   "source": [
    "# 2. Our basic example :\n",
    "\n",
    " We're going to take a fairly simple production mix model.\n",
    " In beginner problems, at the beginning, we don't have to use the summation symbol, since we generally have few variables, by deduction, we don't have to iterate with the solver. It is therefore much simpler to\n",
    " understand, at the beginning"
   ]
  },
  {
   "cell_type": "markdown",
   "metadata": {},
   "source": [
    "## The story \n",
    "\n",
    "<div style=\"text-align:center\">\n",
    "<img src=\"img/000171013_896x598_c.jpg\" width=\"500\"/>\n",
    "</div>\n",
    "\n",
    "- A company produces car A and car B.\n",
    "- Car A requires 20 units of K supplies and 10 units of Z supplies.\n",
    "- Car B requires 18 units of K supplies and 8 units of Z supplies.\n",
    "- There are 5000 units of K supplies in inventory and 6000 units of Z supplies in inventory.\n",
    "- The car A has given a profit of 20,000 euros, and car B provides a profit of 18,000 euros.\n",
    "\n",
    "What cars should the company provide in order to <b> maximize its profit </b>, subject to <b> inventory constraints </b>?\n"
   ]
  },
  {
   "cell_type": "markdown",
   "metadata": {},
   "source": [
    "So here, in this problem, we can clearly see that there are few decision variables involved and few constraints. No reason to express the mathematical model with summation symbols, and to do iterations in the Python solver code."
   ]
  },
  {
   "cell_type": "markdown",
   "metadata": {},
   "source": [
    "## We deduce the mathematical instance.\n",
    "\n",
    "Either\n",
    "\n",
    "- A is the number of A car units to be produced (it is a decision variable)\n",
    "- B is the number of B car units to be produced (it is a decision variable)\n",
    "\n",
    "<b> The objective function r </b> is to maximize the profit: <br>\n",
    "\n",
    "Max (r) = 20000a + 18000b\n",
    "\n",
    "<b> The constraints </b> are inventory constraints: <br>\n",
    "\n",
    "K inventory : <br> \n",
    "20a + 18b <= 5000\n",
    "\n",
    "Z inventory :<br> \n",
    "10a + 8b <= 6000"
   ]
  },
  {
   "cell_type": "markdown",
   "metadata": {},
   "source": [
    "# We write the instance\n",
    "\n",
    "Max(R) = 20000A + 18000B<br>\n",
    "S.T<br>\n",
    "20A + 18B <= 5000<br>\n",
    "10A + 8B <= 6000<br>\n",
    "With<br>\n",
    "{A,B} ∈ ℕ<br>"
   ]
  },
  {
   "cell_type": "markdown",
   "metadata": {},
   "source": [
    "## We write the solver code"
   ]
  },
  {
   "cell_type": "code",
   "execution_count": 56,
   "metadata": {},
   "outputs": [
    {
     "name": "stdout",
     "output_type": "stream",
     "text": [
      "A = 7.0\n",
      "B = 270.0\n",
      "Maximized total profit =  5000000.0\n"
     ]
    }
   ],
   "source": [
    "# The basic method:\n",
    "# -----------------------------------\n",
    "# Import from Python Pulp\n",
    "# -------- ---------------------------\n",
    "from pulp import *\n",
    "# -----------------------------------\n",
    "# Type of problem\n",
    "# -----------------------------------\n",
    "# We choose to solve a Maximization problem\n",
    "model = LpProblem ( 'Problem' , LpMaximize )\n",
    "# -----------------------------------\n",
    "# Decision variables\n",
    "# -----------------------------------\n",
    "A = LpVariable ( \"A\" , lowBound = 0 , cat = 'Integer' ) # Create a variable x >= 0\n",
    "B = LpVariable ( \"B\" , lowBound = 0 , cat = 'Integer' ) # Create a variable y >= 0\n",
    "# -----------------------------------\n",
    "# Objective function R\n",
    "# -----------------------------------\n",
    "model += 20000 * A + 18000 * B\n",
    "# -----------------------------------\n",
    "# Constraints\n",
    "# -----------------------------------\n",
    "model += 20 * A + 18 * B <= 5000 , \"inventory_product_K\"\n",
    "model += 10 * A + 8 * B <= 6000 , \"inventory_product_Z\"\n",
    "# -----------------------------------\n",
    "# Solution\n",
    "# ----------- ------------------------\n",
    "model.solve ()\n",
    "\n",
    "# We print the variables that have their values optimized\n",
    "for v in model . variables ():\n",
    "    print( v . name , \"=\" , v . varValue )\n",
    "\n",
    "# The value of the optimized objective function is printed to the screen \n",
    "print ( \"Maximized total profit = \" , value ( model.objective ) )"
   ]
  },
  {
   "cell_type": "markdown",
   "metadata": {},
   "source": [
    "## 3. Extension of our example and Σ summation symbol.\n",
    "\n",
    "Now let's say the company produces 12 different cars, each requiring a different quantity of supply K and Z, and each providing a different profit. The goal is still to determine which cars are best to produce, in\n",
    "order to maximize our profit subject to inventory constraints.\n",
    " \n",
    "Isn't it boring to retype each value by hand? Yes, it is boring.\n",
    "\n",
    "Wouldn't it be more convenient to use the summation mathematical symbol when we are going to write the mathematical model, and to iterate over an array in the Python solver code? This is in order to synthesize the expression of our optimization? Which will allow us to communicate easily and internationally about our optimization, and to be understood quickly?\n",
    "\n",
    "So now let's try to model our mathematical optimization model, by deducing it from our data. We will use the summation symbol, then, we will iterate in the Python code, to obtain our final linear optimization."
   ]
  },
  {
   "cell_type": "markdown",
   "metadata": {},
   "source": [
    "## Table of supplies needed for the 12 cars."
   ]
  },
  {
   "cell_type": "markdown",
   "metadata": {},
   "source": [
    "<div style=\"text-align:center\">\n",
    "<img src=\"img/car-table.png\" />\n",
    "</div>"
   ]
  },
  {
   "cell_type": "markdown",
   "metadata": {},
   "source": [
    "## We deduce the mathematical instance from this.\n",
    "\n",
    "Let's write this instance in hard copy, in order to understand how boring it is.\n",
    "\n",
    "Let\n",
    "- A be the number of A car units to be produced (it is a decision variable)\n",
    "- B be the number of B car units to be produced (it is a decision variable)\n",
    "- C be the number of C car units to be produced (this is a decision variable)\n",
    "- D be the number of D car units to be produced (this is a decision variable)\n",
    "- E be the number of E car units to be produced (it is a decision variable)\n",
    "- F be the number of F car units to be produced (it is a decision variable)\n",
    "- G be the number of G car units to be produced (this is a decision variable)\n",
    "- H be the number of H car units to be produced (this is a decision variable)\n",
    "- I be The number of I car units to be produced (this is a decision variable)\n",
    "- J be the number of J car units to be produced (this is a decision variable)\n",
    "- K be the number of K car units to be produced (this is a decision variable)\n",
    "- L be the number of L car units to be produced (this is a decision variable)\n",
    "\n",
    "<b>The objective function that we can call R</b> is to maximize the profit:<br>\n",
    "Max(R) = 20000A + 18000B + 17000C + 21000D + 24000E + 18500F + 20500G + 18500H + 18900I + 21000J + 20500K + 8000L<br><br>\n",
    "\n",
    "<b>The constraints are the inventory constraints:</b><br>\n",
    "K inventory:<br>\n",
    "20A + 18B + 9C + 20D + 22E + 10F + 20G + 12H + 15I + 22J + 21K + 5L <= 5000<br><br>\n",
    "Z inventory:<br>\n",
    "10A + 8B +8C + 19D + 24E + 10F + 19G + 10H + 12I + 18J + 20K + 4L <= 6000\n"
   ]
  },
  {
   "cell_type": "markdown",
   "metadata": {},
   "source": [
    "## Difference between an instance and a model\n",
    "\n",
    "What we defined just above is an <b>instance</b> . Let's now see how to model the <b>mathematical model</b> synthesized, from this instance, in the next chapter."
   ]
  },
  {
   "cell_type": "markdown",
   "metadata": {},
   "source": [
    "## The mathematical model is modeled with the summation symbol and the indices.\n",
    "\n",
    "<div style=\"text-align:center\">\n",
    "<img src=\"img/modeles-mathematiques-intelligence-artificielle.jpg\" width=\"500\"/>\n",
    "</div>\n",
    "\n",
    "\n",
    "We can clearly see that above, we have sums, and that writing them by hand is prone to error.\n",
    "\n",
    "- We note that there are <b> sets </b> that can be <b> Indexed </b>: cars, K supplies, Z supplies, profits.\n",
    "\n",
    "- We notice that our Table of supplies needed for the 12 cars is similar to <b> an Aij matrix </b>.\n",
    "\n",
    "<b> Reminder </b>: Let Aij be a matrix: i is the row number, j is the column number. So if we are told about the value A14, it is the value of row 1 column 4 of the matrix.\n",
    "\n",
    "- We will therefore create <b>a mathematical model</b> , using sets and summation symbols, which will summarize our problem in a simpler and more understandable way; this will be the synthesized version of our optimization.\n",
    "\n",
    "\n",
    "Then, we can freely create <b>instances</b> of this model with different datas each time, possibly coming from databases. In addition, this model can be used with all solvers on the market, including Excel.\n",
    "\n",
    "Now let us consider the sets:\n",
    "\n",
    "- <b>Cj</b> for cars, {A...L} indexed by j\n",
    "- <b>Kj</b> for supplies K, {20...5} indexed by j\n",
    "- <b>Zj</b> for supplies Z, {10...4} indexed by j\n",
    "- <b>Pj</b> for profits {20000...8000} indexed by j\n",
    "\n",
    "We will already use only the sets to learn how to write the mathematical model, and not the matrix; we will do that later, because it is more complicated to read.\n",
    "\n",
    "If we want to rewrite the synthesized objective function that maximizes the benefit of the sum of cars:<br>\n",
    "Max(R) = 20000A + 18000B + 17000C + 21000D + 24000E + 18500F + 20500G + 18500H + 18900I + 21000J + 20500K + 8000\n",
    "\n",
    "We write it:\n",
    "$$\n",
    "Max (R) = \\sum_{j=1}^{C} P_{j}.C_{j}\n",
    "$$\n",
    "\n",
    "- Why do we index with the letter j? Because by convention, this designates the column of a matrix. You have to imagine in your head iterating over each value and that the value of the letter j is incremented.\n",
    "\n",
    "If we want to rewrite the first inventory constraint K, in a synthesized way:<br>\n",
    "20A + 18B + 9C + 20D + 22E + 10F + 20G + 12H + 15I + 22J + 21K + 5L <= 5000\n",
    "\n",
    "We write it : \n",
    "$$\n",
    " \\sum_{j=1}^{K} K_{j}.C_{j} <= 5000\n",
    "$$\n",
    "\n",
    "If we want to rewrite the second inventory constraint Z, in a synthesized way:<br>\n",
    "10A + 8B +8C + 19D + 24E + 10F + 19G + 10H + 12I + 18J + 20K + 4L <= 6000\n",
    "\n",
    "We write it:\n",
    "$$\n",
    " \\sum_{j=1}^{Z} Z_{j}.C_{j} <= 6000\n",
    "$$\n",
    "\n",
    "We arrive at our following synthesized optimization model:\n",
    "\n",
    "$$\n",
    "Max (R) = \\sum_{j=1}^{C} P_{j}.C_{j}\n",
    "$$\n",
    "$$\n",
    "s.t\n",
    "$$\n",
    "$$\n",
    " \\sum_{j=1}^{K} K_{j}.C_{j} <= 5000\n",
    "$$\n",
    "$$\n",
    " \\sum_{j=1}^{Z} Z_{j}.C_{j} <= 6000\n",
    "$$\n",
    "$$\n",
    " Cj \\in ℕ\n",
    "$$\n"
   ]
  },
  {
   "cell_type": "markdown",
   "metadata": {},
   "source": [
    "<b>Now, constraints are not written like this usually, but refer to the matrix: Source: Linear Programming with Excel by Christian Prins and Marc Sevaux Page 58 and Courses from Taiwan university and Hillier and many others...</b>\n",
    "We can further reduce our model by reducing the writing of constraints in this way:\n",
    "\n",
    "$$\n",
    "  \\sum_{j=1}^{C} a_{ij}.C_{j} <= S_{i}\n",
    "$$\n",
    "\n",
    "where : \n",
    "\n",
    "- aij means that we consider each supply value for each car, for each existing supply row in our data matrix.\n",
    "- Si means that the value of each current stock is contained in a vector indexed by i, instead of being hard-coded, S is therefore the set of inventory\n",
    "\n",
    "but, don't worry, we'll study a real case of this Aij notation in chapter 4..."
   ]
  },
  {
   "cell_type": "markdown",
   "metadata": {},
   "source": [
    "## Now we use Python solvers to type all of that.\n",
    "\n",
    "Let's take the objective function of our model:\n",
    "$$\n",
    "Max (R) = \\sum_{j=1}^{C} P_{j}.C_{j}\n",
    "$$\n",
    "\n",
    "So P is the set of profits. So C is the set of cars.<br>\n",
    "This will involve <b>rewriting this summation symbol</b> of the mathematical model, with <b>several Solvers</b>, in <b>Python language</b> .<br>\n",
    "The syntax is unfortunately different between solvers, but is often somewhat similar.<br>\n",
    "\n",
    "<div style=\"text-align:center\">\n",
    "<img src=\"img/1706281550588.jpg\" width=\"500\"/>\n",
    "</div>\n",
    "\n",
    "\n",
    "We must of course first enter the data of our initial table in Python, before manipulating them with the Solvers, this data is an instance of our optimization . There are several ways to enter this data, and this\n",
    "then influences the syntax when manipulating the solver, however, we generally find the same syntax, on StackOverflow and by the author of Python Pulp.\n",
    "It must resemble the mathematical model as much as possible, of course it is necessary to assign strictly the same letters to the sets as in the mathematical model and its nomenclature, this is\n",
    "MANDATORY.\n",
    "\n",
    "\n",
    "## There is our instance ( data )"
   ]
  },
  {
   "cell_type": "code",
   "execution_count": 57,
   "metadata": {},
   "outputs": [],
   "source": [
    "# -----------------------------------\n",
    "# Data - Instance\n",
    "# ----------- ------------------------\n",
    "# Cars names\n",
    "C = [ 'A' , 'B' , 'C' , 'D' , 'E' , 'F' , 'G' , 'H' , 'I' , 'J' , 'K' , 'L' ]\n",
    "# Profits per car\n",
    "P = { 'A' : 20000 , 'B' : 18000 , 'C' : 17000 , 'D' : 21000 , 'E' : 24000 , 'F' : 18500 , 'G' : 20500 , 'H' : 18500 , 'I' : 18900 , 'J' : 21000 , 'K' : 20500 , 'L' : 8000 }\n",
    "\n",
    "# -----------------------------------\n",
    "# Type of problem\n",
    "# -----------------------------------\n",
    "# We choose to solve a Maximization problem\n",
    "model = LpProblem ( 'Problem' , LpMaximize )\n",
    "\n",
    "# -----------------------------------\n",
    "# Creation of Decision Variables\n",
    "# -----------------------------------\n",
    "# We stipulate that these are integer variables, normal, since they are cars, they can't be separable.\n",
    "c = LpVariable . dicts ( \"cars\" , C , lowBound = 0 , cat = 'Integer' )"
   ]
  },
  {
   "cell_type": "markdown",
   "metadata": {},
   "source": [
    "Then, Come on, let's go, for the first time, we recreate the objective function of our mathematical model:\n",
    "\n",
    "$$\n",
    "Max (R) = \\sum_{j=1}^{C} P_{j}.C_{j}\n",
    "$$\n",
    "\n",
    "- With Python Pulp"
   ]
  },
  {
   "cell_type": "code",
   "execution_count": 58,
   "metadata": {},
   "outputs": [],
   "source": [
    "# -----------------------------------\n",
    "# Objective function\n",
    "# -----------------------------------\n",
    "model += lpSum([P[j] * c[j] for j in C ]), \"MAXIMIZE_PROFIT_R_FUNCTION\" \n",
    "\n",
    "# -----------------------------------\n",
    "# Explanation\n",
    "# -----------------------------------\n",
    "# The previous line dynamically recreates:\n",
    "# Max(R) = 20000A + 18000B + 17000C + 21000D + 24000E + 18500F + 20500G + 18500H + 18900I + 21000J + 20500K + 8000L\n",
    "# using iterations, you have to visualize it in your head. It is the equivalent of our mathematical model\n",
    "# and its summation symbol."
   ]
  },
  {
   "cell_type": "markdown",
   "metadata": {},
   "source": [
    "- With Cplex"
   ]
  },
  {
   "cell_type": "code",
   "execution_count": 59,
   "metadata": {},
   "outputs": [],
   "source": [
    "# Comin soon"
   ]
  },
  {
   "cell_type": "markdown",
   "metadata": {},
   "source": [
    "- With GLPK, on the command line"
   ]
  },
  {
   "cell_type": "code",
   "execution_count": 60,
   "metadata": {},
   "outputs": [],
   "source": [
    "# Comin soon"
   ]
  },
  {
   "cell_type": "markdown",
   "metadata": {},
   "source": [
    "# 4. Familiarize yourself with the Aij writing  with a simple example taken from Hillier\n",
    "\n",
    "## 4.a Presentation of the problem in a table\n",
    "\n",
    "We have seen previously that the modeling of constraints in the mathematical model often uses the expression aij in the summation symbol. This is a, indexed by i and j. This i means that we iterate on the rows, in addition to iterating on the columns j. This is therefore a double treatment.\n",
    "\n",
    "Let's take this simple case of production mix optimization, present in the book Hillier, Introduction to operation research 7th edition - page 82\n",
    "\n",
    "The objective is to maximize profit under the constraint of available production time :\n"
   ]
  },
  {
   "cell_type": "markdown",
   "metadata": {},
   "source": [
    "<div style=\"text-align:center\">\n",
    "<img src=\"img/hillier-1.png\" />\n",
    "</div>"
   ]
  },
  {
   "cell_type": "markdown",
   "metadata": {},
   "source": [
    "## 4.b Mathematical modeling\n",
    "\n",
    "As usual, we first identify the sets that are involved in our mathematical model.\n",
    "Let's already try to model the <b>objective</b> function R which will maximize the profit:\n",
    "\n",
    "- Why are the products P0j the decision variables?\n",
    "Because their respective number will be calculated, in real time, by the solver to obtain the maximum profit under constraint . We will create the set Xj (x1,x2..xn) which are theses decision variables, the j is in index, because we have the columns P01, P02, P03 and P04. By convention, generally, the decision variables are called x, and we use j because by convention, we designate columns. Why not calling this set P, like ' Products' ? Because We need the P letter for the Profit set.\n",
    "\n",
    "- We see that we have the set Pj(p1,p2..pn) which are the constant values of profit per product supplied. So, here it's the same, we use the index j because by convention, it designates the columns.\n",
    "\n",
    "We therefore arrive at this objective function, as in Hillier's book:\n",
    "\n",
    "$$\n",
    "Max (R) = \\sum_{j=1}^{4} p_{j}.x_{j}\n",
    "$$\n",
    "\n",
    "We notice that we put 4 at the top of the summation symbol, as a limit, but we could also have put X, to obtain a more generic iteration, because this implies the set X which contains 4 values, but could contain\n",
    "more.\n",
    "\n",
    "<b> Now we come to the important part, the constraints.</b>\n",
    "\n",
    "We see in our table that we have 3 lines of constraints that we can index by i. By convention, i designates the line numbers. Therefore, we will not write a summation symbol per line, which would weigh down our final model, but we will introduce aij which means that we <b>automatically iterate by line and by columns at the same time</b>, so we model our constraints like this, as in Hillier's book:\n",
    "\n",
    "$$\n",
    "\\sum_{j=1}^{4} a_{ij}.x_{j} <= b_{i}\\thinspace\\thinspace\\thinspace for \\thinspace i = 1,2,3\n",
    "$$\n",
    "\n",
    "We notice that we have an additional (mandatory) piece of information \"For i = 1,2,3\", which is logical since there are 3 lines in all. The professor from Taiwan University particularly insists on the fact that we must systematically add this information, and it is present in Hillier's book.\n",
    "\n",
    "There you have it, we can now rewrite our complete model, including the <b>nomenclature</b> of our sets, below the model.\n",
    "\n",
    "$$\n",
    "Max (R) = \\sum_{j=1}^{4} p_{j}.x_{j}\n",
    "$$\n",
    "$$\n",
    "S.T\n",
    "$$\n",
    "\n",
    "$$\n",
    "\\sum_{j=1}^{4} a_{ij}.x_{j} <= b_{i} \\thinspace\\thinspace\\thinspace for \\thinspace i = 1,2,3\n",
    "$$\n",
    "\n",
    "$$\n",
    "Où\n",
    "$$\n",
    "\n",
    "$$\n",
    " x_{j} = production \\thinspace level \\thinspace for \\thinspace product \\thinspace PO_{j}\n",
    "$$\n",
    "$$\n",
    " p_{j} = unit \\thinspace profit \\thinspace for \\thinspace product \\thinspace PO_{j}\n",
    "$$\n",
    "$$\n",
    " a_{ij} = production \\thinspace time \\thinspace on \\thinspace machine \\thinspace i \\thinspace per \\thinspace unit \\thinspace of \\thinspace product \\thinspace PO_{j}\n",
    "$$\n",
    "$$\n",
    " b_{i} = production \\thinspace time \\thinspace available \\thinspace per \\thinspace week \\thinspace on \\thinspace machine \\thinspace i \n",
    "$$\n",
    "\n",
    "Note: I copied the model from Hillier's book, we can see that there is a strangeness in the nomenclature in the book (b is indexed by i in the nomenclature, and by j in the constraint), which is not exactly the\n",
    "same as in the model, we will check, but the logic is there, I corrected it and put an i"
   ]
  },
  {
   "cell_type": "markdown",
   "metadata": {},
   "source": [
    "## 4.c Solution using Python Pulp\n",
    "\n",
    "Now that we have our mathematical model ready, which we can even call a 'generic model', the second part is to find the solution using a Python solver.\n",
    "There are of course several, but Python Pulp is recognized as a famous and easy-to-access linear solver.\n",
    "\n",
    "<div style=\"text-align:center\">\n",
    "<img src=\"img/1706281550588.jpg\" width=\"500\"/>\n",
    "</div>\n",
    "\n",
    "So we have 2 elements, which we are now used to:\n",
    "- Our data <b>instance</b> which is our informative table from the beginning.\n",
    "- Our generic <b>mathematical model</b> , which we modeled by deduction.\n",
    "\n",
    "Our Python Pulp code must therefore be created in two steps: programming the instance, then programming the mathematical model, and must of course respect the elements to the letter, the nomenclature, and the names given to the sets, everything must be strictly identical, including the indentation.\n",
    "\n",
    "## Step 1\n",
    "We enter our instance into our Python Pulp optimization program"
   ]
  },
  {
   "cell_type": "code",
   "execution_count": null,
   "metadata": {},
   "outputs": [],
   "source": [
    "# -----------------------------------\n",
    "# STEP 1- We program the Data - which we can also call the Instance\n",
    "# -----------------------------------\n",
    "# We retrieve the data from the information table, in order to create an instance of data!\n",
    "# Our products\n",
    "X = [ 'P1' , 'P2' , 'P3' , 'P4' ]\n",
    "# Their respective profits expressed in K Euros\n",
    "P = { 'P1' : 26 , 'P2' : 35 , 'P3' : 25 , 'P4' : 37 }\n",
    "# Production time available per machine for a week expressed in hours, it is a vector\n",
    "B = [ 28 , 34 , 21 ]\n",
    "# Matrix of production times per machine per product AOj, expressed in hours\n",
    "A = [\n",
    "[ 1.7 , 2.1 , 1.4 , 2.4 ],\n",
    "[ 1.1 , 2.5 , 1.7 , 2.6 ],\n",
    "[ 1.6 , 1.3 , 1.6 , 0.8 ]\n",
    "]\n",
    "\n",
    "# -----------------------------------\n",
    "# Type of problem\n",
    "# -----------------------------------\n",
    "# We choose to solve a Maximization problem\n",
    "model = LpProblem ( 'Problem' , LpMaximize )\n",
    "\n",
    "# -----------------------------------\n",
    "# Creation of Decision Variables\n",
    "# -----------------------------------\n",
    "# We stipulate that these are integer variables, normal, since they are non separable products\n",
    "x = LpVariable . dicts ( \"products\" , X , lowBound = 0 , cat = 'Integer' )"
   ]
  }
 ],
 "metadata": {
  "kernelspec": {
   "display_name": "Python 3",
   "language": "python",
   "name": "python3"
  },
  "language_info": {
   "codemirror_mode": {
    "name": "ipython",
    "version": 3
   },
   "file_extension": ".py",
   "mimetype": "text/x-python",
   "name": "python",
   "nbconvert_exporter": "python",
   "pygments_lexer": "ipython3",
   "version": "3.9.2"
  }
 },
 "nbformat": 4,
 "nbformat_minor": 2
}
