{
 "cells": [
  {
   "cell_type": "markdown",
   "metadata": {},
   "source": [
    "# Matching a mathematical model to a solver code"
   ]
  },
  {
   "cell_type": "markdown",
   "metadata": {},
   "source": [
    "\n",
    "\n",
    "## Introduction.\n",
    "In this notebook, we will analyze the methods to match a given mathematical model to a Python solver code. In other words, how to go from one to the other. This in the context of combinatorial optimizations.\n",
    "I start with a total beginner level, then I complicate things as the notebook progresses.\n",
    "\n",
    "\n",
    "\n",
    "*** CREATION IN PROGRESS ***\n",
    "Notebook created by GITHUB ESTELLE DERRIEN\n",
    "\n",
    "\n",
    "<div style=\"text-align:center\">\n",
    "<img src=\"img/intro_correspondre.png\">\n",
    "</div>"
   ]
  },
  {
   "cell_type": "markdown",
   "metadata": {},
   "source": [
    "## Summary\n",
    "\n",
    "1. <b> Mathematical symbols and the vocabulary to know. </b>\n",
    "2. <b> First methods using a simple problem </b>\n",
    "- 2.A Presentation of the problem in a table\n",
    "- 2.B Modeling of a basic instance\n",
    "- 3.C Solution with python pulp\n",
    "3. <b> Extension of our problem and the Σ summation symbol . </b>\n",
    "- 2.A Presentation of the problem in a table\n",
    "- 2.B Mathematical modeling and difference between instance and model\n",
    "- 3.C Programming of the Σ summation symbol in the Python solver\n",
    "    - With Python Pulp\n",
    "    - With Python Cplex\n",
    "    - With GLPK online command\n",
    "4. <b> Getting Familiar with Aij writing with a simple example taken from Hillier </b>\n",
    "- 4.A Presentation of the problem in a table\n",
    "- 4.B Mathematical modeling and nomenclature\n",
    "- 4.C Aij solution and programming with Python Pulp\n",
    "7. <b> Getting Familiar with an objective function including a summation and a cost subtraction. </b>\n",
    "- Presentation of the problem in a table\n",
    "- Mathematical modeling\n",
    "- Solution with Python Pulp\n",
    "8. <b>Getting familiar with double summation writing ΣΣ</b>\n",
    "- Presentation of the problem in a table\n",
    "- Mathematical modeling\n",
    "- Solution with Python Pulp\n",
    "10. <b> Modeling a bin packing problem </b>\n",
    "- The different types of bin packing\n",
    "- Presentation of the problem in a table\n",
    "- Mathematical modeling\n",
    "- Solution with Python Pulp\n",
    "10. <b> Modeling a blending problem </b>\n",
    "- Presentation of the problem in a table\n",
    "- Mathematical modeling\n",
    "- Solution with Python Pulp\n",
    "11. <b> Modeling a commercial traveler problem </b>\n",
    "- Presentation of the problem in a table\n",
    "- Mathematical modeling\n",
    "- Solution with Python \n",
    "9. <b> Modeling a more complex combinatorial optimization of the chemistry/petroleum type </b>\n",
    "- Presentation of the problem in a table\n",
    "- Mathematical modeling\n",
    "- Solution with Python Pulp\n",
    "12. <b> Linearization of constraints by breakpoints, piecewize and modeling. </b>\n",
    "- Presentation of the problem in a table\n",
    "- Mathematical modeling\n",
    "- Solution with Python solvers\n",
    "13. <b> Tackle non-linear optimizations </b>\n",
    "- How to detect a non-linear problem\n",
    "- Local or global solution?\n",
    "- What solver to use?\n",
    "- Presentation of the problem in a table\n",
    "- Mathematical modeling\n",
    "- Solution with the Python solver"
   ]
  },
  {
   "cell_type": "markdown",
   "metadata": {},
   "source": [
    "# 1. Mathematical symbols and the vocabulary to know:\n",
    "\n",
    "- The symbol <b> Σ </b> (sigma), it learns in second class and makes it possible to simplify the writing of an addition.\n",
    "\n",
    "- The symbol <b> ∈ </b> means \"belongs to\", we use it when we first defined a set S {x1, x2 ... xn}\n",
    "\n",
    "- The symbol <b> ∀ </b> (quantifier) ​​means \"for all\".\n",
    "\n",
    "- An <b> Aij matrix </b>: i is the row, j it's the column.So if we are told about value A14, this is the value of row 1 column 4.\n",
    "\n",
    "- An <b> Objective function </b>: it is intended to be minimized or maximized, when the solver calculates the best values ​​of the decision variables\n",
    "\n",
    "- Decision variables </b>: a decision variable contains a value which will then be calculated by the solver to be the best possible value to minimize or maximize an objective function (that's it, optimization).The best known algorithm is the simplex.\n",
    "\n",
    "- <b> \"subject to\"  </b> means that the objective function is subject to constraints that we write under the \"subject to\" sentence.\n",
    "\n",
    "- <b> ℕ </b> is the set of positive integers including 0, <b> n ∗ </b> omens zero.It is generally used to specify the nature of the decision variables, they can therefore be integer, continuous or binary.\n",
    "\n",
    "- <b> \"Expressed in kg\" </b> This formulation \"expressed in\" is important because in operations research, we are constantly juggling with S.Is, the international system for the rating of internationally recognized units.Omitting this specification can lead to many problems, especially during optimizations in percentages, or when it is necessary to transpose into another S.I, example, of kilos in tons, from euros to dollars."
   ]
  },
  {
   "cell_type": "markdown",
   "metadata": {},
   "source": [
    "# 2. Our basic example :\n",
    "\n",
    " We're going to take a fairly simple production mix model.\n",
    " In beginner problems, at the beginning, we don't have to use the summation symbol, since we generally have few variables, by deduction, we don't have to iterate with the solver. It is therefore much simpler to\n",
    " understand, at the beginning"
   ]
  },
  {
   "cell_type": "markdown",
   "metadata": {},
   "source": [
    "## The story \n",
    "\n",
    "<div style=\"text-align:center\">\n",
    "<img src=\"img/000171013_896x598_c.jpg\" width=\"500\"/>\n",
    "</div>\n",
    "\n",
    "- A company produces car A and car B.\n",
    "- Car A requires 20 units of K supplies and 10 units of Z supplies.\n",
    "- Car B requires 18 units of K supplies and 8 units of Z supplies.\n",
    "- There are 5000 units of K supplies in inventory and 6000 units of Z supplies in inventory.\n",
    "- The car A has given a profit of 20,000 euros, and car B provides a profit of 18,000 euros.\n",
    "\n",
    "What cars should the company provide in order to <b> maximize its profit </b>, under <b> inventory constraint </b>?\n"
   ]
  },
  {
   "cell_type": "markdown",
   "metadata": {},
   "source": [
    "So here, in this problem, we can clearly see that there are few decision variables involved and few constraints. No reason to express the mathematical model with summation symbols, and to do iterations in the Python solver code."
   ]
  },
  {
   "cell_type": "markdown",
   "metadata": {},
   "source": [
    "## We deduce the mathematical instance.\n",
    "\n",
    "Either\n",
    "\n",
    "- A is the number of A car units to be produced (it is a decision variable)\n",
    "- B is the number of B car units to be produced (it is a decision variable)\n",
    "\n",
    "<b> The objective function r </b> is to maximize the profit: <br>\n",
    "\n",
    "Max (r) = 20000a + 18000b\n",
    "\n",
    "<b> The constraints </b> are inventory constraints: <br>\n",
    "\n",
    "K inventory : <br> \n",
    "20a + 18b <= 5000\n",
    "\n",
    "Z inventory :<br> \n",
    "10a + 8b <= 6000"
   ]
  },
  {
   "cell_type": "markdown",
   "metadata": {},
   "source": [
    "# We write the instance\n",
    "\n",
    "Max(R) = 20000A + 18000B<br>\n",
    "S.T<br>\n",
    "20A + 18B <= 5000<br>\n",
    "10A + 8B <= 6000<br>\n",
    "With<br>\n",
    "{A,B} ∈ ℕ<br>"
   ]
  },
  {
   "cell_type": "markdown",
   "metadata": {},
   "source": [
    "## We write the solver code"
   ]
  },
  {
   "cell_type": "code",
   "execution_count": 11,
   "metadata": {},
   "outputs": [
    {
     "name": "stdout",
     "output_type": "stream",
     "text": [
      "A = 7.0\n",
      "B = 270.0\n",
      "Maximized total profit =  5000000.0\n"
     ]
    }
   ],
   "source": [
    "# The basic method:\n",
    "# -----------------------------------\n",
    "# Import from Python Pulp\n",
    "# -------- ---------------------------\n",
    "from pulp import *\n",
    "# -----------------------------------\n",
    "# Type of problem\n",
    "# -----------------------------------\n",
    "# We choose to solve a Maximization problem\n",
    "model = LpProblem ( 'Problem' , LpMaximize )\n",
    "# -----------------------------------\n",
    "# Decision variables\n",
    "# -----------------------------------\n",
    "A = LpVariable ( \"A\" , lowBound = 0 , cat = 'Integer' ) # Create a variable x >= 0\n",
    "B = LpVariable ( \"B\" , lowBound = 0 , cat = 'Integer' ) # Create a variable y >= 0\n",
    "# -----------------------------------\n",
    "# Objective function R\n",
    "# -----------------------------------\n",
    "model += 20000 * A + 18000 * B\n",
    "# -----------------------------------\n",
    "# Constraints\n",
    "# -----------------------------------\n",
    "model += 20 * A + 18 * B <= 5000 , \"stock_product_K\"\n",
    "model += 10 * A + 8 * B <= 6000 , \"stock_product_Z\"\n",
    "# -----------------------------------\n",
    "# Solution\n",
    "# ----------- ------------------------\n",
    "model . solve ()\n",
    "\n",
    "# We print the variables that have their values optimized\n",
    "for v in model . variables ():\n",
    "    print( v . name , \"=\" , v . varValue )\n",
    "\n",
    "# The value of the optimized objective function is printed to the screen \n",
    "print ( \"Maximized total profit = \" , value ( model.objective ) )"
   ]
  },
  {
   "cell_type": "markdown",
   "metadata": {},
   "source": [
    "## 3. Extension of our example and Σ summation symbol.\n",
    "\n",
    "Now let's say the company produces 12 different cars, each requiring a different quantity of supply K and Z, and each providing a different profit. The goal is still to determine which cars are best to produce, in\n",
    "order to maximize our profit subject to inventory constraints.\n",
    " \n",
    "Isn't it boring to retype each value by hand? Yes, it is boring.\n",
    "\n",
    "Wouldn't it be more convenient to use the summation mathematical symbol when we are going to write the mathematical model, and to iterate over an array in the Python solver code? This is in order to synthesize the expression of our optimization? Which will allow us to communicate easily and internationally about our optimization, and to be understood quickly?\n",
    "\n",
    "So now let's try to model our mathematical optimization model, by deducing it from our data. We will use the summation symbol, then, we will iterate in the Python code, to obtain our final linear optimization."
   ]
  },
  {
   "cell_type": "markdown",
   "metadata": {},
   "source": [
    "## Table of supplies needed for the 12 cars.\n",
    "\n",
    "|Cars       |A      |B      |C      |D       |E       |F       |G      | H      | I       |J       |K       |L|\n",
    "|-----          |:----- |:---:  |:-----:|:-----:|:-----:|:-----:|:-----:|:-----:|:-----:|:-----:|:-----:|:-----:|\n",
    "|Supply K  |20      |18      |9       |20      |22      |10      |20      |12      |15      |22      |21      |5\n",
    "|Supply Z  |10      |8       |8       |19      |24      |10      |19      |10      |12      |18      |20      |4\n",
    "|Profit      |20000   |18000   |17000   |21000   |24000   |18500   |20500   |18500   |18900   |21000   |20500   |8000 "
   ]
  },
  {
   "cell_type": "markdown",
   "metadata": {},
   "source": [
    "## We deduce the mathematical instance from this.\n",
    "\n",
    "Let's write this instance in hard copy, in order to understand how boring it is.\n",
    "\n",
    "Let\n",
    "- A be the number of A car units to be produced (it is a decision variable)\n",
    "- B be the number of B car units to be produced (it is a decision variable)\n",
    "- C be the number of C car units to be produced (this is a decision variable)\n",
    "- D be the number of D car units to be produced (this is a decision variable)\n",
    "- E be the number of E car units to be produced (it is a decision variable)\n",
    "- F be the number of F car units to be produced (it is a decision variable)\n",
    "- G be the number of G car units to be produced (this is a decision variable)\n",
    "- H be the number of H car units to be produced (this is a decision variable)\n",
    "- I be The number of I car units to be produced (this is a decision variable)\n",
    "- J be the number of J car units to be produced (this is a decision variable)\n",
    "- K be the number of K car units to be produced (this is a decision variable)\n",
    "- L be the number of L car units to be produced (this is a decision variable)\n",
    "\n",
    "<b>The objective function that we can call R</b> is to maximize the profit:<br>\n",
    "Max(R) = 20000A + 18000B + 17000C + 21000D + 24000E + 18500F + 20500G + 18500H + 18900I + 21000J + 20500K + 8000L<br><br>\n",
    "\n",
    "<b>The constraints are the inventory constraints:</b><br>\n",
    "K inventory:<br>\n",
    "20A + 18B + 9C + 20D + 22E + 10F + 20G + 12H + 15I + 22J + 21K + 5L <= 5000<br><br>\n",
    "Z inventory:<br>\n",
    "10A + 8B +8C + 19D + 24E + 10F + 19G + 10H + 12I + 18J + 20K + 4L <= 6000\n"
   ]
  },
  {
   "cell_type": "markdown",
   "metadata": {},
   "source": [
    "## Difference between an instance and a model\n",
    "\n",
    "What we defined just above is an <b>instance</b> . Let's now see how to model the <b>mathematical model</b> synthesized, from this instance, in the next chapter."
   ]
  },
  {
   "cell_type": "markdown",
   "metadata": {},
   "source": [
    "## The mathematical model is modeled with the summation symbol and the indices.\n",
    "\n",
    "<div style=\"text-align:center\">\n",
    "<img src=\"img/modeles-mathematiques-intelligence-artificielle.jpg\" width=\"500\"/>\n",
    "</div>"
   ]
  }
 ],
 "metadata": {
  "kernelspec": {
   "display_name": "Python 3",
   "language": "python",
   "name": "python3"
  },
  "language_info": {
   "codemirror_mode": {
    "name": "ipython",
    "version": 3
   },
   "file_extension": ".py",
   "mimetype": "text/x-python",
   "name": "python",
   "nbconvert_exporter": "python",
   "pygments_lexer": "ipython3",
   "version": "3.9.2"
  }
 },
 "nbformat": 4,
 "nbformat_minor": 2
}
