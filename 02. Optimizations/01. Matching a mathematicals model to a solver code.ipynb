{
 "cells": [
  {
   "cell_type": "markdown",
   "metadata": {},
   "source": [
    "# Matching a mathematical model to a solver code"
   ]
  },
  {
   "cell_type": "markdown",
   "metadata": {},
   "source": [
    "\n",
    "\n",
    "## Introduction.\n",
    "In this notebook, we will analyze the methods to match a given mathematical model to a Python solver code. In other words, how to go from one to the other. This in the context of combinatorial optimizations.\n",
    "\n",
    "*** CREATION IN PROGRESS ***\n",
    "Notebook created by GITHUB ESTELLE DERRIEN\n",
    "\n",
    "\n",
    "<div style=\"text-align:center\">\n",
    "<img src=\"img/intro_correspondre.png\">\n",
    "</div>"
   ]
  }
 ],
 "metadata": {
  "language_info": {
   "name": "python"
  }
 },
 "nbformat": 4,
 "nbformat_minor": 2
}
