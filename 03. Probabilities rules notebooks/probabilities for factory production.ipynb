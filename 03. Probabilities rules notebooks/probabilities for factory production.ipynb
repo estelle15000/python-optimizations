{
 "cells": [
  {
   "cell_type": "markdown",
   "metadata": {},
   "source": [
    "# Probabilities rules for factories production\n",
    "\n"
   ]
  },
  {
   "cell_type": "markdown",
   "metadata": {},
   "source": [
    "## Introduction\n",
    "\n",
    "This notebook will be my only ressource for all probabilities rules related to factory production.\n",
    "Including easy reminders and easy examples !\n",
    "\n",
    "Notebook provided by Github Estelle Derrien\n"
   ]
  },
  {
   "cell_type": "markdown",
   "metadata": {},
   "source": [
    "## Summary\n",
    "- 1. <b> Introduction </b>\n",
    "        - Types\n",
    "        - Definitions and vocabulary\n",
    "- 2. <b> Uniform </b>\n",
    "        - Description\n",
    "        - Examples\n",
    "- 3. <b> Normal </b>\n",
    "        - Description\n",
    "        - Examples\n",
    "- 4. <b> Exponential </b>\n",
    "        - Description\n",
    "        - Examples\n",
    "- 5. <b> Discrete </b>\n",
    "        - Description\n",
    "        - Examples\n",
    "- 6. <b> Poisson </b>\n",
    "        - Description\n",
    "        - Examples\n",
    "- 7. <b> Binomial </b>\n",
    "        - Description\n",
    "        - Examples  \n",
    "- 8. <b> Geometric </b>\n",
    "        - Description\n",
    "        - Examples        \n",
    "- 9. <b> Probability tree </b>\n",
    "        - Description\n",
    "        - Examples\n",
    "- 10. <b>Markov chains </b>\n",
    "        - Description\n",
    "        - Examples\n",
    "\n"
   ]
  },
  {
   "cell_type": "markdown",
   "metadata": {},
   "source": [
    "# 1. Introduction\n",
    "\n",
    "## Types \n",
    "\n",
    "\n",
    "## Definitions and vocabulary\n",
    "\n",
    "Before discussing the rules of probability, we state the following definitions:\n",
    "\n",
    "- Two events are mutually exclusive or disjoint if they cannot occur at the same time.\n",
    "\n",
    "- The probability that Event A occurs, given that Event B has occurred, is called a conditional probability. The conditional probability of Event A, given Event B, is denoted by the symbol P(A|B).\n",
    "\n",
    "- The complement of an event is the event not occurring. The probability that Event A will not occur is denoted by P(A').\n",
    "    \n",
    "- The probability that Events A and B both occur is the probability of the intersection of A and B. The probability of the intersection of Events A and B is denoted by P(A ∩ B). If Events A and B are mutually exclusive, P(A ∩ B) = 0.\n",
    "    \n",
    "- The probability that Events A or B occur is the probability of the union of A and B. The probability of the union of Events A and B is denoted by P(A ∪ B) .\n",
    "\n",
    "- If the occurrence of Event A changes the probability of Event B, then Events A and B are dependent. On the other hand, if the occurrence of Event A does not change the probability of Event B, then Events A and B are independent.\n"
   ]
  },
  {
   "cell_type": "code",
   "execution_count": null,
   "metadata": {},
   "outputs": [],
   "source": [
    "# Comin soon !"
   ]
  }
 ],
 "metadata": {
  "language_info": {
   "name": "python"
  }
 },
 "nbformat": 4,
 "nbformat_minor": 2
}
