{
 "cells": [
  {
   "cell_type": "markdown",
   "metadata": {},
   "source": [
    "# Probabilities rules for factories production\n",
    "\n"
   ]
  },
  {
   "cell_type": "markdown",
   "metadata": {},
   "source": [
    "## Introduction\n",
    "\n",
    "This notebook will be my only ressource for all probabilities rules related to factory production.\n",
    "Including easy reminders and easy examples !\n",
    "\n",
    "Notebook provided by Github Estelle Derrien\n"
   ]
  },
  {
   "cell_type": "markdown",
   "metadata": {},
   "source": [
    "## Summary\n",
    "- 1. <b> Introduction </b>\n",
    "        - Types\n",
    "- 2. <b> Uniform </b>\n",
    "        - Description\n",
    "        - Examples\n",
    "- 3. <b> Normal </b>\n",
    "        - Description\n",
    "        - Examples\n",
    "- 4. <b> Exponential </b>\n",
    "        - Description\n",
    "        - Examples\n",
    "- 5. <b> Discrete </b>\n",
    "        - Description\n",
    "        - Examples\n",
    "- 6. <b> Poisson </b>\n",
    "        - Description\n",
    "        - Examples\n",
    "- 7. <b> Binomial </b>\n",
    "        - Description\n",
    "        - Examples  \n",
    "- 8. <b> Geometric </b>\n",
    "        - Description\n",
    "        - Examples        \n",
    "- 9. <b> Probability tree </b>\n",
    "        - Description\n",
    "        - Examples\n",
    "- 10. <b>Markov chains </b>\n",
    "        - Description\n",
    "        - Examples\n",
    "\n"
   ]
  },
  {
   "cell_type": "code",
   "execution_count": null,
   "metadata": {},
   "outputs": [],
   "source": [
    "# Comin soon !"
   ]
  }
 ],
 "metadata": {
  "language_info": {
   "name": "python"
  }
 },
 "nbformat": 4,
 "nbformat_minor": 2
}
