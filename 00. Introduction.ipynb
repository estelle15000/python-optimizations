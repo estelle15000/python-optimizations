{
 "cells": [
  {
   "cell_type": "markdown",
   "metadata": {},
   "source": [
    "# Introduction to optimizations.\n",
    "\n",
    "# Introduction .\n",
    "These files are studies in mathematical optimization, on all the most basic school optimization problems.\n",
    "I always start from the simplest basic models.\n",
    "I place the mathematical model before each optimization.\n",
    "\n",
    "I use the Python Pulp linear solver, as well as the quadratic solver Cplex but also Gekko, Gurobi, Cvxopt, Google O.R tools and others still and the  Excel solver.\n",
    "\n",
    "Ultimately, Excel files concerning identical problems will be placed in the Excel directory, so as to be able to compare.\n",
    "\n",
    "With this batch of basic tools, we can already approach optimizations for small businesses or SMEs, and we do not find, to my knowledge of documentation of this style, especially in French, which led me to Work on this and I'm not ready to stop.Indeed, the examples offered are often too complex from the start.\n",
    "\n",
    "The examples result from an extensive study relating to approximately 10 operational research books in English and 2 in French, as well as a daily study of the Internet, sites such as Stackoverflow, or more specialized sites, the results are systematically verified.\n",
    "\n",
    "The methods The bolds to understand are the bigm methods applied directly in optimizations, some people excel in that, for example on https://or.stackexchange.com/.\n",
    "\n",
    "Global study proposed by <b> Estelle Derrien - GitHub Estelle15000 </b>\n",
    "\n",
    "** PLEASE NOTICE, I WILL FINISH THE FRENCH MINIMAL VERSION BEFORE UPLOADING FILES IN ENGLISH AND SPANISH, I WILL EVENTUALLY ONLY CONTINUE IN ENGLISH IF IT TAKES TOO MUCH TIME **\n",
    "\n",
    "# Sommaire\n",
    "\n",
    "- 1. Vocabulary.\n",
    "- 2. more about Python solvers.\n"
   ]
  }
 ],
 "metadata": {
  "kernelspec": {
   "display_name": "Python 3",
   "language": "python",
   "name": "python3"
  },
  "language_info": {
   "codemirror_mode": {
    "name": "ipython",
    "version": 3
   },
   "file_extension": ".py",
   "mimetype": "text/x-python",
   "name": "python",
   "nbconvert_exporter": "python",
   "pygments_lexer": "ipython3",
   "version": "3.8.0"
  },
  "orig_nbformat": 4
 },
 "nbformat": 4,
 "nbformat_minor": 2
}
