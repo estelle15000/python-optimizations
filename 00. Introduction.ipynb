{
 "cells": [
  {
   "cell_type": "markdown",
   "metadata": {},
   "source": [
    "# Introduction to optimizations.\n",
    "\n",
    "## Introduction .\n",
    "These Notebook files are studies in mathematical optimization, on all conventional optimization problems.\n",
    "I always start from recognized models, with a simplest instance.\n",
    "I place the mathematical model before each optimization.\n",
    "\n",
    "Operational research is part of the <b> prescriptive mathematics </b>, which naturally comes in conjunction with mathematics <b> descriptive </b> (statistics) and <b> predictive </b> (probabilities).\n",
    "\n",
    "They still require basic knowledge in terms of algorithm of <b> simplex </b>, its history, and its role, as well as in optimizations such as <b> the algorithm of the inner point </b>, apart from this, we especially see how to solve concrete problems with Python (and Excel in parralel) solvers.\n",
    "\n",
    "It is also necessary to understand the notions of <b> decision variables </b>, and <b> constraints </b>, know the <b> matrices </b> and the <b> summation symbol </b>.The international unit system (abbreviated in Si) <b> s.i </b> (kilos, meters, centimitrees, tons etc ...) in ingeniérie is also to be known so as not, because there are sometimes <b> conversions </b> to do, you must also know yourself in <b> percentages </b>.\n",
    "For dynamic optimizations, you must know the <b> differential equations </b>.\n",
    "\n",
    "There are different levels in operational research: doctoral students develop mathematical models,\n",
    "Engineers can make changes and sometimes create them, technicians can then apply a mathematical model to a <b> real life instance </b>, and therefore, a Python program to such or such a problem of real life.It is therefore a whole range of jobs to create and satisfy in the future.\n",
    "Any project must use mathematical operational research, in order to avoid setbacks, otherwise, it is to navigate the little happiness luck, it is to recover from it for these projects.\n",
    "\n",
    "I use the Python Pulp linear solver, as well as the quadratic solver Cplex but also Gekko, Gurobi, CVXOPT, Google Gold and others still and the solvents under Excel.Some solvers are paid, others not.The challenge is to try to use free solvers, which do not have certain options such as Pulp and the Piecewize constraints which are original in Python Cplex.\n",
    "\n",
    "Ultimately, Excel files concerning identical problems will be placed in the Excel directory, so as to be able to compare.\n",
    "\n",
    "With this batch of basic tools, we can already approach optimizations for small businesses or SMEs, and we do not find, to my knowledge of documentation of this style, especially in French, which led me toWork on this and I'm not ready to stop.Indeed, the examples offered are often too complex from the start, here, I do everything possible to start from simple concrete problems, and increase the complexity over the notebook.\n",
    "\n",
    "The examples result from an extensive study relating to approximately 10 operational research books in English and 2 in French, as well as a daily study of the Internet, sites such as Stackoverflow, or more specialized sites, the results are systematicallyverified.\n",
    "\n",
    "Certain methods are particularly bold to understand, for example, the Bigm methods applied directly in optimizations, some people excel in that, for example on https://or.stackexchange.com/.\n",
    "\n",
    "Ultimately, this study will serve me to make my application https://www.solvgraph.com more efficient and adapted.\n",
    "\n",
    "Global study proposed by <b> Estelle Derrien - GitHub Estelle15000 </b>\n",
    "\n",
    "## Summary\n",
    "\n",
    "- 1. Vocabulary.\n",
    "- 2. Python solvents.\n",
    "\n",
    "## Sources\n",
    "\n",
    "The following books:\n",
    " \n",
    "- Practical Management Science by Wayne Winston\n",
    "- Operations Research by Hillier\n",
    "- Operations Management of R Russel\n",
    "- Optimizations Modeling With Spreadsheets by R. Baker\n",
    "- Operational research - Management optimization methods\n",
    "\n",
    "## Examples lots:\n",
    "\n",
    "- https://github.com/google/or-tools/tree/stable/examples/python"
   ]
  }
 ],
 "metadata": {
  "kernelspec": {
   "display_name": "Python 3",
   "language": "python",
   "name": "python3"
  },
  "language_info": {
   "codemirror_mode": {
    "name": "ipython",
    "version": 3
   },
   "file_extension": ".py",
   "mimetype": "text/x-python",
   "name": "python",
   "nbconvert_exporter": "python",
   "pygments_lexer": "ipython3",
   "version": "3.8.0"
  },
  "orig_nbformat": 4
 },
 "nbformat": 4,
 "nbformat_minor": 2
}
